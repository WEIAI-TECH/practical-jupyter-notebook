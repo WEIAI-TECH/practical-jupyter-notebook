{
 "cells": [
  {
   "cell_type": "markdown",
   "id": "vocal-energy",
   "metadata": {
    "slideshow": {
     "slide_type": "slide"
    }
   },
   "source": [
    "<br />       \n",
    "\n",
    "|<img src='./images/school_logo.png' alt=\"Drawing\" style=\"width:100px;float: left\"/><img width=350;/>|<p style=\"padding-top:8px;padding-bottom:0px;\">Shouke Wei, Ph.D.</p><img width=400;/>| 78| \n",
    "| :--- | :--- | :---:|\n",
    "\n",
    "<h1 style='text-align: center;'>Lesson 19: Magic Commands and Alternatives of Jupyter Notebook</h1>\n",
    "\n",
    "<br /> "
   ]
  },
  {
   "cell_type": "markdown",
   "id": "international-stephen",
   "metadata": {},
   "source": [
    "## Objective\n",
    "\n",
    "- learn magic commands of the Jupyter Notebook in details."
   ]
  },
  {
   "cell_type": "markdown",
   "id": "former-television",
   "metadata": {},
   "source": [
    "## 19.1. Magic Commands"
   ]
  },
  {
   "cell_type": "markdown",
   "id": "completed-archive",
   "metadata": {},
   "source": [
    "\n",
    "There are two types of magic commands available in Jupyter Notebook, including:\n",
    "\n",
    "- **Line Magics**: the commands applied to one line in the Jupyter cell\n",
    "- **Cell Magics**: the commands applied to the whole cell of the notebook"
   ]
  },
  {
   "cell_type": "markdown",
   "id": "graphic-timing",
   "metadata": {},
   "source": [
    "## 19.2 Line Magics\n",
    "\n",
    "As its name suggested, a line magic is with a command working for one line, which is prefixed with a single % character."
   ]
  },
  {
   "cell_type": "markdown",
   "id": "silver-decrease",
   "metadata": {},
   "source": [
    "### 19.2.1 Information Magics\n",
    "Information magics gives us all information about the magic commands available in the Jupyter Notebook. There are three information magics, namely `%lsmagic`, `%magic` and `%quickref`.  "
   ]
  },
  {
   "cell_type": "markdown",
   "id": "extended-middle",
   "metadata": {},
   "source": [
    "### (1) \\%lsmagic\n",
    "\n",
    "It gives us a list of the whole available magics in the Jupyter Notebook."
   ]
  },
  {
   "cell_type": "code",
   "execution_count": null,
   "id": "latin-librarian",
   "metadata": {
    "scrolled": false
   },
   "outputs": [],
   "source": [
    "%lsmagic"
   ]
  },
  {
   "cell_type": "markdown",
   "id": "surface-letter",
   "metadata": {},
   "source": [
    "As the end of the magic list indicates above, % prefix of the line magics can be omitted.\n",
    "\n",
    "For example, you can type the follow command and run it: "
   ]
  },
  {
   "cell_type": "code",
   "execution_count": null,
   "id": "occupational-assault",
   "metadata": {},
   "outputs": [],
   "source": [
    "lsmagic"
   ]
  },
  {
   "cell_type": "markdown",
   "id": "looking-corps",
   "metadata": {},
   "source": [
    "I suggest keeping % prefix to be clear that it is a magic command."
   ]
  },
  {
   "cell_type": "markdown",
   "id": "therapeutic-blackberry",
   "metadata": {},
   "source": [
    "### (2) \\%magic\n",
    "\n",
    "It prints information about the magic commands system in the Jupyter Notebook. Run the following command:"
   ]
  },
  {
   "cell_type": "code",
   "execution_count": null,
   "id": "cf8b3581",
   "metadata": {},
   "outputs": [],
   "source": [
    "%magic"
   ]
  },
  {
   "cell_type": "markdown",
   "id": "scientific-consistency",
   "metadata": {},
   "source": [
    "### (3) \\%quickref\n",
    "\n",
    "It gives a quick reference card with an overview of each available magic command in the Jupyter Notebook. "
   ]
  },
  {
   "cell_type": "code",
   "execution_count": null,
   "id": "7958b87d",
   "metadata": {},
   "outputs": [],
   "source": [
    "%quickref"
   ]
  },
  {
   "cell_type": "markdown",
   "id": "simplified-venice",
   "metadata": {},
   "source": [
    "### 19.2.2 Shortcut  Magics\n",
    "Some magics in the Jupyter Notebook play some roles like shortcuts, such as `%alias_magic`,`%autocall`,`%alias` and `%automagic`, thus I name them here \"Shortcut  Magics\". We will review only the first two magics as the follows.  "
   ]
  },
  {
   "cell_type": "markdown",
   "id": "intellectual-insight",
   "metadata": {},
   "source": [
    "### (1) \\%alias_magic\n",
    "\n",
    "As its name suggests, `%alias_magic` is used to create a customized magic, which is alias for an existing magic (a line or a cell). You can create it by using:\n",
    "\n",
    "`%alias_magic customizedName ExstingName`\n",
    "\n",
    "For example, we use `%lm` as an alias for `%lsmagic`, just run following code. "
   ]
  },
  {
   "cell_type": "code",
   "execution_count": null,
   "id": "alpine-williams",
   "metadata": {},
   "outputs": [],
   "source": [
    "%alias_magic %lm %lsmagic"
   ]
  },
  {
   "cell_type": "markdown",
   "id": "welsh-absorption",
   "metadata": {},
   "source": [
    "Then you can use `%lm` instead of `%lsmagic`. "
   ]
  },
  {
   "cell_type": "code",
   "execution_count": null,
   "id": "periodic-engineering",
   "metadata": {
    "scrolled": false
   },
   "outputs": [],
   "source": [
    "%lm"
   ]
  },
  {
   "cell_type": "markdown",
   "id": "material-paragraph",
   "metadata": {},
   "source": [
    "You may also notice that `%ml` has been added into the magic list. "
   ]
  },
  {
   "cell_type": "markdown",
   "id": "surprising-annual",
   "metadata": {},
   "source": [
    "### (2) %unalias\n",
    "\n",
    "Opposite to the `%alias` and `%alias_magic` magics, `%unalias` is used to remove an alias."
   ]
  },
  {
   "cell_type": "code",
   "execution_count": null,
   "id": "alert-archive",
   "metadata": {},
   "outputs": [],
   "source": [
    "%unalias %lm"
   ]
  },
  {
   "cell_type": "markdown",
   "id": "matched-ability",
   "metadata": {},
   "source": [
    "### (3) \\%autocall\n",
    "\n",
    "It makes you to call a function excluding the parentheses. For example:"
   ]
  },
  {
   "cell_type": "code",
   "execution_count": null,
   "id": "assured-service",
   "metadata": {},
   "outputs": [],
   "source": [
    "def hello(firstname,lastname):\n",
    "    print(f'Hello, {firstname} {lastname}!')"
   ]
  },
  {
   "cell_type": "code",
   "execution_count": null,
   "id": "severe-halloween",
   "metadata": {
    "scrolled": true
   },
   "outputs": [],
   "source": [
    "%autocall"
   ]
  },
  {
   "cell_type": "code",
   "execution_count": null,
   "id": "higher-split",
   "metadata": {},
   "outputs": [],
   "source": [
    "hello 'Jack', 'Smith'"
   ]
  },
  {
   "cell_type": "markdown",
   "id": "understanding-balloon",
   "metadata": {},
   "source": [
    "Run %autocall again to close the automatic calling."
   ]
  },
  {
   "cell_type": "code",
   "execution_count": null,
   "id": "confirmed-crack",
   "metadata": {},
   "outputs": [],
   "source": [
    "%autocall"
   ]
  },
  {
   "cell_type": "markdown",
   "id": "ready-casino",
   "metadata": {},
   "source": [
    "If call the function again without parentheses. it will cause an error."
   ]
  },
  {
   "cell_type": "code",
   "execution_count": null,
   "id": "tutorial-allergy",
   "metadata": {
    "scrolled": true
   },
   "outputs": [],
   "source": [
    "hello 'Jack', 'Smith'"
   ]
  },
  {
   "cell_type": "markdown",
   "id": "electrical-heaven",
   "metadata": {},
   "source": [
    "### (4) %automagic\n",
    "This magic enables call the line magic functions without including the % sign. The defaut settings are True , and this is why the end of magic list indicates \"Automagic is ON, % prefix IS NOT needed for line magics.\" When you run `%automagic` again, the automagic is off."
   ]
  },
  {
   "cell_type": "markdown",
   "id": "selective-tennessee",
   "metadata": {},
   "source": [
    "### 19.2.3 Directory Operation Magics and Alternatives\n",
    "\n",
    "In the Jupyter Notebok, there are magic commands used to check working directory, display the contents in the working directory, create a new working directory, as well as change working directory. "
   ]
  },
  {
   "cell_type": "markdown",
   "id": "dirty-tours",
   "metadata": {},
   "source": [
    "### (1) \\%pwd \n",
    "\n",
    "As its name shows, `%pwd`is used to **p**rint **w**orking **d**irectory. "
   ]
  },
  {
   "cell_type": "code",
   "execution_count": null,
   "id": "assured-detective",
   "metadata": {},
   "outputs": [],
   "source": [
    "%pwd"
   ]
  },
  {
   "cell_type": "markdown",
   "id": "published-printer",
   "metadata": {},
   "source": [
    "The output on Windows looks something like `'C:\\\\Users\\\\Administrator.SC-202007221415\\\\Documents\\\\pythonLearn'`"
   ]
  },
  {
   "cell_type": "code",
   "execution_count": null,
   "id": "psychological-helping",
   "metadata": {},
   "outputs": [],
   "source": [
    "There is an alternative command is `!pwd` on Linux"
   ]
  },
  {
   "cell_type": "markdown",
   "id": "e3290e44",
   "metadata": {},
   "source": [
    "`%` is provided by the IPython kernel and allows you to run \"magic commands\"\n",
    "\n",
    "`!`, provided by Jupyter, allows shell commands to be run within cells."
   ]
  },
  {
   "cell_type": "code",
   "execution_count": null,
   "id": "atlantic-browser",
   "metadata": {
    "scrolled": true
   },
   "outputs": [],
   "source": [
    "!pwd   "
   ]
  },
  {
   "cell_type": "markdown",
   "id": "unlimited-study",
   "metadata": {},
   "source": [
    "But '!pwd' is not recognized as an internal or external command, operable program or batch file on Windows."
   ]
  },
  {
   "cell_type": "markdown",
   "id": "consecutive-forty",
   "metadata": {},
   "source": [
    "### (2) \\%ls\n",
    "\n",
    "As it name suggests, `%ls` is used to list all the files in the current working directory. "
   ]
  },
  {
   "cell_type": "code",
   "execution_count": null,
   "id": "homeless-glasgow",
   "metadata": {},
   "outputs": [],
   "source": [
    "%ls"
   ]
  },
  {
   "cell_type": "markdown",
   "id": "acb57996",
   "metadata": {},
   "source": [
    "#### For linux "
   ]
  },
  {
   "cell_type": "code",
   "execution_count": null,
   "id": "convinced-annex",
   "metadata": {},
   "outputs": [],
   "source": [
    "!ls"
   ]
  },
  {
   "cell_type": "markdown",
   "id": "entitled-blues",
   "metadata": {},
   "source": [
    "'!ls' is not recognized as an internal or external command, operable program or batch file on Windows."
   ]
  },
  {
   "cell_type": "markdown",
   "id": "negative-hawaiian",
   "metadata": {},
   "source": [
    "Just display one type of file, for example, we want to look for `.py` file, we can do as follows:"
   ]
  },
  {
   "cell_type": "code",
   "execution_count": null,
   "id": "gentle-finding",
   "metadata": {},
   "outputs": [],
   "source": [
    "%ls *.py"
   ]
  },
  {
   "cell_type": "markdown",
   "id": "wanted-serial",
   "metadata": {
    "scrolled": true
   },
   "source": [
    "You can use `ls *.py` alternative on Linux, but it does not work on Windows."
   ]
  },
  {
   "cell_type": "markdown",
   "id": "essential-arrow",
   "metadata": {},
   "source": [
    "### (3) \\%mkdir\n",
    "\n",
    "As its name suggests, the `%mkdir` magic is used to **m**a**k**e a new **dir**etory."
   ]
  },
  {
   "cell_type": "code",
   "execution_count": null,
   "id": "matched-funds",
   "metadata": {},
   "outputs": [],
   "source": [
    "%mkdir mydata"
   ]
  },
  {
   "cell_type": "markdown",
   "id": "inner-frank",
   "metadata": {},
   "source": [
    "We can create a new folder already existed. If the file name already existed in your directory, it will print an output something like `mkdir: cannot create directory ‘foldername’: File exists.`"
   ]
  },
  {
   "cell_type": "markdown",
   "id": "looking-termination",
   "metadata": {},
   "source": [
    "### (4) \\%cd\n",
    "\n",
    "As its name suggests, the `%cd` magic is used to **c**hange your working **d**iretory. "
   ]
  },
  {
   "cell_type": "markdown",
   "id": "recorded-agriculture",
   "metadata": {},
   "source": [
    "**On Linux**"
   ]
  },
  {
   "cell_type": "code",
   "execution_count": null,
   "id": "suited-wedding",
   "metadata": {},
   "outputs": [],
   "source": [
    "%cd /home/sigmund/Documents"
   ]
  },
  {
   "cell_type": "markdown",
   "id": "bulgarian-brunei",
   "metadata": {},
   "source": [
    "**On Windows**"
   ]
  },
  {
   "cell_type": "code",
   "execution_count": null,
   "id": "typical-night",
   "metadata": {},
   "outputs": [],
   "source": [
    "%cd D:\\workspace"
   ]
  },
  {
   "cell_type": "markdown",
   "id": "threatened-newspaper",
   "metadata": {},
   "source": [
    "**or**"
   ]
  },
  {
   "cell_type": "code",
   "execution_count": null,
   "id": "figured-hierarchy",
   "metadata": {},
   "outputs": [],
   "source": [
    "%cd D:\\\\workspace"
   ]
  },
  {
   "cell_type": "markdown",
   "id": "sacred-advice",
   "metadata": {},
   "source": [
    "`!cd`works on Linux and Windows"
   ]
  },
  {
   "cell_type": "code",
   "execution_count": null,
   "id": "cdd46e7e",
   "metadata": {},
   "outputs": [],
   "source": [
    "!cd D:\\\\workspace"
   ]
  },
  {
   "cell_type": "markdown",
   "id": "995d6109",
   "metadata": {},
   "source": [
    "### (5) %bookmark\n",
    "The `%bookmark` magic is used to create an alias to the current directory. Let's run the following:"
   ]
  },
  {
   "cell_type": "code",
   "execution_count": null,
   "id": "176d140a",
   "metadata": {},
   "outputs": [],
   "source": [
    "%cd D:\\workspace\\myfolder\\test"
   ]
  },
  {
   "cell_type": "code",
   "execution_count": null,
   "id": "293ae721",
   "metadata": {},
   "outputs": [],
   "source": [
    "%bookmark test D:\\workspace\\myfolder\\test"
   ]
  },
  {
   "cell_type": "markdown",
   "id": "c9de7fd3",
   "metadata": {},
   "source": [
    "Later on, we'll be able to enter 'test' folder every time by just typing `%cd test`."
   ]
  },
  {
   "cell_type": "code",
   "execution_count": null,
   "id": "1770806f",
   "metadata": {},
   "outputs": [],
   "source": [
    "%cd test"
   ]
  },
  {
   "cell_type": "markdown",
   "id": "constant-reward",
   "metadata": {},
   "source": [
    "Run `%bookmark?` to see more options. This magic is helpful when we will change directory between many directories."
   ]
  },
  {
   "cell_type": "markdown",
   "id": "e2767158",
   "metadata": {},
   "source": [
    "### (6) %rmdir\n",
    "\n",
    "Opposite to `mkdir` magic, `%rmdir folderName` is used to **r**e**m**ove a **dir**ectory"
   ]
  },
  {
   "cell_type": "code",
   "execution_count": null,
   "id": "73c304f8",
   "metadata": {},
   "outputs": [],
   "source": [
    "%mkdir testfolder"
   ]
  },
  {
   "cell_type": "code",
   "execution_count": null,
   "id": "3b196b22",
   "metadata": {},
   "outputs": [],
   "source": [
    "%rmdir testfolder"
   ]
  },
  {
   "cell_type": "markdown",
   "id": "absolute-joyce",
   "metadata": {},
   "source": [
    "Be careful to use `%rmdir` if there is important files in the folder, because the folder is deleted from your working directory without any notice."
   ]
  },
  {
   "cell_type": "markdown",
   "id": "spanish-guatemala",
   "metadata": {},
   "source": [
    "### 19.2.4 System Operation Magics\n",
    "The Jupyter Notebook provides some magics for system operation, such as package installation, check package version and other information."
   ]
  },
  {
   "cell_type": "markdown",
   "id": "rolled-wichita",
   "metadata": {},
   "source": [
    "### (1) \\%pip magic\n",
    "\n",
    "This magic command is used to install Python libraries and packages in the Jupyter Notebook direcly rather than in terminal. The magic is used in the following way:\n",
    "\n",
    "```python\n",
    "%pip install packageName\n",
    "```"
   ]
  },
  {
   "cell_type": "markdown",
   "id": "5fcd8e44",
   "metadata": {},
   "source": [
    "We can Check package version and information by using:\n",
    "```python\n",
    "%pip show packageName\n",
    "```"
   ]
  },
  {
   "cell_type": "code",
   "execution_count": null,
   "id": "74dcc31c",
   "metadata": {},
   "outputs": [],
   "source": [
    "%pip show pandas"
   ]
  },
  {
   "cell_type": "markdown",
   "id": "impaired-taste",
   "metadata": {},
   "source": [
    "We can use the the following shell comands on both Windows and Linux,\n",
    "```python\n",
    "!pip install packageName\n",
    "!pip show packageName\n",
    "```"
   ]
  },
  {
   "cell_type": "markdown",
   "id": "copyrighted-kitchen",
   "metadata": {},
   "source": [
    "### 19.2.5 Magics on Python Files\n",
    " \n",
    "### (1) %run\n",
    "\n",
    "The `%run` is used to run python (.py) files and external Jupyter notebook (.ipynb) files in notebook cell"
   ]
  },
  {
   "cell_type": "markdown",
   "id": "moderate-theology",
   "metadata": {},
   "source": [
    "### (2) %load and %loadpy\n",
    "\n",
    "These two magics are used to load a `.py` file into current code cell of the Jupyter Notebook, and then you can edit and run it as an internal code. "
   ]
  },
  {
   "cell_type": "markdown",
   "id": "median-shepherd",
   "metadata": {},
   "source": [
    "### 19.2.6 Variable Magics"
   ]
  },
  {
   "cell_type": "markdown",
   "id": "minus-picture",
   "metadata": {},
   "source": [
    "### (1) %who \n",
    "\n",
    "`%who`: List all variables of global scope.  \n",
    "The `%who` command without any arguments will list all variables that existing in the global scope."
   ]
  },
  {
   "cell_type": "code",
   "execution_count": null,
   "id": "inside-folks",
   "metadata": {},
   "outputs": [],
   "source": [
    "a = 2\n",
    "b = \"name\"\n",
    "c = 0.5"
   ]
  },
  {
   "cell_type": "markdown",
   "id": "simplified-charity",
   "metadata": {},
   "source": [
    "and then run the magic."
   ]
  },
  {
   "cell_type": "code",
   "execution_count": null,
   "id": "durable-reporter",
   "metadata": {},
   "outputs": [],
   "source": [
    "%who"
   ]
  },
  {
   "cell_type": "code",
   "execution_count": null,
   "id": "bearing-marker",
   "metadata": {},
   "outputs": [],
   "source": [
    "%who str"
   ]
  },
  {
   "cell_type": "code",
   "execution_count": null,
   "id": "painful-cooler",
   "metadata": {},
   "outputs": [],
   "source": [
    "%who float"
   ]
  },
  {
   "cell_type": "markdown",
   "id": "unable-accused",
   "metadata": {},
   "source": [
    "### (2) %whos\n",
    "Similar to  `%who`, but it gives a little bit detailed information about each variable."
   ]
  },
  {
   "cell_type": "code",
   "execution_count": null,
   "id": "everyday-recognition",
   "metadata": {},
   "outputs": [],
   "source": [
    "%whos"
   ]
  },
  {
   "cell_type": "markdown",
   "id": "legal-inspection",
   "metadata": {},
   "source": [
    "### (3) %who_ls\n",
    "This magic returns a sorted list of all interactive variables."
   ]
  },
  {
   "cell_type": "code",
   "execution_count": null,
   "id": "nearby-tonight",
   "metadata": {},
   "outputs": [],
   "source": [
    "%who_ls"
   ]
  },
  {
   "cell_type": "markdown",
   "id": "falling-apparel",
   "metadata": {},
   "source": [
    "### 19.2.7  Timing Magics\n",
    "There are two IPython Magic commands that are useful for timing – `%time` and `%timeit`. "
   ]
  },
  {
   "cell_type": "markdown",
   "id": "norman-hostel",
   "metadata": {},
   "source": [
    "\n",
    "### (1) \\%time magic\n",
    "\n",
    "The `%time` magic measures the execution time of a single run of the codel. It gives you the information about the wall time of execution"
   ]
  },
  {
   "cell_type": "code",
   "execution_count": null,
   "id": "839e3655",
   "metadata": {},
   "outputs": [],
   "source": [
    "%time results=[x**3 for x in range(100000)]"
   ]
  },
  {
   "cell_type": "markdown",
   "id": "latter-status",
   "metadata": {},
   "source": [
    "### (2) \\%timeit \n",
    "The `%timeit` magic uses the Python timeit module, which runs a statement of 7 runs, 10 loops each (by default) and then provides the best of each iteration in each round and gives time measurement with the range of standard deviation."
   ]
  },
  {
   "cell_type": "code",
   "execution_count": null,
   "id": "3b9f5e2e",
   "metadata": {},
   "outputs": [],
   "source": [
    "%timeit results=[x**3 for x in range(100000)]"
   ]
  },
  {
   "cell_type": "markdown",
   "id": "timely-chain",
   "metadata": {},
   "source": [
    "### 19.2.8 History Magics"
   ]
  },
  {
   "cell_type": "markdown",
   "id": "legitimate-startup",
   "metadata": {},
   "source": [
    "### (1) %history\n",
    "The `%history` magic displays and manipulates your command history in IPython. "
   ]
  },
  {
   "cell_type": "code",
   "execution_count": null,
   "id": "british-vegetarian",
   "metadata": {
    "scrolled": true
   },
   "outputs": [],
   "source": [
    "%history"
   ]
  },
  {
   "cell_type": "markdown",
   "id": "final-currency",
   "metadata": {},
   "source": [
    "We can limits the numbers to show, for example, the following command shows the last five commands:"
   ]
  },
  {
   "cell_type": "code",
   "execution_count": null,
   "id": "renewable-participant",
   "metadata": {},
   "outputs": [],
   "source": [
    "%history -l 5"
   ]
  },
  {
   "cell_type": "markdown",
   "id": "electrical-kidney",
   "metadata": {},
   "source": [
    "### (2) %dhist\n",
    "It displays a history of all visited directories."
   ]
  },
  {
   "cell_type": "code",
   "execution_count": null,
   "id": "sixth-regulation",
   "metadata": {},
   "outputs": [],
   "source": [
    "%dhist"
   ]
  },
  {
   "cell_type": "markdown",
   "id": "built-cisco",
   "metadata": {},
   "source": [
    "## 19.3 Cell Magics\n",
    "\n",
    "As its name suggested, a cell magic is a command working for a cell, which is prefixed with a double %% character. \n",
    "\n",
    "Unlike the line magics, you cannot omit the %% prefix."
   ]
  },
  {
   "cell_type": "raw",
   "id": "be42cf2f",
   "metadata": {},
   "source": [
    "%%!  %%HTML  %%SVG  %%bash  %%capture  %%debug  %%file  %%javascript  %%js  %%latex  %%markdown  %%perl  %%prun  %%pypy  %%python  %%python2  %%python3  %%ruby  %%script  %%sh  %%svg  %%sx  %%system  %%time  %%timeit  %%writefile"
   ]
  },
  {
   "cell_type": "markdown",
   "id": "electrical-maker",
   "metadata": {},
   "source": [
    "We have already learned some cell magics in previous lessons, such as:\n",
    "- `%%HTML` or `%%html`: run HTML in the notebook cells\n",
    "- `%%writefile` and `%%file`: create python `.py` files, and append codes to an existing `.py` file"
   ]
  },
  {
   "cell_type": "markdown",
   "id": "seasonal-radio",
   "metadata": {},
   "source": [
    "### 19.3.1 Bash code magics\n",
    "\n",
    "They work on Linux,but usually do not work on Windows"
   ]
  },
  {
   "cell_type": "markdown",
   "id": "australian-infrastructure",
   "metadata": {},
   "source": [
    "### (1) %%!\n",
    "This magic executes the whole cell in a bash and returns a list."
   ]
  },
  {
   "cell_type": "code",
   "execution_count": null,
   "id": "documented-battlefield",
   "metadata": {},
   "outputs": [],
   "source": [
    "%%!\n",
    "ls"
   ]
  },
  {
   "cell_type": "markdown",
   "id": "selective-constant",
   "metadata": {},
   "source": [
    "### (2) %%bash \n",
    "\n",
    "The `%%bash` cell magic is an extension of the `!` shell prefix. It lets you run multiline bash code in the Notebook."
   ]
  },
  {
   "cell_type": "code",
   "execution_count": null,
   "id": "sacred-republic",
   "metadata": {
    "scrolled": true
   },
   "outputs": [],
   "source": [
    "%%bash\n",
    "ls"
   ]
  },
  {
   "cell_type": "markdown",
   "id": "coordinated-toyota",
   "metadata": {},
   "source": [
    "### 19.3.2 Multi-language Magic"
   ]
  },
  {
   "cell_type": "markdown",
   "id": "intensive-married",
   "metadata": {},
   "source": [
    "### (1) %%script \n",
    "\n",
    "In general, the `%%script` cell magic executes code with any program installed on our operation system. The `%%script` magic can be followed by a full path, for example, on Linux: %%script /usr/bin/hello"
   ]
  },
  {
   "cell_type": "code",
   "execution_count": null,
   "id": "legitimate-midwest",
   "metadata": {},
   "outputs": [],
   "source": [
    "%%script bash\n",
    "    for i in 1 2 3; do\n",
    "    echo $i\n",
    "    done"
   ]
  },
  {
   "cell_type": "code",
   "execution_count": null,
   "id": "statistical-brave",
   "metadata": {
    "scrolled": true
   },
   "outputs": [],
   "source": [
    "print 'hi python'"
   ]
  },
  {
   "cell_type": "code",
   "execution_count": null,
   "id": "forty-shock",
   "metadata": {},
   "outputs": [],
   "source": [
    "%%script python2\n",
    "print 'hi python'"
   ]
  },
  {
   "cell_type": "markdown",
   "id": "absolute-stewart",
   "metadata": {},
   "source": [
    "### (2) %%+language \n",
    "\n",
    "#### Example 1: python2"
   ]
  },
  {
   "cell_type": "code",
   "execution_count": null,
   "id": "synthetic-equity",
   "metadata": {},
   "outputs": [],
   "source": [
    "%%python2\n",
    "print 'hi python'"
   ]
  },
  {
   "cell_type": "markdown",
   "id": "individual-gross",
   "metadata": {},
   "source": [
    "#### Example 2: %%latex"
   ]
  },
  {
   "cell_type": "code",
   "execution_count": null,
   "id": "forbidden-mixer",
   "metadata": {
    "scrolled": true
   },
   "outputs": [],
   "source": [
    "%%latex\n",
    "$\\frac{d}{dx}\\sin{x}=\\cos{x}$"
   ]
  },
  {
   "cell_type": "markdown",
   "id": "unexpected-corruption",
   "metadata": {},
   "source": [
    "#### Example 3: %%markdown"
   ]
  },
  {
   "cell_type": "code",
   "execution_count": null,
   "id": "labeled-newfoundland",
   "metadata": {},
   "outputs": [],
   "source": [
    "%%markdown \n",
    "print('Hello Markdown!')"
   ]
  },
  {
   "cell_type": "markdown",
   "id": "technical-counter",
   "metadata": {},
   "source": [
    "#### Example 4: %%javascript or %%js"
   ]
  },
  {
   "cell_type": "code",
   "execution_count": null,
   "id": "acoustic-cloud",
   "metadata": {},
   "outputs": [],
   "source": [
    "%%js\n",
    "var x = 5;\n",
    "var y = 6;\n",
    "var z = x + y;\n",
    "element.text(z)"
   ]
  },
  {
   "cell_type": "markdown",
   "id": "adjusted-breeding",
   "metadata": {},
   "source": [
    "#### Example 5: %%ruby"
   ]
  },
  {
   "cell_type": "code",
   "execution_count": null,
   "id": "russian-obligation",
   "metadata": {
    "scrolled": true
   },
   "outputs": [],
   "source": [
    "%%ruby\n",
    "puts 'Hello Ruby!'"
   ]
  },
  {
   "cell_type": "markdown",
   "id": "f67f2b85",
   "metadata": {},
   "source": [
    "### 19.3.3 Timing Cell Magics"
   ]
  },
  {
   "cell_type": "markdown",
   "id": "freelance-intelligence",
   "metadata": {},
   "source": [
    "### (1) %%time"
   ]
  },
  {
   "cell_type": "code",
   "execution_count": null,
   "id": "educated-locking",
   "metadata": {},
   "outputs": [],
   "source": [
    "%%time\n",
    "\n",
    "def area_triangle(a,b,c):\n",
    "    s = .5*(a + b + c) \n",
    "    A = (s*(s-a)*(s-b)*(s-c))**.5\n",
    "    \n",
    "    print(\"Area of a triangle with sides {},{},{} is {}.\".format(a, b, c, A))\n",
    "\n",
    "area_triangle(3,4,5)"
   ]
  },
  {
   "cell_type": "code",
   "execution_count": null,
   "id": "catholic-sentence",
   "metadata": {},
   "outputs": [],
   "source": [
    "%%timeit\n",
    "\n",
    "def area_triangle(a,b,c):\n",
    "    s = .5*(a + b + c) \n",
    "    A = (s*(s-a)*(s-b)*(s-c))**.5\n",
    "    \n",
    "    print(\"Area of a triangle with sides {},{},{} is {}.\".format(a, b, c, A))\n",
    "\n",
    "area_triangle(3,4,5)"
   ]
  },
  {
   "cell_type": "code",
   "execution_count": null,
   "id": "bd45020f",
   "metadata": {},
   "outputs": [],
   "source": []
  }
 ],
 "metadata": {
  "kernelspec": {
   "display_name": "Python 3 (ipykernel)",
   "language": "python",
   "name": "python3"
  },
  "language_info": {
   "codemirror_mode": {
    "name": "ipython",
    "version": 3
   },
   "file_extension": ".py",
   "mimetype": "text/x-python",
   "name": "python",
   "nbconvert_exporter": "python",
   "pygments_lexer": "ipython3",
   "version": "3.9.7"
  }
 },
 "nbformat": 4,
 "nbformat_minor": 5
}
