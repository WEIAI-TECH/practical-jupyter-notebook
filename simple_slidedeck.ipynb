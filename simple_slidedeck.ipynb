{
 "cells": [
  {
   "cell_type": "markdown",
   "id": "ecological-ceramic",
   "metadata": {
    "slideshow": {
     "slide_type": "slide"
    }
   },
   "source": [
    "<img src=\"./images/school_logo.png\"\n",
    "     style=\"float: right\"\n",
    "     width=100\n",
    "     style=\"padding-bottom:30px;\"/>\n",
    "<br>\n",
    "<br>\n",
    "\n",
    "<img src= \"./images/jupyter-logo.svg\" \n",
    "     style=\"float: center\" \n",
    "     width=\"90\"\n",
    "     style=\"padding-bottom:10px;\"/>   \n",
    "\n",
    "<h1 style='text-align: center;'>Convert Jupyter Notebook into an Instant and Live Slideshow</h1>\n",
    "<h2 style='text-align: center;'>Sigmund S. Wei, Ph.D. Professor</h2>\n",
    "<h3 style='text-align: center;'>Email: shouke.wei@gmail.com</h3>"
   ]
  },
  {
   "cell_type": "markdown",
   "id": "46f15c71",
   "metadata": {
    "slideshow": {
     "slide_type": "slide"
    }
   },
   "source": [
    "<img src=\"./images/school_logo.png\"\n",
    "     style=\"float: right\"\n",
    "     width=100\n",
    "     style=\"padding-bottom:30px;\"/>\n",
    "<br>\n",
    "<br>\n",
    "\n",
    "<table style=\"float:center;\">\n",
    "    <tr>\n",
    "        <td>\n",
    "            <img src='./images/jupyter-logo.svg'width=90>\n",
    "        </td>\n",
    "    </tr>\n",
    "</table>\n",
    "\n",
    "<h1 style='text-align: center;'>Convert Jupyter Notebook into an Instant and Live Slideshow</h1>\n",
    "<h2 style='text-align: center;'>Sigmund S. Wei, Ph.D. Professor</h2>\n",
    "<h3 style='text-align: center;'>Email: shouke.wei@gmail.com</h3>"
   ]
  },
  {
   "cell_type": "markdown",
   "id": "manual-prime",
   "metadata": {
    "slideshow": {
     "slide_type": "slide"
    }
   },
   "source": [
    "## Outline of the Presentation\n",
    "<h3>1. A Python Function</h3>\n",
    "<h3>2. A Simple Line Plot</h3>"
   ]
  },
  {
   "cell_type": "markdown",
   "id": "reserved-university",
   "metadata": {
    "slideshow": {
     "slide_type": "slide"
    }
   },
   "source": [
    "## 1. A Python Function "
   ]
  },
  {
   "cell_type": "code",
   "execution_count": 1,
   "id": "generic-encounter",
   "metadata": {
    "slideshow": {
     "slide_type": "-"
    }
   },
   "outputs": [
    {
     "name": "stdout",
     "output_type": "stream",
     "text": [
      "sum: 69\n"
     ]
    }
   ],
   "source": [
    "# define an adder function to create the sum of three numbers\n",
    "def adder(x,y,z):\n",
    "    print(\"sum:\",x+y+z)\n",
    "\n",
    "adder(8,22,39)"
   ]
  },
  {
   "cell_type": "markdown",
   "id": "occasional-orchestra",
   "metadata": {
    "slideshow": {
     "slide_type": "slide"
    }
   },
   "source": [
    "## 2. A Simple Line Plot"
   ]
  },
  {
   "cell_type": "code",
   "execution_count": null,
   "id": "obvious-chemical",
   "metadata": {
    "slideshow": {
     "slide_type": "-"
    }
   },
   "outputs": [],
   "source": [
    "import matplotlib.pyplot as plt\n",
    "\n",
    "x = [0,1,2,3,4,5,6,7,8,9,10]\n",
    "y = [0,2,4,3,5,7,6,9,8,10,11]\n",
    "\n",
    "plt.plot(x,y)"
   ]
  },
  {
   "cell_type": "markdown",
   "id": "future-monte",
   "metadata": {
    "slideshow": {
     "slide_type": "slide"
    }
   },
   "source": [
    "<h1 style=\"text-align: center\">Thank you for your attention!</h1>"
   ]
  }
 ],
 "metadata": {
  "celltoolbar": "Slideshow",
  "kernelspec": {
   "display_name": "Python 3 (ipykernel)",
   "language": "python",
   "name": "python3"
  },
  "language_info": {
   "codemirror_mode": {
    "name": "ipython",
    "version": 3
   },
   "file_extension": ".py",
   "mimetype": "text/x-python",
   "name": "python",
   "nbconvert_exporter": "python",
   "pygments_lexer": "ipython3",
   "version": "3.9.7"
  }
 },
 "nbformat": 4,
 "nbformat_minor": 5
}
