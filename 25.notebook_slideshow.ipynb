{
 "cells": [
  {
   "cell_type": "markdown",
   "id": "vocal-energy",
   "metadata": {
    "slideshow": {
     "slide_type": "slide"
    }
   },
   "source": [
    "<br />       \n",
    "\n",
    "|<img src='./images/school_logo.png' alt=\"Drawing\" style=\"width:100px;float: left\"/><img width=350;/>|<p style=\"padding-top:8px;padding-bottom:0px;\">Shouke Wei, Ph.D.</p><img width=400;/>|132| \n",
    "| :--- | :--- | :---:|\n",
    "\n",
    "<h1 style='text-align: center;'>Lesson 25: Convert Jupyter Notebook into a Slideshow</h1>\n",
    "\n",
    "<br /> "
   ]
  },
  {
   "cell_type": "markdown",
   "id": "valuable-thriller",
   "metadata": {},
   "source": [
    "## Objective\n",
    "\n",
    "A Jupyter notebook can be eigher transfered into Reveal.js slides or turned into an immediate slide presentation. There are three common methods to create a presentation slideshows from a notebook, i.e.\n",
    "- Saving Notebook as Reveal.js Slides\n",
    "- Converting Notebook into Slides\n",
    "- Turning Notebook into an Immediate and Live Presentation\n",
    "\n",
    "We will learn the process of creating slides in Jupyter notebook and these three methods."
   ]
  },
  {
   "cell_type": "markdown",
   "id": "inclusive-unemployment",
   "metadata": {
    "slideshow": {
     "slide_type": "slide"
    }
   },
   "source": [
    "## 25.1 Create Slides\n",
    "\n",
    "No matter what methods you will use, the first thing is to create some slides. Let's divide it into several steps to decribe the general process. "
   ]
  },
  {
   "cell_type": "markdown",
   "id": "behavioral-patient",
   "metadata": {
    "slideshow": {
     "slide_type": "slide"
    }
   },
   "source": [
    "### Step 1: Create a new notebook\n",
    "Let's create the notebook and change its name to whatever you like, say \"simple_slidedeck\" for example. "
   ]
  },
  {
   "cell_type": "markdown",
   "id": "imposed-designation",
   "metadata": {
    "slideshow": {
     "slide_type": "slide"
    }
   },
   "source": [
    "### Step 2: Create a Title Page\n",
    "\n",
    "Now Let's create a title page, or cover page. "
   ]
  },
  {
   "cell_type": "markdown",
   "id": "creative-quality",
   "metadata": {
    "slideshow": {
     "slide_type": "slide"
    }
   },
   "source": [
    "```markdown\n",
    "<img src=\"./images/school_logo.png\"\n",
    "     style=\"float: right\"\n",
    "     width=100\n",
    "     style=\"padding-bottom:30px;\"/>\n",
    "<br>\n",
    "<br>\n",
    "\n",
    "<table style=\"float:center;\">\n",
    "    <tr>\n",
    "        <td>\n",
    "            <img src='./images/jupyter-logo.svg'width=90>\n",
    "        </td>\n",
    "    </tr>\n",
    "</table>\n",
    "\n",
    "<h1 style='text-align: center;'>Convert Jupyter Notebook into an Instant and Live Slideshow</h1>\n",
    "<h2 style='text-align: center;'>Sigmund S. Wei, Ph.D. Professor</h2>\n",
    "<h3 style='text-align: center;'>Email: shouke.wei@gmail.com</h3>\n",
    "```"
   ]
  },
  {
   "cell_type": "markdown",
   "id": "robust-letters",
   "metadata": {},
   "source": [
    "The first \\<img> tag is used to embed a logo and align it to right, the second one and third one are Python logo and Jupyter logo, respectivel. Two spaces have added between the first logo and the following two. Then there comes the title at header level 1, followed by the presentor and contact information.\n",
    "\n",
    "The rendered output should be looks like the following screenshot."
   ]
  },
  {
   "cell_type": "markdown",
   "id": "absolute-helping",
   "metadata": {},
   "source": [
    "### Step 3: Create a table of contents\n",
    "\n",
    "For example, we create a TOC in the second Markdown cell, and type something as follows:\n",
    "\n",
    "```markdown\n",
    "## Outline of the Presentation\n",
    "- <h3>1. A Python Function</h3>\n",
    "- <h3>2. A Simple Line Plot</h3>\n",
    "```"
   ]
  },
  {
   "cell_type": "markdown",
   "id": "medieval-builder",
   "metadata": {},
   "source": [
    "### Step 4: Create a slide header and Python function slide \n",
    "\n",
    "Before starting to create our function slide, it is better for us to create a header to this slide. Just type the following header at level two in the fourth Markdown cell.\n",
    "\n",
    "```markdown\n",
    "## 1. A Python Function\n",
    "```\n",
    "\n",
    "Then, in the next code cell, let's create a simple adder function, which is be able to sum three numbers. Type the following code in the cell\n",
    "\n",
    "```python\n",
    "# define an adder function to sum three numbers\n",
    "def adder(x,y,z):\n",
    "    print(\"sum:\",x+y+z)\n",
    "    \n",
    "adder(8,22,38)\n",
    "```"
   ]
  },
  {
   "cell_type": "markdown",
   "id": "photographic-fossil",
   "metadata": {},
   "source": [
    "### Step 5: Create a header and a line plot dlide\n",
    "\n",
    "Similarly,first, let's create a header at level 2 in the next Markdown cell as follows:\n",
    "```markdown\n",
    "## 2. A Simple Line Plot\n",
    "```\n",
    "\n",
    "Then, We just type the following code to diplay how to plot a simple line plot in the following code cell.\n",
    "\n",
    "```python\n",
    "x = [0,1,2,3,4,5,6,7,8,9,10]\n",
    "y = [0,2,4,3,5,7,6,9,8,10,11]\n",
    "\n",
    "plt.plot(x,y)\n",
    "``` "
   ]
  },
  {
   "cell_type": "markdown",
   "id": "impressive-cylinder",
   "metadata": {},
   "source": [
    "### Step 6: Create end slide\n",
    "\n",
    "In this end slide, let's just type \"Thank you for your attention!\" for instance in a new Mardown cell. We will use html `<h1>` tag in the example because we want to align the text to the center of the side. \n",
    "```markdown\n",
    "<h1 style=\"text-align: center\">Thank you for your attention!</h1>\n",
    "```"
   ]
  },
  {
   "cell_type": "markdown",
   "id": "compressed-manner",
   "metadata": {},
   "source": [
    "## 25.2. Set Slide Types\n",
    "\n",
    "The slides created in notebooks look like the normal notebook, so the next task for us is to select which cells will be as slides and which types of slide the cell will be. \n",
    "\n",
    "### Step 7: Enter slide type set mode\n",
    "\n",
    "Go to the menu bar, `click View > Cell Toolbar > Slideshow`, to bring up the slide type set mode."
   ]
  },
  {
   "cell_type": "markdown",
   "id": "normal-cooperation",
   "metadata": {},
   "source": [
    "### Step 8: Set slide types \n",
    "\n",
    "In the slide type set mode, we set all the other cells to \"slide\" except that the two cells of \"Python function code\" and \"plot code\", which are sleted as \"-\". \n"
   ]
  },
  {
   "cell_type": "markdown",
   "id": "internal-cincinnati",
   "metadata": {},
   "source": [
    "The interesting thing is that selecting \"-\" will bring up this cell and previous cell in one slide, by which the header cell and code cell will come together in one slide.\n",
    "But I have not found any documents mentioned this function except for a post in [stackoverflow](https://stackoverflow.com/questions/62235419/how-to-use-jupyter-with-rise-showing-two-cells-in-same-slide-at-same-time)"
   ]
  },
  {
   "cell_type": "markdown",
   "id": "literary-vinyl",
   "metadata": {},
   "source": [
    "## 25.3 Create the Slideshow\n",
    "After setting the slide types, we can create the notebook into slideshow. \n",
    "\n",
    "### 25.3.1 Method 1: Download method\n",
    "\n",
    "### Step 9:  Download the notebook as Reveal.js slideshow\n",
    "\n",
    "First, run the notebook and make all the results displayed. Then go to the menu bar, click `File > Download as > Reveal.js (.slides.html)`. The slides has been you downloaded into defaut download folder rather than your working folder. "
   ]
  },
  {
   "cell_type": "markdown",
   "id": "secret-rogers",
   "metadata": {},
   "source": [
    "### Step 10: Run the Slideshow\n",
    "\n",
    "You should copy the slides from your default download folder to your working directory, or you copy and past the  folder containing all the images used in the slides from your working directory into a folder same with the Reveal.js (.slides.html). Then click the `simple_slidedeck.slides.html` to run it. You click the bottom-right arrow, or press the \"space bar\" or \"arrow keys\" on your keybord to flip through the slides."
   ]
  },
  {
   "cell_type": "markdown",
   "id": "responsible-newsletter",
   "metadata": {},
   "source": [
    "### 25.3.2 Method 2: Convert the notebook into slides\n",
    "\n",
    "### Step 9: Convert the notebook\n",
    "There are two ways that you can convert the notebook into slides.\n",
    "(1) Normally, open your terminal, and access to your working directory, and then run the following code:\n",
    "\n",
    "`jupyter nbconvert simple_slidedeck.ipynb --to slides`\n",
    "\n",
    "Tips: \n",
    "(1) use the Built-in terminal because it is already in your working directory;   \n",
    "(2) you can run the code using `!jupyter nbconvert simple_slidedeck.ipynb --to slides` in a different Jupyter notebook from the slide one."
   ]
  },
  {
   "cell_type": "code",
   "execution_count": 1,
   "id": "336e43ea",
   "metadata": {},
   "outputs": [
    {
     "name": "stderr",
     "output_type": "stream",
     "text": [
      "[NbConvertApp] Converting notebook simple_slidedeck.ipynb to slides\n",
      "[NbConvertApp] Writing 568094 bytes to simple_slidedeck.slides.html\n"
     ]
    }
   ],
   "source": [
    "!jupyter nbconvert simple_slidedeck.ipynb --to slides"
   ]
  },
  {
   "cell_type": "markdown",
   "id": "popular-speaker",
   "metadata": {},
   "source": [
    "### Step 10: Run the slides\n",
    "Go to your \"working directory\", click and run the file named \"simple_slidedeck.slides.html\". This method just converts the notebook to a file named `simple_slidedeck.slides.html` in this example just as the `Download as` method, the different is that this method saves the file directly in your working directory.\n",
    "\n",
    "(2) If you want to convert it and serve it with an HTTP server to open the presentation immediately, run the following code in terminal, built-in terminal or another Jupyter Notebook as above tips. \n",
    "\n",
    "`jupyter nbconvert simple_slidedeck.ipynb --to slides --post serve`"
   ]
  },
  {
   "cell_type": "code",
   "execution_count": null,
   "id": "020e36cd",
   "metadata": {},
   "outputs": [],
   "source": [
    "!jupyter nbconvert simple_slidedeck.ipynb --to slides --post serve"
   ]
  },
  {
   "cell_type": "markdown",
   "id": "undefined-experience",
   "metadata": {},
   "source": [
    "## 25.4 Turning Notebook into an Immediate and Live Slideshow\n",
    "\n",
    "We will look at the third method by using `RISE` plug-in, and this plug-in allow your notebook turn into an immediate slide deck. The more important aspect is that it is a living slide deck where you can edit and run your code directly, and you can also freely switch between the slide mode and notebook mode.   "
   ]
  },
  {
   "cell_type": "markdown",
   "id": "lyric-current",
   "metadata": {},
   "source": [
    "### 25.4.1  What is RISE\n",
    "\n",
    "[RISE](https://rise.readthedocs.io/en/stable/) is a Jupyter notebook extension, which enables you instantly turn your Jupyter Notebook into a live reveal.js-based presentation. In this section, we will view how to install the extention, and how we use RISE to turn our `simple_slidedeck` into the live and immediate slide deck."
   ]
  },
  {
   "cell_type": "markdown",
   "id": "seventh-hudson",
   "metadata": {},
   "source": [
    "### 25.4.2 RISE Installation\n",
    "Based on the [official document](https://rise.readthedocs.io/en/stable/installation.html), there are two options to install RISE.\n",
    "#### (1) Use conda\n",
    "If you are an Anaconda user, just install RISE through the following command:    \n",
    "`conda install -c conda-forge rise`\n",
    "#### (2) Use pip\n",
    "Normally you can install it through `pip` with the command as follows:    \n",
    "`pip install RISE`\n",
    "\n",
    "After installation, you should find there is a new icon of \"bar graph\" on the toolbar after you start the Jupyter Notebook and open a notebook. When you move your mouse besides this icon, it shows \"Enter/Exit RISE Slideshow\". It looks like the following screenshot:"
   ]
  },
  {
   "cell_type": "markdown",
   "id": "amber-judges",
   "metadata": {},
   "source": [
    "### 25.4.3.Run the Slideshow\n",
    "Go to \"Enter/Exit RISE Slideshow\" icon > click it. \n",
    "\n",
    "Then it will render your notebook as a deck of slides in your browser. "
   ]
  },
  {
   "cell_type": "markdown",
   "id": "sorted-patrol",
   "metadata": {},
   "source": [
    "You can click the `X` to close it. Besides, RISE slides are live where you can click the cell and edit the text or code."
   ]
  },
  {
   "cell_type": "markdown",
   "id": "phantom-annex",
   "metadata": {},
   "source": [
    "After editing the code, just use ***Shift+Enter*** shortcut to run the cell directly. Besides, you can use the `Ctrl` key and `+` or `-` combos to increase or decrease the page magnification.  If you are using a mouse, you just hold down the keyboard `Ctrl` key and use the mouse wheel to zoom in or out."
   ]
  }
 ],
 "metadata": {
  "kernelspec": {
   "display_name": "Python 3 (ipykernel)",
   "language": "python",
   "name": "python3"
  },
  "language_info": {
   "codemirror_mode": {
    "name": "ipython",
    "version": 3
   },
   "file_extension": ".py",
   "mimetype": "text/x-python",
   "name": "python",
   "nbconvert_exporter": "python",
   "pygments_lexer": "ipython3",
   "version": "3.9.7"
  }
 },
 "nbformat": 4,
 "nbformat_minor": 5
}
