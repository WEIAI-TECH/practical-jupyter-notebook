{
 "cells": [
  {
   "cell_type": "markdown",
   "id": "vocal-energy",
   "metadata": {
    "slideshow": {
     "slide_type": "slide"
    }
   },
   "source": [
    "<br />       \n",
    "\n",
    "|<img src='./images/school_logo.png' alt=\"Drawing\" style=\"width:100px;float: left\"/><img width=350;/>|<p style=\"padding-top:8px;padding-bottom:0px;\">Shouke Wei, Ph.D.</p><img width=400;/>| 22| \n",
    "| :--- | :--- | :---:|\n",
    "\n",
    "<h1 style='text-align: center;'>Lesson 9: Text Formation with HTML in Jupyter Notebook</h1>\n",
    "\n",
    "<br /> "
   ]
  },
  {
   "cell_type": "markdown",
   "id": "prescription-apparatus",
   "metadata": {},
   "source": [
    "### Objectives：\n",
    "\n",
    "- learn how to formate text with HTML in Jupyter notebook. It includes two parts:\n",
    " - Basic Text Formation:\n",
    "     - Headings\n",
    "     - Line Break\n",
    "     - Paragraphs\n",
    "     - List and Nested List\n",
    "     - Emphasis\n",
    "     - Blockquotes\n",
    "     - Code Blocks\n",
    "     - Task Lists\n",
    "     - Hyperlinks\n",
    "     - Emoji\n",
    "     - Definition Lists\n",
    "  - Advanced Text Formation\n",
    "     - Set Font Type\n",
    "     - Set Font size\n",
    "     - Set Font Color\n",
    "     - Highlight Text in Different Colors\n",
    "     - Text Alighment"
   ]
  },
  {
   "cell_type": "markdown",
   "id": "graphic-directory",
   "metadata": {},
   "source": [
    "## 9.1 HTML vs Markdown\n",
    "\n",
    "**Markdown:**\n",
    "- quickly format documents and articles\n",
    "- lacks features for advanced text formating, such as font-style, text alignment, etc. \n",
    "\n",
    "**HTML:**\n",
    "- stands for Hyper Text Markup Language \n",
    "- the standard markup language for creating Web pages\n",
    "- has advance features for text formating\n",
    "\n",
    "Markdown was originally designed for HTML authoring, and thus it permits raw HTML working anywhere in the Mardown cells. \n",
    "\n",
    "The different of text formatting between Html and Markdown is that Html uses different tags\n",
    "- Starting tags: `<name>`\n",
    "- Closing tags: `</name>` "
   ]
  },
  {
   "cell_type": "markdown",
   "id": "2d978f66",
   "metadata": {},
   "source": [
    "## 9.2 Basic Text Formation"
   ]
  },
  {
   "cell_type": "markdown",
   "id": "positive-missouri",
   "metadata": {},
   "source": [
    "### 9.2.1 Headings \n",
    "\n",
    "- created with Tags from `<h1>` to `<h6>`"
   ]
  },
  {
   "cell_type": "markdown",
   "id": "sticky-breast",
   "metadata": {},
   "source": [
    "<h1>This is heading 1</h1>\n",
    "<h2>This is heading 2</h2>\n",
    "<h3>This is heading 3</h3>\n",
    "<h4>This is heading 4</h4>\n",
    "<h5>This is heading 5</h5>\n",
    "<h6>This is heading 6</h6>"
   ]
  },
  {
   "cell_type": "markdown",
   "id": "romantic-personal",
   "metadata": {},
   "source": [
    "### 9.2.2  Paragraphs\n",
    "To create paragraphs, use tags `<p>` and `</p>`："
   ]
  },
  {
   "cell_type": "markdown",
   "id": "elder-carol",
   "metadata": {},
   "source": [
    "<p>This is the first paragraph.</p>\n",
    "<p>This is the second paragraph.</p>"
   ]
  },
  {
   "cell_type": "markdown",
   "id": "0bd0a5d1",
   "metadata": {},
   "source": [
    "### 9.2.3 Line Break"
   ]
  },
  {
   "cell_type": "markdown",
   "id": "4bf6c599",
   "metadata": {},
   "source": [
    "Line break is made with `<br>` tag, and the remaining contents begin with a new line"
   ]
  },
  {
   "cell_type": "markdown",
   "id": "f9e21946",
   "metadata": {},
   "source": [
    "<p>This is the first line.<br>This is the second line.</p>"
   ]
  },
  {
   "cell_type": "markdown",
   "id": "technical-marks",
   "metadata": {},
   "source": [
    "### 9.2.4 List and Nested List"
   ]
  },
  {
   "cell_type": "markdown",
   "id": "knowing-burlington",
   "metadata": {},
   "source": [
    "### (1) Ordered List\n",
    "- Ordered List: starting with `<ol>` tag and ending with `</ol>` tag \n",
    "- the list items are created by `<li>` tag and `</li>` tag"
   ]
  },
  {
   "cell_type": "markdown",
   "id": "meaningful-wayne",
   "metadata": {},
   "source": [
    "<ol>\n",
    "<li>Fish</li>\n",
    "<li>Eggs</li>\n",
    "<li>Cheese</li>\n",
    "</ol>"
   ]
  },
  {
   "cell_type": "markdown",
   "id": "ed77367b",
   "metadata": {},
   "source": [
    "### (2) Unordered List\n",
    "\n",
    "- Unordered list: starting with the `<ul>` tag and ending with the `</ul>` tag"
   ]
  },
  {
   "cell_type": "markdown",
   "id": "crude-caribbean",
   "metadata": {},
   "source": [
    "<ul>\n",
    "<li>Fish</li>\n",
    "<li>Eggs</li>\n",
    "<li>Cheese</li>\n",
    "</ul>"
   ]
  },
  {
   "cell_type": "markdown",
   "id": "exclusive-skill",
   "metadata": {},
   "source": [
    "### 9.2.5 Emphasis"
   ]
  },
  {
   "cell_type": "markdown",
   "id": "70905d0d",
   "metadata": {},
   "source": [
    "### (1) Bold text\n",
    "\n",
    "- use `<b>` tags, or `<strong>`tags"
   ]
  },
  {
   "cell_type": "markdown",
   "id": "fleet-astronomy",
   "metadata": {},
   "source": [
    "<b>This is bold text </b>\n",
    "    \n",
    "<strong>This is bold text </strong>"
   ]
  },
  {
   "cell_type": "markdown",
   "id": "ab40e671",
   "metadata": {},
   "source": [
    "### (2) Italic text\n",
    "\n",
    "- use `<i>` tags, or `<em>`tags"
   ]
  },
  {
   "cell_type": "markdown",
   "id": "respective-poker",
   "metadata": {},
   "source": [
    "<i>This is italic text </i>\n",
    "\n",
    "<em>This is italic text </em>"
   ]
  },
  {
   "cell_type": "markdown",
   "id": "0f66cff9",
   "metadata": {},
   "source": [
    "###  (3) Bold and italic text\n",
    "- use \\<strong>\\<em>tages\n",
    "- use \\<b>\\<i> tags\n",
    "- use \\<strong>\\<i>tages\n",
    "- use \\<b>\\<em>tages"
   ]
  },
  {
   "cell_type": "markdown",
   "id": "active-rebel",
   "metadata": {},
   "source": [
    "This text is <strong><em>really important</em></strong>\n",
    "\n",
    "This text is <b><i>really important</i></b>\n",
    "\n",
    "This text is <strong><i>really important</i></strong>\n",
    "\n",
    "This text is <b><em>really important</em></b>"
   ]
  },
  {
   "cell_type": "markdown",
   "id": "97ad98c2",
   "metadata": {},
   "source": [
    "### (4) Highlight \n",
    "- use `<span>`tags and style attribute "
   ]
  },
  {
   "cell_type": "markdown",
   "id": "speaking-angola",
   "metadata": {},
   "source": [
    "<span style=\"background-color:rgb(240, 240, 240);\">sudo install python3</span>\n",
    "\n",
    "<span style=\"background-color:#f8f8f8;\">~/Documents/mybooks/myjupyterbook/conternts</span>"
   ]
  },
  {
   "cell_type": "markdown",
   "id": "848051bd",
   "metadata": {},
   "source": [
    "### (5) Strikethrough\n",
    "- The HTML `<strike>` element (or HTML Strikethrough Element) places a strikethrough (horizontal line) over text.\n",
    "- If it represents deleted content, use `<del>` instead. \n",
    "- In all other cases use `<s>`."
   ]
  },
  {
   "cell_type": "markdown",
   "id": "painted-traveler",
   "metadata": {},
   "source": [
    "<strike>Today's Special: Salmon</strike> SOLD OUT <br>\n",
    "<del>Today's apple </del> SOLD OUT <br>\n",
    "<s>Today's Milk</s> SOLD OUT"
   ]
  },
  {
   "cell_type": "markdown",
   "id": "666f22ac",
   "metadata": {},
   "source": [
    "### 9.2.6 Blockquote"
   ]
  },
  {
   "cell_type": "markdown",
   "id": "honey-symposium",
   "metadata": {},
   "source": [
    "<p>This is a blockquote:</p>\n",
    "<blockquote>\n",
    "    <p>This is the start of a blockquote.</p>\n",
    "        <blockquote>\n",
    "            <p>This is a nested blockquote.</p>\n",
    "        </blockquote>\n",
    "    <p>This is the end of the blockquote.</p>\n",
    "</blockquote>\n",
    "\n",
    "<p>This line resumes the regular paragraph text.</p>\n"
   ]
  },
  {
   "cell_type": "markdown",
   "id": "closed-python",
   "metadata": {},
   "source": [
    "### 9.2.7 Code Blocks\n",
    "- use `<code>` `</code>` tags"
   ]
  },
  {
   "cell_type": "markdown",
   "id": "organized-style",
   "metadata": {},
   "source": [
    "<code>Python\n",
    "str = \"This is a block level code\"\n",
    "print(str)\n",
    "</code>"
   ]
  },
  {
   "cell_type": "markdown",
   "id": "b0247811",
   "metadata": {},
   "source": [
    "### 9.2.8 Horizontal Lines\n",
    "- To create horizontal line, use `<hr>` tag, \n",
    "- change the width of the line and border using `style` features and its `height`and `border-width` features."
   ]
  },
  {
   "cell_type": "markdown",
   "id": "bridal-tragedy",
   "metadata": {},
   "source": [
    "<hr>\n",
    "\n",
    "<hr style=\"height:2px;border-width:0;\">"
   ]
  },
  {
   "cell_type": "markdown",
   "id": "fea543bf",
   "metadata": {},
   "source": [
    "### 9.2.9 Task Lists\n",
    "\n",
    "Html has more flexible and powerful ways to create task lists using custom **checkbox** or **radio** button. Examples:"
   ]
  },
  {
   "cell_type": "markdown",
   "id": "painful-sunday",
   "metadata": {},
   "source": [
    "<h3>Publication Process:</h3>\n",
    "<ul>\n",
    "    <li>\n",
    "        <input type=\"checkbox\" checked=\"checked\">\n",
    "        <label> Preparation of a book manuscript</label><br>\n",
    "    </li>\n",
    "    <li>\n",
    "        <input type=\"checkbox\">\n",
    "        <label> Look for a press</label><br>   \n",
    "    </li>\n",
    "    <li>\n",
    "        <input type=\"checkbox\">\n",
    "        <label> Proofreading</label><br>\n",
    "    </li>\n",
    "    <li>\n",
    "        <input type=\"checkbox\">\n",
    "        <label> Publish the book</label><br>\n",
    "    </li>\n",
    "</ul>"
   ]
  },
  {
   "cell_type": "markdown",
   "id": "9346b255",
   "metadata": {},
   "source": [
    "<h3>Publication Process:</h3>\n",
    "<ul>\n",
    "    <li>\n",
    "        <input type=\"radio\" checked=\"checked\">\n",
    "        <label> Preparation of a book manuscript</label><br>\n",
    "    </li>\n",
    "    <li>\n",
    "        <input type=\"radio\">\n",
    "        <label> Look for a press</label><br>   \n",
    "    </li>\n",
    "    <li>\n",
    "        <input type=\"radio\">\n",
    "        <label> Proofreading</label><br>\n",
    "    </li>\n",
    "    <li>\n",
    "        <input type=\"radio\">\n",
    "        <label> Publish the book</label><br>\n",
    "    </li>\n",
    "</ul>"
   ]
  },
  {
   "cell_type": "markdown",
   "id": "boolean-williams",
   "metadata": {},
   "source": [
    "### 9.2.10 Links"
   ]
  },
  {
   "cell_type": "markdown",
   "id": "da803ac1",
   "metadata": {},
   "source": [
    "### (1) Internal Links\n",
    "- use`<a>` `</a>` tags \n",
    "- `<a>` stands for anchor which defines the link with attribute `href`\n",
    "    - also called as hypertext reference\n",
    "    - contains unique id\n",
    "- add texts between tags\n",
    "    - visible and clickable to open the destination address"
   ]
  },
  {
   "cell_type": "markdown",
   "id": "likely-local",
   "metadata": {},
   "source": [
    "This is a link to <a href=\"#9.2.4-List-and-Nested-List\">9.2.4 List and Nested List</a>"
   ]
  },
  {
   "cell_type": "markdown",
   "id": "847f0f4e",
   "metadata": {},
   "source": [
    "### (2) External Link \n",
    "\n",
    "- attribute `href`defines the destination address of the link or URL"
   ]
  },
  {
   "cell_type": "markdown",
   "id": "angry-stand",
   "metadata": {},
   "source": [
    "<a href=\"https://jupyter.org/\" >Project Jupyter</a>"
   ]
  },
  {
   "cell_type": "markdown",
   "id": "03af9935",
   "metadata": {},
   "source": [
    "### 9.2.11 Emoji\n",
    "- use the decimal (dec) unicodes or hexadecimal (hex) unicodes \n",
    "- add `&#` before the `dec` code number \n",
    "- put `&#x` before the `hex` code numbers\n",
    "\n",
    "Here we only see few examples, please refer to [HTML Emoji Reference](https://www.w3schools.com/charsets/ref_emoji.asp) in w3schools for more html Emoji codes."
   ]
  },
  {
   "cell_type": "markdown",
   "id": "random-housing",
   "metadata": {},
   "source": [
    "Dec: \\&#128512; &#128512;     \n",
    "Hex: \\&#x1F600; &#128512; "
   ]
  },
  {
   "cell_type": "markdown",
   "id": "dietary-retreat",
   "metadata": {},
   "source": [
    "<p>I really love this video! &#129505;</p>   \n",
    "<p>The story is so funny! &#128514;</p>   \n",
    "<p>It makes me laughing and laughing! &#x1F923;</p>    \n",
    "<p>Thank you, the video creator! &#x1F64F;</p> "
   ]
  },
  {
   "cell_type": "markdown",
   "id": "fc22047c",
   "metadata": {},
   "source": [
    "### 9.2.12 Definition Lists\n",
    "\n",
    "- Html has a defintion list using `<dl>`,`<dt>`and `<dd>` tags, where \n",
    "- the first line show the term in bold, and \n",
    "- the second line is the definiion of the term"
   ]
  },
  {
   "cell_type": "markdown",
   "id": "hindu-integration",
   "metadata": {},
   "source": [
    "<dl>\n",
    "  <dt>First Term</dt>\n",
    "  <dd>This is the definition of the first term.</dd>\n",
    "  <dt>Second Term</dt>\n",
    "  <dd>This is one definition of the second term. </dd>\n",
    "  <dd>This is another definition of the second term.</dd>\n",
    "</dl>"
   ]
  },
  {
   "cell_type": "markdown",
   "id": "inclusive-unemployment",
   "metadata": {
    "slideshow": {
     "slide_type": "slide"
    }
   },
   "source": [
    "## 9.3 Advance Text Formating\n",
    "- add the`style` attributes into a HTML tag to set font, color, size, align the text, and more."
   ]
  },
  {
   "cell_type": "markdown",
   "id": "846ed928",
   "metadata": {},
   "source": [
    "### 9.3.1.  Set Font Type"
   ]
  },
  {
   "cell_type": "markdown",
   "id": "homeless-fellowship",
   "metadata": {},
   "source": [
    "<h1 style=\"font-family:verdana\">This is heading 1</h1>\n",
    "<h2 style=\"font-family:'Courier New'\">This is heading 2</h2>\n",
    "<p style=\"font-family:Papyrus;\">Text is paragraph</p>"
   ]
  },
  {
   "cell_type": "markdown",
   "id": "c1c4f188",
   "metadata": {},
   "source": [
    "### 9.3.2. Set the Font Size"
   ]
  },
  {
   "cell_type": "markdown",
   "id": "fixed-leave",
   "metadata": {},
   "source": [
    "<p>I am normal</p>\n",
    "<p style=\"font-size:30px;\">Text font is larger</p>\n",
    "<h1>This is normal header</h1>   \n",
    "<h1 style=\"font-size:2.5em;\">This is large header</h1>\n",
    "<h1><span style=\"font-size:2em;\">This is larger header</span></h1> \n",
    "<span><h1 style=\"font-size:2.5em;\">This is large header</h1></span>"
   ]
  },
  {
   "cell_type": "markdown",
   "id": "current-processor",
   "metadata": {},
   "source": [
    "### 9.3.3. Set Font Color\n",
    "\n",
    "- set font color in four ways: \n",
    "    - direct color name\n",
    "    - RGB color value\n",
    "    - hexadecimal color value\n",
    "    - HSLA color value "
   ]
  },
  {
   "cell_type": "markdown",
   "id": "fitted-shoot",
   "metadata": {},
   "source": [
    "<p>This is a normal text</p>\n",
    "<p style=\"color:orange;\">This is text in orange</p>\n",
    "<p style=\"color:rgb(60, 179, 113);\">This is a text in green</p>\n",
    "<p style=\"color:#ee82ee;\">This is a text in pink</p>\n",
    "<p style=\"color:#a0a0a0;\"><b>This is a bold text in gray</b></p>\n",
    "<span style=\"color:red;font-family:Papyrus; font-size:1em;\">This is a red text in Papyrus with 1em size</span>"
   ]
  },
  {
   "cell_type": "markdown",
   "id": "96733c37",
   "metadata": {},
   "source": [
    "### 9.3.4. Highlight Text in Different Colors"
   ]
  },
  {
   "cell_type": "markdown",
   "id": "accomplished-replica",
   "metadata": {},
   "source": [
    "- Standard markdown is able to higlight text in grey\n",
    "- html can highlight text in different colors \n",
    "    - Using `<span>` tags for highlighting text\n",
    "    - using `style=\"background-color:**colorcode or name***\">`"
   ]
  },
  {
   "cell_type": "markdown",
   "id": "higher-electron",
   "metadata": {},
   "source": [
    "Cyan: <span style=\"background-color:#00FEFE\">Cyan Text</span>   \n",
    "Green: <span style=\"background-color:#00FF00\">Green Text</span>   \n",
    "Yellow: <span style=\"background-color:yellow\">Yellow Text</span>   \n",
    "Pink: <span style=\"background-color:#FF00FF\">Pink Text</span>"
   ]
  },
  {
   "cell_type": "markdown",
   "id": "e675c804",
   "metadata": {},
   "source": [
    "- use `<p>` tags or `<h>` tags renders the background color of the whole text line rather than lighlightinh the text alone"
   ]
  },
  {
   "cell_type": "markdown",
   "id": "peripheral-antibody",
   "metadata": {},
   "source": [
    "<p style=\"background-color:#FE7700\">Orange Text</p>\n",
    "<h3 style=\"background-color:#FE7700\">Orange Text</h3>"
   ]
  },
  {
   "cell_type": "markdown",
   "id": "92d2cb6b",
   "metadata": {},
   "source": [
    "### 9.3.5. Text Alighment\n",
    "\n",
    "- In defaut, text is left aligned\n",
    "- Use `style='text-align: \"center/right\";` in the html tags to align tex position to center or right."
   ]
  },
  {
   "cell_type": "markdown",
   "id": "ideal-interface",
   "metadata": {},
   "source": [
    "<p style='text-align: center;'> Text is center aligned.</p>\n",
    "<h1 style='text-align: right;'>  Header 1 is righ aligned.</h1>\n",
    "<div style=\"text-align: center\"> <h1>Header 1 is center aligned.</h1></div>"
   ]
  }
 ],
 "metadata": {
  "kernelspec": {
   "display_name": "Python 3",
   "language": "python",
   "name": "python3"
  },
  "language_info": {
   "codemirror_mode": {
    "name": "ipython",
    "version": 3
   },
   "file_extension": ".py",
   "mimetype": "text/x-python",
   "name": "python",
   "nbconvert_exporter": "python",
   "pygments_lexer": "ipython3",
   "version": "3.8.8"
  }
 },
 "nbformat": 4,
 "nbformat_minor": 5
}
