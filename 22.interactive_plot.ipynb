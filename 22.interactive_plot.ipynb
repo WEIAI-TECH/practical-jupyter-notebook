{
 "cells": [
  {
   "cell_type": "markdown",
   "id": "reduced-department",
   "metadata": {
    "slideshow": {
     "slide_type": "slide"
    }
   },
   "source": [
    "<br />       \n",
    "\n",
    "|<img src='./images/school_logo.png' alt=\"Drawing\" style=\"width:100px;float: left\"/><img width=300;/>|<p style=\"padding-top:8px;padding-bottom:0px;\">Shouke Wei, Ph.D.</p><img width=300;/>|108| \n",
    "| :--- | :--- | :---:|\n",
    "\n",
    "<h1 style='text-align: center;'>Lesson 22: Interactive  Plots in Jupyter Notebook</h1>\n",
    "\n",
    "<br /> "
   ]
  },
  {
   "cell_type": "markdown",
   "id": "increasing-claim",
   "metadata": {
    "slideshow": {
     "slide_type": "slide"
    }
   },
   "source": [
    "## Objective\n",
    "- learn how to create interactive plots in Jupyter notebook\n",
    "    - 2D Interative Plots with Matplotlib\n",
    "    - 3D Interative Plots with Matplotlib and ipympl\n",
    "    - Other Libaries for Interative Plots\n",
    "\n",
    "## 22.1 2D Interative Plots with Matplotlib\n",
    "\n",
    "We can easily get zoom-able and resize-able plots using `%matplotlib notebook` magic in the notebook. It is fastest and easiest way when you need to work with plots interactively. Let's take a simple sine wave or sinusoid for example."
   ]
  },
  {
   "cell_type": "code",
   "execution_count": 40,
   "id": "union-colony",
   "metadata": {
    "scrolled": false
   },
   "outputs": [
    {
     "data": {
      "application/javascript": [
       "/* Put everything inside the global mpl namespace */\n",
       "/* global mpl */\n",
       "window.mpl = {};\n",
       "\n",
       "mpl.get_websocket_type = function () {\n",
       "    if (typeof WebSocket !== 'undefined') {\n",
       "        return WebSocket;\n",
       "    } else if (typeof MozWebSocket !== 'undefined') {\n",
       "        return MozWebSocket;\n",
       "    } else {\n",
       "        alert(\n",
       "            'Your browser does not have WebSocket support. ' +\n",
       "                'Please try Chrome, Safari or Firefox ≥ 6. ' +\n",
       "                'Firefox 4 and 5 are also supported but you ' +\n",
       "                'have to enable WebSockets in about:config.'\n",
       "        );\n",
       "    }\n",
       "};\n",
       "\n",
       "mpl.figure = function (figure_id, websocket, ondownload, parent_element) {\n",
       "    this.id = figure_id;\n",
       "\n",
       "    this.ws = websocket;\n",
       "\n",
       "    this.supports_binary = this.ws.binaryType !== undefined;\n",
       "\n",
       "    if (!this.supports_binary) {\n",
       "        var warnings = document.getElementById('mpl-warnings');\n",
       "        if (warnings) {\n",
       "            warnings.style.display = 'block';\n",
       "            warnings.textContent =\n",
       "                'This browser does not support binary websocket messages. ' +\n",
       "                'Performance may be slow.';\n",
       "        }\n",
       "    }\n",
       "\n",
       "    this.imageObj = new Image();\n",
       "\n",
       "    this.context = undefined;\n",
       "    this.message = undefined;\n",
       "    this.canvas = undefined;\n",
       "    this.rubberband_canvas = undefined;\n",
       "    this.rubberband_context = undefined;\n",
       "    this.format_dropdown = undefined;\n",
       "\n",
       "    this.image_mode = 'full';\n",
       "\n",
       "    this.root = document.createElement('div');\n",
       "    this.root.setAttribute('style', 'display: inline-block');\n",
       "    this._root_extra_style(this.root);\n",
       "\n",
       "    parent_element.appendChild(this.root);\n",
       "\n",
       "    this._init_header(this);\n",
       "    this._init_canvas(this);\n",
       "    this._init_toolbar(this);\n",
       "\n",
       "    var fig = this;\n",
       "\n",
       "    this.waiting = false;\n",
       "\n",
       "    this.ws.onopen = function () {\n",
       "        fig.send_message('supports_binary', { value: fig.supports_binary });\n",
       "        fig.send_message('send_image_mode', {});\n",
       "        if (fig.ratio !== 1) {\n",
       "            fig.send_message('set_dpi_ratio', { dpi_ratio: fig.ratio });\n",
       "        }\n",
       "        fig.send_message('refresh', {});\n",
       "    };\n",
       "\n",
       "    this.imageObj.onload = function () {\n",
       "        if (fig.image_mode === 'full') {\n",
       "            // Full images could contain transparency (where diff images\n",
       "            // almost always do), so we need to clear the canvas so that\n",
       "            // there is no ghosting.\n",
       "            fig.context.clearRect(0, 0, fig.canvas.width, fig.canvas.height);\n",
       "        }\n",
       "        fig.context.drawImage(fig.imageObj, 0, 0);\n",
       "    };\n",
       "\n",
       "    this.imageObj.onunload = function () {\n",
       "        fig.ws.close();\n",
       "    };\n",
       "\n",
       "    this.ws.onmessage = this._make_on_message_function(this);\n",
       "\n",
       "    this.ondownload = ondownload;\n",
       "};\n",
       "\n",
       "mpl.figure.prototype._init_header = function () {\n",
       "    var titlebar = document.createElement('div');\n",
       "    titlebar.classList =\n",
       "        'ui-dialog-titlebar ui-widget-header ui-corner-all ui-helper-clearfix';\n",
       "    var titletext = document.createElement('div');\n",
       "    titletext.classList = 'ui-dialog-title';\n",
       "    titletext.setAttribute(\n",
       "        'style',\n",
       "        'width: 100%; text-align: center; padding: 3px;'\n",
       "    );\n",
       "    titlebar.appendChild(titletext);\n",
       "    this.root.appendChild(titlebar);\n",
       "    this.header = titletext;\n",
       "};\n",
       "\n",
       "mpl.figure.prototype._canvas_extra_style = function (_canvas_div) {};\n",
       "\n",
       "mpl.figure.prototype._root_extra_style = function (_canvas_div) {};\n",
       "\n",
       "mpl.figure.prototype._init_canvas = function () {\n",
       "    var fig = this;\n",
       "\n",
       "    var canvas_div = (this.canvas_div = document.createElement('div'));\n",
       "    canvas_div.setAttribute(\n",
       "        'style',\n",
       "        'border: 1px solid #ddd;' +\n",
       "            'box-sizing: content-box;' +\n",
       "            'clear: both;' +\n",
       "            'min-height: 1px;' +\n",
       "            'min-width: 1px;' +\n",
       "            'outline: 0;' +\n",
       "            'overflow: hidden;' +\n",
       "            'position: relative;' +\n",
       "            'resize: both;'\n",
       "    );\n",
       "\n",
       "    function on_keyboard_event_closure(name) {\n",
       "        return function (event) {\n",
       "            return fig.key_event(event, name);\n",
       "        };\n",
       "    }\n",
       "\n",
       "    canvas_div.addEventListener(\n",
       "        'keydown',\n",
       "        on_keyboard_event_closure('key_press')\n",
       "    );\n",
       "    canvas_div.addEventListener(\n",
       "        'keyup',\n",
       "        on_keyboard_event_closure('key_release')\n",
       "    );\n",
       "\n",
       "    this._canvas_extra_style(canvas_div);\n",
       "    this.root.appendChild(canvas_div);\n",
       "\n",
       "    var canvas = (this.canvas = document.createElement('canvas'));\n",
       "    canvas.classList.add('mpl-canvas');\n",
       "    canvas.setAttribute('style', 'box-sizing: content-box;');\n",
       "\n",
       "    this.context = canvas.getContext('2d');\n",
       "\n",
       "    var backingStore =\n",
       "        this.context.backingStorePixelRatio ||\n",
       "        this.context.webkitBackingStorePixelRatio ||\n",
       "        this.context.mozBackingStorePixelRatio ||\n",
       "        this.context.msBackingStorePixelRatio ||\n",
       "        this.context.oBackingStorePixelRatio ||\n",
       "        this.context.backingStorePixelRatio ||\n",
       "        1;\n",
       "\n",
       "    this.ratio = (window.devicePixelRatio || 1) / backingStore;\n",
       "\n",
       "    var rubberband_canvas = (this.rubberband_canvas = document.createElement(\n",
       "        'canvas'\n",
       "    ));\n",
       "    rubberband_canvas.setAttribute(\n",
       "        'style',\n",
       "        'box-sizing: content-box; position: absolute; left: 0; top: 0; z-index: 1;'\n",
       "    );\n",
       "\n",
       "    // Apply a ponyfill if ResizeObserver is not implemented by browser.\n",
       "    if (this.ResizeObserver === undefined) {\n",
       "        if (window.ResizeObserver !== undefined) {\n",
       "            this.ResizeObserver = window.ResizeObserver;\n",
       "        } else {\n",
       "            var obs = _JSXTOOLS_RESIZE_OBSERVER({});\n",
       "            this.ResizeObserver = obs.ResizeObserver;\n",
       "        }\n",
       "    }\n",
       "\n",
       "    this.resizeObserverInstance = new this.ResizeObserver(function (entries) {\n",
       "        var nentries = entries.length;\n",
       "        for (var i = 0; i < nentries; i++) {\n",
       "            var entry = entries[i];\n",
       "            var width, height;\n",
       "            if (entry.contentBoxSize) {\n",
       "                if (entry.contentBoxSize instanceof Array) {\n",
       "                    // Chrome 84 implements new version of spec.\n",
       "                    width = entry.contentBoxSize[0].inlineSize;\n",
       "                    height = entry.contentBoxSize[0].blockSize;\n",
       "                } else {\n",
       "                    // Firefox implements old version of spec.\n",
       "                    width = entry.contentBoxSize.inlineSize;\n",
       "                    height = entry.contentBoxSize.blockSize;\n",
       "                }\n",
       "            } else {\n",
       "                // Chrome <84 implements even older version of spec.\n",
       "                width = entry.contentRect.width;\n",
       "                height = entry.contentRect.height;\n",
       "            }\n",
       "\n",
       "            // Keep the size of the canvas and rubber band canvas in sync with\n",
       "            // the canvas container.\n",
       "            if (entry.devicePixelContentBoxSize) {\n",
       "                // Chrome 84 implements new version of spec.\n",
       "                canvas.setAttribute(\n",
       "                    'width',\n",
       "                    entry.devicePixelContentBoxSize[0].inlineSize\n",
       "                );\n",
       "                canvas.setAttribute(\n",
       "                    'height',\n",
       "                    entry.devicePixelContentBoxSize[0].blockSize\n",
       "                );\n",
       "            } else {\n",
       "                canvas.setAttribute('width', width * fig.ratio);\n",
       "                canvas.setAttribute('height', height * fig.ratio);\n",
       "            }\n",
       "            canvas.setAttribute(\n",
       "                'style',\n",
       "                'width: ' + width + 'px; height: ' + height + 'px;'\n",
       "            );\n",
       "\n",
       "            rubberband_canvas.setAttribute('width', width);\n",
       "            rubberband_canvas.setAttribute('height', height);\n",
       "\n",
       "            // And update the size in Python. We ignore the initial 0/0 size\n",
       "            // that occurs as the element is placed into the DOM, which should\n",
       "            // otherwise not happen due to the minimum size styling.\n",
       "            if (fig.ws.readyState == 1 && width != 0 && height != 0) {\n",
       "                fig.request_resize(width, height);\n",
       "            }\n",
       "        }\n",
       "    });\n",
       "    this.resizeObserverInstance.observe(canvas_div);\n",
       "\n",
       "    function on_mouse_event_closure(name) {\n",
       "        return function (event) {\n",
       "            return fig.mouse_event(event, name);\n",
       "        };\n",
       "    }\n",
       "\n",
       "    rubberband_canvas.addEventListener(\n",
       "        'mousedown',\n",
       "        on_mouse_event_closure('button_press')\n",
       "    );\n",
       "    rubberband_canvas.addEventListener(\n",
       "        'mouseup',\n",
       "        on_mouse_event_closure('button_release')\n",
       "    );\n",
       "    rubberband_canvas.addEventListener(\n",
       "        'dblclick',\n",
       "        on_mouse_event_closure('dblclick')\n",
       "    );\n",
       "    // Throttle sequential mouse events to 1 every 20ms.\n",
       "    rubberband_canvas.addEventListener(\n",
       "        'mousemove',\n",
       "        on_mouse_event_closure('motion_notify')\n",
       "    );\n",
       "\n",
       "    rubberband_canvas.addEventListener(\n",
       "        'mouseenter',\n",
       "        on_mouse_event_closure('figure_enter')\n",
       "    );\n",
       "    rubberband_canvas.addEventListener(\n",
       "        'mouseleave',\n",
       "        on_mouse_event_closure('figure_leave')\n",
       "    );\n",
       "\n",
       "    canvas_div.addEventListener('wheel', function (event) {\n",
       "        if (event.deltaY < 0) {\n",
       "            event.step = 1;\n",
       "        } else {\n",
       "            event.step = -1;\n",
       "        }\n",
       "        on_mouse_event_closure('scroll')(event);\n",
       "    });\n",
       "\n",
       "    canvas_div.appendChild(canvas);\n",
       "    canvas_div.appendChild(rubberband_canvas);\n",
       "\n",
       "    this.rubberband_context = rubberband_canvas.getContext('2d');\n",
       "    this.rubberband_context.strokeStyle = '#000000';\n",
       "\n",
       "    this._resize_canvas = function (width, height, forward) {\n",
       "        if (forward) {\n",
       "            canvas_div.style.width = width + 'px';\n",
       "            canvas_div.style.height = height + 'px';\n",
       "        }\n",
       "    };\n",
       "\n",
       "    // Disable right mouse context menu.\n",
       "    this.rubberband_canvas.addEventListener('contextmenu', function (_e) {\n",
       "        event.preventDefault();\n",
       "        return false;\n",
       "    });\n",
       "\n",
       "    function set_focus() {\n",
       "        canvas.focus();\n",
       "        canvas_div.focus();\n",
       "    }\n",
       "\n",
       "    window.setTimeout(set_focus, 100);\n",
       "};\n",
       "\n",
       "mpl.figure.prototype._init_toolbar = function () {\n",
       "    var fig = this;\n",
       "\n",
       "    var toolbar = document.createElement('div');\n",
       "    toolbar.classList = 'mpl-toolbar';\n",
       "    this.root.appendChild(toolbar);\n",
       "\n",
       "    function on_click_closure(name) {\n",
       "        return function (_event) {\n",
       "            return fig.toolbar_button_onclick(name);\n",
       "        };\n",
       "    }\n",
       "\n",
       "    function on_mouseover_closure(tooltip) {\n",
       "        return function (event) {\n",
       "            if (!event.currentTarget.disabled) {\n",
       "                return fig.toolbar_button_onmouseover(tooltip);\n",
       "            }\n",
       "        };\n",
       "    }\n",
       "\n",
       "    fig.buttons = {};\n",
       "    var buttonGroup = document.createElement('div');\n",
       "    buttonGroup.classList = 'mpl-button-group';\n",
       "    for (var toolbar_ind in mpl.toolbar_items) {\n",
       "        var name = mpl.toolbar_items[toolbar_ind][0];\n",
       "        var tooltip = mpl.toolbar_items[toolbar_ind][1];\n",
       "        var image = mpl.toolbar_items[toolbar_ind][2];\n",
       "        var method_name = mpl.toolbar_items[toolbar_ind][3];\n",
       "\n",
       "        if (!name) {\n",
       "            /* Instead of a spacer, we start a new button group. */\n",
       "            if (buttonGroup.hasChildNodes()) {\n",
       "                toolbar.appendChild(buttonGroup);\n",
       "            }\n",
       "            buttonGroup = document.createElement('div');\n",
       "            buttonGroup.classList = 'mpl-button-group';\n",
       "            continue;\n",
       "        }\n",
       "\n",
       "        var button = (fig.buttons[name] = document.createElement('button'));\n",
       "        button.classList = 'mpl-widget';\n",
       "        button.setAttribute('role', 'button');\n",
       "        button.setAttribute('aria-disabled', 'false');\n",
       "        button.addEventListener('click', on_click_closure(method_name));\n",
       "        button.addEventListener('mouseover', on_mouseover_closure(tooltip));\n",
       "\n",
       "        var icon_img = document.createElement('img');\n",
       "        icon_img.src = '_images/' + image + '.png';\n",
       "        icon_img.srcset = '_images/' + image + '_large.png 2x';\n",
       "        icon_img.alt = tooltip;\n",
       "        button.appendChild(icon_img);\n",
       "\n",
       "        buttonGroup.appendChild(button);\n",
       "    }\n",
       "\n",
       "    if (buttonGroup.hasChildNodes()) {\n",
       "        toolbar.appendChild(buttonGroup);\n",
       "    }\n",
       "\n",
       "    var fmt_picker = document.createElement('select');\n",
       "    fmt_picker.classList = 'mpl-widget';\n",
       "    toolbar.appendChild(fmt_picker);\n",
       "    this.format_dropdown = fmt_picker;\n",
       "\n",
       "    for (var ind in mpl.extensions) {\n",
       "        var fmt = mpl.extensions[ind];\n",
       "        var option = document.createElement('option');\n",
       "        option.selected = fmt === mpl.default_extension;\n",
       "        option.innerHTML = fmt;\n",
       "        fmt_picker.appendChild(option);\n",
       "    }\n",
       "\n",
       "    var status_bar = document.createElement('span');\n",
       "    status_bar.classList = 'mpl-message';\n",
       "    toolbar.appendChild(status_bar);\n",
       "    this.message = status_bar;\n",
       "};\n",
       "\n",
       "mpl.figure.prototype.request_resize = function (x_pixels, y_pixels) {\n",
       "    // Request matplotlib to resize the figure. Matplotlib will then trigger a resize in the client,\n",
       "    // which will in turn request a refresh of the image.\n",
       "    this.send_message('resize', { width: x_pixels, height: y_pixels });\n",
       "};\n",
       "\n",
       "mpl.figure.prototype.send_message = function (type, properties) {\n",
       "    properties['type'] = type;\n",
       "    properties['figure_id'] = this.id;\n",
       "    this.ws.send(JSON.stringify(properties));\n",
       "};\n",
       "\n",
       "mpl.figure.prototype.send_draw_message = function () {\n",
       "    if (!this.waiting) {\n",
       "        this.waiting = true;\n",
       "        this.ws.send(JSON.stringify({ type: 'draw', figure_id: this.id }));\n",
       "    }\n",
       "};\n",
       "\n",
       "mpl.figure.prototype.handle_save = function (fig, _msg) {\n",
       "    var format_dropdown = fig.format_dropdown;\n",
       "    var format = format_dropdown.options[format_dropdown.selectedIndex].value;\n",
       "    fig.ondownload(fig, format);\n",
       "};\n",
       "\n",
       "mpl.figure.prototype.handle_resize = function (fig, msg) {\n",
       "    var size = msg['size'];\n",
       "    if (size[0] !== fig.canvas.width || size[1] !== fig.canvas.height) {\n",
       "        fig._resize_canvas(size[0], size[1], msg['forward']);\n",
       "        fig.send_message('refresh', {});\n",
       "    }\n",
       "};\n",
       "\n",
       "mpl.figure.prototype.handle_rubberband = function (fig, msg) {\n",
       "    var x0 = msg['x0'] / fig.ratio;\n",
       "    var y0 = (fig.canvas.height - msg['y0']) / fig.ratio;\n",
       "    var x1 = msg['x1'] / fig.ratio;\n",
       "    var y1 = (fig.canvas.height - msg['y1']) / fig.ratio;\n",
       "    x0 = Math.floor(x0) + 0.5;\n",
       "    y0 = Math.floor(y0) + 0.5;\n",
       "    x1 = Math.floor(x1) + 0.5;\n",
       "    y1 = Math.floor(y1) + 0.5;\n",
       "    var min_x = Math.min(x0, x1);\n",
       "    var min_y = Math.min(y0, y1);\n",
       "    var width = Math.abs(x1 - x0);\n",
       "    var height = Math.abs(y1 - y0);\n",
       "\n",
       "    fig.rubberband_context.clearRect(\n",
       "        0,\n",
       "        0,\n",
       "        fig.canvas.width / fig.ratio,\n",
       "        fig.canvas.height / fig.ratio\n",
       "    );\n",
       "\n",
       "    fig.rubberband_context.strokeRect(min_x, min_y, width, height);\n",
       "};\n",
       "\n",
       "mpl.figure.prototype.handle_figure_label = function (fig, msg) {\n",
       "    // Updates the figure title.\n",
       "    fig.header.textContent = msg['label'];\n",
       "};\n",
       "\n",
       "mpl.figure.prototype.handle_cursor = function (fig, msg) {\n",
       "    var cursor = msg['cursor'];\n",
       "    switch (cursor) {\n",
       "        case 0:\n",
       "            cursor = 'pointer';\n",
       "            break;\n",
       "        case 1:\n",
       "            cursor = 'default';\n",
       "            break;\n",
       "        case 2:\n",
       "            cursor = 'crosshair';\n",
       "            break;\n",
       "        case 3:\n",
       "            cursor = 'move';\n",
       "            break;\n",
       "    }\n",
       "    fig.rubberband_canvas.style.cursor = cursor;\n",
       "};\n",
       "\n",
       "mpl.figure.prototype.handle_message = function (fig, msg) {\n",
       "    fig.message.textContent = msg['message'];\n",
       "};\n",
       "\n",
       "mpl.figure.prototype.handle_draw = function (fig, _msg) {\n",
       "    // Request the server to send over a new figure.\n",
       "    fig.send_draw_message();\n",
       "};\n",
       "\n",
       "mpl.figure.prototype.handle_image_mode = function (fig, msg) {\n",
       "    fig.image_mode = msg['mode'];\n",
       "};\n",
       "\n",
       "mpl.figure.prototype.handle_history_buttons = function (fig, msg) {\n",
       "    for (var key in msg) {\n",
       "        if (!(key in fig.buttons)) {\n",
       "            continue;\n",
       "        }\n",
       "        fig.buttons[key].disabled = !msg[key];\n",
       "        fig.buttons[key].setAttribute('aria-disabled', !msg[key]);\n",
       "    }\n",
       "};\n",
       "\n",
       "mpl.figure.prototype.handle_navigate_mode = function (fig, msg) {\n",
       "    if (msg['mode'] === 'PAN') {\n",
       "        fig.buttons['Pan'].classList.add('active');\n",
       "        fig.buttons['Zoom'].classList.remove('active');\n",
       "    } else if (msg['mode'] === 'ZOOM') {\n",
       "        fig.buttons['Pan'].classList.remove('active');\n",
       "        fig.buttons['Zoom'].classList.add('active');\n",
       "    } else {\n",
       "        fig.buttons['Pan'].classList.remove('active');\n",
       "        fig.buttons['Zoom'].classList.remove('active');\n",
       "    }\n",
       "};\n",
       "\n",
       "mpl.figure.prototype.updated_canvas_event = function () {\n",
       "    // Called whenever the canvas gets updated.\n",
       "    this.send_message('ack', {});\n",
       "};\n",
       "\n",
       "// A function to construct a web socket function for onmessage handling.\n",
       "// Called in the figure constructor.\n",
       "mpl.figure.prototype._make_on_message_function = function (fig) {\n",
       "    return function socket_on_message(evt) {\n",
       "        if (evt.data instanceof Blob) {\n",
       "            var img = evt.data;\n",
       "            if (img.type !== 'image/png') {\n",
       "                /* FIXME: We get \"Resource interpreted as Image but\n",
       "                 * transferred with MIME type text/plain:\" errors on\n",
       "                 * Chrome.  But how to set the MIME type?  It doesn't seem\n",
       "                 * to be part of the websocket stream */\n",
       "                img.type = 'image/png';\n",
       "            }\n",
       "\n",
       "            /* Free the memory for the previous frames */\n",
       "            if (fig.imageObj.src) {\n",
       "                (window.URL || window.webkitURL).revokeObjectURL(\n",
       "                    fig.imageObj.src\n",
       "                );\n",
       "            }\n",
       "\n",
       "            fig.imageObj.src = (window.URL || window.webkitURL).createObjectURL(\n",
       "                img\n",
       "            );\n",
       "            fig.updated_canvas_event();\n",
       "            fig.waiting = false;\n",
       "            return;\n",
       "        } else if (\n",
       "            typeof evt.data === 'string' &&\n",
       "            evt.data.slice(0, 21) === 'data:image/png;base64'\n",
       "        ) {\n",
       "            fig.imageObj.src = evt.data;\n",
       "            fig.updated_canvas_event();\n",
       "            fig.waiting = false;\n",
       "            return;\n",
       "        }\n",
       "\n",
       "        var msg = JSON.parse(evt.data);\n",
       "        var msg_type = msg['type'];\n",
       "\n",
       "        // Call the  \"handle_{type}\" callback, which takes\n",
       "        // the figure and JSON message as its only arguments.\n",
       "        try {\n",
       "            var callback = fig['handle_' + msg_type];\n",
       "        } catch (e) {\n",
       "            console.log(\n",
       "                \"No handler for the '\" + msg_type + \"' message type: \",\n",
       "                msg\n",
       "            );\n",
       "            return;\n",
       "        }\n",
       "\n",
       "        if (callback) {\n",
       "            try {\n",
       "                // console.log(\"Handling '\" + msg_type + \"' message: \", msg);\n",
       "                callback(fig, msg);\n",
       "            } catch (e) {\n",
       "                console.log(\n",
       "                    \"Exception inside the 'handler_\" + msg_type + \"' callback:\",\n",
       "                    e,\n",
       "                    e.stack,\n",
       "                    msg\n",
       "                );\n",
       "            }\n",
       "        }\n",
       "    };\n",
       "};\n",
       "\n",
       "// from http://stackoverflow.com/questions/1114465/getting-mouse-location-in-canvas\n",
       "mpl.findpos = function (e) {\n",
       "    //this section is from http://www.quirksmode.org/js/events_properties.html\n",
       "    var targ;\n",
       "    if (!e) {\n",
       "        e = window.event;\n",
       "    }\n",
       "    if (e.target) {\n",
       "        targ = e.target;\n",
       "    } else if (e.srcElement) {\n",
       "        targ = e.srcElement;\n",
       "    }\n",
       "    if (targ.nodeType === 3) {\n",
       "        // defeat Safari bug\n",
       "        targ = targ.parentNode;\n",
       "    }\n",
       "\n",
       "    // pageX,Y are the mouse positions relative to the document\n",
       "    var boundingRect = targ.getBoundingClientRect();\n",
       "    var x = e.pageX - (boundingRect.left + document.body.scrollLeft);\n",
       "    var y = e.pageY - (boundingRect.top + document.body.scrollTop);\n",
       "\n",
       "    return { x: x, y: y };\n",
       "};\n",
       "\n",
       "/*\n",
       " * return a copy of an object with only non-object keys\n",
       " * we need this to avoid circular references\n",
       " * http://stackoverflow.com/a/24161582/3208463\n",
       " */\n",
       "function simpleKeys(original) {\n",
       "    return Object.keys(original).reduce(function (obj, key) {\n",
       "        if (typeof original[key] !== 'object') {\n",
       "            obj[key] = original[key];\n",
       "        }\n",
       "        return obj;\n",
       "    }, {});\n",
       "}\n",
       "\n",
       "mpl.figure.prototype.mouse_event = function (event, name) {\n",
       "    var canvas_pos = mpl.findpos(event);\n",
       "\n",
       "    if (name === 'button_press') {\n",
       "        this.canvas.focus();\n",
       "        this.canvas_div.focus();\n",
       "    }\n",
       "\n",
       "    var x = canvas_pos.x * this.ratio;\n",
       "    var y = canvas_pos.y * this.ratio;\n",
       "\n",
       "    this.send_message(name, {\n",
       "        x: x,\n",
       "        y: y,\n",
       "        button: event.button,\n",
       "        step: event.step,\n",
       "        guiEvent: simpleKeys(event),\n",
       "    });\n",
       "\n",
       "    /* This prevents the web browser from automatically changing to\n",
       "     * the text insertion cursor when the button is pressed.  We want\n",
       "     * to control all of the cursor setting manually through the\n",
       "     * 'cursor' event from matplotlib */\n",
       "    event.preventDefault();\n",
       "    return false;\n",
       "};\n",
       "\n",
       "mpl.figure.prototype._key_event_extra = function (_event, _name) {\n",
       "    // Handle any extra behaviour associated with a key event\n",
       "};\n",
       "\n",
       "mpl.figure.prototype.key_event = function (event, name) {\n",
       "    // Prevent repeat events\n",
       "    if (name === 'key_press') {\n",
       "        if (event.key === this._key) {\n",
       "            return;\n",
       "        } else {\n",
       "            this._key = event.key;\n",
       "        }\n",
       "    }\n",
       "    if (name === 'key_release') {\n",
       "        this._key = null;\n",
       "    }\n",
       "\n",
       "    var value = '';\n",
       "    if (event.ctrlKey && event.key !== 'Control') {\n",
       "        value += 'ctrl+';\n",
       "    }\n",
       "    else if (event.altKey && event.key !== 'Alt') {\n",
       "        value += 'alt+';\n",
       "    }\n",
       "    else if (event.shiftKey && event.key !== 'Shift') {\n",
       "        value += 'shift+';\n",
       "    }\n",
       "\n",
       "    value += 'k' + event.key;\n",
       "\n",
       "    this._key_event_extra(event, name);\n",
       "\n",
       "    this.send_message(name, { key: value, guiEvent: simpleKeys(event) });\n",
       "    return false;\n",
       "};\n",
       "\n",
       "mpl.figure.prototype.toolbar_button_onclick = function (name) {\n",
       "    if (name === 'download') {\n",
       "        this.handle_save(this, null);\n",
       "    } else {\n",
       "        this.send_message('toolbar_button', { name: name });\n",
       "    }\n",
       "};\n",
       "\n",
       "mpl.figure.prototype.toolbar_button_onmouseover = function (tooltip) {\n",
       "    this.message.textContent = tooltip;\n",
       "};\n",
       "\n",
       "///////////////// REMAINING CONTENT GENERATED BY embed_js.py /////////////////\n",
       "// prettier-ignore\n",
       "var _JSXTOOLS_RESIZE_OBSERVER=function(A){var t,i=new WeakMap,n=new WeakMap,a=new WeakMap,r=new WeakMap,o=new Set;function s(e){if(!(this instanceof s))throw new TypeError(\"Constructor requires 'new' operator\");i.set(this,e)}function h(){throw new TypeError(\"Function is not a constructor\")}function c(e,t,i,n){e=0 in arguments?Number(arguments[0]):0,t=1 in arguments?Number(arguments[1]):0,i=2 in arguments?Number(arguments[2]):0,n=3 in arguments?Number(arguments[3]):0,this.right=(this.x=this.left=e)+(this.width=i),this.bottom=(this.y=this.top=t)+(this.height=n),Object.freeze(this)}function d(){t=requestAnimationFrame(d);var s=new WeakMap,p=new Set;o.forEach((function(t){r.get(t).forEach((function(i){var r=t instanceof window.SVGElement,o=a.get(t),d=r?0:parseFloat(o.paddingTop),f=r?0:parseFloat(o.paddingRight),l=r?0:parseFloat(o.paddingBottom),u=r?0:parseFloat(o.paddingLeft),g=r?0:parseFloat(o.borderTopWidth),m=r?0:parseFloat(o.borderRightWidth),w=r?0:parseFloat(o.borderBottomWidth),b=u+f,F=d+l,v=(r?0:parseFloat(o.borderLeftWidth))+m,W=g+w,y=r?0:t.offsetHeight-W-t.clientHeight,E=r?0:t.offsetWidth-v-t.clientWidth,R=b+v,z=F+W,M=r?t.width:parseFloat(o.width)-R-E,O=r?t.height:parseFloat(o.height)-z-y;if(n.has(t)){var k=n.get(t);if(k[0]===M&&k[1]===O)return}n.set(t,[M,O]);var S=Object.create(h.prototype);S.target=t,S.contentRect=new c(u,d,M,O),s.has(i)||(s.set(i,[]),p.add(i)),s.get(i).push(S)}))})),p.forEach((function(e){i.get(e).call(e,s.get(e),e)}))}return s.prototype.observe=function(i){if(i instanceof window.Element){r.has(i)||(r.set(i,new Set),o.add(i),a.set(i,window.getComputedStyle(i)));var n=r.get(i);n.has(this)||n.add(this),cancelAnimationFrame(t),t=requestAnimationFrame(d)}},s.prototype.unobserve=function(i){if(i instanceof window.Element&&r.has(i)){var n=r.get(i);n.has(this)&&(n.delete(this),n.size||(r.delete(i),o.delete(i))),n.size||r.delete(i),o.size||cancelAnimationFrame(t)}},A.DOMRectReadOnly=c,A.ResizeObserver=s,A.ResizeObserverEntry=h,A}; // eslint-disable-line\n",
       "mpl.toolbar_items = [[\"Home\", \"Reset original view\", \"fa fa-home icon-home\", \"home\"], [\"Back\", \"Back to previous view\", \"fa fa-arrow-left icon-arrow-left\", \"back\"], [\"Forward\", \"Forward to next view\", \"fa fa-arrow-right icon-arrow-right\", \"forward\"], [\"\", \"\", \"\", \"\"], [\"Pan\", \"Left button pans, Right button zooms\\nx/y fixes axis, CTRL fixes aspect\", \"fa fa-arrows icon-move\", \"pan\"], [\"Zoom\", \"Zoom to rectangle\\nx/y fixes axis, CTRL fixes aspect\", \"fa fa-square-o icon-check-empty\", \"zoom\"], [\"\", \"\", \"\", \"\"], [\"Download\", \"Download plot\", \"fa fa-floppy-o icon-save\", \"download\"]];\n",
       "\n",
       "mpl.extensions = [\"eps\", \"jpeg\", \"pgf\", \"pdf\", \"png\", \"ps\", \"raw\", \"svg\", \"tif\"];\n",
       "\n",
       "mpl.default_extension = \"png\";/* global mpl */\n",
       "\n",
       "var comm_websocket_adapter = function (comm) {\n",
       "    // Create a \"websocket\"-like object which calls the given IPython comm\n",
       "    // object with the appropriate methods. Currently this is a non binary\n",
       "    // socket, so there is still some room for performance tuning.\n",
       "    var ws = {};\n",
       "\n",
       "    ws.binaryType = comm.kernel.ws.binaryType;\n",
       "    ws.readyState = comm.kernel.ws.readyState;\n",
       "    function updateReadyState(_event) {\n",
       "        if (comm.kernel.ws) {\n",
       "            ws.readyState = comm.kernel.ws.readyState;\n",
       "        } else {\n",
       "            ws.readyState = 3; // Closed state.\n",
       "        }\n",
       "    }\n",
       "    comm.kernel.ws.addEventListener('open', updateReadyState);\n",
       "    comm.kernel.ws.addEventListener('close', updateReadyState);\n",
       "    comm.kernel.ws.addEventListener('error', updateReadyState);\n",
       "\n",
       "    ws.close = function () {\n",
       "        comm.close();\n",
       "    };\n",
       "    ws.send = function (m) {\n",
       "        //console.log('sending', m);\n",
       "        comm.send(m);\n",
       "    };\n",
       "    // Register the callback with on_msg.\n",
       "    comm.on_msg(function (msg) {\n",
       "        //console.log('receiving', msg['content']['data'], msg);\n",
       "        var data = msg['content']['data'];\n",
       "        if (data['blob'] !== undefined) {\n",
       "            data = {\n",
       "                data: new Blob(msg['buffers'], { type: data['blob'] }),\n",
       "            };\n",
       "        }\n",
       "        // Pass the mpl event to the overridden (by mpl) onmessage function.\n",
       "        ws.onmessage(data);\n",
       "    });\n",
       "    return ws;\n",
       "};\n",
       "\n",
       "mpl.mpl_figure_comm = function (comm, msg) {\n",
       "    // This is the function which gets called when the mpl process\n",
       "    // starts-up an IPython Comm through the \"matplotlib\" channel.\n",
       "\n",
       "    var id = msg.content.data.id;\n",
       "    // Get hold of the div created by the display call when the Comm\n",
       "    // socket was opened in Python.\n",
       "    var element = document.getElementById(id);\n",
       "    var ws_proxy = comm_websocket_adapter(comm);\n",
       "\n",
       "    function ondownload(figure, _format) {\n",
       "        window.open(figure.canvas.toDataURL());\n",
       "    }\n",
       "\n",
       "    var fig = new mpl.figure(id, ws_proxy, ondownload, element);\n",
       "\n",
       "    // Call onopen now - mpl needs it, as it is assuming we've passed it a real\n",
       "    // web socket which is closed, not our websocket->open comm proxy.\n",
       "    ws_proxy.onopen();\n",
       "\n",
       "    fig.parent_element = element;\n",
       "    fig.cell_info = mpl.find_output_cell(\"<div id='\" + id + \"'></div>\");\n",
       "    if (!fig.cell_info) {\n",
       "        console.error('Failed to find cell for figure', id, fig);\n",
       "        return;\n",
       "    }\n",
       "    fig.cell_info[0].output_area.element.on(\n",
       "        'cleared',\n",
       "        { fig: fig },\n",
       "        fig._remove_fig_handler\n",
       "    );\n",
       "};\n",
       "\n",
       "mpl.figure.prototype.handle_close = function (fig, msg) {\n",
       "    var width = fig.canvas.width / fig.ratio;\n",
       "    fig.cell_info[0].output_area.element.off(\n",
       "        'cleared',\n",
       "        fig._remove_fig_handler\n",
       "    );\n",
       "    fig.resizeObserverInstance.unobserve(fig.canvas_div);\n",
       "\n",
       "    // Update the output cell to use the data from the current canvas.\n",
       "    fig.push_to_output();\n",
       "    var dataURL = fig.canvas.toDataURL();\n",
       "    // Re-enable the keyboard manager in IPython - without this line, in FF,\n",
       "    // the notebook keyboard shortcuts fail.\n",
       "    IPython.keyboard_manager.enable();\n",
       "    fig.parent_element.innerHTML =\n",
       "        '<img src=\"' + dataURL + '\" width=\"' + width + '\">';\n",
       "    fig.close_ws(fig, msg);\n",
       "};\n",
       "\n",
       "mpl.figure.prototype.close_ws = function (fig, msg) {\n",
       "    fig.send_message('closing', msg);\n",
       "    // fig.ws.close()\n",
       "};\n",
       "\n",
       "mpl.figure.prototype.push_to_output = function (_remove_interactive) {\n",
       "    // Turn the data on the canvas into data in the output cell.\n",
       "    var width = this.canvas.width / this.ratio;\n",
       "    var dataURL = this.canvas.toDataURL();\n",
       "    this.cell_info[1]['text/html'] =\n",
       "        '<img src=\"' + dataURL + '\" width=\"' + width + '\">';\n",
       "};\n",
       "\n",
       "mpl.figure.prototype.updated_canvas_event = function () {\n",
       "    // Tell IPython that the notebook contents must change.\n",
       "    IPython.notebook.set_dirty(true);\n",
       "    this.send_message('ack', {});\n",
       "    var fig = this;\n",
       "    // Wait a second, then push the new image to the DOM so\n",
       "    // that it is saved nicely (might be nice to debounce this).\n",
       "    setTimeout(function () {\n",
       "        fig.push_to_output();\n",
       "    }, 1000);\n",
       "};\n",
       "\n",
       "mpl.figure.prototype._init_toolbar = function () {\n",
       "    var fig = this;\n",
       "\n",
       "    var toolbar = document.createElement('div');\n",
       "    toolbar.classList = 'btn-toolbar';\n",
       "    this.root.appendChild(toolbar);\n",
       "\n",
       "    function on_click_closure(name) {\n",
       "        return function (_event) {\n",
       "            return fig.toolbar_button_onclick(name);\n",
       "        };\n",
       "    }\n",
       "\n",
       "    function on_mouseover_closure(tooltip) {\n",
       "        return function (event) {\n",
       "            if (!event.currentTarget.disabled) {\n",
       "                return fig.toolbar_button_onmouseover(tooltip);\n",
       "            }\n",
       "        };\n",
       "    }\n",
       "\n",
       "    fig.buttons = {};\n",
       "    var buttonGroup = document.createElement('div');\n",
       "    buttonGroup.classList = 'btn-group';\n",
       "    var button;\n",
       "    for (var toolbar_ind in mpl.toolbar_items) {\n",
       "        var name = mpl.toolbar_items[toolbar_ind][0];\n",
       "        var tooltip = mpl.toolbar_items[toolbar_ind][1];\n",
       "        var image = mpl.toolbar_items[toolbar_ind][2];\n",
       "        var method_name = mpl.toolbar_items[toolbar_ind][3];\n",
       "\n",
       "        if (!name) {\n",
       "            /* Instead of a spacer, we start a new button group. */\n",
       "            if (buttonGroup.hasChildNodes()) {\n",
       "                toolbar.appendChild(buttonGroup);\n",
       "            }\n",
       "            buttonGroup = document.createElement('div');\n",
       "            buttonGroup.classList = 'btn-group';\n",
       "            continue;\n",
       "        }\n",
       "\n",
       "        button = fig.buttons[name] = document.createElement('button');\n",
       "        button.classList = 'btn btn-default';\n",
       "        button.href = '#';\n",
       "        button.title = name;\n",
       "        button.innerHTML = '<i class=\"fa ' + image + ' fa-lg\"></i>';\n",
       "        button.addEventListener('click', on_click_closure(method_name));\n",
       "        button.addEventListener('mouseover', on_mouseover_closure(tooltip));\n",
       "        buttonGroup.appendChild(button);\n",
       "    }\n",
       "\n",
       "    if (buttonGroup.hasChildNodes()) {\n",
       "        toolbar.appendChild(buttonGroup);\n",
       "    }\n",
       "\n",
       "    // Add the status bar.\n",
       "    var status_bar = document.createElement('span');\n",
       "    status_bar.classList = 'mpl-message pull-right';\n",
       "    toolbar.appendChild(status_bar);\n",
       "    this.message = status_bar;\n",
       "\n",
       "    // Add the close button to the window.\n",
       "    var buttongrp = document.createElement('div');\n",
       "    buttongrp.classList = 'btn-group inline pull-right';\n",
       "    button = document.createElement('button');\n",
       "    button.classList = 'btn btn-mini btn-primary';\n",
       "    button.href = '#';\n",
       "    button.title = 'Stop Interaction';\n",
       "    button.innerHTML = '<i class=\"fa fa-power-off icon-remove icon-large\"></i>';\n",
       "    button.addEventListener('click', function (_evt) {\n",
       "        fig.handle_close(fig, {});\n",
       "    });\n",
       "    button.addEventListener(\n",
       "        'mouseover',\n",
       "        on_mouseover_closure('Stop Interaction')\n",
       "    );\n",
       "    buttongrp.appendChild(button);\n",
       "    var titlebar = this.root.querySelector('.ui-dialog-titlebar');\n",
       "    titlebar.insertBefore(buttongrp, titlebar.firstChild);\n",
       "};\n",
       "\n",
       "mpl.figure.prototype._remove_fig_handler = function (event) {\n",
       "    var fig = event.data.fig;\n",
       "    if (event.target !== this) {\n",
       "        // Ignore bubbled events from children.\n",
       "        return;\n",
       "    }\n",
       "    fig.close_ws(fig, {});\n",
       "};\n",
       "\n",
       "mpl.figure.prototype._root_extra_style = function (el) {\n",
       "    el.style.boxSizing = 'content-box'; // override notebook setting of border-box.\n",
       "};\n",
       "\n",
       "mpl.figure.prototype._canvas_extra_style = function (el) {\n",
       "    // this is important to make the div 'focusable\n",
       "    el.setAttribute('tabindex', 0);\n",
       "    // reach out to IPython and tell the keyboard manager to turn it's self\n",
       "    // off when our div gets focus\n",
       "\n",
       "    // location in version 3\n",
       "    if (IPython.notebook.keyboard_manager) {\n",
       "        IPython.notebook.keyboard_manager.register_events(el);\n",
       "    } else {\n",
       "        // location in version 2\n",
       "        IPython.keyboard_manager.register_events(el);\n",
       "    }\n",
       "};\n",
       "\n",
       "mpl.figure.prototype._key_event_extra = function (event, _name) {\n",
       "    var manager = IPython.notebook.keyboard_manager;\n",
       "    if (!manager) {\n",
       "        manager = IPython.keyboard_manager;\n",
       "    }\n",
       "\n",
       "    // Check for shift+enter\n",
       "    if (event.shiftKey && event.which === 13) {\n",
       "        this.canvas_div.blur();\n",
       "        // select the cell after this one\n",
       "        var index = IPython.notebook.find_cell_index(this.cell_info[0]);\n",
       "        IPython.notebook.select(index + 1);\n",
       "    }\n",
       "};\n",
       "\n",
       "mpl.figure.prototype.handle_save = function (fig, _msg) {\n",
       "    fig.ondownload(fig, null);\n",
       "};\n",
       "\n",
       "mpl.find_output_cell = function (html_output) {\n",
       "    // Return the cell and output element which can be found *uniquely* in the notebook.\n",
       "    // Note - this is a bit hacky, but it is done because the \"notebook_saving.Notebook\"\n",
       "    // IPython event is triggered only after the cells have been serialised, which for\n",
       "    // our purposes (turning an active figure into a static one), is too late.\n",
       "    var cells = IPython.notebook.get_cells();\n",
       "    var ncells = cells.length;\n",
       "    for (var i = 0; i < ncells; i++) {\n",
       "        var cell = cells[i];\n",
       "        if (cell.cell_type === 'code') {\n",
       "            for (var j = 0; j < cell.output_area.outputs.length; j++) {\n",
       "                var data = cell.output_area.outputs[j];\n",
       "                if (data.data) {\n",
       "                    // IPython >= 3 moved mimebundle to data attribute of output\n",
       "                    data = data.data;\n",
       "                }\n",
       "                if (data['text/html'] === html_output) {\n",
       "                    return [cell, data, j];\n",
       "                }\n",
       "            }\n",
       "        }\n",
       "    }\n",
       "};\n",
       "\n",
       "// Register the function which deals with the matplotlib target/channel.\n",
       "// The kernel may be null if the page has been refreshed.\n",
       "if (IPython.notebook.kernel !== null) {\n",
       "    IPython.notebook.kernel.comm_manager.register_target(\n",
       "        'matplotlib',\n",
       "        mpl.mpl_figure_comm\n",
       "    );\n",
       "}\n"
      ],
      "text/plain": [
       "<IPython.core.display.Javascript object>"
      ]
     },
     "metadata": {},
     "output_type": "display_data"
    },
    {
     "data": {
      "text/html": [
       "<img src=\"data:image/png;base64,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\" width=\"500\">"
      ],
      "text/plain": [
       "<IPython.core.display.HTML object>"
      ]
     },
     "metadata": {},
     "output_type": "display_data"
    }
   ],
   "source": [
    "%matplotlib notebook \n",
    "# or widget \n",
    "\n",
    "import numpy as np\n",
    "import matplotlib.pyplot as plt\n",
    "\n",
    "# define an array x of 32 uniformly spaced floating point\n",
    "# values from 0 to 4π\n",
    "x = np.linspace(0,4*np.pi,32)\n",
    "\n",
    "# define y as the array containing the sine values from x\n",
    "y = np.sin(x)\n",
    "\n",
    "# make a plot \n",
    "fig = plt.figure(figsize=(5,3))\n",
    "plt.plot(x, y)\n",
    "plt.show()"
   ]
  },
  {
   "cell_type": "markdown",
   "id": "interesting-withdrawal",
   "metadata": {},
   "source": [
    "In the interative plot, there are toolbar icons, including stop, home, backward, forward, pan, zoom and save.\n",
    "- Stop: Stop interative plot mode\n",
    "- Home: Reset original view\n",
    "- Pan: Left button pans, Right button zooms x/y fixes axis, CTRL fixes aspect\n",
    "- Back: Back to previous view\n",
    "- Forward: Forward to next view\n",
    "- Zoom: Zoom to x/y fixes axis, CTRL fixes aspect\n",
    "- Save: Save as or download plot"
   ]
  },
  {
   "cell_type": "markdown",
   "id": "23854a7e",
   "metadata": {},
   "source": [
    "**Problem**: %matplotlib notebook failed to download figures (https://github.com/matplotlib/matplotlib/issues/9117). This is because Chrome removed the ability for pages to open \"data:\"."
   ]
  },
  {
   "cell_type": "markdown",
   "id": "fa0f2eb7",
   "metadata": {},
   "source": [
    "## 22.2 3D interative Plots\n",
    "To make the 3D plots interactive, we should install another library called `ipympl`i.e. interactive python matplotlib"
   ]
  },
  {
   "cell_type": "code",
   "execution_count": null,
   "id": "bf5a6835",
   "metadata": {},
   "outputs": [],
   "source": [
    "!pip install ipympl"
   ]
  },
  {
   "cell_type": "code",
   "execution_count": 41,
   "id": "9d83767b",
   "metadata": {},
   "outputs": [
    {
     "data": {
      "application/javascript": [
       "/* Put everything inside the global mpl namespace */\n",
       "/* global mpl */\n",
       "window.mpl = {};\n",
       "\n",
       "mpl.get_websocket_type = function () {\n",
       "    if (typeof WebSocket !== 'undefined') {\n",
       "        return WebSocket;\n",
       "    } else if (typeof MozWebSocket !== 'undefined') {\n",
       "        return MozWebSocket;\n",
       "    } else {\n",
       "        alert(\n",
       "            'Your browser does not have WebSocket support. ' +\n",
       "                'Please try Chrome, Safari or Firefox ≥ 6. ' +\n",
       "                'Firefox 4 and 5 are also supported but you ' +\n",
       "                'have to enable WebSockets in about:config.'\n",
       "        );\n",
       "    }\n",
       "};\n",
       "\n",
       "mpl.figure = function (figure_id, websocket, ondownload, parent_element) {\n",
       "    this.id = figure_id;\n",
       "\n",
       "    this.ws = websocket;\n",
       "\n",
       "    this.supports_binary = this.ws.binaryType !== undefined;\n",
       "\n",
       "    if (!this.supports_binary) {\n",
       "        var warnings = document.getElementById('mpl-warnings');\n",
       "        if (warnings) {\n",
       "            warnings.style.display = 'block';\n",
       "            warnings.textContent =\n",
       "                'This browser does not support binary websocket messages. ' +\n",
       "                'Performance may be slow.';\n",
       "        }\n",
       "    }\n",
       "\n",
       "    this.imageObj = new Image();\n",
       "\n",
       "    this.context = undefined;\n",
       "    this.message = undefined;\n",
       "    this.canvas = undefined;\n",
       "    this.rubberband_canvas = undefined;\n",
       "    this.rubberband_context = undefined;\n",
       "    this.format_dropdown = undefined;\n",
       "\n",
       "    this.image_mode = 'full';\n",
       "\n",
       "    this.root = document.createElement('div');\n",
       "    this.root.setAttribute('style', 'display: inline-block');\n",
       "    this._root_extra_style(this.root);\n",
       "\n",
       "    parent_element.appendChild(this.root);\n",
       "\n",
       "    this._init_header(this);\n",
       "    this._init_canvas(this);\n",
       "    this._init_toolbar(this);\n",
       "\n",
       "    var fig = this;\n",
       "\n",
       "    this.waiting = false;\n",
       "\n",
       "    this.ws.onopen = function () {\n",
       "        fig.send_message('supports_binary', { value: fig.supports_binary });\n",
       "        fig.send_message('send_image_mode', {});\n",
       "        if (fig.ratio !== 1) {\n",
       "            fig.send_message('set_dpi_ratio', { dpi_ratio: fig.ratio });\n",
       "        }\n",
       "        fig.send_message('refresh', {});\n",
       "    };\n",
       "\n",
       "    this.imageObj.onload = function () {\n",
       "        if (fig.image_mode === 'full') {\n",
       "            // Full images could contain transparency (where diff images\n",
       "            // almost always do), so we need to clear the canvas so that\n",
       "            // there is no ghosting.\n",
       "            fig.context.clearRect(0, 0, fig.canvas.width, fig.canvas.height);\n",
       "        }\n",
       "        fig.context.drawImage(fig.imageObj, 0, 0);\n",
       "    };\n",
       "\n",
       "    this.imageObj.onunload = function () {\n",
       "        fig.ws.close();\n",
       "    };\n",
       "\n",
       "    this.ws.onmessage = this._make_on_message_function(this);\n",
       "\n",
       "    this.ondownload = ondownload;\n",
       "};\n",
       "\n",
       "mpl.figure.prototype._init_header = function () {\n",
       "    var titlebar = document.createElement('div');\n",
       "    titlebar.classList =\n",
       "        'ui-dialog-titlebar ui-widget-header ui-corner-all ui-helper-clearfix';\n",
       "    var titletext = document.createElement('div');\n",
       "    titletext.classList = 'ui-dialog-title';\n",
       "    titletext.setAttribute(\n",
       "        'style',\n",
       "        'width: 100%; text-align: center; padding: 3px;'\n",
       "    );\n",
       "    titlebar.appendChild(titletext);\n",
       "    this.root.appendChild(titlebar);\n",
       "    this.header = titletext;\n",
       "};\n",
       "\n",
       "mpl.figure.prototype._canvas_extra_style = function (_canvas_div) {};\n",
       "\n",
       "mpl.figure.prototype._root_extra_style = function (_canvas_div) {};\n",
       "\n",
       "mpl.figure.prototype._init_canvas = function () {\n",
       "    var fig = this;\n",
       "\n",
       "    var canvas_div = (this.canvas_div = document.createElement('div'));\n",
       "    canvas_div.setAttribute(\n",
       "        'style',\n",
       "        'border: 1px solid #ddd;' +\n",
       "            'box-sizing: content-box;' +\n",
       "            'clear: both;' +\n",
       "            'min-height: 1px;' +\n",
       "            'min-width: 1px;' +\n",
       "            'outline: 0;' +\n",
       "            'overflow: hidden;' +\n",
       "            'position: relative;' +\n",
       "            'resize: both;'\n",
       "    );\n",
       "\n",
       "    function on_keyboard_event_closure(name) {\n",
       "        return function (event) {\n",
       "            return fig.key_event(event, name);\n",
       "        };\n",
       "    }\n",
       "\n",
       "    canvas_div.addEventListener(\n",
       "        'keydown',\n",
       "        on_keyboard_event_closure('key_press')\n",
       "    );\n",
       "    canvas_div.addEventListener(\n",
       "        'keyup',\n",
       "        on_keyboard_event_closure('key_release')\n",
       "    );\n",
       "\n",
       "    this._canvas_extra_style(canvas_div);\n",
       "    this.root.appendChild(canvas_div);\n",
       "\n",
       "    var canvas = (this.canvas = document.createElement('canvas'));\n",
       "    canvas.classList.add('mpl-canvas');\n",
       "    canvas.setAttribute('style', 'box-sizing: content-box;');\n",
       "\n",
       "    this.context = canvas.getContext('2d');\n",
       "\n",
       "    var backingStore =\n",
       "        this.context.backingStorePixelRatio ||\n",
       "        this.context.webkitBackingStorePixelRatio ||\n",
       "        this.context.mozBackingStorePixelRatio ||\n",
       "        this.context.msBackingStorePixelRatio ||\n",
       "        this.context.oBackingStorePixelRatio ||\n",
       "        this.context.backingStorePixelRatio ||\n",
       "        1;\n",
       "\n",
       "    this.ratio = (window.devicePixelRatio || 1) / backingStore;\n",
       "\n",
       "    var rubberband_canvas = (this.rubberband_canvas = document.createElement(\n",
       "        'canvas'\n",
       "    ));\n",
       "    rubberband_canvas.setAttribute(\n",
       "        'style',\n",
       "        'box-sizing: content-box; position: absolute; left: 0; top: 0; z-index: 1;'\n",
       "    );\n",
       "\n",
       "    // Apply a ponyfill if ResizeObserver is not implemented by browser.\n",
       "    if (this.ResizeObserver === undefined) {\n",
       "        if (window.ResizeObserver !== undefined) {\n",
       "            this.ResizeObserver = window.ResizeObserver;\n",
       "        } else {\n",
       "            var obs = _JSXTOOLS_RESIZE_OBSERVER({});\n",
       "            this.ResizeObserver = obs.ResizeObserver;\n",
       "        }\n",
       "    }\n",
       "\n",
       "    this.resizeObserverInstance = new this.ResizeObserver(function (entries) {\n",
       "        var nentries = entries.length;\n",
       "        for (var i = 0; i < nentries; i++) {\n",
       "            var entry = entries[i];\n",
       "            var width, height;\n",
       "            if (entry.contentBoxSize) {\n",
       "                if (entry.contentBoxSize instanceof Array) {\n",
       "                    // Chrome 84 implements new version of spec.\n",
       "                    width = entry.contentBoxSize[0].inlineSize;\n",
       "                    height = entry.contentBoxSize[0].blockSize;\n",
       "                } else {\n",
       "                    // Firefox implements old version of spec.\n",
       "                    width = entry.contentBoxSize.inlineSize;\n",
       "                    height = entry.contentBoxSize.blockSize;\n",
       "                }\n",
       "            } else {\n",
       "                // Chrome <84 implements even older version of spec.\n",
       "                width = entry.contentRect.width;\n",
       "                height = entry.contentRect.height;\n",
       "            }\n",
       "\n",
       "            // Keep the size of the canvas and rubber band canvas in sync with\n",
       "            // the canvas container.\n",
       "            if (entry.devicePixelContentBoxSize) {\n",
       "                // Chrome 84 implements new version of spec.\n",
       "                canvas.setAttribute(\n",
       "                    'width',\n",
       "                    entry.devicePixelContentBoxSize[0].inlineSize\n",
       "                );\n",
       "                canvas.setAttribute(\n",
       "                    'height',\n",
       "                    entry.devicePixelContentBoxSize[0].blockSize\n",
       "                );\n",
       "            } else {\n",
       "                canvas.setAttribute('width', width * fig.ratio);\n",
       "                canvas.setAttribute('height', height * fig.ratio);\n",
       "            }\n",
       "            canvas.setAttribute(\n",
       "                'style',\n",
       "                'width: ' + width + 'px; height: ' + height + 'px;'\n",
       "            );\n",
       "\n",
       "            rubberband_canvas.setAttribute('width', width);\n",
       "            rubberband_canvas.setAttribute('height', height);\n",
       "\n",
       "            // And update the size in Python. We ignore the initial 0/0 size\n",
       "            // that occurs as the element is placed into the DOM, which should\n",
       "            // otherwise not happen due to the minimum size styling.\n",
       "            if (fig.ws.readyState == 1 && width != 0 && height != 0) {\n",
       "                fig.request_resize(width, height);\n",
       "            }\n",
       "        }\n",
       "    });\n",
       "    this.resizeObserverInstance.observe(canvas_div);\n",
       "\n",
       "    function on_mouse_event_closure(name) {\n",
       "        return function (event) {\n",
       "            return fig.mouse_event(event, name);\n",
       "        };\n",
       "    }\n",
       "\n",
       "    rubberband_canvas.addEventListener(\n",
       "        'mousedown',\n",
       "        on_mouse_event_closure('button_press')\n",
       "    );\n",
       "    rubberband_canvas.addEventListener(\n",
       "        'mouseup',\n",
       "        on_mouse_event_closure('button_release')\n",
       "    );\n",
       "    rubberband_canvas.addEventListener(\n",
       "        'dblclick',\n",
       "        on_mouse_event_closure('dblclick')\n",
       "    );\n",
       "    // Throttle sequential mouse events to 1 every 20ms.\n",
       "    rubberband_canvas.addEventListener(\n",
       "        'mousemove',\n",
       "        on_mouse_event_closure('motion_notify')\n",
       "    );\n",
       "\n",
       "    rubberband_canvas.addEventListener(\n",
       "        'mouseenter',\n",
       "        on_mouse_event_closure('figure_enter')\n",
       "    );\n",
       "    rubberband_canvas.addEventListener(\n",
       "        'mouseleave',\n",
       "        on_mouse_event_closure('figure_leave')\n",
       "    );\n",
       "\n",
       "    canvas_div.addEventListener('wheel', function (event) {\n",
       "        if (event.deltaY < 0) {\n",
       "            event.step = 1;\n",
       "        } else {\n",
       "            event.step = -1;\n",
       "        }\n",
       "        on_mouse_event_closure('scroll')(event);\n",
       "    });\n",
       "\n",
       "    canvas_div.appendChild(canvas);\n",
       "    canvas_div.appendChild(rubberband_canvas);\n",
       "\n",
       "    this.rubberband_context = rubberband_canvas.getContext('2d');\n",
       "    this.rubberband_context.strokeStyle = '#000000';\n",
       "\n",
       "    this._resize_canvas = function (width, height, forward) {\n",
       "        if (forward) {\n",
       "            canvas_div.style.width = width + 'px';\n",
       "            canvas_div.style.height = height + 'px';\n",
       "        }\n",
       "    };\n",
       "\n",
       "    // Disable right mouse context menu.\n",
       "    this.rubberband_canvas.addEventListener('contextmenu', function (_e) {\n",
       "        event.preventDefault();\n",
       "        return false;\n",
       "    });\n",
       "\n",
       "    function set_focus() {\n",
       "        canvas.focus();\n",
       "        canvas_div.focus();\n",
       "    }\n",
       "\n",
       "    window.setTimeout(set_focus, 100);\n",
       "};\n",
       "\n",
       "mpl.figure.prototype._init_toolbar = function () {\n",
       "    var fig = this;\n",
       "\n",
       "    var toolbar = document.createElement('div');\n",
       "    toolbar.classList = 'mpl-toolbar';\n",
       "    this.root.appendChild(toolbar);\n",
       "\n",
       "    function on_click_closure(name) {\n",
       "        return function (_event) {\n",
       "            return fig.toolbar_button_onclick(name);\n",
       "        };\n",
       "    }\n",
       "\n",
       "    function on_mouseover_closure(tooltip) {\n",
       "        return function (event) {\n",
       "            if (!event.currentTarget.disabled) {\n",
       "                return fig.toolbar_button_onmouseover(tooltip);\n",
       "            }\n",
       "        };\n",
       "    }\n",
       "\n",
       "    fig.buttons = {};\n",
       "    var buttonGroup = document.createElement('div');\n",
       "    buttonGroup.classList = 'mpl-button-group';\n",
       "    for (var toolbar_ind in mpl.toolbar_items) {\n",
       "        var name = mpl.toolbar_items[toolbar_ind][0];\n",
       "        var tooltip = mpl.toolbar_items[toolbar_ind][1];\n",
       "        var image = mpl.toolbar_items[toolbar_ind][2];\n",
       "        var method_name = mpl.toolbar_items[toolbar_ind][3];\n",
       "\n",
       "        if (!name) {\n",
       "            /* Instead of a spacer, we start a new button group. */\n",
       "            if (buttonGroup.hasChildNodes()) {\n",
       "                toolbar.appendChild(buttonGroup);\n",
       "            }\n",
       "            buttonGroup = document.createElement('div');\n",
       "            buttonGroup.classList = 'mpl-button-group';\n",
       "            continue;\n",
       "        }\n",
       "\n",
       "        var button = (fig.buttons[name] = document.createElement('button'));\n",
       "        button.classList = 'mpl-widget';\n",
       "        button.setAttribute('role', 'button');\n",
       "        button.setAttribute('aria-disabled', 'false');\n",
       "        button.addEventListener('click', on_click_closure(method_name));\n",
       "        button.addEventListener('mouseover', on_mouseover_closure(tooltip));\n",
       "\n",
       "        var icon_img = document.createElement('img');\n",
       "        icon_img.src = '_images/' + image + '.png';\n",
       "        icon_img.srcset = '_images/' + image + '_large.png 2x';\n",
       "        icon_img.alt = tooltip;\n",
       "        button.appendChild(icon_img);\n",
       "\n",
       "        buttonGroup.appendChild(button);\n",
       "    }\n",
       "\n",
       "    if (buttonGroup.hasChildNodes()) {\n",
       "        toolbar.appendChild(buttonGroup);\n",
       "    }\n",
       "\n",
       "    var fmt_picker = document.createElement('select');\n",
       "    fmt_picker.classList = 'mpl-widget';\n",
       "    toolbar.appendChild(fmt_picker);\n",
       "    this.format_dropdown = fmt_picker;\n",
       "\n",
       "    for (var ind in mpl.extensions) {\n",
       "        var fmt = mpl.extensions[ind];\n",
       "        var option = document.createElement('option');\n",
       "        option.selected = fmt === mpl.default_extension;\n",
       "        option.innerHTML = fmt;\n",
       "        fmt_picker.appendChild(option);\n",
       "    }\n",
       "\n",
       "    var status_bar = document.createElement('span');\n",
       "    status_bar.classList = 'mpl-message';\n",
       "    toolbar.appendChild(status_bar);\n",
       "    this.message = status_bar;\n",
       "};\n",
       "\n",
       "mpl.figure.prototype.request_resize = function (x_pixels, y_pixels) {\n",
       "    // Request matplotlib to resize the figure. Matplotlib will then trigger a resize in the client,\n",
       "    // which will in turn request a refresh of the image.\n",
       "    this.send_message('resize', { width: x_pixels, height: y_pixels });\n",
       "};\n",
       "\n",
       "mpl.figure.prototype.send_message = function (type, properties) {\n",
       "    properties['type'] = type;\n",
       "    properties['figure_id'] = this.id;\n",
       "    this.ws.send(JSON.stringify(properties));\n",
       "};\n",
       "\n",
       "mpl.figure.prototype.send_draw_message = function () {\n",
       "    if (!this.waiting) {\n",
       "        this.waiting = true;\n",
       "        this.ws.send(JSON.stringify({ type: 'draw', figure_id: this.id }));\n",
       "    }\n",
       "};\n",
       "\n",
       "mpl.figure.prototype.handle_save = function (fig, _msg) {\n",
       "    var format_dropdown = fig.format_dropdown;\n",
       "    var format = format_dropdown.options[format_dropdown.selectedIndex].value;\n",
       "    fig.ondownload(fig, format);\n",
       "};\n",
       "\n",
       "mpl.figure.prototype.handle_resize = function (fig, msg) {\n",
       "    var size = msg['size'];\n",
       "    if (size[0] !== fig.canvas.width || size[1] !== fig.canvas.height) {\n",
       "        fig._resize_canvas(size[0], size[1], msg['forward']);\n",
       "        fig.send_message('refresh', {});\n",
       "    }\n",
       "};\n",
       "\n",
       "mpl.figure.prototype.handle_rubberband = function (fig, msg) {\n",
       "    var x0 = msg['x0'] / fig.ratio;\n",
       "    var y0 = (fig.canvas.height - msg['y0']) / fig.ratio;\n",
       "    var x1 = msg['x1'] / fig.ratio;\n",
       "    var y1 = (fig.canvas.height - msg['y1']) / fig.ratio;\n",
       "    x0 = Math.floor(x0) + 0.5;\n",
       "    y0 = Math.floor(y0) + 0.5;\n",
       "    x1 = Math.floor(x1) + 0.5;\n",
       "    y1 = Math.floor(y1) + 0.5;\n",
       "    var min_x = Math.min(x0, x1);\n",
       "    var min_y = Math.min(y0, y1);\n",
       "    var width = Math.abs(x1 - x0);\n",
       "    var height = Math.abs(y1 - y0);\n",
       "\n",
       "    fig.rubberband_context.clearRect(\n",
       "        0,\n",
       "        0,\n",
       "        fig.canvas.width / fig.ratio,\n",
       "        fig.canvas.height / fig.ratio\n",
       "    );\n",
       "\n",
       "    fig.rubberband_context.strokeRect(min_x, min_y, width, height);\n",
       "};\n",
       "\n",
       "mpl.figure.prototype.handle_figure_label = function (fig, msg) {\n",
       "    // Updates the figure title.\n",
       "    fig.header.textContent = msg['label'];\n",
       "};\n",
       "\n",
       "mpl.figure.prototype.handle_cursor = function (fig, msg) {\n",
       "    var cursor = msg['cursor'];\n",
       "    switch (cursor) {\n",
       "        case 0:\n",
       "            cursor = 'pointer';\n",
       "            break;\n",
       "        case 1:\n",
       "            cursor = 'default';\n",
       "            break;\n",
       "        case 2:\n",
       "            cursor = 'crosshair';\n",
       "            break;\n",
       "        case 3:\n",
       "            cursor = 'move';\n",
       "            break;\n",
       "    }\n",
       "    fig.rubberband_canvas.style.cursor = cursor;\n",
       "};\n",
       "\n",
       "mpl.figure.prototype.handle_message = function (fig, msg) {\n",
       "    fig.message.textContent = msg['message'];\n",
       "};\n",
       "\n",
       "mpl.figure.prototype.handle_draw = function (fig, _msg) {\n",
       "    // Request the server to send over a new figure.\n",
       "    fig.send_draw_message();\n",
       "};\n",
       "\n",
       "mpl.figure.prototype.handle_image_mode = function (fig, msg) {\n",
       "    fig.image_mode = msg['mode'];\n",
       "};\n",
       "\n",
       "mpl.figure.prototype.handle_history_buttons = function (fig, msg) {\n",
       "    for (var key in msg) {\n",
       "        if (!(key in fig.buttons)) {\n",
       "            continue;\n",
       "        }\n",
       "        fig.buttons[key].disabled = !msg[key];\n",
       "        fig.buttons[key].setAttribute('aria-disabled', !msg[key]);\n",
       "    }\n",
       "};\n",
       "\n",
       "mpl.figure.prototype.handle_navigate_mode = function (fig, msg) {\n",
       "    if (msg['mode'] === 'PAN') {\n",
       "        fig.buttons['Pan'].classList.add('active');\n",
       "        fig.buttons['Zoom'].classList.remove('active');\n",
       "    } else if (msg['mode'] === 'ZOOM') {\n",
       "        fig.buttons['Pan'].classList.remove('active');\n",
       "        fig.buttons['Zoom'].classList.add('active');\n",
       "    } else {\n",
       "        fig.buttons['Pan'].classList.remove('active');\n",
       "        fig.buttons['Zoom'].classList.remove('active');\n",
       "    }\n",
       "};\n",
       "\n",
       "mpl.figure.prototype.updated_canvas_event = function () {\n",
       "    // Called whenever the canvas gets updated.\n",
       "    this.send_message('ack', {});\n",
       "};\n",
       "\n",
       "// A function to construct a web socket function for onmessage handling.\n",
       "// Called in the figure constructor.\n",
       "mpl.figure.prototype._make_on_message_function = function (fig) {\n",
       "    return function socket_on_message(evt) {\n",
       "        if (evt.data instanceof Blob) {\n",
       "            var img = evt.data;\n",
       "            if (img.type !== 'image/png') {\n",
       "                /* FIXME: We get \"Resource interpreted as Image but\n",
       "                 * transferred with MIME type text/plain:\" errors on\n",
       "                 * Chrome.  But how to set the MIME type?  It doesn't seem\n",
       "                 * to be part of the websocket stream */\n",
       "                img.type = 'image/png';\n",
       "            }\n",
       "\n",
       "            /* Free the memory for the previous frames */\n",
       "            if (fig.imageObj.src) {\n",
       "                (window.URL || window.webkitURL).revokeObjectURL(\n",
       "                    fig.imageObj.src\n",
       "                );\n",
       "            }\n",
       "\n",
       "            fig.imageObj.src = (window.URL || window.webkitURL).createObjectURL(\n",
       "                img\n",
       "            );\n",
       "            fig.updated_canvas_event();\n",
       "            fig.waiting = false;\n",
       "            return;\n",
       "        } else if (\n",
       "            typeof evt.data === 'string' &&\n",
       "            evt.data.slice(0, 21) === 'data:image/png;base64'\n",
       "        ) {\n",
       "            fig.imageObj.src = evt.data;\n",
       "            fig.updated_canvas_event();\n",
       "            fig.waiting = false;\n",
       "            return;\n",
       "        }\n",
       "\n",
       "        var msg = JSON.parse(evt.data);\n",
       "        var msg_type = msg['type'];\n",
       "\n",
       "        // Call the  \"handle_{type}\" callback, which takes\n",
       "        // the figure and JSON message as its only arguments.\n",
       "        try {\n",
       "            var callback = fig['handle_' + msg_type];\n",
       "        } catch (e) {\n",
       "            console.log(\n",
       "                \"No handler for the '\" + msg_type + \"' message type: \",\n",
       "                msg\n",
       "            );\n",
       "            return;\n",
       "        }\n",
       "\n",
       "        if (callback) {\n",
       "            try {\n",
       "                // console.log(\"Handling '\" + msg_type + \"' message: \", msg);\n",
       "                callback(fig, msg);\n",
       "            } catch (e) {\n",
       "                console.log(\n",
       "                    \"Exception inside the 'handler_\" + msg_type + \"' callback:\",\n",
       "                    e,\n",
       "                    e.stack,\n",
       "                    msg\n",
       "                );\n",
       "            }\n",
       "        }\n",
       "    };\n",
       "};\n",
       "\n",
       "// from http://stackoverflow.com/questions/1114465/getting-mouse-location-in-canvas\n",
       "mpl.findpos = function (e) {\n",
       "    //this section is from http://www.quirksmode.org/js/events_properties.html\n",
       "    var targ;\n",
       "    if (!e) {\n",
       "        e = window.event;\n",
       "    }\n",
       "    if (e.target) {\n",
       "        targ = e.target;\n",
       "    } else if (e.srcElement) {\n",
       "        targ = e.srcElement;\n",
       "    }\n",
       "    if (targ.nodeType === 3) {\n",
       "        // defeat Safari bug\n",
       "        targ = targ.parentNode;\n",
       "    }\n",
       "\n",
       "    // pageX,Y are the mouse positions relative to the document\n",
       "    var boundingRect = targ.getBoundingClientRect();\n",
       "    var x = e.pageX - (boundingRect.left + document.body.scrollLeft);\n",
       "    var y = e.pageY - (boundingRect.top + document.body.scrollTop);\n",
       "\n",
       "    return { x: x, y: y };\n",
       "};\n",
       "\n",
       "/*\n",
       " * return a copy of an object with only non-object keys\n",
       " * we need this to avoid circular references\n",
       " * http://stackoverflow.com/a/24161582/3208463\n",
       " */\n",
       "function simpleKeys(original) {\n",
       "    return Object.keys(original).reduce(function (obj, key) {\n",
       "        if (typeof original[key] !== 'object') {\n",
       "            obj[key] = original[key];\n",
       "        }\n",
       "        return obj;\n",
       "    }, {});\n",
       "}\n",
       "\n",
       "mpl.figure.prototype.mouse_event = function (event, name) {\n",
       "    var canvas_pos = mpl.findpos(event);\n",
       "\n",
       "    if (name === 'button_press') {\n",
       "        this.canvas.focus();\n",
       "        this.canvas_div.focus();\n",
       "    }\n",
       "\n",
       "    var x = canvas_pos.x * this.ratio;\n",
       "    var y = canvas_pos.y * this.ratio;\n",
       "\n",
       "    this.send_message(name, {\n",
       "        x: x,\n",
       "        y: y,\n",
       "        button: event.button,\n",
       "        step: event.step,\n",
       "        guiEvent: simpleKeys(event),\n",
       "    });\n",
       "\n",
       "    /* This prevents the web browser from automatically changing to\n",
       "     * the text insertion cursor when the button is pressed.  We want\n",
       "     * to control all of the cursor setting manually through the\n",
       "     * 'cursor' event from matplotlib */\n",
       "    event.preventDefault();\n",
       "    return false;\n",
       "};\n",
       "\n",
       "mpl.figure.prototype._key_event_extra = function (_event, _name) {\n",
       "    // Handle any extra behaviour associated with a key event\n",
       "};\n",
       "\n",
       "mpl.figure.prototype.key_event = function (event, name) {\n",
       "    // Prevent repeat events\n",
       "    if (name === 'key_press') {\n",
       "        if (event.key === this._key) {\n",
       "            return;\n",
       "        } else {\n",
       "            this._key = event.key;\n",
       "        }\n",
       "    }\n",
       "    if (name === 'key_release') {\n",
       "        this._key = null;\n",
       "    }\n",
       "\n",
       "    var value = '';\n",
       "    if (event.ctrlKey && event.key !== 'Control') {\n",
       "        value += 'ctrl+';\n",
       "    }\n",
       "    else if (event.altKey && event.key !== 'Alt') {\n",
       "        value += 'alt+';\n",
       "    }\n",
       "    else if (event.shiftKey && event.key !== 'Shift') {\n",
       "        value += 'shift+';\n",
       "    }\n",
       "\n",
       "    value += 'k' + event.key;\n",
       "\n",
       "    this._key_event_extra(event, name);\n",
       "\n",
       "    this.send_message(name, { key: value, guiEvent: simpleKeys(event) });\n",
       "    return false;\n",
       "};\n",
       "\n",
       "mpl.figure.prototype.toolbar_button_onclick = function (name) {\n",
       "    if (name === 'download') {\n",
       "        this.handle_save(this, null);\n",
       "    } else {\n",
       "        this.send_message('toolbar_button', { name: name });\n",
       "    }\n",
       "};\n",
       "\n",
       "mpl.figure.prototype.toolbar_button_onmouseover = function (tooltip) {\n",
       "    this.message.textContent = tooltip;\n",
       "};\n",
       "\n",
       "///////////////// REMAINING CONTENT GENERATED BY embed_js.py /////////////////\n",
       "// prettier-ignore\n",
       "var _JSXTOOLS_RESIZE_OBSERVER=function(A){var t,i=new WeakMap,n=new WeakMap,a=new WeakMap,r=new WeakMap,o=new Set;function s(e){if(!(this instanceof s))throw new TypeError(\"Constructor requires 'new' operator\");i.set(this,e)}function h(){throw new TypeError(\"Function is not a constructor\")}function c(e,t,i,n){e=0 in arguments?Number(arguments[0]):0,t=1 in arguments?Number(arguments[1]):0,i=2 in arguments?Number(arguments[2]):0,n=3 in arguments?Number(arguments[3]):0,this.right=(this.x=this.left=e)+(this.width=i),this.bottom=(this.y=this.top=t)+(this.height=n),Object.freeze(this)}function d(){t=requestAnimationFrame(d);var s=new WeakMap,p=new Set;o.forEach((function(t){r.get(t).forEach((function(i){var r=t instanceof window.SVGElement,o=a.get(t),d=r?0:parseFloat(o.paddingTop),f=r?0:parseFloat(o.paddingRight),l=r?0:parseFloat(o.paddingBottom),u=r?0:parseFloat(o.paddingLeft),g=r?0:parseFloat(o.borderTopWidth),m=r?0:parseFloat(o.borderRightWidth),w=r?0:parseFloat(o.borderBottomWidth),b=u+f,F=d+l,v=(r?0:parseFloat(o.borderLeftWidth))+m,W=g+w,y=r?0:t.offsetHeight-W-t.clientHeight,E=r?0:t.offsetWidth-v-t.clientWidth,R=b+v,z=F+W,M=r?t.width:parseFloat(o.width)-R-E,O=r?t.height:parseFloat(o.height)-z-y;if(n.has(t)){var k=n.get(t);if(k[0]===M&&k[1]===O)return}n.set(t,[M,O]);var S=Object.create(h.prototype);S.target=t,S.contentRect=new c(u,d,M,O),s.has(i)||(s.set(i,[]),p.add(i)),s.get(i).push(S)}))})),p.forEach((function(e){i.get(e).call(e,s.get(e),e)}))}return s.prototype.observe=function(i){if(i instanceof window.Element){r.has(i)||(r.set(i,new Set),o.add(i),a.set(i,window.getComputedStyle(i)));var n=r.get(i);n.has(this)||n.add(this),cancelAnimationFrame(t),t=requestAnimationFrame(d)}},s.prototype.unobserve=function(i){if(i instanceof window.Element&&r.has(i)){var n=r.get(i);n.has(this)&&(n.delete(this),n.size||(r.delete(i),o.delete(i))),n.size||r.delete(i),o.size||cancelAnimationFrame(t)}},A.DOMRectReadOnly=c,A.ResizeObserver=s,A.ResizeObserverEntry=h,A}; // eslint-disable-line\n",
       "mpl.toolbar_items = [[\"Home\", \"Reset original view\", \"fa fa-home icon-home\", \"home\"], [\"Back\", \"Back to previous view\", \"fa fa-arrow-left icon-arrow-left\", \"back\"], [\"Forward\", \"Forward to next view\", \"fa fa-arrow-right icon-arrow-right\", \"forward\"], [\"\", \"\", \"\", \"\"], [\"Pan\", \"Left button pans, Right button zooms\\nx/y fixes axis, CTRL fixes aspect\", \"fa fa-arrows icon-move\", \"pan\"], [\"Zoom\", \"Zoom to rectangle\\nx/y fixes axis, CTRL fixes aspect\", \"fa fa-square-o icon-check-empty\", \"zoom\"], [\"\", \"\", \"\", \"\"], [\"Download\", \"Download plot\", \"fa fa-floppy-o icon-save\", \"download\"]];\n",
       "\n",
       "mpl.extensions = [\"eps\", \"jpeg\", \"pgf\", \"pdf\", \"png\", \"ps\", \"raw\", \"svg\", \"tif\"];\n",
       "\n",
       "mpl.default_extension = \"png\";/* global mpl */\n",
       "\n",
       "var comm_websocket_adapter = function (comm) {\n",
       "    // Create a \"websocket\"-like object which calls the given IPython comm\n",
       "    // object with the appropriate methods. Currently this is a non binary\n",
       "    // socket, so there is still some room for performance tuning.\n",
       "    var ws = {};\n",
       "\n",
       "    ws.binaryType = comm.kernel.ws.binaryType;\n",
       "    ws.readyState = comm.kernel.ws.readyState;\n",
       "    function updateReadyState(_event) {\n",
       "        if (comm.kernel.ws) {\n",
       "            ws.readyState = comm.kernel.ws.readyState;\n",
       "        } else {\n",
       "            ws.readyState = 3; // Closed state.\n",
       "        }\n",
       "    }\n",
       "    comm.kernel.ws.addEventListener('open', updateReadyState);\n",
       "    comm.kernel.ws.addEventListener('close', updateReadyState);\n",
       "    comm.kernel.ws.addEventListener('error', updateReadyState);\n",
       "\n",
       "    ws.close = function () {\n",
       "        comm.close();\n",
       "    };\n",
       "    ws.send = function (m) {\n",
       "        //console.log('sending', m);\n",
       "        comm.send(m);\n",
       "    };\n",
       "    // Register the callback with on_msg.\n",
       "    comm.on_msg(function (msg) {\n",
       "        //console.log('receiving', msg['content']['data'], msg);\n",
       "        var data = msg['content']['data'];\n",
       "        if (data['blob'] !== undefined) {\n",
       "            data = {\n",
       "                data: new Blob(msg['buffers'], { type: data['blob'] }),\n",
       "            };\n",
       "        }\n",
       "        // Pass the mpl event to the overridden (by mpl) onmessage function.\n",
       "        ws.onmessage(data);\n",
       "    });\n",
       "    return ws;\n",
       "};\n",
       "\n",
       "mpl.mpl_figure_comm = function (comm, msg) {\n",
       "    // This is the function which gets called when the mpl process\n",
       "    // starts-up an IPython Comm through the \"matplotlib\" channel.\n",
       "\n",
       "    var id = msg.content.data.id;\n",
       "    // Get hold of the div created by the display call when the Comm\n",
       "    // socket was opened in Python.\n",
       "    var element = document.getElementById(id);\n",
       "    var ws_proxy = comm_websocket_adapter(comm);\n",
       "\n",
       "    function ondownload(figure, _format) {\n",
       "        window.open(figure.canvas.toDataURL());\n",
       "    }\n",
       "\n",
       "    var fig = new mpl.figure(id, ws_proxy, ondownload, element);\n",
       "\n",
       "    // Call onopen now - mpl needs it, as it is assuming we've passed it a real\n",
       "    // web socket which is closed, not our websocket->open comm proxy.\n",
       "    ws_proxy.onopen();\n",
       "\n",
       "    fig.parent_element = element;\n",
       "    fig.cell_info = mpl.find_output_cell(\"<div id='\" + id + \"'></div>\");\n",
       "    if (!fig.cell_info) {\n",
       "        console.error('Failed to find cell for figure', id, fig);\n",
       "        return;\n",
       "    }\n",
       "    fig.cell_info[0].output_area.element.on(\n",
       "        'cleared',\n",
       "        { fig: fig },\n",
       "        fig._remove_fig_handler\n",
       "    );\n",
       "};\n",
       "\n",
       "mpl.figure.prototype.handle_close = function (fig, msg) {\n",
       "    var width = fig.canvas.width / fig.ratio;\n",
       "    fig.cell_info[0].output_area.element.off(\n",
       "        'cleared',\n",
       "        fig._remove_fig_handler\n",
       "    );\n",
       "    fig.resizeObserverInstance.unobserve(fig.canvas_div);\n",
       "\n",
       "    // Update the output cell to use the data from the current canvas.\n",
       "    fig.push_to_output();\n",
       "    var dataURL = fig.canvas.toDataURL();\n",
       "    // Re-enable the keyboard manager in IPython - without this line, in FF,\n",
       "    // the notebook keyboard shortcuts fail.\n",
       "    IPython.keyboard_manager.enable();\n",
       "    fig.parent_element.innerHTML =\n",
       "        '<img src=\"' + dataURL + '\" width=\"' + width + '\">';\n",
       "    fig.close_ws(fig, msg);\n",
       "};\n",
       "\n",
       "mpl.figure.prototype.close_ws = function (fig, msg) {\n",
       "    fig.send_message('closing', msg);\n",
       "    // fig.ws.close()\n",
       "};\n",
       "\n",
       "mpl.figure.prototype.push_to_output = function (_remove_interactive) {\n",
       "    // Turn the data on the canvas into data in the output cell.\n",
       "    var width = this.canvas.width / this.ratio;\n",
       "    var dataURL = this.canvas.toDataURL();\n",
       "    this.cell_info[1]['text/html'] =\n",
       "        '<img src=\"' + dataURL + '\" width=\"' + width + '\">';\n",
       "};\n",
       "\n",
       "mpl.figure.prototype.updated_canvas_event = function () {\n",
       "    // Tell IPython that the notebook contents must change.\n",
       "    IPython.notebook.set_dirty(true);\n",
       "    this.send_message('ack', {});\n",
       "    var fig = this;\n",
       "    // Wait a second, then push the new image to the DOM so\n",
       "    // that it is saved nicely (might be nice to debounce this).\n",
       "    setTimeout(function () {\n",
       "        fig.push_to_output();\n",
       "    }, 1000);\n",
       "};\n",
       "\n",
       "mpl.figure.prototype._init_toolbar = function () {\n",
       "    var fig = this;\n",
       "\n",
       "    var toolbar = document.createElement('div');\n",
       "    toolbar.classList = 'btn-toolbar';\n",
       "    this.root.appendChild(toolbar);\n",
       "\n",
       "    function on_click_closure(name) {\n",
       "        return function (_event) {\n",
       "            return fig.toolbar_button_onclick(name);\n",
       "        };\n",
       "    }\n",
       "\n",
       "    function on_mouseover_closure(tooltip) {\n",
       "        return function (event) {\n",
       "            if (!event.currentTarget.disabled) {\n",
       "                return fig.toolbar_button_onmouseover(tooltip);\n",
       "            }\n",
       "        };\n",
       "    }\n",
       "\n",
       "    fig.buttons = {};\n",
       "    var buttonGroup = document.createElement('div');\n",
       "    buttonGroup.classList = 'btn-group';\n",
       "    var button;\n",
       "    for (var toolbar_ind in mpl.toolbar_items) {\n",
       "        var name = mpl.toolbar_items[toolbar_ind][0];\n",
       "        var tooltip = mpl.toolbar_items[toolbar_ind][1];\n",
       "        var image = mpl.toolbar_items[toolbar_ind][2];\n",
       "        var method_name = mpl.toolbar_items[toolbar_ind][3];\n",
       "\n",
       "        if (!name) {\n",
       "            /* Instead of a spacer, we start a new button group. */\n",
       "            if (buttonGroup.hasChildNodes()) {\n",
       "                toolbar.appendChild(buttonGroup);\n",
       "            }\n",
       "            buttonGroup = document.createElement('div');\n",
       "            buttonGroup.classList = 'btn-group';\n",
       "            continue;\n",
       "        }\n",
       "\n",
       "        button = fig.buttons[name] = document.createElement('button');\n",
       "        button.classList = 'btn btn-default';\n",
       "        button.href = '#';\n",
       "        button.title = name;\n",
       "        button.innerHTML = '<i class=\"fa ' + image + ' fa-lg\"></i>';\n",
       "        button.addEventListener('click', on_click_closure(method_name));\n",
       "        button.addEventListener('mouseover', on_mouseover_closure(tooltip));\n",
       "        buttonGroup.appendChild(button);\n",
       "    }\n",
       "\n",
       "    if (buttonGroup.hasChildNodes()) {\n",
       "        toolbar.appendChild(buttonGroup);\n",
       "    }\n",
       "\n",
       "    // Add the status bar.\n",
       "    var status_bar = document.createElement('span');\n",
       "    status_bar.classList = 'mpl-message pull-right';\n",
       "    toolbar.appendChild(status_bar);\n",
       "    this.message = status_bar;\n",
       "\n",
       "    // Add the close button to the window.\n",
       "    var buttongrp = document.createElement('div');\n",
       "    buttongrp.classList = 'btn-group inline pull-right';\n",
       "    button = document.createElement('button');\n",
       "    button.classList = 'btn btn-mini btn-primary';\n",
       "    button.href = '#';\n",
       "    button.title = 'Stop Interaction';\n",
       "    button.innerHTML = '<i class=\"fa fa-power-off icon-remove icon-large\"></i>';\n",
       "    button.addEventListener('click', function (_evt) {\n",
       "        fig.handle_close(fig, {});\n",
       "    });\n",
       "    button.addEventListener(\n",
       "        'mouseover',\n",
       "        on_mouseover_closure('Stop Interaction')\n",
       "    );\n",
       "    buttongrp.appendChild(button);\n",
       "    var titlebar = this.root.querySelector('.ui-dialog-titlebar');\n",
       "    titlebar.insertBefore(buttongrp, titlebar.firstChild);\n",
       "};\n",
       "\n",
       "mpl.figure.prototype._remove_fig_handler = function (event) {\n",
       "    var fig = event.data.fig;\n",
       "    if (event.target !== this) {\n",
       "        // Ignore bubbled events from children.\n",
       "        return;\n",
       "    }\n",
       "    fig.close_ws(fig, {});\n",
       "};\n",
       "\n",
       "mpl.figure.prototype._root_extra_style = function (el) {\n",
       "    el.style.boxSizing = 'content-box'; // override notebook setting of border-box.\n",
       "};\n",
       "\n",
       "mpl.figure.prototype._canvas_extra_style = function (el) {\n",
       "    // this is important to make the div 'focusable\n",
       "    el.setAttribute('tabindex', 0);\n",
       "    // reach out to IPython and tell the keyboard manager to turn it's self\n",
       "    // off when our div gets focus\n",
       "\n",
       "    // location in version 3\n",
       "    if (IPython.notebook.keyboard_manager) {\n",
       "        IPython.notebook.keyboard_manager.register_events(el);\n",
       "    } else {\n",
       "        // location in version 2\n",
       "        IPython.keyboard_manager.register_events(el);\n",
       "    }\n",
       "};\n",
       "\n",
       "mpl.figure.prototype._key_event_extra = function (event, _name) {\n",
       "    var manager = IPython.notebook.keyboard_manager;\n",
       "    if (!manager) {\n",
       "        manager = IPython.keyboard_manager;\n",
       "    }\n",
       "\n",
       "    // Check for shift+enter\n",
       "    if (event.shiftKey && event.which === 13) {\n",
       "        this.canvas_div.blur();\n",
       "        // select the cell after this one\n",
       "        var index = IPython.notebook.find_cell_index(this.cell_info[0]);\n",
       "        IPython.notebook.select(index + 1);\n",
       "    }\n",
       "};\n",
       "\n",
       "mpl.figure.prototype.handle_save = function (fig, _msg) {\n",
       "    fig.ondownload(fig, null);\n",
       "};\n",
       "\n",
       "mpl.find_output_cell = function (html_output) {\n",
       "    // Return the cell and output element which can be found *uniquely* in the notebook.\n",
       "    // Note - this is a bit hacky, but it is done because the \"notebook_saving.Notebook\"\n",
       "    // IPython event is triggered only after the cells have been serialised, which for\n",
       "    // our purposes (turning an active figure into a static one), is too late.\n",
       "    var cells = IPython.notebook.get_cells();\n",
       "    var ncells = cells.length;\n",
       "    for (var i = 0; i < ncells; i++) {\n",
       "        var cell = cells[i];\n",
       "        if (cell.cell_type === 'code') {\n",
       "            for (var j = 0; j < cell.output_area.outputs.length; j++) {\n",
       "                var data = cell.output_area.outputs[j];\n",
       "                if (data.data) {\n",
       "                    // IPython >= 3 moved mimebundle to data attribute of output\n",
       "                    data = data.data;\n",
       "                }\n",
       "                if (data['text/html'] === html_output) {\n",
       "                    return [cell, data, j];\n",
       "                }\n",
       "            }\n",
       "        }\n",
       "    }\n",
       "};\n",
       "\n",
       "// Register the function which deals with the matplotlib target/channel.\n",
       "// The kernel may be null if the page has been refreshed.\n",
       "if (IPython.notebook.kernel !== null) {\n",
       "    IPython.notebook.kernel.comm_manager.register_target(\n",
       "        'matplotlib',\n",
       "        mpl.mpl_figure_comm\n",
       "    );\n",
       "}\n"
      ],
      "text/plain": [
       "<IPython.core.display.Javascript object>"
      ]
     },
     "metadata": {},
     "output_type": "display_data"
    },
    {
     "data": {
      "text/html": [
       "<img src=\"data:image/png;base64,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\" width=\"640\">"
      ],
      "text/plain": [
       "<IPython.core.display.HTML object>"
      ]
     },
     "metadata": {},
     "output_type": "display_data"
    },
    {
     "name": "stderr",
     "output_type": "stream",
     "text": [
      "C:\\Users\\sigmund\\AppData\\Local\\Temp/ipykernel_12304/982663609.py:21: MatplotlibDeprecationWarning:\n",
      "\n",
      "Axes3D(fig) adding itself to the figure is deprecated since 3.4. Pass the keyword argument auto_add_to_figure=False and use fig.add_axes(ax) to suppress this warning. The default value of auto_add_to_figure will change to False in mpl3.5 and True values will no longer work in 3.6.  This is consistent with other Axes classes.\n",
      "\n"
     ]
    }
   ],
   "source": [
    "# creating 3d plot using matplotlib \n",
    "# in python\n",
    "\n",
    "# for creating a responsive plot\n",
    "%matplotlib notebook\n",
    "  \n",
    "# importing required libraries\n",
    "import numpy as np  \n",
    "from mpl_toolkits.mplot3d import Axes3D\n",
    "import matplotlib.pyplot as plt\n",
    "  \n",
    "# creating random dataset\n",
    "x = np.linspace(0,4*np.pi,1000)\n",
    "  \n",
    "y = np.sin(x)\n",
    "  \n",
    "z = 15 * np.random.random(1000)\n",
    "  \n",
    "# creating figure\n",
    "fig = plt.figure()\n",
    "ax = Axes3D(fig)\n",
    "  \n",
    "# creating the plot\n",
    "plot_scatter = ax.scatter(x, y, z,color='r')\n",
    "  \n",
    "# setting title and labels\n",
    "ax.set_xlabel('x-axis')\n",
    "ax.set_ylabel('y-axis')\n",
    "ax.set_zlabel('z-axis')\n",
    "  \n",
    "# displaying the plot\n",
    "plt.show()"
   ]
  },
  {
   "cell_type": "markdown",
   "id": "7f8bf948",
   "metadata": {},
   "source": [
    "## 22.3 Other Libaries for Interative Plots\n",
    "\n",
    "Python has several libraries to create interactive plots:\n",
    "- Plotly\n",
    "- mpld3\n",
    "- Bokeh\n",
    "- pyecharts\n",
    "- pygal\n",
    "- HoloViews"
   ]
  },
  {
   "cell_type": "code",
   "execution_count": null,
   "id": "0142a4c3",
   "metadata": {},
   "outputs": [],
   "source": [
    "!pip install plotly"
   ]
  },
  {
   "cell_type": "code",
   "execution_count": 42,
   "id": "6843a158",
   "metadata": {
    "scrolled": true
   },
   "outputs": [
    {
     "data": {
      "application/vnd.plotly.v1+json": {
       "config": {
        "plotlyServerURL": "https://plot.ly"
       },
       "data": [
        {
         "hovertemplate": "x=%{x}<br>y=%{y}<extra></extra>",
         "legendgroup": "",
         "marker": {
          "color": "#636efa",
          "symbol": "circle"
         },
         "mode": "markers",
         "name": "",
         "orientation": "v",
         "showlegend": false,
         "type": "scatter",
         "x": [
          0,
          2,
          4,
          3,
          5,
          7,
          6,
          9,
          8,
          10,
          11
         ],
         "xaxis": "x",
         "y": [
          0.1,
          2.5,
          3.5,
          3.8,
          4.6,
          7.5,
          5.6,
          8.5,
          10.5,
          9.5,
          11.3
         ],
         "yaxis": "y"
        }
       ],
       "layout": {
        "height": 400,
        "legend": {
         "tracegroupgap": 0
        },
        "template": {
         "data": {
          "bar": [
           {
            "error_x": {
             "color": "#2a3f5f"
            },
            "error_y": {
             "color": "#2a3f5f"
            },
            "marker": {
             "line": {
              "color": "#E5ECF6",
              "width": 0.5
             },
             "pattern": {
              "fillmode": "overlay",
              "size": 10,
              "solidity": 0.2
             }
            },
            "type": "bar"
           }
          ],
          "barpolar": [
           {
            "marker": {
             "line": {
              "color": "#E5ECF6",
              "width": 0.5
             },
             "pattern": {
              "fillmode": "overlay",
              "size": 10,
              "solidity": 0.2
             }
            },
            "type": "barpolar"
           }
          ],
          "carpet": [
           {
            "aaxis": {
             "endlinecolor": "#2a3f5f",
             "gridcolor": "white",
             "linecolor": "white",
             "minorgridcolor": "white",
             "startlinecolor": "#2a3f5f"
            },
            "baxis": {
             "endlinecolor": "#2a3f5f",
             "gridcolor": "white",
             "linecolor": "white",
             "minorgridcolor": "white",
             "startlinecolor": "#2a3f5f"
            },
            "type": "carpet"
           }
          ],
          "choropleth": [
           {
            "colorbar": {
             "outlinewidth": 0,
             "ticks": ""
            },
            "type": "choropleth"
           }
          ],
          "contour": [
           {
            "colorbar": {
             "outlinewidth": 0,
             "ticks": ""
            },
            "colorscale": [
             [
              0,
              "#0d0887"
             ],
             [
              0.1111111111111111,
              "#46039f"
             ],
             [
              0.2222222222222222,
              "#7201a8"
             ],
             [
              0.3333333333333333,
              "#9c179e"
             ],
             [
              0.4444444444444444,
              "#bd3786"
             ],
             [
              0.5555555555555556,
              "#d8576b"
             ],
             [
              0.6666666666666666,
              "#ed7953"
             ],
             [
              0.7777777777777778,
              "#fb9f3a"
             ],
             [
              0.8888888888888888,
              "#fdca26"
             ],
             [
              1,
              "#f0f921"
             ]
            ],
            "type": "contour"
           }
          ],
          "contourcarpet": [
           {
            "colorbar": {
             "outlinewidth": 0,
             "ticks": ""
            },
            "type": "contourcarpet"
           }
          ],
          "heatmap": [
           {
            "colorbar": {
             "outlinewidth": 0,
             "ticks": ""
            },
            "colorscale": [
             [
              0,
              "#0d0887"
             ],
             [
              0.1111111111111111,
              "#46039f"
             ],
             [
              0.2222222222222222,
              "#7201a8"
             ],
             [
              0.3333333333333333,
              "#9c179e"
             ],
             [
              0.4444444444444444,
              "#bd3786"
             ],
             [
              0.5555555555555556,
              "#d8576b"
             ],
             [
              0.6666666666666666,
              "#ed7953"
             ],
             [
              0.7777777777777778,
              "#fb9f3a"
             ],
             [
              0.8888888888888888,
              "#fdca26"
             ],
             [
              1,
              "#f0f921"
             ]
            ],
            "type": "heatmap"
           }
          ],
          "heatmapgl": [
           {
            "colorbar": {
             "outlinewidth": 0,
             "ticks": ""
            },
            "colorscale": [
             [
              0,
              "#0d0887"
             ],
             [
              0.1111111111111111,
              "#46039f"
             ],
             [
              0.2222222222222222,
              "#7201a8"
             ],
             [
              0.3333333333333333,
              "#9c179e"
             ],
             [
              0.4444444444444444,
              "#bd3786"
             ],
             [
              0.5555555555555556,
              "#d8576b"
             ],
             [
              0.6666666666666666,
              "#ed7953"
             ],
             [
              0.7777777777777778,
              "#fb9f3a"
             ],
             [
              0.8888888888888888,
              "#fdca26"
             ],
             [
              1,
              "#f0f921"
             ]
            ],
            "type": "heatmapgl"
           }
          ],
          "histogram": [
           {
            "marker": {
             "pattern": {
              "fillmode": "overlay",
              "size": 10,
              "solidity": 0.2
             }
            },
            "type": "histogram"
           }
          ],
          "histogram2d": [
           {
            "colorbar": {
             "outlinewidth": 0,
             "ticks": ""
            },
            "colorscale": [
             [
              0,
              "#0d0887"
             ],
             [
              0.1111111111111111,
              "#46039f"
             ],
             [
              0.2222222222222222,
              "#7201a8"
             ],
             [
              0.3333333333333333,
              "#9c179e"
             ],
             [
              0.4444444444444444,
              "#bd3786"
             ],
             [
              0.5555555555555556,
              "#d8576b"
             ],
             [
              0.6666666666666666,
              "#ed7953"
             ],
             [
              0.7777777777777778,
              "#fb9f3a"
             ],
             [
              0.8888888888888888,
              "#fdca26"
             ],
             [
              1,
              "#f0f921"
             ]
            ],
            "type": "histogram2d"
           }
          ],
          "histogram2dcontour": [
           {
            "colorbar": {
             "outlinewidth": 0,
             "ticks": ""
            },
            "colorscale": [
             [
              0,
              "#0d0887"
             ],
             [
              0.1111111111111111,
              "#46039f"
             ],
             [
              0.2222222222222222,
              "#7201a8"
             ],
             [
              0.3333333333333333,
              "#9c179e"
             ],
             [
              0.4444444444444444,
              "#bd3786"
             ],
             [
              0.5555555555555556,
              "#d8576b"
             ],
             [
              0.6666666666666666,
              "#ed7953"
             ],
             [
              0.7777777777777778,
              "#fb9f3a"
             ],
             [
              0.8888888888888888,
              "#fdca26"
             ],
             [
              1,
              "#f0f921"
             ]
            ],
            "type": "histogram2dcontour"
           }
          ],
          "mesh3d": [
           {
            "colorbar": {
             "outlinewidth": 0,
             "ticks": ""
            },
            "type": "mesh3d"
           }
          ],
          "parcoords": [
           {
            "line": {
             "colorbar": {
              "outlinewidth": 0,
              "ticks": ""
             }
            },
            "type": "parcoords"
           }
          ],
          "pie": [
           {
            "automargin": true,
            "type": "pie"
           }
          ],
          "scatter": [
           {
            "marker": {
             "colorbar": {
              "outlinewidth": 0,
              "ticks": ""
             }
            },
            "type": "scatter"
           }
          ],
          "scatter3d": [
           {
            "line": {
             "colorbar": {
              "outlinewidth": 0,
              "ticks": ""
             }
            },
            "marker": {
             "colorbar": {
              "outlinewidth": 0,
              "ticks": ""
             }
            },
            "type": "scatter3d"
           }
          ],
          "scattercarpet": [
           {
            "marker": {
             "colorbar": {
              "outlinewidth": 0,
              "ticks": ""
             }
            },
            "type": "scattercarpet"
           }
          ],
          "scattergeo": [
           {
            "marker": {
             "colorbar": {
              "outlinewidth": 0,
              "ticks": ""
             }
            },
            "type": "scattergeo"
           }
          ],
          "scattergl": [
           {
            "marker": {
             "colorbar": {
              "outlinewidth": 0,
              "ticks": ""
             }
            },
            "type": "scattergl"
           }
          ],
          "scattermapbox": [
           {
            "marker": {
             "colorbar": {
              "outlinewidth": 0,
              "ticks": ""
             }
            },
            "type": "scattermapbox"
           }
          ],
          "scatterpolar": [
           {
            "marker": {
             "colorbar": {
              "outlinewidth": 0,
              "ticks": ""
             }
            },
            "type": "scatterpolar"
           }
          ],
          "scatterpolargl": [
           {
            "marker": {
             "colorbar": {
              "outlinewidth": 0,
              "ticks": ""
             }
            },
            "type": "scatterpolargl"
           }
          ],
          "scatterternary": [
           {
            "marker": {
             "colorbar": {
              "outlinewidth": 0,
              "ticks": ""
             }
            },
            "type": "scatterternary"
           }
          ],
          "surface": [
           {
            "colorbar": {
             "outlinewidth": 0,
             "ticks": ""
            },
            "colorscale": [
             [
              0,
              "#0d0887"
             ],
             [
              0.1111111111111111,
              "#46039f"
             ],
             [
              0.2222222222222222,
              "#7201a8"
             ],
             [
              0.3333333333333333,
              "#9c179e"
             ],
             [
              0.4444444444444444,
              "#bd3786"
             ],
             [
              0.5555555555555556,
              "#d8576b"
             ],
             [
              0.6666666666666666,
              "#ed7953"
             ],
             [
              0.7777777777777778,
              "#fb9f3a"
             ],
             [
              0.8888888888888888,
              "#fdca26"
             ],
             [
              1,
              "#f0f921"
             ]
            ],
            "type": "surface"
           }
          ],
          "table": [
           {
            "cells": {
             "fill": {
              "color": "#EBF0F8"
             },
             "line": {
              "color": "white"
             }
            },
            "header": {
             "fill": {
              "color": "#C8D4E3"
             },
             "line": {
              "color": "white"
             }
            },
            "type": "table"
           }
          ]
         },
         "layout": {
          "annotationdefaults": {
           "arrowcolor": "#2a3f5f",
           "arrowhead": 0,
           "arrowwidth": 1
          },
          "autotypenumbers": "strict",
          "coloraxis": {
           "colorbar": {
            "outlinewidth": 0,
            "ticks": ""
           }
          },
          "colorscale": {
           "diverging": [
            [
             0,
             "#8e0152"
            ],
            [
             0.1,
             "#c51b7d"
            ],
            [
             0.2,
             "#de77ae"
            ],
            [
             0.3,
             "#f1b6da"
            ],
            [
             0.4,
             "#fde0ef"
            ],
            [
             0.5,
             "#f7f7f7"
            ],
            [
             0.6,
             "#e6f5d0"
            ],
            [
             0.7,
             "#b8e186"
            ],
            [
             0.8,
             "#7fbc41"
            ],
            [
             0.9,
             "#4d9221"
            ],
            [
             1,
             "#276419"
            ]
           ],
           "sequential": [
            [
             0,
             "#0d0887"
            ],
            [
             0.1111111111111111,
             "#46039f"
            ],
            [
             0.2222222222222222,
             "#7201a8"
            ],
            [
             0.3333333333333333,
             "#9c179e"
            ],
            [
             0.4444444444444444,
             "#bd3786"
            ],
            [
             0.5555555555555556,
             "#d8576b"
            ],
            [
             0.6666666666666666,
             "#ed7953"
            ],
            [
             0.7777777777777778,
             "#fb9f3a"
            ],
            [
             0.8888888888888888,
             "#fdca26"
            ],
            [
             1,
             "#f0f921"
            ]
           ],
           "sequentialminus": [
            [
             0,
             "#0d0887"
            ],
            [
             0.1111111111111111,
             "#46039f"
            ],
            [
             0.2222222222222222,
             "#7201a8"
            ],
            [
             0.3333333333333333,
             "#9c179e"
            ],
            [
             0.4444444444444444,
             "#bd3786"
            ],
            [
             0.5555555555555556,
             "#d8576b"
            ],
            [
             0.6666666666666666,
             "#ed7953"
            ],
            [
             0.7777777777777778,
             "#fb9f3a"
            ],
            [
             0.8888888888888888,
             "#fdca26"
            ],
            [
             1,
             "#f0f921"
            ]
           ]
          },
          "colorway": [
           "#636efa",
           "#EF553B",
           "#00cc96",
           "#ab63fa",
           "#FFA15A",
           "#19d3f3",
           "#FF6692",
           "#B6E880",
           "#FF97FF",
           "#FECB52"
          ],
          "font": {
           "color": "#2a3f5f"
          },
          "geo": {
           "bgcolor": "white",
           "lakecolor": "white",
           "landcolor": "#E5ECF6",
           "showlakes": true,
           "showland": true,
           "subunitcolor": "white"
          },
          "hoverlabel": {
           "align": "left"
          },
          "hovermode": "closest",
          "mapbox": {
           "style": "light"
          },
          "paper_bgcolor": "white",
          "plot_bgcolor": "#E5ECF6",
          "polar": {
           "angularaxis": {
            "gridcolor": "white",
            "linecolor": "white",
            "ticks": ""
           },
           "bgcolor": "#E5ECF6",
           "radialaxis": {
            "gridcolor": "white",
            "linecolor": "white",
            "ticks": ""
           }
          },
          "scene": {
           "xaxis": {
            "backgroundcolor": "#E5ECF6",
            "gridcolor": "white",
            "gridwidth": 2,
            "linecolor": "white",
            "showbackground": true,
            "ticks": "",
            "zerolinecolor": "white"
           },
           "yaxis": {
            "backgroundcolor": "#E5ECF6",
            "gridcolor": "white",
            "gridwidth": 2,
            "linecolor": "white",
            "showbackground": true,
            "ticks": "",
            "zerolinecolor": "white"
           },
           "zaxis": {
            "backgroundcolor": "#E5ECF6",
            "gridcolor": "white",
            "gridwidth": 2,
            "linecolor": "white",
            "showbackground": true,
            "ticks": "",
            "zerolinecolor": "white"
           }
          },
          "shapedefaults": {
           "line": {
            "color": "#2a3f5f"
           }
          },
          "ternary": {
           "aaxis": {
            "gridcolor": "white",
            "linecolor": "white",
            "ticks": ""
           },
           "baxis": {
            "gridcolor": "white",
            "linecolor": "white",
            "ticks": ""
           },
           "bgcolor": "#E5ECF6",
           "caxis": {
            "gridcolor": "white",
            "linecolor": "white",
            "ticks": ""
           }
          },
          "title": {
           "x": 0.05
          },
          "xaxis": {
           "automargin": true,
           "gridcolor": "white",
           "linecolor": "white",
           "ticks": "",
           "title": {
            "standoff": 15
           },
           "zerolinecolor": "white",
           "zerolinewidth": 2
          },
          "yaxis": {
           "automargin": true,
           "gridcolor": "white",
           "linecolor": "white",
           "ticks": "",
           "title": {
            "standoff": 15
           },
           "zerolinecolor": "white",
           "zerolinewidth": 2
          }
         }
        },
        "title": {
         "text": "Simple scatter"
        },
        "width": 500,
        "xaxis": {
         "anchor": "y",
         "domain": [
          0,
          1
         ],
         "title": {
          "text": "x"
         }
        },
        "yaxis": {
         "anchor": "x",
         "domain": [
          0,
          1
         ],
         "title": {
          "text": "y"
         }
        }
       }
      },
      "text/html": [
       "<div>                            <div id=\"5215640a-afbc-4ce6-abb6-597f3d26c53f\" class=\"plotly-graph-div\" style=\"height:400px; width:500px;\"></div>            <script type=\"text/javascript\">                require([\"plotly\"], function(Plotly) {                    window.PLOTLYENV=window.PLOTLYENV || {};                                    if (document.getElementById(\"5215640a-afbc-4ce6-abb6-597f3d26c53f\")) {                    Plotly.newPlot(                        \"5215640a-afbc-4ce6-abb6-597f3d26c53f\",                        [{\"hovertemplate\":\"x=%{x}<br>y=%{y}<extra></extra>\",\"legendgroup\":\"\",\"marker\":{\"color\":\"#636efa\",\"symbol\":\"circle\"},\"mode\":\"markers\",\"name\":\"\",\"orientation\":\"v\",\"showlegend\":false,\"type\":\"scatter\",\"x\":[0,2,4,3,5,7,6,9,8,10,11],\"xaxis\":\"x\",\"y\":[0.1,2.5,3.5,3.8,4.6,7.5,5.6,8.5,10.5,9.5,11.3],\"yaxis\":\"y\"}],                        {\"height\":400,\"legend\":{\"tracegroupgap\":0},\"template\":{\"data\":{\"bar\":[{\"error_x\":{\"color\":\"#2a3f5f\"},\"error_y\":{\"color\":\"#2a3f5f\"},\"marker\":{\"line\":{\"color\":\"#E5ECF6\",\"width\":0.5},\"pattern\":{\"fillmode\":\"overlay\",\"size\":10,\"solidity\":0.2}},\"type\":\"bar\"}],\"barpolar\":[{\"marker\":{\"line\":{\"color\":\"#E5ECF6\",\"width\":0.5},\"pattern\":{\"fillmode\":\"overlay\",\"size\":10,\"solidity\":0.2}},\"type\":\"barpolar\"}],\"carpet\":[{\"aaxis\":{\"endlinecolor\":\"#2a3f5f\",\"gridcolor\":\"white\",\"linecolor\":\"white\",\"minorgridcolor\":\"white\",\"startlinecolor\":\"#2a3f5f\"},\"baxis\":{\"endlinecolor\":\"#2a3f5f\",\"gridcolor\":\"white\",\"linecolor\":\"white\",\"minorgridcolor\":\"white\",\"startlinecolor\":\"#2a3f5f\"},\"type\":\"carpet\"}],\"choropleth\":[{\"colorbar\":{\"outlinewidth\":0,\"ticks\":\"\"},\"type\":\"choropleth\"}],\"contour\":[{\"colorbar\":{\"outlinewidth\":0,\"ticks\":\"\"},\"colorscale\":[[0.0,\"#0d0887\"],[0.1111111111111111,\"#46039f\"],[0.2222222222222222,\"#7201a8\"],[0.3333333333333333,\"#9c179e\"],[0.4444444444444444,\"#bd3786\"],[0.5555555555555556,\"#d8576b\"],[0.6666666666666666,\"#ed7953\"],[0.7777777777777778,\"#fb9f3a\"],[0.8888888888888888,\"#fdca26\"],[1.0,\"#f0f921\"]],\"type\":\"contour\"}],\"contourcarpet\":[{\"colorbar\":{\"outlinewidth\":0,\"ticks\":\"\"},\"type\":\"contourcarpet\"}],\"heatmap\":[{\"colorbar\":{\"outlinewidth\":0,\"ticks\":\"\"},\"colorscale\":[[0.0,\"#0d0887\"],[0.1111111111111111,\"#46039f\"],[0.2222222222222222,\"#7201a8\"],[0.3333333333333333,\"#9c179e\"],[0.4444444444444444,\"#bd3786\"],[0.5555555555555556,\"#d8576b\"],[0.6666666666666666,\"#ed7953\"],[0.7777777777777778,\"#fb9f3a\"],[0.8888888888888888,\"#fdca26\"],[1.0,\"#f0f921\"]],\"type\":\"heatmap\"}],\"heatmapgl\":[{\"colorbar\":{\"outlinewidth\":0,\"ticks\":\"\"},\"colorscale\":[[0.0,\"#0d0887\"],[0.1111111111111111,\"#46039f\"],[0.2222222222222222,\"#7201a8\"],[0.3333333333333333,\"#9c179e\"],[0.4444444444444444,\"#bd3786\"],[0.5555555555555556,\"#d8576b\"],[0.6666666666666666,\"#ed7953\"],[0.7777777777777778,\"#fb9f3a\"],[0.8888888888888888,\"#fdca26\"],[1.0,\"#f0f921\"]],\"type\":\"heatmapgl\"}],\"histogram\":[{\"marker\":{\"pattern\":{\"fillmode\":\"overlay\",\"size\":10,\"solidity\":0.2}},\"type\":\"histogram\"}],\"histogram2d\":[{\"colorbar\":{\"outlinewidth\":0,\"ticks\":\"\"},\"colorscale\":[[0.0,\"#0d0887\"],[0.1111111111111111,\"#46039f\"],[0.2222222222222222,\"#7201a8\"],[0.3333333333333333,\"#9c179e\"],[0.4444444444444444,\"#bd3786\"],[0.5555555555555556,\"#d8576b\"],[0.6666666666666666,\"#ed7953\"],[0.7777777777777778,\"#fb9f3a\"],[0.8888888888888888,\"#fdca26\"],[1.0,\"#f0f921\"]],\"type\":\"histogram2d\"}],\"histogram2dcontour\":[{\"colorbar\":{\"outlinewidth\":0,\"ticks\":\"\"},\"colorscale\":[[0.0,\"#0d0887\"],[0.1111111111111111,\"#46039f\"],[0.2222222222222222,\"#7201a8\"],[0.3333333333333333,\"#9c179e\"],[0.4444444444444444,\"#bd3786\"],[0.5555555555555556,\"#d8576b\"],[0.6666666666666666,\"#ed7953\"],[0.7777777777777778,\"#fb9f3a\"],[0.8888888888888888,\"#fdca26\"],[1.0,\"#f0f921\"]],\"type\":\"histogram2dcontour\"}],\"mesh3d\":[{\"colorbar\":{\"outlinewidth\":0,\"ticks\":\"\"},\"type\":\"mesh3d\"}],\"parcoords\":[{\"line\":{\"colorbar\":{\"outlinewidth\":0,\"ticks\":\"\"}},\"type\":\"parcoords\"}],\"pie\":[{\"automargin\":true,\"type\":\"pie\"}],\"scatter\":[{\"marker\":{\"colorbar\":{\"outlinewidth\":0,\"ticks\":\"\"}},\"type\":\"scatter\"}],\"scatter3d\":[{\"line\":{\"colorbar\":{\"outlinewidth\":0,\"ticks\":\"\"}},\"marker\":{\"colorbar\":{\"outlinewidth\":0,\"ticks\":\"\"}},\"type\":\"scatter3d\"}],\"scattercarpet\":[{\"marker\":{\"colorbar\":{\"outlinewidth\":0,\"ticks\":\"\"}},\"type\":\"scattercarpet\"}],\"scattergeo\":[{\"marker\":{\"colorbar\":{\"outlinewidth\":0,\"ticks\":\"\"}},\"type\":\"scattergeo\"}],\"scattergl\":[{\"marker\":{\"colorbar\":{\"outlinewidth\":0,\"ticks\":\"\"}},\"type\":\"scattergl\"}],\"scattermapbox\":[{\"marker\":{\"colorbar\":{\"outlinewidth\":0,\"ticks\":\"\"}},\"type\":\"scattermapbox\"}],\"scatterpolar\":[{\"marker\":{\"colorbar\":{\"outlinewidth\":0,\"ticks\":\"\"}},\"type\":\"scatterpolar\"}],\"scatterpolargl\":[{\"marker\":{\"colorbar\":{\"outlinewidth\":0,\"ticks\":\"\"}},\"type\":\"scatterpolargl\"}],\"scatterternary\":[{\"marker\":{\"colorbar\":{\"outlinewidth\":0,\"ticks\":\"\"}},\"type\":\"scatterternary\"}],\"surface\":[{\"colorbar\":{\"outlinewidth\":0,\"ticks\":\"\"},\"colorscale\":[[0.0,\"#0d0887\"],[0.1111111111111111,\"#46039f\"],[0.2222222222222222,\"#7201a8\"],[0.3333333333333333,\"#9c179e\"],[0.4444444444444444,\"#bd3786\"],[0.5555555555555556,\"#d8576b\"],[0.6666666666666666,\"#ed7953\"],[0.7777777777777778,\"#fb9f3a\"],[0.8888888888888888,\"#fdca26\"],[1.0,\"#f0f921\"]],\"type\":\"surface\"}],\"table\":[{\"cells\":{\"fill\":{\"color\":\"#EBF0F8\"},\"line\":{\"color\":\"white\"}},\"header\":{\"fill\":{\"color\":\"#C8D4E3\"},\"line\":{\"color\":\"white\"}},\"type\":\"table\"}]},\"layout\":{\"annotationdefaults\":{\"arrowcolor\":\"#2a3f5f\",\"arrowhead\":0,\"arrowwidth\":1},\"autotypenumbers\":\"strict\",\"coloraxis\":{\"colorbar\":{\"outlinewidth\":0,\"ticks\":\"\"}},\"colorscale\":{\"diverging\":[[0,\"#8e0152\"],[0.1,\"#c51b7d\"],[0.2,\"#de77ae\"],[0.3,\"#f1b6da\"],[0.4,\"#fde0ef\"],[0.5,\"#f7f7f7\"],[0.6,\"#e6f5d0\"],[0.7,\"#b8e186\"],[0.8,\"#7fbc41\"],[0.9,\"#4d9221\"],[1,\"#276419\"]],\"sequential\":[[0.0,\"#0d0887\"],[0.1111111111111111,\"#46039f\"],[0.2222222222222222,\"#7201a8\"],[0.3333333333333333,\"#9c179e\"],[0.4444444444444444,\"#bd3786\"],[0.5555555555555556,\"#d8576b\"],[0.6666666666666666,\"#ed7953\"],[0.7777777777777778,\"#fb9f3a\"],[0.8888888888888888,\"#fdca26\"],[1.0,\"#f0f921\"]],\"sequentialminus\":[[0.0,\"#0d0887\"],[0.1111111111111111,\"#46039f\"],[0.2222222222222222,\"#7201a8\"],[0.3333333333333333,\"#9c179e\"],[0.4444444444444444,\"#bd3786\"],[0.5555555555555556,\"#d8576b\"],[0.6666666666666666,\"#ed7953\"],[0.7777777777777778,\"#fb9f3a\"],[0.8888888888888888,\"#fdca26\"],[1.0,\"#f0f921\"]]},\"colorway\":[\"#636efa\",\"#EF553B\",\"#00cc96\",\"#ab63fa\",\"#FFA15A\",\"#19d3f3\",\"#FF6692\",\"#B6E880\",\"#FF97FF\",\"#FECB52\"],\"font\":{\"color\":\"#2a3f5f\"},\"geo\":{\"bgcolor\":\"white\",\"lakecolor\":\"white\",\"landcolor\":\"#E5ECF6\",\"showlakes\":true,\"showland\":true,\"subunitcolor\":\"white\"},\"hoverlabel\":{\"align\":\"left\"},\"hovermode\":\"closest\",\"mapbox\":{\"style\":\"light\"},\"paper_bgcolor\":\"white\",\"plot_bgcolor\":\"#E5ECF6\",\"polar\":{\"angularaxis\":{\"gridcolor\":\"white\",\"linecolor\":\"white\",\"ticks\":\"\"},\"bgcolor\":\"#E5ECF6\",\"radialaxis\":{\"gridcolor\":\"white\",\"linecolor\":\"white\",\"ticks\":\"\"}},\"scene\":{\"xaxis\":{\"backgroundcolor\":\"#E5ECF6\",\"gridcolor\":\"white\",\"gridwidth\":2,\"linecolor\":\"white\",\"showbackground\":true,\"ticks\":\"\",\"zerolinecolor\":\"white\"},\"yaxis\":{\"backgroundcolor\":\"#E5ECF6\",\"gridcolor\":\"white\",\"gridwidth\":2,\"linecolor\":\"white\",\"showbackground\":true,\"ticks\":\"\",\"zerolinecolor\":\"white\"},\"zaxis\":{\"backgroundcolor\":\"#E5ECF6\",\"gridcolor\":\"white\",\"gridwidth\":2,\"linecolor\":\"white\",\"showbackground\":true,\"ticks\":\"\",\"zerolinecolor\":\"white\"}},\"shapedefaults\":{\"line\":{\"color\":\"#2a3f5f\"}},\"ternary\":{\"aaxis\":{\"gridcolor\":\"white\",\"linecolor\":\"white\",\"ticks\":\"\"},\"baxis\":{\"gridcolor\":\"white\",\"linecolor\":\"white\",\"ticks\":\"\"},\"bgcolor\":\"#E5ECF6\",\"caxis\":{\"gridcolor\":\"white\",\"linecolor\":\"white\",\"ticks\":\"\"}},\"title\":{\"x\":0.05},\"xaxis\":{\"automargin\":true,\"gridcolor\":\"white\",\"linecolor\":\"white\",\"ticks\":\"\",\"title\":{\"standoff\":15},\"zerolinecolor\":\"white\",\"zerolinewidth\":2},\"yaxis\":{\"automargin\":true,\"gridcolor\":\"white\",\"linecolor\":\"white\",\"ticks\":\"\",\"title\":{\"standoff\":15},\"zerolinecolor\":\"white\",\"zerolinewidth\":2}}},\"title\":{\"text\":\"Simple scatter\"},\"width\":500,\"xaxis\":{\"anchor\":\"y\",\"domain\":[0.0,1.0],\"title\":{\"text\":\"x\"}},\"yaxis\":{\"anchor\":\"x\",\"domain\":[0.0,1.0],\"title\":{\"text\":\"y\"}}},                        {\"responsive\": true}                    ).then(function(){\n",
       "                            \n",
       "var gd = document.getElementById('5215640a-afbc-4ce6-abb6-597f3d26c53f');\n",
       "var x = new MutationObserver(function (mutations, observer) {{\n",
       "        var display = window.getComputedStyle(gd).display;\n",
       "        if (!display || display === 'none') {{\n",
       "            console.log([gd, 'removed!']);\n",
       "            Plotly.purge(gd);\n",
       "            observer.disconnect();\n",
       "        }}\n",
       "}});\n",
       "\n",
       "// Listen for the removal of the full notebook cells\n",
       "var notebookContainer = gd.closest('#notebook-container');\n",
       "if (notebookContainer) {{\n",
       "    x.observe(notebookContainer, {childList: true});\n",
       "}}\n",
       "\n",
       "// Listen for the clearing of the current output cell\n",
       "var outputEl = gd.closest('.output');\n",
       "if (outputEl) {{\n",
       "    x.observe(outputEl, {childList: true});\n",
       "}}\n",
       "\n",
       "                        })                };                });            </script>        </div>"
      ]
     },
     "metadata": {},
     "output_type": "display_data"
    }
   ],
   "source": [
    "import plotly.express as px\n",
    "import pandas as pd\n",
    "\n",
    "df = pd.DataFrame(dict(\n",
    "    x = [0,2,4,3,5,7,6,9,8,10,11],\n",
    "    y = [0.1,2.5,3.5,3.8,4.6,7.5,5.6,8.5,10.5,9.5,11.3]\n",
    "))\n",
    "fig = px.scatter(df, x=\"x\", y=\"y\", title=\"Simple scatter\",width=500, height=400) \n",
    "fig.show()"
   ]
  },
  {
   "cell_type": "code",
   "execution_count": 43,
   "id": "248891c8",
   "metadata": {},
   "outputs": [],
   "source": [
    "import plotly.graph_objects as go\n",
    "import numpy as np"
   ]
  },
  {
   "cell_type": "code",
   "execution_count": 44,
   "id": "5b627f29",
   "metadata": {},
   "outputs": [
    {
     "data": {
      "application/vnd.plotly.v1+json": {
       "config": {
        "plotlyServerURL": "https://plot.ly"
       },
       "data": [
        {
         "marker": {
          "color": "blue",
          "size": 5
         },
         "mode": "markers",
         "type": "scatter3d",
         "x": [
          0,
          0.12693303650867852,
          0.25386607301735703,
          0.3807991095260356,
          0.5077321460347141,
          0.6346651825433925,
          0.7615982190520711,
          0.8885312555607496,
          1.0154642920694281,
          1.1423973285781066,
          1.269330365086785,
          1.3962634015954636,
          1.5231964381041423,
          1.6501294746128208,
          1.7770625111214993,
          1.9039955476301778,
          2.0309285841388562,
          2.1578616206475347,
          2.284794657156213,
          2.4117276936648917,
          2.53866073017357,
          2.6655937666822487,
          2.792526803190927,
          2.9194598396996057,
          3.0463928762082846,
          3.173325912716963,
          3.3002589492256416,
          3.42719198573432,
          3.5541250222429985,
          3.681058058751677,
          3.8079910952603555,
          3.934924131769034,
          4.0618571682777125,
          4.188790204786391,
          4.3157232412950695,
          4.442656277803748,
          4.569589314312426,
          4.696522350821105,
          4.823455387329783,
          4.950388423838462,
          5.07732146034714,
          5.204254496855819,
          5.331187533364497,
          5.458120569873176,
          5.585053606381854,
          5.711986642890533,
          5.838919679399211,
          5.96585271590789,
          6.092785752416569,
          6.219718788925247,
          6.346651825433926,
          6.473584861942604,
          6.600517898451283,
          6.727450934959961,
          6.85438397146864,
          6.981317007977318,
          7.108250044485997,
          7.235183080994675,
          7.362116117503354,
          7.489049154012032,
          7.615982190520711,
          7.742915227029389,
          7.869848263538068,
          7.996781300046746,
          8.123714336555425,
          8.250647373064103,
          8.377580409572783,
          8.50451344608146,
          8.631446482590139,
          8.758379519098817,
          8.885312555607497,
          9.012245592116175,
          9.139178628624853,
          9.266111665133531,
          9.39304470164221,
          9.519977738150889,
          9.646910774659567,
          9.773843811168245,
          9.900776847676925,
          10.027709884185603,
          10.15464292069428,
          10.28157595720296,
          10.408508993711639,
          10.535442030220317,
          10.662375066728995,
          10.789308103237675,
          10.916241139746353,
          11.04317417625503,
          11.170107212763709,
          11.297040249272388,
          11.423973285781067,
          11.550906322289745,
          11.677839358798423,
          11.804772395307102,
          11.93170543181578,
          12.058638468324459,
          12.185571504833138,
          12.312504541341816,
          12.439437577850494,
          12.566370614359172
         ],
         "y": [
          0,
          0.12659245357374926,
          0.2511479871810792,
          0.3716624556603276,
          0.4861967361004687,
          0.5929079290546404,
          0.690079011482112,
          0.7761464642917568,
          0.8497254299495144,
          0.9096319953545183,
          0.9549022414440739,
          0.984807753012208,
          0.998867339183008,
          0.9968547759519424,
          0.9788024462147787,
          0.9450008187146685,
          0.8959937742913359,
          0.8325698546347714,
          0.7557495743542583,
          0.6667690005162916,
          0.5670598638627709,
          0.4582265217274105,
          0.3420201433256689,
          0.2203105327865408,
          0.09505604330418244,
          -0.03172793349806786,
          -0.15800139597335008,
          -0.28173255684142984,
          -0.4009305354066138,
          -0.5136773915734064,
          -0.6181589862206053,
          -0.7126941713788629,
          -0.7957618405308321,
          -0.8660254037844388,
          -0.9223542941045814,
          -0.9638421585599422,
          -0.9898214418809327,
          -0.9998741276738751,
          -0.9938384644612541,
          -0.9718115683235417,
          -0.9341478602651068,
          -0.881453363447582,
          -0.8145759520503358,
          -0.7345917086575331,
          -0.6427876096865396,
          -0.5406408174555974,
          -0.4297949120891719,
          -0.31203344569848707,
          -0.18925124436040974,
          -0.06342391965656452,
          0.06342391965656492,
          0.18925124436041013,
          0.31203344569848745,
          0.42979491208917153,
          0.5406408174555978,
          0.6427876096865393,
          0.7345917086575334,
          0.8145759520503356,
          0.8814533634475821,
          0.9341478602651067,
          0.9718115683235418,
          0.9938384644612541,
          0.9998741276738751,
          0.9898214418809328,
          0.963842158559942,
          0.9223542941045816,
          0.8660254037844383,
          0.7957618405308319,
          0.7126941713788629,
          0.6181589862206056,
          0.5136773915734058,
          0.40093053540661344,
          0.2817325568414299,
          0.15800139597335056,
          0.03172793349806701,
          -0.09505604330418282,
          -0.22031053278654034,
          -0.342020143325668,
          -0.45822652172741085,
          -0.5670598638627707,
          -0.6667690005162913,
          -0.7557495743542588,
          -0.8325698546347716,
          -0.8959937742913359,
          -0.9450008187146683,
          -0.9788024462147789,
          -0.9968547759519424,
          -0.998867339183008,
          -0.9848077530122081,
          -0.9549022414440737,
          -0.9096319953545183,
          -0.8497254299495145,
          -0.7761464642917573,
          -0.6900790114821116,
          -0.5929079290546404,
          -0.486196736100469,
          -0.3716624556603267,
          -0.2511479871810788,
          -0.1265924535737493,
          -4.898587196589413e-16
         ],
         "z": [
          7.27847625652429,
          11.267844345702496,
          12.816386115065423,
          14.570191406974393,
          6.191130688975204,
          6.880195775475785,
          12.59068816278443,
          7.109719619171856,
          12.52540352886059,
          6.416242737130767,
          14.386079836254392,
          7.577508559629892,
          11.954598391039635,
          8.931708660024226,
          9.584291552919332,
          0.15396627025226484,
          12.056450419112505,
          11.71284177311696,
          3.9450078834813014,
          4.279387688252984,
          9.808427542161326,
          11.017165170414218,
          10.354753475468856,
          9.093842858438638,
          5.700056947869856,
          1.1058846286198054,
          9.322885827426395,
          13.836974077693174,
          11.905573490403256,
          13.999684779612815,
          3.602639139986289,
          11.852676104093337,
          1.7827525174407461,
          9.130938795531419,
          6.017474640429985,
          3.029136637244445,
          6.391260472254034,
          8.574371863890201,
          14.827562411436329,
          6.0023009595122705,
          0.2961920418897396,
          7.045457818905388,
          2.6713414882679287,
          7.749137577711339,
          4.829056615026886,
          14.004286596840526,
          0.33816719436375486,
          8.156202035774122,
          0.19558903880760203,
          10.02343780757637,
          9.036932573154143,
          9.324866047018533,
          5.040740177035008,
          1.5416820076747966,
          2.85110817821884,
          1.6212553937838126,
          7.26546834900175,
          5.467237192104385,
          3.6727683006752088,
          5.1530258164239955,
          3.722842993368762,
          1.0866278849149713,
          7.381385849265058,
          10.4270716269653,
          14.537548735697406,
          14.521623824607538,
          6.819154197540043,
          2.9690074384005283,
          9.788063627137923,
          9.803575406329593,
          10.830297760553167,
          12.894664326410402,
          7.6894371964970345,
          11.75882141194787,
          9.597484691015152,
          2.870166405239773,
          14.372979293546768,
          9.896205811237325,
          14.320562439096095,
          5.292222163792256,
          6.144599520635337,
          1.865649238812244,
          6.265929336570673,
          5.903032447156211,
          1.9977533933962404,
          2.191704055888788,
          9.855401670798441,
          12.33952052246351,
          12.399026496093027,
          3.7615548678829973,
          2.512724725430326,
          7.8759806281485485,
          7.587703525858402,
          4.203918892043637,
          14.218063137165224,
          1.502640989951055,
          2.2243337589198964,
          14.831348433585818,
          7.335189901543443,
          4.994888153378593
         ]
        }
       ],
       "layout": {
        "template": {
         "data": {
          "bar": [
           {
            "error_x": {
             "color": "#2a3f5f"
            },
            "error_y": {
             "color": "#2a3f5f"
            },
            "marker": {
             "line": {
              "color": "#E5ECF6",
              "width": 0.5
             },
             "pattern": {
              "fillmode": "overlay",
              "size": 10,
              "solidity": 0.2
             }
            },
            "type": "bar"
           }
          ],
          "barpolar": [
           {
            "marker": {
             "line": {
              "color": "#E5ECF6",
              "width": 0.5
             },
             "pattern": {
              "fillmode": "overlay",
              "size": 10,
              "solidity": 0.2
             }
            },
            "type": "barpolar"
           }
          ],
          "carpet": [
           {
            "aaxis": {
             "endlinecolor": "#2a3f5f",
             "gridcolor": "white",
             "linecolor": "white",
             "minorgridcolor": "white",
             "startlinecolor": "#2a3f5f"
            },
            "baxis": {
             "endlinecolor": "#2a3f5f",
             "gridcolor": "white",
             "linecolor": "white",
             "minorgridcolor": "white",
             "startlinecolor": "#2a3f5f"
            },
            "type": "carpet"
           }
          ],
          "choropleth": [
           {
            "colorbar": {
             "outlinewidth": 0,
             "ticks": ""
            },
            "type": "choropleth"
           }
          ],
          "contour": [
           {
            "colorbar": {
             "outlinewidth": 0,
             "ticks": ""
            },
            "colorscale": [
             [
              0,
              "#0d0887"
             ],
             [
              0.1111111111111111,
              "#46039f"
             ],
             [
              0.2222222222222222,
              "#7201a8"
             ],
             [
              0.3333333333333333,
              "#9c179e"
             ],
             [
              0.4444444444444444,
              "#bd3786"
             ],
             [
              0.5555555555555556,
              "#d8576b"
             ],
             [
              0.6666666666666666,
              "#ed7953"
             ],
             [
              0.7777777777777778,
              "#fb9f3a"
             ],
             [
              0.8888888888888888,
              "#fdca26"
             ],
             [
              1,
              "#f0f921"
             ]
            ],
            "type": "contour"
           }
          ],
          "contourcarpet": [
           {
            "colorbar": {
             "outlinewidth": 0,
             "ticks": ""
            },
            "type": "contourcarpet"
           }
          ],
          "heatmap": [
           {
            "colorbar": {
             "outlinewidth": 0,
             "ticks": ""
            },
            "colorscale": [
             [
              0,
              "#0d0887"
             ],
             [
              0.1111111111111111,
              "#46039f"
             ],
             [
              0.2222222222222222,
              "#7201a8"
             ],
             [
              0.3333333333333333,
              "#9c179e"
             ],
             [
              0.4444444444444444,
              "#bd3786"
             ],
             [
              0.5555555555555556,
              "#d8576b"
             ],
             [
              0.6666666666666666,
              "#ed7953"
             ],
             [
              0.7777777777777778,
              "#fb9f3a"
             ],
             [
              0.8888888888888888,
              "#fdca26"
             ],
             [
              1,
              "#f0f921"
             ]
            ],
            "type": "heatmap"
           }
          ],
          "heatmapgl": [
           {
            "colorbar": {
             "outlinewidth": 0,
             "ticks": ""
            },
            "colorscale": [
             [
              0,
              "#0d0887"
             ],
             [
              0.1111111111111111,
              "#46039f"
             ],
             [
              0.2222222222222222,
              "#7201a8"
             ],
             [
              0.3333333333333333,
              "#9c179e"
             ],
             [
              0.4444444444444444,
              "#bd3786"
             ],
             [
              0.5555555555555556,
              "#d8576b"
             ],
             [
              0.6666666666666666,
              "#ed7953"
             ],
             [
              0.7777777777777778,
              "#fb9f3a"
             ],
             [
              0.8888888888888888,
              "#fdca26"
             ],
             [
              1,
              "#f0f921"
             ]
            ],
            "type": "heatmapgl"
           }
          ],
          "histogram": [
           {
            "marker": {
             "pattern": {
              "fillmode": "overlay",
              "size": 10,
              "solidity": 0.2
             }
            },
            "type": "histogram"
           }
          ],
          "histogram2d": [
           {
            "colorbar": {
             "outlinewidth": 0,
             "ticks": ""
            },
            "colorscale": [
             [
              0,
              "#0d0887"
             ],
             [
              0.1111111111111111,
              "#46039f"
             ],
             [
              0.2222222222222222,
              "#7201a8"
             ],
             [
              0.3333333333333333,
              "#9c179e"
             ],
             [
              0.4444444444444444,
              "#bd3786"
             ],
             [
              0.5555555555555556,
              "#d8576b"
             ],
             [
              0.6666666666666666,
              "#ed7953"
             ],
             [
              0.7777777777777778,
              "#fb9f3a"
             ],
             [
              0.8888888888888888,
              "#fdca26"
             ],
             [
              1,
              "#f0f921"
             ]
            ],
            "type": "histogram2d"
           }
          ],
          "histogram2dcontour": [
           {
            "colorbar": {
             "outlinewidth": 0,
             "ticks": ""
            },
            "colorscale": [
             [
              0,
              "#0d0887"
             ],
             [
              0.1111111111111111,
              "#46039f"
             ],
             [
              0.2222222222222222,
              "#7201a8"
             ],
             [
              0.3333333333333333,
              "#9c179e"
             ],
             [
              0.4444444444444444,
              "#bd3786"
             ],
             [
              0.5555555555555556,
              "#d8576b"
             ],
             [
              0.6666666666666666,
              "#ed7953"
             ],
             [
              0.7777777777777778,
              "#fb9f3a"
             ],
             [
              0.8888888888888888,
              "#fdca26"
             ],
             [
              1,
              "#f0f921"
             ]
            ],
            "type": "histogram2dcontour"
           }
          ],
          "mesh3d": [
           {
            "colorbar": {
             "outlinewidth": 0,
             "ticks": ""
            },
            "type": "mesh3d"
           }
          ],
          "parcoords": [
           {
            "line": {
             "colorbar": {
              "outlinewidth": 0,
              "ticks": ""
             }
            },
            "type": "parcoords"
           }
          ],
          "pie": [
           {
            "automargin": true,
            "type": "pie"
           }
          ],
          "scatter": [
           {
            "marker": {
             "colorbar": {
              "outlinewidth": 0,
              "ticks": ""
             }
            },
            "type": "scatter"
           }
          ],
          "scatter3d": [
           {
            "line": {
             "colorbar": {
              "outlinewidth": 0,
              "ticks": ""
             }
            },
            "marker": {
             "colorbar": {
              "outlinewidth": 0,
              "ticks": ""
             }
            },
            "type": "scatter3d"
           }
          ],
          "scattercarpet": [
           {
            "marker": {
             "colorbar": {
              "outlinewidth": 0,
              "ticks": ""
             }
            },
            "type": "scattercarpet"
           }
          ],
          "scattergeo": [
           {
            "marker": {
             "colorbar": {
              "outlinewidth": 0,
              "ticks": ""
             }
            },
            "type": "scattergeo"
           }
          ],
          "scattergl": [
           {
            "marker": {
             "colorbar": {
              "outlinewidth": 0,
              "ticks": ""
             }
            },
            "type": "scattergl"
           }
          ],
          "scattermapbox": [
           {
            "marker": {
             "colorbar": {
              "outlinewidth": 0,
              "ticks": ""
             }
            },
            "type": "scattermapbox"
           }
          ],
          "scatterpolar": [
           {
            "marker": {
             "colorbar": {
              "outlinewidth": 0,
              "ticks": ""
             }
            },
            "type": "scatterpolar"
           }
          ],
          "scatterpolargl": [
           {
            "marker": {
             "colorbar": {
              "outlinewidth": 0,
              "ticks": ""
             }
            },
            "type": "scatterpolargl"
           }
          ],
          "scatterternary": [
           {
            "marker": {
             "colorbar": {
              "outlinewidth": 0,
              "ticks": ""
             }
            },
            "type": "scatterternary"
           }
          ],
          "surface": [
           {
            "colorbar": {
             "outlinewidth": 0,
             "ticks": ""
            },
            "colorscale": [
             [
              0,
              "#0d0887"
             ],
             [
              0.1111111111111111,
              "#46039f"
             ],
             [
              0.2222222222222222,
              "#7201a8"
             ],
             [
              0.3333333333333333,
              "#9c179e"
             ],
             [
              0.4444444444444444,
              "#bd3786"
             ],
             [
              0.5555555555555556,
              "#d8576b"
             ],
             [
              0.6666666666666666,
              "#ed7953"
             ],
             [
              0.7777777777777778,
              "#fb9f3a"
             ],
             [
              0.8888888888888888,
              "#fdca26"
             ],
             [
              1,
              "#f0f921"
             ]
            ],
            "type": "surface"
           }
          ],
          "table": [
           {
            "cells": {
             "fill": {
              "color": "#EBF0F8"
             },
             "line": {
              "color": "white"
             }
            },
            "header": {
             "fill": {
              "color": "#C8D4E3"
             },
             "line": {
              "color": "white"
             }
            },
            "type": "table"
           }
          ]
         },
         "layout": {
          "annotationdefaults": {
           "arrowcolor": "#2a3f5f",
           "arrowhead": 0,
           "arrowwidth": 1
          },
          "autotypenumbers": "strict",
          "coloraxis": {
           "colorbar": {
            "outlinewidth": 0,
            "ticks": ""
           }
          },
          "colorscale": {
           "diverging": [
            [
             0,
             "#8e0152"
            ],
            [
             0.1,
             "#c51b7d"
            ],
            [
             0.2,
             "#de77ae"
            ],
            [
             0.3,
             "#f1b6da"
            ],
            [
             0.4,
             "#fde0ef"
            ],
            [
             0.5,
             "#f7f7f7"
            ],
            [
             0.6,
             "#e6f5d0"
            ],
            [
             0.7,
             "#b8e186"
            ],
            [
             0.8,
             "#7fbc41"
            ],
            [
             0.9,
             "#4d9221"
            ],
            [
             1,
             "#276419"
            ]
           ],
           "sequential": [
            [
             0,
             "#0d0887"
            ],
            [
             0.1111111111111111,
             "#46039f"
            ],
            [
             0.2222222222222222,
             "#7201a8"
            ],
            [
             0.3333333333333333,
             "#9c179e"
            ],
            [
             0.4444444444444444,
             "#bd3786"
            ],
            [
             0.5555555555555556,
             "#d8576b"
            ],
            [
             0.6666666666666666,
             "#ed7953"
            ],
            [
             0.7777777777777778,
             "#fb9f3a"
            ],
            [
             0.8888888888888888,
             "#fdca26"
            ],
            [
             1,
             "#f0f921"
            ]
           ],
           "sequentialminus": [
            [
             0,
             "#0d0887"
            ],
            [
             0.1111111111111111,
             "#46039f"
            ],
            [
             0.2222222222222222,
             "#7201a8"
            ],
            [
             0.3333333333333333,
             "#9c179e"
            ],
            [
             0.4444444444444444,
             "#bd3786"
            ],
            [
             0.5555555555555556,
             "#d8576b"
            ],
            [
             0.6666666666666666,
             "#ed7953"
            ],
            [
             0.7777777777777778,
             "#fb9f3a"
            ],
            [
             0.8888888888888888,
             "#fdca26"
            ],
            [
             1,
             "#f0f921"
            ]
           ]
          },
          "colorway": [
           "#636efa",
           "#EF553B",
           "#00cc96",
           "#ab63fa",
           "#FFA15A",
           "#19d3f3",
           "#FF6692",
           "#B6E880",
           "#FF97FF",
           "#FECB52"
          ],
          "font": {
           "color": "#2a3f5f"
          },
          "geo": {
           "bgcolor": "white",
           "lakecolor": "white",
           "landcolor": "#E5ECF6",
           "showlakes": true,
           "showland": true,
           "subunitcolor": "white"
          },
          "hoverlabel": {
           "align": "left"
          },
          "hovermode": "closest",
          "mapbox": {
           "style": "light"
          },
          "paper_bgcolor": "white",
          "plot_bgcolor": "#E5ECF6",
          "polar": {
           "angularaxis": {
            "gridcolor": "white",
            "linecolor": "white",
            "ticks": ""
           },
           "bgcolor": "#E5ECF6",
           "radialaxis": {
            "gridcolor": "white",
            "linecolor": "white",
            "ticks": ""
           }
          },
          "scene": {
           "xaxis": {
            "backgroundcolor": "#E5ECF6",
            "gridcolor": "white",
            "gridwidth": 2,
            "linecolor": "white",
            "showbackground": true,
            "ticks": "",
            "zerolinecolor": "white"
           },
           "yaxis": {
            "backgroundcolor": "#E5ECF6",
            "gridcolor": "white",
            "gridwidth": 2,
            "linecolor": "white",
            "showbackground": true,
            "ticks": "",
            "zerolinecolor": "white"
           },
           "zaxis": {
            "backgroundcolor": "#E5ECF6",
            "gridcolor": "white",
            "gridwidth": 2,
            "linecolor": "white",
            "showbackground": true,
            "ticks": "",
            "zerolinecolor": "white"
           }
          },
          "shapedefaults": {
           "line": {
            "color": "#2a3f5f"
           }
          },
          "ternary": {
           "aaxis": {
            "gridcolor": "white",
            "linecolor": "white",
            "ticks": ""
           },
           "baxis": {
            "gridcolor": "white",
            "linecolor": "white",
            "ticks": ""
           },
           "bgcolor": "#E5ECF6",
           "caxis": {
            "gridcolor": "white",
            "linecolor": "white",
            "ticks": ""
           }
          },
          "title": {
           "x": 0.05
          },
          "xaxis": {
           "automargin": true,
           "gridcolor": "white",
           "linecolor": "white",
           "ticks": "",
           "title": {
            "standoff": 15
           },
           "zerolinecolor": "white",
           "zerolinewidth": 2
          },
          "yaxis": {
           "automargin": true,
           "gridcolor": "white",
           "linecolor": "white",
           "ticks": "",
           "title": {
            "standoff": 15
           },
           "zerolinecolor": "white",
           "zerolinewidth": 2
          }
         }
        }
       }
      },
      "text/html": [
       "<div>                            <div id=\"c9bc247b-139f-4c51-ac58-79ae0ba70a40\" class=\"plotly-graph-div\" style=\"height:525px; width:100%;\"></div>            <script type=\"text/javascript\">                require([\"plotly\"], function(Plotly) {                    window.PLOTLYENV=window.PLOTLYENV || {};                                    if (document.getElementById(\"c9bc247b-139f-4c51-ac58-79ae0ba70a40\")) {                    Plotly.newPlot(                        \"c9bc247b-139f-4c51-ac58-79ae0ba70a40\",                        [{\"marker\":{\"color\":\"blue\",\"size\":5},\"mode\":\"markers\",\"type\":\"scatter3d\",\"x\":[0.0,0.12693303650867852,0.25386607301735703,0.3807991095260356,0.5077321460347141,0.6346651825433925,0.7615982190520711,0.8885312555607496,1.0154642920694281,1.1423973285781066,1.269330365086785,1.3962634015954636,1.5231964381041423,1.6501294746128208,1.7770625111214993,1.9039955476301778,2.0309285841388562,2.1578616206475347,2.284794657156213,2.4117276936648917,2.53866073017357,2.6655937666822487,2.792526803190927,2.9194598396996057,3.0463928762082846,3.173325912716963,3.3002589492256416,3.42719198573432,3.5541250222429985,3.681058058751677,3.8079910952603555,3.934924131769034,4.0618571682777125,4.188790204786391,4.3157232412950695,4.442656277803748,4.569589314312426,4.696522350821105,4.823455387329783,4.950388423838462,5.07732146034714,5.204254496855819,5.331187533364497,5.458120569873176,5.585053606381854,5.711986642890533,5.838919679399211,5.96585271590789,6.092785752416569,6.219718788925247,6.346651825433926,6.473584861942604,6.600517898451283,6.727450934959961,6.85438397146864,6.981317007977318,7.108250044485997,7.235183080994675,7.362116117503354,7.489049154012032,7.615982190520711,7.742915227029389,7.869848263538068,7.996781300046746,8.123714336555425,8.250647373064103,8.377580409572783,8.50451344608146,8.631446482590139,8.758379519098817,8.885312555607497,9.012245592116175,9.139178628624853,9.266111665133531,9.39304470164221,9.519977738150889,9.646910774659567,9.773843811168245,9.900776847676925,10.027709884185603,10.15464292069428,10.28157595720296,10.408508993711639,10.535442030220317,10.662375066728995,10.789308103237675,10.916241139746353,11.04317417625503,11.170107212763709,11.297040249272388,11.423973285781067,11.550906322289745,11.677839358798423,11.804772395307102,11.93170543181578,12.058638468324459,12.185571504833138,12.312504541341816,12.439437577850494,12.566370614359172],\"y\":[0.0,0.12659245357374926,0.2511479871810792,0.3716624556603276,0.4861967361004687,0.5929079290546404,0.690079011482112,0.7761464642917568,0.8497254299495144,0.9096319953545183,0.9549022414440739,0.984807753012208,0.998867339183008,0.9968547759519424,0.9788024462147787,0.9450008187146685,0.8959937742913359,0.8325698546347714,0.7557495743542583,0.6667690005162916,0.5670598638627709,0.4582265217274105,0.3420201433256689,0.2203105327865408,0.09505604330418244,-0.03172793349806786,-0.15800139597335008,-0.28173255684142984,-0.4009305354066138,-0.5136773915734064,-0.6181589862206053,-0.7126941713788629,-0.7957618405308321,-0.8660254037844388,-0.9223542941045814,-0.9638421585599422,-0.9898214418809327,-0.9998741276738751,-0.9938384644612541,-0.9718115683235417,-0.9341478602651068,-0.881453363447582,-0.8145759520503358,-0.7345917086575331,-0.6427876096865396,-0.5406408174555974,-0.4297949120891719,-0.31203344569848707,-0.18925124436040974,-0.06342391965656452,0.06342391965656492,0.18925124436041013,0.31203344569848745,0.42979491208917153,0.5406408174555978,0.6427876096865393,0.7345917086575334,0.8145759520503356,0.8814533634475821,0.9341478602651067,0.9718115683235418,0.9938384644612541,0.9998741276738751,0.9898214418809328,0.963842158559942,0.9223542941045816,0.8660254037844383,0.7957618405308319,0.7126941713788629,0.6181589862206056,0.5136773915734058,0.40093053540661344,0.2817325568414299,0.15800139597335056,0.03172793349806701,-0.09505604330418282,-0.22031053278654034,-0.342020143325668,-0.45822652172741085,-0.5670598638627707,-0.6667690005162913,-0.7557495743542588,-0.8325698546347716,-0.8959937742913359,-0.9450008187146683,-0.9788024462147789,-0.9968547759519424,-0.998867339183008,-0.9848077530122081,-0.9549022414440737,-0.9096319953545183,-0.8497254299495145,-0.7761464642917573,-0.6900790114821116,-0.5929079290546404,-0.486196736100469,-0.3716624556603267,-0.2511479871810788,-0.1265924535737493,-4.898587196589413e-16],\"z\":[7.27847625652429,11.267844345702496,12.816386115065423,14.570191406974393,6.191130688975204,6.880195775475785,12.59068816278443,7.109719619171856,12.52540352886059,6.416242737130767,14.386079836254392,7.577508559629892,11.954598391039635,8.931708660024226,9.584291552919332,0.15396627025226484,12.056450419112505,11.71284177311696,3.9450078834813014,4.279387688252984,9.808427542161326,11.017165170414218,10.354753475468856,9.093842858438638,5.700056947869856,1.1058846286198054,9.322885827426395,13.836974077693174,11.905573490403256,13.999684779612815,3.602639139986289,11.852676104093337,1.7827525174407461,9.130938795531419,6.017474640429985,3.029136637244445,6.391260472254034,8.574371863890201,14.827562411436329,6.0023009595122705,0.2961920418897396,7.045457818905388,2.6713414882679287,7.749137577711339,4.829056615026886,14.004286596840526,0.33816719436375486,8.156202035774122,0.19558903880760203,10.02343780757637,9.036932573154143,9.324866047018533,5.040740177035008,1.5416820076747966,2.85110817821884,1.6212553937838126,7.26546834900175,5.467237192104385,3.6727683006752088,5.1530258164239955,3.722842993368762,1.0866278849149713,7.381385849265058,10.4270716269653,14.537548735697406,14.521623824607538,6.819154197540043,2.9690074384005283,9.788063627137923,9.803575406329593,10.830297760553167,12.894664326410402,7.6894371964970345,11.75882141194787,9.597484691015152,2.870166405239773,14.372979293546768,9.896205811237325,14.320562439096095,5.292222163792256,6.144599520635337,1.865649238812244,6.265929336570673,5.903032447156211,1.9977533933962404,2.191704055888788,9.855401670798441,12.33952052246351,12.399026496093027,3.7615548678829973,2.512724725430326,7.8759806281485485,7.587703525858402,4.203918892043637,14.218063137165224,1.502640989951055,2.2243337589198964,14.831348433585818,7.335189901543443,4.994888153378593]}],                        {\"template\":{\"data\":{\"bar\":[{\"error_x\":{\"color\":\"#2a3f5f\"},\"error_y\":{\"color\":\"#2a3f5f\"},\"marker\":{\"line\":{\"color\":\"#E5ECF6\",\"width\":0.5},\"pattern\":{\"fillmode\":\"overlay\",\"size\":10,\"solidity\":0.2}},\"type\":\"bar\"}],\"barpolar\":[{\"marker\":{\"line\":{\"color\":\"#E5ECF6\",\"width\":0.5},\"pattern\":{\"fillmode\":\"overlay\",\"size\":10,\"solidity\":0.2}},\"type\":\"barpolar\"}],\"carpet\":[{\"aaxis\":{\"endlinecolor\":\"#2a3f5f\",\"gridcolor\":\"white\",\"linecolor\":\"white\",\"minorgridcolor\":\"white\",\"startlinecolor\":\"#2a3f5f\"},\"baxis\":{\"endlinecolor\":\"#2a3f5f\",\"gridcolor\":\"white\",\"linecolor\":\"white\",\"minorgridcolor\":\"white\",\"startlinecolor\":\"#2a3f5f\"},\"type\":\"carpet\"}],\"choropleth\":[{\"colorbar\":{\"outlinewidth\":0,\"ticks\":\"\"},\"type\":\"choropleth\"}],\"contour\":[{\"colorbar\":{\"outlinewidth\":0,\"ticks\":\"\"},\"colorscale\":[[0.0,\"#0d0887\"],[0.1111111111111111,\"#46039f\"],[0.2222222222222222,\"#7201a8\"],[0.3333333333333333,\"#9c179e\"],[0.4444444444444444,\"#bd3786\"],[0.5555555555555556,\"#d8576b\"],[0.6666666666666666,\"#ed7953\"],[0.7777777777777778,\"#fb9f3a\"],[0.8888888888888888,\"#fdca26\"],[1.0,\"#f0f921\"]],\"type\":\"contour\"}],\"contourcarpet\":[{\"colorbar\":{\"outlinewidth\":0,\"ticks\":\"\"},\"type\":\"contourcarpet\"}],\"heatmap\":[{\"colorbar\":{\"outlinewidth\":0,\"ticks\":\"\"},\"colorscale\":[[0.0,\"#0d0887\"],[0.1111111111111111,\"#46039f\"],[0.2222222222222222,\"#7201a8\"],[0.3333333333333333,\"#9c179e\"],[0.4444444444444444,\"#bd3786\"],[0.5555555555555556,\"#d8576b\"],[0.6666666666666666,\"#ed7953\"],[0.7777777777777778,\"#fb9f3a\"],[0.8888888888888888,\"#fdca26\"],[1.0,\"#f0f921\"]],\"type\":\"heatmap\"}],\"heatmapgl\":[{\"colorbar\":{\"outlinewidth\":0,\"ticks\":\"\"},\"colorscale\":[[0.0,\"#0d0887\"],[0.1111111111111111,\"#46039f\"],[0.2222222222222222,\"#7201a8\"],[0.3333333333333333,\"#9c179e\"],[0.4444444444444444,\"#bd3786\"],[0.5555555555555556,\"#d8576b\"],[0.6666666666666666,\"#ed7953\"],[0.7777777777777778,\"#fb9f3a\"],[0.8888888888888888,\"#fdca26\"],[1.0,\"#f0f921\"]],\"type\":\"heatmapgl\"}],\"histogram\":[{\"marker\":{\"pattern\":{\"fillmode\":\"overlay\",\"size\":10,\"solidity\":0.2}},\"type\":\"histogram\"}],\"histogram2d\":[{\"colorbar\":{\"outlinewidth\":0,\"ticks\":\"\"},\"colorscale\":[[0.0,\"#0d0887\"],[0.1111111111111111,\"#46039f\"],[0.2222222222222222,\"#7201a8\"],[0.3333333333333333,\"#9c179e\"],[0.4444444444444444,\"#bd3786\"],[0.5555555555555556,\"#d8576b\"],[0.6666666666666666,\"#ed7953\"],[0.7777777777777778,\"#fb9f3a\"],[0.8888888888888888,\"#fdca26\"],[1.0,\"#f0f921\"]],\"type\":\"histogram2d\"}],\"histogram2dcontour\":[{\"colorbar\":{\"outlinewidth\":0,\"ticks\":\"\"},\"colorscale\":[[0.0,\"#0d0887\"],[0.1111111111111111,\"#46039f\"],[0.2222222222222222,\"#7201a8\"],[0.3333333333333333,\"#9c179e\"],[0.4444444444444444,\"#bd3786\"],[0.5555555555555556,\"#d8576b\"],[0.6666666666666666,\"#ed7953\"],[0.7777777777777778,\"#fb9f3a\"],[0.8888888888888888,\"#fdca26\"],[1.0,\"#f0f921\"]],\"type\":\"histogram2dcontour\"}],\"mesh3d\":[{\"colorbar\":{\"outlinewidth\":0,\"ticks\":\"\"},\"type\":\"mesh3d\"}],\"parcoords\":[{\"line\":{\"colorbar\":{\"outlinewidth\":0,\"ticks\":\"\"}},\"type\":\"parcoords\"}],\"pie\":[{\"automargin\":true,\"type\":\"pie\"}],\"scatter\":[{\"marker\":{\"colorbar\":{\"outlinewidth\":0,\"ticks\":\"\"}},\"type\":\"scatter\"}],\"scatter3d\":[{\"line\":{\"colorbar\":{\"outlinewidth\":0,\"ticks\":\"\"}},\"marker\":{\"colorbar\":{\"outlinewidth\":0,\"ticks\":\"\"}},\"type\":\"scatter3d\"}],\"scattercarpet\":[{\"marker\":{\"colorbar\":{\"outlinewidth\":0,\"ticks\":\"\"}},\"type\":\"scattercarpet\"}],\"scattergeo\":[{\"marker\":{\"colorbar\":{\"outlinewidth\":0,\"ticks\":\"\"}},\"type\":\"scattergeo\"}],\"scattergl\":[{\"marker\":{\"colorbar\":{\"outlinewidth\":0,\"ticks\":\"\"}},\"type\":\"scattergl\"}],\"scattermapbox\":[{\"marker\":{\"colorbar\":{\"outlinewidth\":0,\"ticks\":\"\"}},\"type\":\"scattermapbox\"}],\"scatterpolar\":[{\"marker\":{\"colorbar\":{\"outlinewidth\":0,\"ticks\":\"\"}},\"type\":\"scatterpolar\"}],\"scatterpolargl\":[{\"marker\":{\"colorbar\":{\"outlinewidth\":0,\"ticks\":\"\"}},\"type\":\"scatterpolargl\"}],\"scatterternary\":[{\"marker\":{\"colorbar\":{\"outlinewidth\":0,\"ticks\":\"\"}},\"type\":\"scatterternary\"}],\"surface\":[{\"colorbar\":{\"outlinewidth\":0,\"ticks\":\"\"},\"colorscale\":[[0.0,\"#0d0887\"],[0.1111111111111111,\"#46039f\"],[0.2222222222222222,\"#7201a8\"],[0.3333333333333333,\"#9c179e\"],[0.4444444444444444,\"#bd3786\"],[0.5555555555555556,\"#d8576b\"],[0.6666666666666666,\"#ed7953\"],[0.7777777777777778,\"#fb9f3a\"],[0.8888888888888888,\"#fdca26\"],[1.0,\"#f0f921\"]],\"type\":\"surface\"}],\"table\":[{\"cells\":{\"fill\":{\"color\":\"#EBF0F8\"},\"line\":{\"color\":\"white\"}},\"header\":{\"fill\":{\"color\":\"#C8D4E3\"},\"line\":{\"color\":\"white\"}},\"type\":\"table\"}]},\"layout\":{\"annotationdefaults\":{\"arrowcolor\":\"#2a3f5f\",\"arrowhead\":0,\"arrowwidth\":1},\"autotypenumbers\":\"strict\",\"coloraxis\":{\"colorbar\":{\"outlinewidth\":0,\"ticks\":\"\"}},\"colorscale\":{\"diverging\":[[0,\"#8e0152\"],[0.1,\"#c51b7d\"],[0.2,\"#de77ae\"],[0.3,\"#f1b6da\"],[0.4,\"#fde0ef\"],[0.5,\"#f7f7f7\"],[0.6,\"#e6f5d0\"],[0.7,\"#b8e186\"],[0.8,\"#7fbc41\"],[0.9,\"#4d9221\"],[1,\"#276419\"]],\"sequential\":[[0.0,\"#0d0887\"],[0.1111111111111111,\"#46039f\"],[0.2222222222222222,\"#7201a8\"],[0.3333333333333333,\"#9c179e\"],[0.4444444444444444,\"#bd3786\"],[0.5555555555555556,\"#d8576b\"],[0.6666666666666666,\"#ed7953\"],[0.7777777777777778,\"#fb9f3a\"],[0.8888888888888888,\"#fdca26\"],[1.0,\"#f0f921\"]],\"sequentialminus\":[[0.0,\"#0d0887\"],[0.1111111111111111,\"#46039f\"],[0.2222222222222222,\"#7201a8\"],[0.3333333333333333,\"#9c179e\"],[0.4444444444444444,\"#bd3786\"],[0.5555555555555556,\"#d8576b\"],[0.6666666666666666,\"#ed7953\"],[0.7777777777777778,\"#fb9f3a\"],[0.8888888888888888,\"#fdca26\"],[1.0,\"#f0f921\"]]},\"colorway\":[\"#636efa\",\"#EF553B\",\"#00cc96\",\"#ab63fa\",\"#FFA15A\",\"#19d3f3\",\"#FF6692\",\"#B6E880\",\"#FF97FF\",\"#FECB52\"],\"font\":{\"color\":\"#2a3f5f\"},\"geo\":{\"bgcolor\":\"white\",\"lakecolor\":\"white\",\"landcolor\":\"#E5ECF6\",\"showlakes\":true,\"showland\":true,\"subunitcolor\":\"white\"},\"hoverlabel\":{\"align\":\"left\"},\"hovermode\":\"closest\",\"mapbox\":{\"style\":\"light\"},\"paper_bgcolor\":\"white\",\"plot_bgcolor\":\"#E5ECF6\",\"polar\":{\"angularaxis\":{\"gridcolor\":\"white\",\"linecolor\":\"white\",\"ticks\":\"\"},\"bgcolor\":\"#E5ECF6\",\"radialaxis\":{\"gridcolor\":\"white\",\"linecolor\":\"white\",\"ticks\":\"\"}},\"scene\":{\"xaxis\":{\"backgroundcolor\":\"#E5ECF6\",\"gridcolor\":\"white\",\"gridwidth\":2,\"linecolor\":\"white\",\"showbackground\":true,\"ticks\":\"\",\"zerolinecolor\":\"white\"},\"yaxis\":{\"backgroundcolor\":\"#E5ECF6\",\"gridcolor\":\"white\",\"gridwidth\":2,\"linecolor\":\"white\",\"showbackground\":true,\"ticks\":\"\",\"zerolinecolor\":\"white\"},\"zaxis\":{\"backgroundcolor\":\"#E5ECF6\",\"gridcolor\":\"white\",\"gridwidth\":2,\"linecolor\":\"white\",\"showbackground\":true,\"ticks\":\"\",\"zerolinecolor\":\"white\"}},\"shapedefaults\":{\"line\":{\"color\":\"#2a3f5f\"}},\"ternary\":{\"aaxis\":{\"gridcolor\":\"white\",\"linecolor\":\"white\",\"ticks\":\"\"},\"baxis\":{\"gridcolor\":\"white\",\"linecolor\":\"white\",\"ticks\":\"\"},\"bgcolor\":\"#E5ECF6\",\"caxis\":{\"gridcolor\":\"white\",\"linecolor\":\"white\",\"ticks\":\"\"}},\"title\":{\"x\":0.05},\"xaxis\":{\"automargin\":true,\"gridcolor\":\"white\",\"linecolor\":\"white\",\"ticks\":\"\",\"title\":{\"standoff\":15},\"zerolinecolor\":\"white\",\"zerolinewidth\":2},\"yaxis\":{\"automargin\":true,\"gridcolor\":\"white\",\"linecolor\":\"white\",\"ticks\":\"\",\"title\":{\"standoff\":15},\"zerolinecolor\":\"white\",\"zerolinewidth\":2}}}},                        {\"responsive\": true}                    ).then(function(){\n",
       "                            \n",
       "var gd = document.getElementById('c9bc247b-139f-4c51-ac58-79ae0ba70a40');\n",
       "var x = new MutationObserver(function (mutations, observer) {{\n",
       "        var display = window.getComputedStyle(gd).display;\n",
       "        if (!display || display === 'none') {{\n",
       "            console.log([gd, 'removed!']);\n",
       "            Plotly.purge(gd);\n",
       "            observer.disconnect();\n",
       "        }}\n",
       "}});\n",
       "\n",
       "// Listen for the removal of the full notebook cells\n",
       "var notebookContainer = gd.closest('#notebook-container');\n",
       "if (notebookContainer) {{\n",
       "    x.observe(notebookContainer, {childList: true});\n",
       "}}\n",
       "\n",
       "// Listen for the clearing of the current output cell\n",
       "var outputEl = gd.closest('.output');\n",
       "if (outputEl) {{\n",
       "    x.observe(outputEl, {childList: true});\n",
       "}}\n",
       "\n",
       "                        })                };                });            </script>        </div>"
      ]
     },
     "metadata": {},
     "output_type": "display_data"
    }
   ],
   "source": [
    "x = np.linspace(0,4*np.pi,100)\n",
    "  \n",
    "y = np.sin(x)\n",
    "  \n",
    "z = 15 * np.random.random(100)\n",
    "\n",
    "fig = go.Figure(data=[go.Scatter3d(x=x, y=y, z=z,\n",
    "                                   mode='markers',\n",
    "                                   marker = dict(size = 5, \n",
    "                                   color = 'blue'),)]) # model='lines'\n",
    "fig.show()"
   ]
  },
  {
   "cell_type": "code",
   "execution_count": null,
   "id": "219d5cbe",
   "metadata": {},
   "outputs": [],
   "source": []
  }
 ],
 "metadata": {
  "kernelspec": {
   "display_name": "Python 3 (ipykernel)",
   "language": "python",
   "name": "python3"
  },
  "language_info": {
   "codemirror_mode": {
    "name": "ipython",
    "version": 3
   },
   "file_extension": ".py",
   "mimetype": "text/x-python",
   "name": "python",
   "nbconvert_exporter": "python",
   "pygments_lexer": "ipython3",
   "version": "3.9.7"
  }
 },
 "nbformat": 4,
 "nbformat_minor": 5
}
