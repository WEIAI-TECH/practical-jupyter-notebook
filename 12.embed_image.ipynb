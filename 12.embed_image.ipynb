{
 "cells": [
  {
   "cell_type": "markdown",
   "id": "vocal-energy",
   "metadata": {
    "slideshow": {
     "slide_type": "slide"
    }
   },
   "source": [
    "<br />       \n",
    "\n",
    "|<img src='./images/school_logo.png' alt=\"Drawing\" style=\"width:100px;float: left\"/><img width=350;/>|<p style=\"padding-top:8px;padding-bottom:0px;\">Shouke Wei, Ph.D.</p><img width=400;/>| 32| \n",
    "| :--- | :--- | :---:|\n",
    "\n",
    "<h1 style='text-align: center;'>Lesson 12: Embedding Images in Jupyter Notebook</h1>\n",
    "\n",
    "<br /> "
   ]
  },
  {
   "cell_type": "markdown",
   "id": "9f48b4de",
   "metadata": {},
   "source": [
    "## Objective:\n",
    "\n",
    "- learn how to embed images in Jupyter notebook.\n",
    "    - Markedown Syntax\n",
    "    - HTML\n",
    "    - IPython Image Function"
   ]
  },
  {
   "cell_type": "markdown",
   "id": "internal-nevada",
   "metadata": {},
   "source": [
    "## 12.1.  Image Embeding with Markdown Syntax\n",
    "\n",
    "- insert an image from local computer using `![title](path/imagename.type)` \n",
    "- insert an image from web using `![title](url/imagename.type)`\n",
    "- supports most regular image types, such as png, jpeg(jpg,jpeg), tiff, gif,svg, etc."
   ]
  },
  {
   "cell_type": "markdown",
   "id": "detected-burlington",
   "metadata": {},
   "source": [
    "### 12.1.1. Embeding image from a local file\n",
    "\n",
    "For example, insert an image named \"simpleBar.png\" from the \"images\" folder.\n",
    "\n",
    "```markdown\n",
    "![simple bar plot](./images/simpleBar.png)\n",
    "```\n",
    "The output looks as follows:"
   ]
  },
  {
   "cell_type": "markdown",
   "id": "external-embassy",
   "metadata": {},
   "source": [
    "![three line plot](./images/simpleBar.png)"
   ]
  },
  {
   "cell_type": "markdown",
   "id": "charming-dimension",
   "metadata": {},
   "source": [
    "### 12.1.2. Embeding image from web file"
   ]
  },
  {
   "cell_type": "markdown",
   "id": "749d06d8",
   "metadata": {},
   "source": [
    "For example, insert jupyter logo from jupyter web \"http://jupyter.org/assets/nav_logo.svg\" using the following Markdown syntex.\n",
    "\n",
    "```markdown\n",
    "![jupyter logo](http://jupyter.org/assets/nav_logo.svg)\n",
    "```\n",
    "The output looks as follows:"
   ]
  },
  {
   "cell_type": "markdown",
   "id": "b1d2084f",
   "metadata": {},
   "source": [
    "![jupyter logo](http://jupyter.org/assets/nav_logo.svg)"
   ]
  },
  {
   "cell_type": "markdown",
   "id": "senior-infection",
   "metadata": {},
   "source": [
    "However, in pure Markdown, it lacks the power to change the image size and make an alignment."
   ]
  },
  {
   "cell_type": "markdown",
   "id": "cb74f71c",
   "metadata": {},
   "source": [
    "## 12.2 Image Embedding with HTML \n",
    "### 12.2.1  One Image\n",
    "### (1) Local Image\n",
    "\n",
    "We can embede video and control its size and alignment in Markdown cell using html `<img>` tag, where\n",
    "- src: specifies the path of the image\n",
    "- align: specifies the alignment of the image (left, center or right)\n",
    "- width: specifies the size the image in px, or use %."
   ]
  },
  {
   "cell_type": "markdown",
   "id": "f427d00e",
   "metadata": {},
   "source": [
    "For example:\n",
    "```html\n",
    "<img src=\"./images/simpleBar.png\" \n",
    "     align=\"center\" \n",
    "     width=\"400\"/>\n",
    "```\n",
    "It reders as:"
   ]
  },
  {
   "cell_type": "markdown",
   "id": "d40b6d1c",
   "metadata": {},
   "source": [
    "<img src=\"./images/simpleBar.png\" \n",
    "     align=\"center\" \n",
    "     width=\"400\"/>"
   ]
  },
  {
   "cell_type": "markdown",
   "id": "cb7d0c24",
   "metadata": {},
   "source": [
    "### (2) Web Image\n",
    "We just change the path of local image into **url** of the web image. For example, we insert Jupyter logo as follows:\n",
    "\n",
    "```html\n",
    "<img src=\"https://jupyter.org/assets/main-logo.svg\" \n",
    "     align=\"center\" \n",
    "     width=\"150\"/>\n",
    "```\n",
    "The rendered output is as follows:"
   ]
  },
  {
   "cell_type": "markdown",
   "id": "eeba9e16",
   "metadata": {},
   "source": [
    "<img src=\"https://jupyter.org/assets/main-logo.svg\" \n",
    "     align=\"center\" \n",
    "     width=\"150\"/>"
   ]
  },
  {
   "cell_type": "markdown",
   "id": "b855d6a8",
   "metadata": {},
   "source": [
    "### 12.2.2  Multiple Images\n",
    "We layout two or more images side by side by using HTML table or division tags. \n",
    "### (1) Image layout with table"
   ]
  },
  {
   "cell_type": "markdown",
   "id": "7df19385",
   "metadata": {},
   "source": [
    "```html\n",
    "<table>\n",
    "    <tr>\n",
    "      <td>\n",
    "          <img src='./images/simplePie.png'width=200>\n",
    "      </td>\n",
    "      <td>\n",
    "          <img src='./images/simpleLine.png'width=200>\n",
    "      </td>\n",
    "      <td>\n",
    "          <img src='./images/simpleBar.png'width=200>\n",
    "      </td>\n",
    "    </tr>\n",
    "</table>\n",
    "```\n",
    "The output looks as:"
   ]
  },
  {
   "cell_type": "markdown",
   "id": "fa1bee73",
   "metadata": {},
   "source": [
    "<table>\n",
    "    <tr>\n",
    "      <td>\n",
    "          <img src='./images/simplePie.png'width=200>\n",
    "      </td>\n",
    "      <td>\n",
    "          <img src='./images/simpleLine.png'width=200>\n",
    "      </td>\n",
    "      <td>\n",
    "          <img src='./images/simpleBar.png'width=200>\n",
    "      </td>\n",
    "    </tr>\n",
    "</table>"
   ]
  },
  {
   "cell_type": "markdown",
   "id": "6c8a6a21",
   "metadata": {},
   "source": [
    "### (2) Image layout with divison"
   ]
  },
  {
   "cell_type": "markdown",
   "id": "74669e70",
   "metadata": {},
   "source": [
    "```html\n",
    "<div style=\"background-color: green;\">\n",
    "    <div style=\"float:left;\">\n",
    "        <img src='./images/simplePie.png'width=200>\n",
    "    </div>\n",
    "    <div style=\"float:left;\">\n",
    "        <img src='./images/simpleLine.png'width=200>\n",
    "    </div>\n",
    "    <div style=\"float:left;\">\n",
    "        <img src='./images/simpleBar.png'width=200>\n",
    "    </div>\n",
    "</div>\n",
    "```\n",
    "The result is:"
   ]
  },
  {
   "cell_type": "markdown",
   "id": "33014969",
   "metadata": {},
   "source": [
    "<div style=\"background-color: green;\">\n",
    "    <div style=\"float:left;\">\n",
    "        <img src='./images/simplePie.png'width=200>\n",
    "    </div>\n",
    "    <div style=\"float:left;\">\n",
    "        <img src='./images/simpleLine.png'width=200>\n",
    "    </div>\n",
    "    <div style=\"float:left;\">\n",
    "        <img src='./images/simpleBar.png'width=200>\n",
    "    </div>\n",
    "</div>"
   ]
  },
  {
   "cell_type": "markdown",
   "id": "f9de98e0",
   "metadata": {},
   "source": [
    "## 12.3 IPython Image Function\n",
    "We can use IPython `Image ()` function to embed images in code cell of Jupyter Notebook\n",
    "\n",
    "To embed an image, import the image module of IPython display first.  "
   ]
  },
  {
   "cell_type": "code",
   "execution_count": 5,
   "id": "480608dc",
   "metadata": {},
   "outputs": [
    {
     "data": {
      "image/png": "[encoded data removed]",
      "text/plain": [
       "<IPython.core.display.Image object>"
      ]
     },
     "execution_count": 5,
     "metadata": {
      "image/png": {
       "width": "400"
      }
     },
     "output_type": "execute_result"
    }
   ],
   "source": [
    "from IPython.display import Image\n",
    "\n",
    "Image(\"./images/simplePie.png\", width=\"400\") "
   ]
  }
 ],
 "metadata": {
  "kernelspec": {
   "display_name": "Python 3 (ipykernel)",
   "language": "python",
   "name": "python3"
  },
  "language_info": {
   "codemirror_mode": {
    "name": "ipython",
    "version": 3
   },
   "file_extension": ".py",
   "mimetype": "text/x-python",
   "name": "python",
   "nbconvert_exporter": "python",
   "pygments_lexer": "ipython3",
   "version": "3.9.7"
  }
 },
 "nbformat": 4,
 "nbformat_minor": 5
}
