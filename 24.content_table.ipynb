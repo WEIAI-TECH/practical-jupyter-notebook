{
 "cells": [
  {
   "cell_type": "markdown",
   "id": "vocal-energy",
   "metadata": {
    "slideshow": {
     "slide_type": "slide"
    }
   },
   "source": [
    "<br />       \n",
    "\n",
    "|<img src='./images/school_logo.png' alt=\"Drawing\" style=\"width:100px;float: left\"/><img width=350;/>|<p style=\"padding-top:8px;padding-bottom:0px;\">Shouke Wei, Ph.D.</p><img width=400;/>| 128| \n",
    "| :--- | :--- | :---:|\n",
    "\n",
    "<h1 style='text-align: center;'>Lesson 24: Create a Table of Contents in Jupyter Notebook</h1>\n",
    "\n",
    "<br /> "
   ]
  },
  {
   "cell_type": "markdown",
   "id": "paperback-cooling",
   "metadata": {},
   "source": [
    "## Objective\n",
    "- learn how to create Table of Contents (TOC) in Jupyter notebook.\n",
    "\n",
    "It is very import to create a table of contents (TOC) in the Jupyter Notebook, which help us organize the contents, and provide us links to its sections or chapters to allow us to access them easily. It will cover the following three topics:\n",
    "- TOC Structure\n",
    "- TOC of a Signal Notebook\n",
    "- TOC of Multi Notebooks"
   ]
  },
  {
   "cell_type": "markdown",
   "id": "featured-committee",
   "metadata": {},
   "source": [
    "## 24.1 TOC Structure \n",
    "A TOC is normally eigher an ordered list or unordered list, which is comprised by the title of the chapters or/and sections and their IDs. For example, we create a content table looks something as follows:\n",
    "```markdown\n",
    "1. [Title 1](#ID1)    \n",
    "    1.1.[Subtitle 1.1](#ID1.1)   \n",
    "    1.2.[Subtitle 1.2](#ID1.2)   \n",
    "2. [Title 2](#ID2)   \n",
    "    2.1.[Subtitle 2.1](#ID2.1)   \n",
    "    2.2.[Subtitle 2.2](#ID2.2)   \n",
    "3. [Title 3](#ID3)   \n",
    "4. [Title 4](#ID4)    \n",
    "\n",
    "or \n",
    "\n",
    "- [Title 1](#ID1)\n",
    "    - [Subtitle 1.1](#ID1.1)\n",
    "    - [Subtitle 1.2](#ID1.2)\n",
    "- [Title 2](#ID2)\n",
    "    - [Subtitle 2.1](#ID2.1)\n",
    "    - [Subtitle 2.2](#ID2.2)\n",
    "- [Title 3](#ID3)\n",
    "- [Title 1](#ID4)\n",
    "```"
   ]
  },
  {
   "cell_type": "markdown",
   "id": "2645deb0",
   "metadata": {},
   "source": [
    "1. [Title 1](#ID1)    \n",
    "    1.1.[Subtitle 1.1](#ID1.1)   \n",
    "    1.2.[Subtitle 1.2](#ID1.2)   \n",
    "2. [Title 2](#ID2)   \n",
    "    2.1.[Subtitle 2.1](#ID2.1)   \n",
    "    2.2.[Subtitle 2.2](#ID2.2)   \n",
    "3. [Title 3](#ID3)   \n",
    "4. [Title 4](#ID4)    \n",
    "\n",
    "or \n",
    "\n",
    "- [Title 1](#ID1)\n",
    "    - [Subtitle 1.1](#ID1.1)\n",
    "    - [Subtitle 1.2](#ID1.2)\n",
    "- [Title 2](#ID2)\n",
    "    - [Subtitle 2.1](#ID2.1)\n",
    "    - [Subtitle 2.2](#ID2.2)\n",
    "- [Title 3](#ID3)\n",
    "- [Title 1](#ID4)\n"
   ]
  },
  {
   "cell_type": "markdown",
   "id": "taken-nursing",
   "metadata": {},
   "source": [
    "## 24.2 TOC of One Notebook\n",
    "A TOC inside a single notebook is very helpful for us to organize the sections and to access them by links. "
   ]
  },
  {
   "cell_type": "markdown",
   "id": "spoken-ticket",
   "metadata": {},
   "source": [
    "### 24.2.1 TOC Layout of One Notebook\n",
    "To create TOC, we can use the following formate:\n",
    "```markdown\n",
    "## Header of TOC\n",
    "\n",
    "[title of the section](#title-of-the-section)\n",
    "```\n",
    "There is no space between harsh(#), words and hyphens(-) in the round brackets, or it cause link fails to the sections."
   ]
  },
  {
   "cell_type": "markdown",
   "id": "active-college",
   "metadata": {},
   "source": [
    "### 24.2.2 TOC Example 1\n",
    "\n",
    "Let's create a TOC for this Chapter for example. "
   ]
  },
  {
   "cell_type": "markdown",
   "id": "noted-application",
   "metadata": {},
   "source": [
    "```markdown\n",
    "## Table of Content\n",
    " \n",
    "  * [24.1 TOC Structure](#24.1-TOC-Structure)\n",
    "  * [24.2 TOC of One Notebook](#24.2-TOC-of-One-Notebook)\n",
    "      - [24.2.1 TOC Layout of One Notebook](#24.2.1-TOC-Layout-of-One-Notebook)\n",
    "      - [24.2.2 TOC Example 1](#24.2.2-TOC-Example-1)\n",
    "  * [24.3 TOC of Multi Notebooks](#24.3-TOC-of-Multi-Notebooks)\n",
    "      - [24.3.1 TOC Layout of multi Notebooks](#24.3.1-TOC-Layout-of-Multi-Notebooks)\n",
    "      - [24.3.2 TOC Example 2](#24.3.2-TOC-Example-2)\n",
    "```\n",
    "The rendered output looks as follows:"
   ]
  },
  {
   "cell_type": "markdown",
   "id": "occasional-broad",
   "metadata": {},
   "source": [
    "### Table of Content\n",
    "\n",
    "* [24.1 TOC Structure](#24.1-TOC-Structure)\n",
    "* [24.2 TOC of One Notebook](#24.2-TOC-of-One-Notebook)\n",
    "    - [24.2.1 TOC Layout of One Notebook](#24.2.1-TOC-Layout-of-One-Notebook)\n",
    "    - [24.2.2 TOC Example 1](#24.2.2-TOC-Example-1)\n",
    "* [24.3 TOC of Multi Notebooks](#24.3-TOC-of-Multi-Notebooks)\n",
    "    - [24.3.1 TOC Layout of multi Notebooks](#24.3.1-TOC-Layout-of-Multi-Notebooks)\n",
    "    - [24.3.2 TOC Example 2](#24.3.2-TOC-Example-2)"
   ]
  },
  {
   "cell_type": "markdown",
   "id": "second-finish",
   "metadata": {},
   "source": [
    "If it fails to link the sections, \n",
    "- first, please double-check if there is any space between harsh(#), words and hyphens(-) in the round brackets. \n",
    "- If it still does not work, then go to the section titles to check if there is any extra space between the session numbers and the words, for example, \n",
    "    - between **24.2.1** and **TOC Layout of One Notebook**, where there should be only ***a singal space***. "
   ]
  },
  {
   "cell_type": "markdown",
   "id": "outstanding-instruction",
   "metadata": {},
   "source": [
    "## 24.3 TOC of Multi Notebooks"
   ]
  },
  {
   "cell_type": "markdown",
   "id": "fifteen-moment",
   "metadata": {},
   "source": [
    "### 24.3.1 TOC Layout of Multi Notebooks"
   ]
  },
  {
   "cell_type": "markdown",
   "id": "inclusive-unemployment",
   "metadata": {
    "slideshow": {
     "slide_type": "slide"
    }
   },
   "source": [
    "\n",
    "```markdown\n",
    "## Header of the TOC  \n",
    "[Title of the Chapter](the path of a notebook)\n",
    "```"
   ]
  },
  {
   "cell_type": "markdown",
   "id": "distinct-watch",
   "metadata": {},
   "source": [
    "### 24.3.2 TOC Example 2"
   ]
  },
  {
   "cell_type": "markdown",
   "id": "brilliant-guyana",
   "metadata": {},
   "source": [
    "```markdown\n",
    "## Contents\n",
    "\n",
    "###  [Lesson 21: Basic Plotting with Matplotlib in Jupyter Notebook](./21.basic_plot.ipynb)\n",
    "###  [Lesson 22: Interactive Plots in Jupyter Notebook](./22.interactive_plot.ipynb)\n",
    "###  [Lesson 23: Interactive Widgets for Plots in Jupyter Notebook](./23.interactive_plot_widget.ipynb)\n",
    "```"
   ]
  },
  {
   "cell_type": "markdown",
   "id": "ab0d3563",
   "metadata": {},
   "source": [
    "## Contents\n",
    "\n",
    "###  [Lesson 21: Basic Plotting with Matplotlib in Jupyter Notebook](./21.basic_plot.ipynb)\n",
    "###  [Lesson 22: Interactive Plots in Jupyter Notebook](./22.interactive_plot.ipynb)\n",
    "###  [Lesson 23: Interactive Widgets for Plots in Jupyter Notebook](./23.interactive_plot_widget.ipynb)"
   ]
  }
 ],
 "metadata": {
  "kernelspec": {
   "display_name": "Python 3 (ipykernel)",
   "language": "python",
   "name": "python3"
  },
  "language_info": {
   "codemirror_mode": {
    "name": "ipython",
    "version": 3
   },
   "file_extension": ".py",
   "mimetype": "text/x-python",
   "name": "python",
   "nbconvert_exporter": "python",
   "pygments_lexer": "ipython3",
   "version": "3.9.7"
  }
 },
 "nbformat": 4,
 "nbformat_minor": 5
}
