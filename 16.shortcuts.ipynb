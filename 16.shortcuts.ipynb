{
 "cells": [
  {
   "cell_type": "markdown",
   "id": "vocal-energy",
   "metadata": {
    "slideshow": {
     "slide_type": "slide"
    }
   },
   "source": [
    "<br />       \n",
    "\n",
    "|<img src='./images/school_logo.png' alt=\"Drawing\" style=\"width:100px;float: left\"/><img width=300;/>|<p style=\"padding-top:8px;padding-bottom:0px;\">Shouke Wei, Ph.D.</p><img width=300;/>| 70| \n",
    "| :--- | :--- | :---:|\n",
    "\n",
    "<h1 style='text-align: center;'>Lesson 16: Frequently Used Shortcuts of Jupyter Notebook</h1>\n",
    "\n",
    "<br /> "
   ]
  },
  {
   "cell_type": "markdown",
   "id": "5d774036",
   "metadata": {},
   "source": [
    "## Objective\n",
    "\n",
    "- learn frequently used shortcuts of Jupyter Notebook"
   ]
  },
  {
   "cell_type": "markdown",
   "id": "romance-sunglasses",
   "metadata": {},
   "source": [
    "## 16.1 Working Modes\n",
    "\n",
    "The Jupyter Notebook provides two working modes: **Command mode** and **Edit mode**.\n",
    "- **Edit mode**\n",
    "- **Command mode**"
   ]
  },
  {
   "cell_type": "markdown",
   "id": "binding-syndication",
   "metadata": {},
   "source": [
    "### 16.1.1 Edit mode\n",
    "Clicking inside a cell will enable the edit mode for the code cell, while it need a double-click to activate the edit model for a Markdown cell. \n",
    "\n",
    "When the border bar of the selected cell becomes green, and a pen icon appears on the top right of the interface, it indicate that you are in the edit mode. \n",
    "\n",
    "In the edit model, we can write and edit code. "
   ]
  },
  {
   "cell_type": "markdown",
   "id": "mental-sellers",
   "metadata": {},
   "source": [
    "###  16.1.2 Command mode:\n",
    "Click the area (left or right) outside of a cell to enable the command mode, and the border bar of the selected cell becomes blue and the pen icon on the top right of the interface dispeared.  "
   ]
  },
  {
   "cell_type": "markdown",
   "id": "quiet-structure",
   "metadata": {},
   "source": [
    "## 16.2 Keyboard Shortcuts"
   ]
  },
  {
   "cell_type": "markdown",
   "id": "inclusive-unemployment",
   "metadata": {
    "slideshow": {
     "slide_type": "slide"
    }
   },
   "source": [
    "### (1) Shortcuts for mode switch\n",
    "The shortcuts of ***Enter*** and ***Esc*** are used to switch between command mode and edit mode, which are equal to click inside a cell and outside a cell. \n",
    "- Press ***Enter*** to enter edit mode\n",
    "- Press ***Esc*** to enter command mode"
   ]
  },
  {
   "cell_type": "markdown",
   "id": "honey-meaning",
   "metadata": {
    "slideshow": {
     "slide_type": "slide"
    }
   },
   "source": [
    "### (2) Shortcuts in both modes\n",
    "The following are widely used shortcuts that are working in the working environments of both models:"
   ]
  },
  {
   "cell_type": "markdown",
   "id": "behavioral-patient",
   "metadata": {
    "slideshow": {
     "slide_type": "slide"
    }
   },
   "source": [
    "***Shift + Enter***: runs the seleted cell\n",
    "- It will put the cursor in the next cell below\n",
    "- It will make a new one if you are at the end"
   ]
  },
  {
   "cell_type": "markdown",
   "id": "forbidden-christmas",
   "metadata": {
    "slideshow": {
     "slide_type": "slide"
    }
   },
   "source": [
    "***Alt-Enter***: runs the seleted cell, but\n",
    "- It forces to create a new cell \n",
    "- It is useful when inserting new content in the middle of an existing notebook"
   ]
  },
  {
   "cell_type": "markdown",
   "id": "imposed-designation",
   "metadata": {
    "slideshow": {
     "slide_type": "slide"
    }
   },
   "source": [
    "***Control-Enter***: executes the cell, but\n",
    "- It keeps the cursor in the same cell\n",
    "- It is useful for quick experimentation of snippets that you don't need to keep permanently"
   ]
  },
  {
   "cell_type": "markdown",
   "id": "agricultural-cambridge",
   "metadata": {
    "slideshow": {
     "slide_type": "slide"
    }
   },
   "source": [
    "***Control-S***: saves the notebook\n",
    "- It is helpful when you create a notebook but close it in a short time less than the autosaving time intervel of the Jupyter"
   ]
  },
  {
   "cell_type": "markdown",
   "id": "eligible-glenn",
   "metadata": {
    "slideshow": {
     "slide_type": "slide"
    }
   },
   "source": [
    "### (3) Shortcuts in the edit mode\n",
    "The following are widely used shortcuts that are working in the working environments of edit model:\n",
    "\n",
    "- ***Esc***: switch to command mode\n",
    "- ***Ctrl-A**: select all\n",
    "- ***Ctrl-U**: Undo selection\n",
    "- ***Alt-U**: redo selection\n",
    "- ***Ctrl-D**: delet whole line\n",
    "- ***Ctrl-Z**: undo\n",
    "- ***Ctrl-Y**: redo\n",
    "- ***Ctrl-/**: comment\n",
    "- **Ctrl-Shift-Minus**: split the current cell into two from the cursor place\n",
    "- **Tab**: code completion or indent"
   ]
  },
  {
   "cell_type": "markdown",
   "id": "36e44d2b",
   "metadata": {},
   "source": [
    "### (4) Shortcuts in the command mode\n",
    "\n",
    "Once you are in command mode you can use the following shortcuts:\n",
    "- **`a`**: add a new cell **a**bove the current one\n",
    "- **`b`**: add a new cell **b**elow the current one\n",
    "- **`d + d`** (d pressed twice): **d**elet current cell\n",
    "- **`m`**: change cell from code to **m**arkdown\n",
    "- **`y`**: change cell from markdown to code\n",
    "- **up arrow**: choose the up cell\n",
    "- **down arrow**: choose the down cell\n",
    "- **x / c / v**: cut/copy/paste the current cell\n",
    "- **z**: undo the last cell delete operation\n",
    "- **Shift-M**: merge selected cells, or current cell with cell below if only one cell is selected"
   ]
  },
  {
   "cell_type": "markdown",
   "id": "advised-gothic",
   "metadata": {
    "slideshow": {
     "slide_type": "slide"
    }
   },
   "source": [
    "### `h`\n",
    "- **h**elp for more Keyboard Shutcuts"
   ]
  }
 ],
 "metadata": {
  "kernelspec": {
   "display_name": "Python 3 (ipykernel)",
   "language": "python",
   "name": "python3"
  },
  "language_info": {
   "codemirror_mode": {
    "name": "ipython",
    "version": 3
   },
   "file_extension": ".py",
   "mimetype": "text/x-python",
   "name": "python",
   "nbconvert_exporter": "python",
   "pygments_lexer": "ipython3",
   "version": "3.9.7"
  }
 },
 "nbformat": 4,
 "nbformat_minor": 5
}
