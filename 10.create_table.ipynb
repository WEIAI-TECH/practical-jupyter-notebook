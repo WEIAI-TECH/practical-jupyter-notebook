{
 "cells": [
  {
   "cell_type": "markdown",
   "id": "vocal-energy",
   "metadata": {
    "slideshow": {
     "slide_type": "slide"
    }
   },
   "source": [
    "<br />       \n",
    "\n",
    "|<img src='./images/school_logo.png' alt=\"Drawing\" style=\"width:100px;float: left\"/><img width=300;/>|<p style=\"padding-top:8px;padding-bottom:0px;\">Shouke Wei, Ph.D.</p><img width=400;/>| 27| \n",
    "| :--- | :--- | :---:|\n",
    "\n",
    "<h1 style='text-align: center;'>Lesson 10: Creating Tables in Jupyter Notebook</h1>\n",
    "\n",
    "<br /> "
   ]
  },
  {
   "cell_type": "markdown",
   "id": "21f24d0e",
   "metadata": {},
   "source": [
    "## Objectives\n",
    "- create tables in Jupyter notebook\n",
    "    - use Markdown\n",
    "    - use HTML\n",
    "    - use %html magic\n",
    "    - use IPython html function"
   ]
  },
  {
   "cell_type": "markdown",
   "id": "b4a53d61",
   "metadata": {},
   "source": [
    "## 10.1 Markdown Table\n",
    "### 10.1.1 Normal Table\n",
    "- Create table using **Vertical Pipe**(`|`) on the keyboard <br>     \n",
    "<img src='./images/vertical_pipe.png' alt=\"Drawing\" style=\"width:400px;float: left\"/> "
   ]
  },
  {
   "cell_type": "markdown",
   "id": "proud-failure",
   "metadata": {},
   "source": [
    "- The first row is always the header followed by an extra line with ***dashes \"-\"*** \n",
    "- Text alignment in the table is made by adding \n",
    "    - ***colons \":\"*** at the beginning or/and the end of ***dashes \"-\"*** line\n",
    "- The rule is as follows:\n",
    "    - Left-alignment: replace the leftmost dash with a colon, i.e. \":---------\"    \n",
    "    - Right-alignment: replace the rightmost dash with a colon, i.e. \"--------:\"    \n",
    "    - Center-alignment: replace both the leftmost and rightmost dashes with a colon, i.e. \":---------:\""
   ]
  },
  {
   "cell_type": "markdown",
   "id": "retained-split",
   "metadata": {},
   "source": [
    "|Laptop                        |Origin  |Price       |\n",
    "|:-----------------------------|:------:|----------: |\n",
    "|Lenovo IdeaPad 3 15.6\"        |China   |\\$649.99    |\n",
    "|Apple MacBook Pro (2020)13.3\" |USA     |\\$1,249.59  |\n",
    "|HP Touch-Screen Chromebook 14\"|USA     |\\$339.99    |"
   ]
  },
  {
   "cell_type": "markdown",
   "id": "nervous-house",
   "metadata": {},
   "source": [
    "In the Markdown syntax, anything between ***dollar \"$\"*** signs is interpreted as a MathJax expression. \n",
    "\n",
    "If we use ***dollar \"$\"*** signs  as a money unit sign, we have to escape them like so: `\\$`."
   ]
  },
  {
   "cell_type": "markdown",
   "id": "bdda442c",
   "metadata": {},
   "source": [
    "### 10.1.2 Multiline Table\n",
    "\n",
    "To create a Markdown table with a multiline cell, use the HTML `<br>` or `</br>` tag to divide the line into multiple lines. "
   ]
  },
  {
   "cell_type": "markdown",
   "id": "considered-season",
   "metadata": {},
   "source": [
    "| Programming Languages|Description                    |\n",
    "| :--------------------|:------------------------------|\n",
    "| Python               | Python is an interpreted, multi-purpose programming language. </br>It is often used to   build web applications and seeing exploding growth due  <br> to its use in data science, machine learning, and dev ops. |\n",
    "|Javascript            | Javascript is an indispensable language to know for writing web applications,<br> as it works in the browser and on the server-side. |\n",
    "| Java                 | Originally developed by Oracle, Java is extremely popular because it can be <br> used for mobile, web, and desktop app development, and more. Reasonably <br> stable and fast, it is very popular at the enterprise level.|"
   ]
  },
  {
   "cell_type": "markdown",
   "id": "39bc37ca",
   "metadata": {},
   "source": [
    "### 10.1.3 Inconsistent Table\n",
    "\n",
    "In many cases, we create a table with inconsistent cells, where the rows have different cells. \n",
    "\n",
    "For example, we create item table which includes fruit and laptop. The fruit row and laptop row each has one merged cell, while other rows have 3 cells. "
   ]
  },
  {
   "cell_type": "markdown",
   "id": "indian-organ",
   "metadata": {},
   "source": [
    "|Item                          |Price     |Remark     |\n",
    "|:-----------------------------|:---------|:----------|\n",
    "|**Fruit**                     | \n",
    "|Big Red Apple                 |\\$10.29/kg|from USA   | \n",
    "|Sweet Orange                  |\\$1.99/kg |from Brazil|\n",
    "|**Laptop**                    |\n",
    "|IdeaPad 3 15.6\"               |\\$649.99  |from China | \n",
    "|HP Touch-Screen Chromebook 14\"|\\$1,249.59|from USA   |"
   ]
  },
  {
   "cell_type": "markdown",
   "id": "b24c60eb",
   "metadata": {},
   "source": [
    "Suppose we add \"Best selling\" cell to the fruit row in the remark column as follows:"
   ]
  },
  {
   "cell_type": "markdown",
   "id": "spare-parliament",
   "metadata": {},
   "source": [
    "|Item                          |Price     |Remark       |\n",
    "|:-----------------------------|:---------|:------------|\n",
    "|**Fruit**                     |          |Best selling |\n",
    "|Big Red Apple                 |\\$10.29/kg|from USA     | \n",
    "|Sweet Orange                  |\\$1.99/kg |from Brazil  |\n",
    "|**Laptop**                    |\n",
    "|IdeaPad 3 15.6\"               |\\$649.99  |from China   | \n",
    "|HP Touch-Screen Chromebook 14\"|\\$1,249.59|from USA     |"
   ]
  },
  {
   "cell_type": "markdown",
   "id": "49540eeb",
   "metadata": {},
   "source": [
    "### 10.1.4 Align Table\n",
    "We can make text alignment in the tables created with standard Markdown syntax,but we cannot align the whole table to left or right. \n",
    "\n",
    "We do it using HTML."
   ]
  },
  {
   "cell_type": "code",
   "execution_count": 2,
   "id": "2dc7ca91",
   "metadata": {},
   "outputs": [
    {
     "data": {
      "text/html": [
       "<style>\n",
       "table {float:center}\n",
       "</style>\n"
      ],
      "text/plain": [
       "<IPython.core.display.HTML object>"
      ]
     },
     "metadata": {},
     "output_type": "display_data"
    }
   ],
   "source": [
    "%%html\n",
    "<style>\n",
    "table {float:center}\n",
    "</style>"
   ]
  },
  {
   "cell_type": "markdown",
   "id": "b6ceaafb",
   "metadata": {},
   "source": [
    "## 10.2. HTML Tables\n",
    "\n",
    "We cannot make advanced style formation using Markdown syntax, such as the table alignment, text style, table border line, etc. But A table generated in HTML can be easily to achieve these advanced formation features.  "
   ]
  },
  {
   "cell_type": "markdown",
   "id": "ed0d0fbd",
   "metadata": {},
   "source": [
    "### 10.2.1. Defaut HTML Table\n",
    "An HTML table is created by combination of the table tags, table column heading tags and table row tags.\n",
    "\n",
    "- `<table> </table>`: HTML table starts with the `<table>` table tag and ends with `</table>` tag \n",
    "- `<tr> </tr>`: Each table row starts with the `<tr>` tags and ends with `</tr>` tag \n",
    "- `<th> </th>`: Each column heading are enclosed between these `th` (i.e. **t**able **h**eading) tags\n",
    "- `<td> </td>`: Each column data (text or value) within a row is enclosed in these `td` (i.e. **t**able **d**ata) tags"
   ]
  },
  {
   "cell_type": "markdown",
   "id": "ba2dd711",
   "metadata": {},
   "source": [
    "Let's create simple laptop table with three rows and three columns for instance. "
   ]
  },
  {
   "cell_type": "markdown",
   "id": "8e608eaf",
   "metadata": {},
   "source": [
    "<table>\n",
    "    <tr>\n",
    "        <th>Laptop</th>\n",
    "        <th>Origin</th>\n",
    "        <th>Price</th>\n",
    "    </tr>\n",
    "    <tr>\n",
    "        <td>Lenovo IdeaPad 3 15.6\"</td>\n",
    "        <td>China</td>\n",
    "        <td>&dollar;649.99</td>\n",
    "    </tr>\n",
    "    <tr>\n",
    "        <td>Apple MacBook Pro (2020)13.3\"</td>\n",
    "        <td>USA</td>\n",
    "        <td>&dollar;1,249.59</td>\n",
    "    </tr>\n",
    "    <tr>\n",
    "        <td>HP Touch-Screen Chromebook 14\"</td>\n",
    "        <td>USA</td>\n",
    "        <td>&dollar;339.99 </td>\n",
    "    </tr>\n",
    "</table>"
   ]
  },
  {
   "cell_type": "markdown",
   "id": "0b813799",
   "metadata": {},
   "source": [
    "`&dollar;` is to display the `$` sign in HTML"
   ]
  },
  {
   "cell_type": "markdown",
   "id": "639ede6b",
   "metadata": {},
   "source": [
    "### 10.2.2.  Table Alignment\n",
    "\n",
    "- Put `style='float:left;` in the `<table>` tag to align the table to left, or change to the 'left' to 'right' to make the table right-alignment.\n",
    "- Put `style='text-align: left;'` to the heading `<th>` tag or data `<td>` tag of a cell to make the text of the cell left alignment, and change the 'left' to 'center' to make text in the cell center-aligned."
   ]
  },
  {
   "cell_type": "markdown",
   "id": "c4b2ab07",
   "metadata": {},
   "source": [
    "<table style='float:left;'>\n",
    "    <tr>\n",
    "        <th style='text-align: left;'>Laptop</th>\n",
    "        <th style='text-align: left;'>Origin</th>\n",
    "        <th style='text-align: left;'>Price</th>\n",
    "    </tr>\n",
    "    <tr>\n",
    "        <td style='text-align: left;'>Lenovo IdeaPad 3 15.6\"</td>\n",
    "        <td style='text-align: left;'>China</td>\n",
    "        <td style='text-align: left;'>&dollar;649.99</td>\n",
    "    </tr>\n",
    "    <tr>\n",
    "        <td style='text-align: left;'>Apple MacBook Pro (2020)13.3\"</td>\n",
    "        <td style='text-align: left;'>USA</td>\n",
    "        <td style='text-align: left;'>&dollar;1,249.59</td>\n",
    "    </tr>\n",
    "    <tr>\n",
    "        <td style='text-align: left;'>HP Touch-Screen Chromebook 14\"</td>\n",
    "        <td style='text-align: left;'>USA</td>\n",
    "        <td style='text-align: left;'>&dollar;339.99 </td>\n",
    "    </tr>\n",
    "</table>"
   ]
  },
  {
   "cell_type": "markdown",
   "id": "aa52865f",
   "metadata": {},
   "source": [
    "### 10.2.3 Table Colors\n",
    "\n",
    "- change background color of a row by adding `style='background-color:colorname/code;'` inside that row <tr> tag\n",
    "- change the text color in a cell by adding `style= 'color:blue;'` in a heading `<th>` tag or data `<td>` tag"
   ]
  },
  {
   "cell_type": "markdown",
   "id": "dc11aa36",
   "metadata": {},
   "source": [
    "<table style='float:left;'>\n",
    "    <tr style='background-color:lightgreen;'>\n",
    "        <th style='text-align: left;'>Laptop</th>\n",
    "        <th style='text-align: left;'>Origin</th>\n",
    "        <th style='text-align: left;'>Price</th>\n",
    "    </tr>\n",
    "    <tr>\n",
    "        <td style='text-align: left;'>Lenovo IdeaPad 3 15.6\"</td>\n",
    "        <td style='text-align: left;'>China</td>\n",
    "        <td style='text-align: left;'>&dollar;649.99</td>\n",
    "    </tr>\n",
    "    <tr>\n",
    "        <td style='text-align: left;'>Apple MacBook Pro (2020)13.3\"</td>\n",
    "        <td style='text-align: left;'>USA</td>\n",
    "        <td style='text-align: left;'>&dollar;1,249.59</td>\n",
    "    </tr>\n",
    "    <tr>\n",
    "        <td style='text-align: left;'>HP Touch-Screen Chromebook 14\"</td>\n",
    "        <td style='text-align: left;'>USA</td>\n",
    "        <td style='text-align: left; color:blue;'>&dollar;339.99 </td>\n",
    "    </tr>\n",
    "</table>"
   ]
  },
  {
   "cell_type": "markdown",
   "id": "433d8949",
   "metadata": {},
   "source": [
    "### 10.2.4. Table Border\n",
    "- adding `style='border: numberpx linetype color;'` into the `<table>` tag\n",
    "    - change the defaut border into different colors, and \n",
    "    - change line types and width"
   ]
  },
  {
   "cell_type": "markdown",
   "id": "8e138b45",
   "metadata": {},
   "source": [
    "In the following example, we add a solid black border with 1px width. "
   ]
  },
  {
   "cell_type": "markdown",
   "id": "5296dc39",
   "metadata": {},
   "source": [
    "<table style=\"border:3px double black;\">\n",
    "    <tr>\n",
    "        <th>Header 1</th>\n",
    "        <th>Header 2</th>\n",
    "    </tr>\n",
    "    <tr>\n",
    "        <td>Data cell 1</td>\n",
    "        <td>Data cell 2</td>\n",
    "    </tr>\n",
    "    <tr>\n",
    "        <td>Data cell 3</td>\n",
    "        <td>Data cell 4</td>\n",
    "    </tr>\n",
    "</table>\n"
   ]
  },
  {
   "cell_type": "markdown",
   "id": "7ba054e4",
   "metadata": {},
   "source": [
    "**Border Line Types**:\n",
    "- none: default value,means no border\n",
    "- solid: a solid border\n",
    "- dashed: a dashed borde\n",
    "- dotted: a dotted border\n",
    "- double: a double border\n",
    "- groove: a 3D grooved border\n",
    "- ridge：a 3D ridged border\n",
    "- inset: a 3D inset border\n",
    "- outset: a 3D outset border\n",
    "\n",
    "Learn more about table border set, please refer to [Table Border]( https://www.html.am/html-codes/tables/table-border.cfm) and [CSS border-style Property](https://www.w3schools.com/cssref/pr_border-style.asp)."
   ]
  },
  {
   "cell_type": "markdown",
   "id": "385e04da",
   "metadata": {},
   "source": [
    "We can also change the border of one row or one cell by including **style** attribute into the row tags `<tr>` or data tags `<td>`."
   ]
  },
  {
   "cell_type": "markdown",
   "id": "7e5bd1b0",
   "metadata": {},
   "source": [
    "<table>\n",
    "  <tr style='border: 1px solid orange;'>\n",
    "    <th>Month</th>\n",
    "    <th>Savings</th>\n",
    "  </tr>\n",
    "  <tr>\n",
    "    <td >January</td>\n",
    "    <td>&dollar;100</td>\n",
    "  </tr >\n",
    "  <tr>\n",
    "    <td>February</td>\n",
    "    <td style='border: 1px solid orange;'>&dollar;80</td>\n",
    "  </tr>\n",
    "</table>"
   ]
  },
  {
   "cell_type": "markdown",
   "id": "e4c010f6",
   "metadata": {},
   "source": [
    "## 10.3 %HTML magic\n",
    "- %HTML\n",
    "- %html\n",
    "- run HTML in code cell"
   ]
  },
  {
   "cell_type": "code",
   "execution_count": 3,
   "id": "61e8d084",
   "metadata": {},
   "outputs": [
    {
     "data": {
      "text/html": [
       "<h1>This is header 1</h1>\n"
      ],
      "text/plain": [
       "<IPython.core.display.HTML object>"
      ]
     },
     "metadata": {},
     "output_type": "display_data"
    }
   ],
   "source": [
    "%%HTML\n",
    "<h1>This is header 1</h1>"
   ]
  },
  {
   "cell_type": "code",
   "execution_count": 4,
   "id": "11397c44",
   "metadata": {},
   "outputs": [
    {
     "data": {
      "text/html": [
       "<table>\n",
       "    <tr>\n",
       "        <th>Header 1</th>\n",
       "        <th>Header 2</th>\n",
       "        <th>Header 3</th>\n",
       "    </tr>\n",
       "    <tr>\n",
       "        <td>row 1, cell 1</td>\n",
       "        <td>row 1, cell 2</td>\n",
       "        <td>row 1, cell 3</td>\n",
       "    </tr>\n",
       "\n",
       "    <tr>\n",
       "        <td>row 2, cell 1</td>\n",
       "        <td>row 2, cell 2</td>\n",
       "        <td>row 2, cell 3</td>\n",
       "    </tr>\n",
       "    <tr>\n",
       "        <td>row 3, cell 1</td>\n",
       "        <td>row 3, cell 2</td>\n",
       "        <td>row 3, cell 3</td>\n",
       "    </tr>\n",
       "</table>\n"
      ],
      "text/plain": [
       "<IPython.core.display.HTML object>"
      ]
     },
     "metadata": {},
     "output_type": "display_data"
    }
   ],
   "source": [
    "%%html\n",
    "<table>\n",
    "    <tr>\n",
    "        <th>Header 1</th>\n",
    "        <th>Header 2</th>\n",
    "        <th>Header 3</th>\n",
    "    </tr>\n",
    "    <tr>\n",
    "        <td>row 1, cell 1</td>\n",
    "        <td>row 1, cell 2</td>\n",
    "        <td>row 1, cell 3</td>\n",
    "    </tr>\n",
    "\n",
    "    <tr>\n",
    "        <td>row 2, cell 1</td>\n",
    "        <td>row 2, cell 2</td>\n",
    "        <td>row 2, cell 3</td>\n",
    "    </tr>\n",
    "    <tr>\n",
    "        <td>row 3, cell 1</td>\n",
    "        <td>row 3, cell 2</td>\n",
    "        <td>row 3, cell 3</td>\n",
    "    </tr>\n",
    "</table>"
   ]
  },
  {
   "cell_type": "markdown",
   "id": "6c608125",
   "metadata": {},
   "source": [
    "## 10.4 IPython HTML Function\n",
    "- run html in code cell"
   ]
  },
  {
   "cell_type": "code",
   "execution_count": 5,
   "id": "86158dfa",
   "metadata": {},
   "outputs": [
    {
     "data": {
      "text/html": [
       "<h1>This is a header 1</h1>"
      ],
      "text/plain": [
       "<IPython.core.display.HTML object>"
      ]
     },
     "execution_count": 5,
     "metadata": {},
     "output_type": "execute_result"
    }
   ],
   "source": [
    "from IPython.core.display import HTML\n",
    "HTML('<h1>This is a header 1</h1>')"
   ]
  },
  {
   "cell_type": "code",
   "execution_count": 6,
   "id": "7d5678e9",
   "metadata": {},
   "outputs": [],
   "source": [
    "from IPython.display import HTML\n",
    "\n",
    "table = \"\"\"\n",
    "<table>\n",
    "    <tr>\n",
    "        <th>Header 1</th>\n",
    "        <th>Header 2</th>\n",
    "        <th>Header 3</th>\n",
    "    </tr>\n",
    "    <tr>\n",
    "        <td>row 1, cell 1</td>\n",
    "        <td>row 1, cell 2</td>\n",
    "        <td>row 1, cell 3</td>\n",
    "    </tr>\n",
    "    <tr>\n",
    "        <td>row 2, cell 1</td>\n",
    "    <td>row 2, cell 2</td>\n",
    "    <td>row 2, cell 3</td>\n",
    "    </tr>\n",
    "    <tr>\n",
    "        <td>row 3, cell 1</td>\n",
    "        <td>row 3, cell 2</td>\n",
    "        <td>row 3, cell 3</td>\n",
    "    </tr>\n",
    "</table>\n",
    "\"\"\""
   ]
  },
  {
   "cell_type": "code",
   "execution_count": 7,
   "id": "4f593e40",
   "metadata": {},
   "outputs": [
    {
     "data": {
      "text/html": [
       "\n",
       "<table>\n",
       "    <tr>\n",
       "        <th>Header 1</th>\n",
       "        <th>Header 2</th>\n",
       "        <th>Header 3</th>\n",
       "    </tr>\n",
       "    <tr>\n",
       "        <td>row 1, cell 1</td>\n",
       "        <td>row 1, cell 2</td>\n",
       "        <td>row 1, cell 3</td>\n",
       "    </tr>\n",
       "    <tr>\n",
       "        <td>row 2, cell 1</td>\n",
       "    <td>row 2, cell 2</td>\n",
       "    <td>row 2, cell 3</td>\n",
       "    </tr>\n",
       "    <tr>\n",
       "        <td>row 3, cell 1</td>\n",
       "        <td>row 3, cell 2</td>\n",
       "        <td>row 3, cell 3</td>\n",
       "    </tr>\n",
       "</table>\n"
      ],
      "text/plain": [
       "<IPython.core.display.HTML object>"
      ]
     },
     "execution_count": 7,
     "metadata": {},
     "output_type": "execute_result"
    }
   ],
   "source": [
    "HTML(table)"
   ]
  },
  {
   "cell_type": "code",
   "execution_count": null,
   "id": "323c7217",
   "metadata": {},
   "outputs": [],
   "source": []
  }
 ],
 "metadata": {
  "kernelspec": {
   "display_name": "Python 3",
   "language": "python",
   "name": "python3"
  },
  "language_info": {
   "codemirror_mode": {
    "name": "ipython",
    "version": 3
   },
   "file_extension": ".py",
   "mimetype": "text/x-python",
   "name": "python",
   "nbconvert_exporter": "python",
   "pygments_lexer": "ipython3",
   "version": "3.8.8"
  }
 },
 "nbformat": 4,
 "nbformat_minor": 5
}
