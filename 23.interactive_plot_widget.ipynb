{
 "cells": [
  {
   "cell_type": "markdown",
   "id": "reduced-department",
   "metadata": {
    "slideshow": {
     "slide_type": "slide"
    }
   },
   "source": [
    "<br />       \n",
    "\n",
    "|<img src='./images/school_logo.png' alt=\"Drawing\" style=\"width:100px;float: left\"/><img width=300;/>|<p style=\"padding-top:8px;padding-bottom:0px;\">Shouke Wei, Ph.D.</p><img width=300;/>|115| \n",
    "| :--- | :--- | :---:|\n",
    "\n",
    "<h1 style='text-align: center;'>Lesson 23: Interactive  Widget Plots in Jupyter Notebook</h1>\n",
    "\n",
    "<br /> "
   ]
  },
  {
   "cell_type": "markdown",
   "id": "increasing-claim",
   "metadata": {
    "slideshow": {
     "slide_type": "slide"
    }
   },
   "source": [
    "## Objective\n",
    "- learn how to create interactive widget plots"
   ]
  },
  {
   "cell_type": "markdown",
   "id": "utility-warner",
   "metadata": {},
   "source": [
    "The easiest way to get started with interactive widgets is using IPython’s widgets(`ipywidgets`). `ipywidgets`, also known as jupyter-widgets or simply widgets, are interactive HTML widgets for Jupyter notebooks and the IPython kernel.\n",
    "\n",
    "We will talk about five basic methods to create interactive widget plots.\n",
    "- Interact Function\n",
    "- Interact Decorator\n",
    "- Interactive Function\n",
    "- Interact_manual\n",
    "- Interact_manual Decorator"
   ]
  },
  {
   "cell_type": "markdown",
   "id": "subsequent-roads",
   "metadata": {},
   "source": [
    "## 23.1 Interact Function\n",
    "ipywidgets provide an `interact()` function can automatically create user interface (UI) controls for interactive data exploration and visualization. "
   ]
  },
  {
   "cell_type": "markdown",
   "id": "billion-vertex",
   "metadata": {},
   "source": [
    "### (1) One Argument\n",
    "\n",
    "Let's plot a sine wave function with one-argument of $A$(i.e. amplitude).  "
   ]
  },
  {
   "cell_type": "markdown",
   "id": "intermediate-bruce",
   "metadata": {
    "scrolled": false
   },
   "source": [
    "**Import numpy，matplotlib and ipywidgets.interact**"
   ]
  },
  {
   "cell_type": "code",
   "execution_count": 1,
   "id": "monthly-proposal",
   "metadata": {},
   "outputs": [],
   "source": [
    "import numpy as np\n",
    "import matplotlib.pyplot as plt\n",
    "\n",
    "from ipywidgets import interact"
   ]
  },
  {
   "cell_type": "markdown",
   "id": "located-break",
   "metadata": {
    "scrolled": false
   },
   "source": [
    "**Define sine wave plot function** \n",
    "\n",
    "Let's define sine plot function with one argument of amplitude $A$, define an array $x$ of 32 uniformly spaced floating point values from 0 to $Aπ$, and define $y$ to be the array containing the sine of the values from $x$."
   ]
  },
  {
   "cell_type": "code",
   "execution_count": 20,
   "id": "innocent-timeline",
   "metadata": {
    "scrolled": true
   },
   "outputs": [],
   "source": [
    "def sinplot(A):\n",
    "    x = np.linspace(0,A*np.pi,32)\n",
    "    y = np.sin(x)\n",
    "    \n",
    "    # plot the sin curve\n",
    "    fig,ax = plt.subplots()\n",
    "    ax.plot(x, y)"
   ]
  },
  {
   "cell_type": "markdown",
   "id": "logical-slide",
   "metadata": {},
   "source": [
    "**Call interact function**   \n",
    "\n",
    "When we pass this `sinplot` function as the first argument to `interact()` along with an integer keyword argument ($A$=2), a slider will be automatically generated and bound to the function argument."
   ]
  },
  {
   "cell_type": "code",
   "execution_count": 21,
   "id": "corporate-painting",
   "metadata": {},
   "outputs": [
    {
     "data": {
      "application/vnd.jupyter.widget-view+json": {
       "model_id": "c8aaa024cf1b429d841e165291f6abdd",
       "version_major": 2,
       "version_minor": 0
      },
      "text/plain": [
       "interactive(children=(IntSlider(value=2, description='A', max=6, min=-2), Output()), _dom_classes=('widget-int…"
      ]
     },
     "metadata": {},
     "output_type": "display_data"
    },
    {
     "data": {
      "text/plain": [
       "<function __main__.sinplot(A)>"
      ]
     },
     "execution_count": 21,
     "metadata": {},
     "output_type": "execute_result"
    }
   ],
   "source": [
    "interact(sinplot,A=2)"
   ]
  },
  {
   "cell_type": "markdown",
   "id": "vanilla-means",
   "metadata": {},
   "source": [
    "When you pass an postive integer-valued keyword argument of $a$ ($x=a$) to interact, it generates an integer-valued slider control with a range of $[-a,+3*a]$. In the above example, we pass 2 to argument of $A$ (i.e.$A$=2), thus the slider control has a range of [-2,+6] When you move the slider, the function is called and new plots will be generated."
   ]
  },
  {
   "cell_type": "markdown",
   "id": "acquired-refund",
   "metadata": {},
   "source": [
    "**Argument with a 2-tuple of integers**\n",
    "\n",
    "We can also pass a 2-tuple of integers (min, max) to the arguments, which will produce an integer-valued slider with those minimum and maximum values, and the default step size of 1."
   ]
  },
  {
   "cell_type": "code",
   "execution_count": 22,
   "id": "olympic-thermal",
   "metadata": {},
   "outputs": [
    {
     "data": {
      "application/vnd.jupyter.widget-view+json": {
       "model_id": "29a7f9b5ffdc49cbb9bd1ecb367202d4",
       "version_major": 2,
       "version_minor": 0
      },
      "text/plain": [
       "interactive(children=(IntSlider(value=2, description='A', max=4), Output()), _dom_classes=('widget-interact',)…"
      ]
     },
     "metadata": {},
     "output_type": "display_data"
    }
   ],
   "source": [
    "interact(sinplot, A=(0,4));"
   ]
  },
  {
   "cell_type": "markdown",
   "id": "important-position",
   "metadata": {},
   "source": [
    "**Argument with a 3-tuple of integers**\n",
    "\n",
    "A third element in the tuple can be passed to change the step size. If a 3-tuple of integers is passed (min,max,step) to the arguments, the step size will be set accordingly by the value of that integers."
   ]
  },
  {
   "cell_type": "code",
   "execution_count": 23,
   "id": "entertaining-particular",
   "metadata": {},
   "outputs": [
    {
     "data": {
      "application/vnd.jupyter.widget-view+json": {
       "model_id": "ef57039f6c4840c7ae77106d4a377341",
       "version_major": 2,
       "version_minor": 0
      },
      "text/plain": [
       "interactive(children=(IntSlider(value=4, description='A', max=8, step=2), Output()), _dom_classes=('widget-int…"
      ]
     },
     "metadata": {},
     "output_type": "display_data"
    }
   ],
   "source": [
    "interact(sinplot, A=(0,8,2));# from 0 to 8 with step of 2"
   ]
  },
  {
   "cell_type": "markdown",
   "id": "backed-celtic",
   "metadata": {},
   "source": [
    "### (2) More Arguments\n",
    "\n",
    "Interact is not limited to single argument functions, it can have function with multiple arguments. As follows, let's take the following standard sine wave function with three arguments to create interative widgets for plots. \n",
    "\n",
    "$y(x) = Asin(2\\pi{fx}+\\varphi)$\n",
    "\n",
    "where:\n",
    "\n",
    "$A$, the amplitude of the wave, i.e. the maximum height of the wave.    \n",
    "$f$, ordinary frequency, the number of oscillations (cycles) occur each second of time.   \n",
    "$\\varphi$ , phase, specifies (in radians) where in its cycle the oscillation is at t = 0."
   ]
  },
  {
   "cell_type": "code",
   "execution_count": 2,
   "id": "accomplished-gothic",
   "metadata": {},
   "outputs": [
    {
     "data": {
      "application/vnd.jupyter.widget-view+json": {
       "model_id": "2d060068dc9b4a0a93724fb5148cef78",
       "version_major": 2,
       "version_minor": 0
      },
      "text/plain": [
       "interactive(children=(FloatSlider(value=2.0, description='A', max=4.0), IntSlider(value=5, description='f', ma…"
      ]
     },
     "metadata": {},
     "output_type": "display_data"
    },
    {
     "data": {
      "text/plain": [
       "<function __main__.sinwave(A, f, phi)>"
      ]
     },
     "execution_count": 2,
     "metadata": {},
     "output_type": "execute_result"
    }
   ],
   "source": [
    "def sinwave(A, f, phi):\n",
    "    # set up plot\n",
    "    fig, ax = plt.subplots(figsize=(6, 4))\n",
    "    ax.set_ylim([-4, 4])\n",
    "    ax.grid(True)\n",
    "    \n",
    "    # generate x values\n",
    "    x = np.linspace(0, 2 * np.pi, 100)\n",
    "    y = A*np.sin(x*f + phi);\n",
    "    ax.plot(x,y)\n",
    "\n",
    "interact(sinwave,A=(0, 4, .1),f=(0, 10, 1), phi=(0, 2, 0.5))"
   ]
  },
  {
   "cell_type": "markdown",
   "id": "bibliographic-equality",
   "metadata": {},
   "source": [
    "#### Fixing arguments using fixed\n",
    "In some case you may explore a function using interact, but fix one or more arguments to specific values. This can be realized by using the fixed function to pass a specific value to the argument that need be fixed.\n",
    "\n",
    "In order to fix one or more arguments, we have to import both `interact` and `fixed` method. "
   ]
  },
  {
   "cell_type": "code",
   "execution_count": null,
   "id": "numerical-laser",
   "metadata": {},
   "outputs": [],
   "source": [
    "from ipywidgets import interact,fixed"
   ]
  },
  {
   "cell_type": "markdown",
   "id": "immediate-toyota",
   "metadata": {},
   "source": [
    "For example, call interact, you pass `fixed(6)` for phi to hold it fixed at a value of 6."
   ]
  },
  {
   "cell_type": "code",
   "execution_count": 25,
   "id": "affiliated-cooper",
   "metadata": {
    "scrolled": false
   },
   "outputs": [
    {
     "data": {
      "application/vnd.jupyter.widget-view+json": {
       "model_id": "b7cf58298d00491c88ea6bece1531919",
       "version_major": 2,
       "version_minor": 0
      },
      "text/plain": [
       "interactive(children=(FloatSlider(value=2.0, description='A', max=4.0), IntSlider(value=5, description='f', ma…"
      ]
     },
     "metadata": {},
     "output_type": "display_data"
    },
    {
     "data": {
      "text/plain": [
       "<function __main__.sinwave(A, f, phi)>"
      ]
     },
     "execution_count": 25,
     "metadata": {},
     "output_type": "execute_result"
    }
   ],
   "source": [
    "interact(sinwave,A=(0, 4, .1),f=(0, 10, 1), phi=fixed(6)) "
   ]
  },
  {
   "cell_type": "markdown",
   "id": "adjacent-license",
   "metadata": {},
   "source": [
    "#### Dropdowns\n",
    "\n",
    "Dropdown menus are created by passing a list of strings to the function. In this case, the strings are both used as the names in the dropdown menu UI and passed to the underlying Python function."
   ]
  },
  {
   "cell_type": "code",
   "execution_count": 1,
   "id": "awful-twins",
   "metadata": {},
   "outputs": [
    {
     "ename": "NameError",
     "evalue": "name 'interact' is not defined",
     "output_type": "error",
     "traceback": [
      "\u001b[1;31m---------------------------------------------------------------------------\u001b[0m",
      "\u001b[1;31mNameError\u001b[0m                                 Traceback (most recent call last)",
      "\u001b[1;32m~\\AppData\\Local\\Temp/ipykernel_14928/775348361.py\u001b[0m in \u001b[0;36m<module>\u001b[1;34m\u001b[0m\n\u001b[0;32m     12\u001b[0m \u001b[1;33m\u001b[0m\u001b[0m\n\u001b[0;32m     13\u001b[0m \u001b[0mcolors\u001b[0m \u001b[1;33m=\u001b[0m \u001b[1;33m[\u001b[0m\u001b[1;34m'blue'\u001b[0m\u001b[1;33m,\u001b[0m \u001b[1;34m'red'\u001b[0m\u001b[1;33m,\u001b[0m \u001b[1;34m'orange'\u001b[0m\u001b[1;33m]\u001b[0m\u001b[1;33m\u001b[0m\u001b[1;33m\u001b[0m\u001b[0m\n\u001b[1;32m---> 14\u001b[1;33m \u001b[0minteract\u001b[0m\u001b[1;33m(\u001b[0m\u001b[0msinwave\u001b[0m\u001b[1;33m,\u001b[0m\u001b[0mA\u001b[0m\u001b[1;33m=\u001b[0m\u001b[1;33m(\u001b[0m\u001b[1;36m0\u001b[0m\u001b[1;33m,\u001b[0m \u001b[1;36m4\u001b[0m\u001b[1;33m,\u001b[0m \u001b[1;36m.1\u001b[0m\u001b[1;33m)\u001b[0m\u001b[1;33m,\u001b[0m\u001b[0mf\u001b[0m\u001b[1;33m=\u001b[0m\u001b[1;33m(\u001b[0m\u001b[1;36m0\u001b[0m\u001b[1;33m,\u001b[0m \u001b[1;36m10\u001b[0m\u001b[1;33m,\u001b[0m \u001b[1;36m1\u001b[0m\u001b[1;33m)\u001b[0m\u001b[1;33m,\u001b[0m \u001b[0mphi\u001b[0m\u001b[1;33m=\u001b[0m\u001b[0mfixed\u001b[0m\u001b[1;33m(\u001b[0m\u001b[1;36m6\u001b[0m\u001b[1;33m)\u001b[0m\u001b[1;33m,\u001b[0m\u001b[0mcolor\u001b[0m\u001b[1;33m=\u001b[0m\u001b[0mcolors\u001b[0m\u001b[1;33m)\u001b[0m\u001b[1;33m\u001b[0m\u001b[1;33m\u001b[0m\u001b[0m\n\u001b[0m",
      "\u001b[1;31mNameError\u001b[0m: name 'interact' is not defined"
     ]
    }
   ],
   "source": [
    "#### Color selection\n",
    "def sinwave(color, A, f, phi):\n",
    "    # set up plot\n",
    "    fig, ax = plt.subplots(figsize=(6, 4))\n",
    "    ax.set_ylim([-4, 4])\n",
    "    ax.grid(True)\n",
    "    \n",
    "    # generate x values\n",
    "    x = np.linspace(0, 2 * np.pi, 100)\n",
    "    y = A*np.sin(x*f + phi);\n",
    "    ax.plot(x,y,color)\n",
    "\n",
    "colors = ['blue', 'red', 'orange']\n",
    "interact(sinwave,A=(0, 4, .1),f=(0, 10, 1), phi=fixed(6),color=colors)"
   ]
  },
  {
   "cell_type": "markdown",
   "id": "advisory-mitchell",
   "metadata": {},
   "source": [
    "#### List of pairs\n",
    "\n",
    "We can also pass a list of ('label', value) pairs to a dropdown menu, where the first items are the names in the dropdown menu UI and the second items are values passed to the arguments."
   ]
  },
  {
   "cell_type": "code",
   "execution_count": 27,
   "id": "numeric-british",
   "metadata": {},
   "outputs": [
    {
     "data": {
      "application/vnd.jupyter.widget-view+json": {
       "model_id": "560d0649addb4242aeca24b4dbb74c63",
       "version_major": 2,
       "version_minor": 0
      },
      "text/plain": [
       "interactive(children=(Dropdown(description='A', options=(('one', 1), ('two', 2)), value=1), Output()), _dom_cl…"
      ]
     },
     "metadata": {},
     "output_type": "display_data"
    },
    {
     "data": {
      "text/plain": [
       "<function __main__.sinwave(A, f, phi)>"
      ]
     },
     "execution_count": 27,
     "metadata": {},
     "output_type": "execute_result"
    }
   ],
   "source": [
    "def sinwave(A, f, phi):\n",
    "    # set up plot\n",
    "    fig, ax = plt.subplots(figsize=(6, 4))\n",
    "    ax.set_ylim([-4, 4])\n",
    "    ax.grid(True)\n",
    "    \n",
    "    # generate x values\n",
    "    x = np.linspace(0, 2 * np.pi, 100)\n",
    "    y = A*np.sin(x*f + phi);\n",
    "    ax.plot(x,y)\n",
    "\n",
    "A = [('one', 1), ('two', 2)]\n",
    "\n",
    "interact(sinwave,A=A,f=fixed(8),phi=fixed(6))"
   ]
  },
  {
   "cell_type": "markdown",
   "id": "acceptable-decrease",
   "metadata": {},
   "source": [
    "#### Dictionary value\n",
    "\n",
    "We can also pass a dictionary (key:value) pairs  instead of the list of ('label', value) pairs to realize the same drop."
   ]
  },
  {
   "cell_type": "code",
   "execution_count": 28,
   "id": "representative-level",
   "metadata": {},
   "outputs": [
    {
     "data": {
      "application/vnd.jupyter.widget-view+json": {
       "model_id": "294535d16d814617a09aab558c1b8efe",
       "version_major": 2,
       "version_minor": 0
      },
      "text/plain": [
       "interactive(children=(Dropdown(description='A', options={'one': 1, 'two': 2}, value=1), Output()), _dom_classe…"
      ]
     },
     "metadata": {},
     "output_type": "display_data"
    },
    {
     "data": {
      "text/plain": [
       "<function __main__.sinwave(A, f, phi)>"
      ]
     },
     "execution_count": 28,
     "metadata": {},
     "output_type": "execute_result"
    }
   ],
   "source": [
    "A = {'one':1,'two':2}\n",
    "\n",
    "interact(sinwave,A=A,f=fixed(8),phi=fixed(6))"
   ]
  },
  {
   "cell_type": "markdown",
   "id": "stable-pennsylvania",
   "metadata": {},
   "source": [
    "## 23.2 Interact Decorator\n",
    "\n",
    "Interact can also be used as a `@interact` decorator, which allows us to quickly define a function and turn the function into an interactive widget. "
   ]
  },
  {
   "cell_type": "code",
   "execution_count": 29,
   "id": "lesser-partner",
   "metadata": {
    "scrolled": true
   },
   "outputs": [
    {
     "data": {
      "application/vnd.jupyter.widget-view+json": {
       "model_id": "38c49eb309384f36bd86bb06b488a5a7",
       "version_major": 2,
       "version_minor": 0
      },
      "text/plain": [
       "interactive(children=(FloatSlider(value=2.0, description='A', max=4.0), IntSlider(value=5, description='f', ma…"
      ]
     },
     "metadata": {},
     "output_type": "display_data"
    }
   ],
   "source": [
    "@interact(A=(0, 4, .1),f=(0, 10, 1), phi=fixed(6))\n",
    "\n",
    "def sinwave(A, f, phi):\n",
    "    # set up plot\n",
    "    fig, ax = plt.subplots(figsize=(6, 4))\n",
    "    ax.set_ylim([-4, 4])\n",
    "    ax.grid(True)\n",
    "    \n",
    "    # generate x values\n",
    "    x = np.linspace(0, 2 * np.pi, 100)\n",
    "    y = A*np.sin(x*f + phi);\n",
    "    ax.plot(x,y)"
   ]
  },
  {
   "cell_type": "code",
   "execution_count": 30,
   "id": "burning-degree",
   "metadata": {
    "scrolled": true
   },
   "outputs": [
    {
     "data": {
      "application/vnd.jupyter.widget-view+json": {
       "model_id": "2b197d33148947a08efe014e60699f90",
       "version_major": 2,
       "version_minor": 0
      },
      "text/plain": [
       "interactive(children=(Dropdown(description='colors', options=('blue', 'red', 'orange'), value='blue'), FloatSl…"
      ]
     },
     "metadata": {},
     "output_type": "display_data"
    }
   ],
   "source": [
    "@interact(A=(0, 4, .1),f=fixed(10), phi=fixed(6),\n",
    "          colors = ['blue', 'red', 'orange'])\n",
    "\n",
    "def sinwave(colors, A, f, phi):\n",
    "    # set up plot\n",
    "    fig, ax = plt.subplots(figsize=(6, 4))\n",
    "    ax.set_ylim([-4, 4])\n",
    "    ax.grid(True)\n",
    "    \n",
    "    # generate x values\n",
    "    x = np.linspace(0, 2 * np.pi, 100)\n",
    "    y = A*np.sin(x*f + phi);\n",
    "    ax.plot(x,y)"
   ]
  },
  {
   "cell_type": "markdown",
   "id": "palestinian-hydrogen",
   "metadata": {},
   "source": [
    "## 23.3 Interactive Function\n",
    "\n",
    "In addition to interact, IPython provides another function, `interactive()`, which is useful if you need reuse the widgets. Unlike `interact`, `interactive` returns a Widget instance rather than automatically displaying the widget."
   ]
  },
  {
   "cell_type": "code",
   "execution_count": 4,
   "id": "acoustic-happiness",
   "metadata": {},
   "outputs": [],
   "source": [
    "from ipywidgets import interactive, fixed\n",
    "from IPython.display import display\n",
    "\n",
    "def sinwave(A, f, phi):\n",
    "    # set up plot\n",
    "    fig, ax = plt.subplots(figsize=(6, 4))\n",
    "    ax.set_ylim([-4, 4])\n",
    "    ax.grid(True)\n",
    "    \n",
    "    # generate x values\n",
    "    x = np.linspace(0, 2 * np.pi, 100)\n",
    "    y = A*np.sin(x*f + phi);\n",
    "    ax.plot(x,y)"
   ]
  },
  {
   "cell_type": "code",
   "execution_count": 5,
   "id": "hispanic-effects",
   "metadata": {},
   "outputs": [],
   "source": [
    "sinplot = interactive(sinwave, A=(0, 4, .1),f=(0, 10, 1), phi=fixed(6))"
   ]
  },
  {
   "cell_type": "markdown",
   "id": "convertible-bearing",
   "metadata": {},
   "source": [
    "To actually display the widgets, you can use IPython’s `display` function."
   ]
  },
  {
   "cell_type": "code",
   "execution_count": 6,
   "id": "protecting-basic",
   "metadata": {},
   "outputs": [
    {
     "data": {
      "application/vnd.jupyter.widget-view+json": {
       "model_id": "7289c1ef017a4fd5aa4afc5309252de1",
       "version_major": 2,
       "version_minor": 0
      },
      "text/plain": [
       "interactive(children=(FloatSlider(value=2.0, description='A', max=4.0), IntSlider(value=5, description='f', ma…"
      ]
     },
     "metadata": {},
     "output_type": "display_data"
    }
   ],
   "source": [
    "display(sinplot)"
   ]
  },
  {
   "cell_type": "markdown",
   "id": "advisory-chrome",
   "metadata": {},
   "source": [
    "## 23.4 Interact_manual\n",
    "The `interact_manual` function provides a variant of `interactive()` that allows us to restrict execution so it is only done on demand. A button is added to the interact controls that allows you to trigger an execute event.\n",
    "\n",
    "This is useful with long-lasting computations that should not run every time a widget value changes. "
   ]
  },
  {
   "cell_type": "code",
   "execution_count": 36,
   "id": "stuck-aluminum",
   "metadata": {},
   "outputs": [
    {
     "data": {
      "application/vnd.jupyter.widget-view+json": {
       "model_id": "0d69da48c2a1428197af98061b3bc395",
       "version_major": 2,
       "version_minor": 0
      },
      "text/plain": [
       "interactive(children=(FloatSlider(value=2.0, description='A', max=4.0), IntSlider(value=5, description='f', ma…"
      ]
     },
     "metadata": {},
     "output_type": "display_data"
    }
   ],
   "source": [
    "import ipywidgets as widgets\n",
    "from ipywidgets import fixed, interact_manual\n",
    "\n",
    "def sinwave(A, f, phi):\n",
    "    # set up plot\n",
    "    fig, ax = plt.subplots(figsize=(6, 4))\n",
    "    ax.set_ylim([-4, 4])\n",
    "    ax.grid(True)\n",
    "    \n",
    "    # generate x values\n",
    "    x = np.linspace(0, 2 * np.pi, 100)\n",
    "    y = A*np.sin(x*f + phi);\n",
    "    ax.plot(x,y)\n",
    "    \n",
    "interact_manual(sinwave, A=(0, 4, .1),f=(0, 10, 1), phi=fixed(6));"
   ]
  },
  {
   "cell_type": "markdown",
   "id": "2b62b895",
   "metadata": {},
   "source": [
    "## 2.5 Interact_manual Decorator"
   ]
  },
  {
   "cell_type": "markdown",
   "id": "classified-meaning",
   "metadata": {},
   "source": [
    "There is also an `@interact_manual` decorator which provides a button to call the function manually."
   ]
  },
  {
   "cell_type": "code",
   "execution_count": 35,
   "id": "placed-apollo",
   "metadata": {
    "scrolled": true
   },
   "outputs": [
    {
     "data": {
      "application/vnd.jupyter.widget-view+json": {
       "model_id": "5f2f277ec9514aefbd1d5492ccd41d0c",
       "version_major": 2,
       "version_minor": 0
      },
      "text/plain": [
       "interactive(children=(Dropdown(description='colors', options=('blue', 'red', 'orange'), value='blue'), FloatSl…"
      ]
     },
     "metadata": {},
     "output_type": "display_data"
    }
   ],
   "source": [
    "@interact_manual(A=(0, 4, .1),f=fixed(10), phi=fixed(6),\n",
    "          colors = ['blue', 'red', 'orange'])\n",
    "\n",
    "def sinwave(colors, A, f, phi):\n",
    "    # set up plot\n",
    "    fig, ax = plt.subplots(figsize=(6, 4))\n",
    "    ax.set_ylim([-4, 4])\n",
    "    ax.grid(True)\n",
    "    \n",
    "    # generate x values\n",
    "    x = np.linspace(0, 2 * np.pi, 100)\n",
    "    y = A*np.sin(x*f + phi);\n",
    "    ax.plot(x,y)"
   ]
  }
 ],
 "metadata": {
  "kernelspec": {
   "display_name": "Python 3",
   "language": "python",
   "name": "python3"
  },
  "language_info": {
   "codemirror_mode": {
    "name": "ipython",
    "version": 3
   },
   "file_extension": ".py",
   "mimetype": "text/x-python",
   "name": "python",
   "nbconvert_exporter": "python",
   "pygments_lexer": "ipython3",
   "version": "3.8.8"
  }
 },
 "nbformat": 4,
 "nbformat_minor": 5
}
