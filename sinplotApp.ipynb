{
 "cells": [
  {
   "cell_type": "markdown",
   "id": "corresponding-major",
   "metadata": {},
   "source": [
    "## Sine Web Plot App"
   ]
  },
  {
   "cell_type": "code",
   "execution_count": 1,
   "id": "blond-toddler",
   "metadata": {},
   "outputs": [
    {
     "data": {
      "application/vnd.jupyter.widget-view+json": {
       "model_id": "49561f5fea9e4ca588e8bb2c48aa636e",
       "version_major": 2,
       "version_minor": 0
      },
      "text/plain": [
       "GridspecLayout(children=(Button(button_style='success', description='Sine Web Plot App', layout=Layout(grid_ar…"
      ]
     },
     "metadata": {},
     "output_type": "display_data"
    }
   ],
   "source": [
    "# Import required libraries, packages and methods\n",
    "import numpy as np\n",
    "import matplotlib.pyplot as plt\n",
    "from ipywidgets import interactive, HBox,Layout,Button,GridspecLayout\n",
    "from IPython.display import display\n",
    "\n",
    "# set the ggplot style\n",
    "plt.style.use('ggplot')\n",
    "\n",
    "# make the plot zoom-able and resize-able\n",
    "\n",
    "# define the sinwave plot function\n",
    "def sinwave(A, f, phi,color):\n",
    "    # set up plot\n",
    "    fig, ax = plt.subplots(figsize=(15,6))\n",
    "    ax.set_ylim([-4, 4])\n",
    "    ax.grid(True)\n",
    "    ax.set_xlabel('X')\n",
    "    ax.set_ylabel('Sine Wave')\n",
    "    ax.set_title('Sine Wave Widget for Interactive Plot')\n",
    "    \n",
    "    # generate x values\n",
    "    x = np.linspace(0, 2 * np.pi, 100)\n",
    "    y = A*np.sin(x*f + phi);\n",
    "\n",
    "    ax.plot(x,y,color)\n",
    "    \n",
    "\n",
    "# create color list\n",
    "colors = ['blue', 'red', 'orange']\n",
    "\n",
    "# Create a widget for interative plot\n",
    "# Create a widget for interative plot\n",
    "widget = interactive(sinwave,A=(0, 4, 0.1),f=(0, 10, 1), phi=(0, 2, 0.5),color=colors)\n",
    "\n",
    "controls = HBox(widget.children[:-1], layout = Layout(flex_flow='column wrap'),width='auto', height='auto')\n",
    "output = widget.children[-1]\n",
    "from IPython.core.display import display\n",
    "\n",
    "# Define expanded button function\n",
    "\n",
    "def create_expanded_button(description, button_style):\n",
    "    return Button(description=description, button_style=button_style, layout=Layout(height='auto', width='auto'))\n",
    "\n",
    "# use GridspecLayout to define the widget layout\n",
    "grid = GridspecLayout(10, 6, height='500px')\n",
    "grid[0,:] = create_expanded_button('Sine Web Plot App', 'success')\n",
    "grid[2:8, 0:2] = controls\n",
    "grid[1:9, 2:] = output\n",
    "grid[9,:] = create_expanded_button('\\xa9 2021 Copyright Shouke Wei', 'info')\n",
    "\n",
    "grid\n"
   ]
  },
  {
   "cell_type": "code",
   "execution_count": null,
   "id": "6f9f8dd0",
   "metadata": {},
   "outputs": [],
   "source": []
  }
 ],
 "metadata": {
  "kernelspec": {
   "display_name": "Python 3",
   "language": "python",
   "name": "python3"
  },
  "language_info": {
   "codemirror_mode": {
    "name": "ipython",
    "version": 3
   },
   "file_extension": ".py",
   "mimetype": "text/x-python",
   "name": "python",
   "nbconvert_exporter": "python",
   "pygments_lexer": "ipython3",
   "version": "3.8.8"
  }
 },
 "nbformat": 4,
 "nbformat_minor": 5
}
