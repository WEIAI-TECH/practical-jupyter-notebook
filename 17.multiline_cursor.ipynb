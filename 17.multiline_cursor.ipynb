{
 "cells": [
  {
   "cell_type": "markdown",
   "id": "vocal-energy",
   "metadata": {
    "slideshow": {
     "slide_type": "slide"
    }
   },
   "source": [
    "<br />       \n",
    "\n",
    "|<img src='./images/school_logo.png' alt=\"Drawing\" style=\"width:100px;float: left\"/><img width=300;/>|<p style=\"padding-top:8px;padding-bottom:0px;\">Shouke Wei, Ph.D.</p><img width=300;/>| 73| \n",
    "| :--- | :--- | :---:|\n",
    "\n",
    "<h1 style='text-align: center;'>Lesson 17: Multi-line Cursor of Jupyter Notebook</h1>\n",
    "\n",
    "<br /> "
   ]
  },
  {
   "cell_type": "markdown",
   "id": "breeding-speech",
   "metadata": {},
   "source": [
    "## Obejective\n",
    "\n",
    "- lean how to use the multi-line cursor including but not limited to the following aspects:\n",
    "    - Comments\n",
    "    - Indentation\n",
    "    - Bullets\n",
    "    - Emphasized text\n",
    "    - Text Alignment\n",
    "    - Make Tables\n",
    "    - Multiple Plots\n",
    "    - Multiple String Items\n",
    "\n",
    "\n",
    "Multiline cursor is the combination of holding **Alt/Option** and **mouse to pull down/up**, which is very handy for multiline editing."
   ]
  },
  {
   "cell_type": "markdown",
   "id": "oriental-abortion",
   "metadata": {},
   "source": [
    "## 17.1 Multiline Comments"
   ]
  },
  {
   "cell_type": "code",
   "execution_count": null,
   "id": "acknowledged-loading",
   "metadata": {},
   "outputs": [],
   "source": [
    "print(\"Hello\")\n",
    "print(\"hi\")print(20)\n",
    "print(\"Hello1\")\n",
    "print(\"hi2\")\n",
    "#print(20)\n",
    "#print(\"Hello1\")\n",
    "#print(\"hi2\")\n",
    "#print(23)"
   ]
  },
  {
   "cell_type": "markdown",
   "id": "e345f21b",
   "metadata": {},
   "source": [
    "## 17.2 Indentation"
   ]
  },
  {
   "cell_type": "code",
   "execution_count": null,
   "id": "hungarian-possibility",
   "metadata": {},
   "outputs": [],
   "source": [
    "    Comments\n",
    "    Indentation\n",
    "    Bullets\n",
    "    Emphasized text\n",
    "    Text Alignment\n",
    "    Make Tables\n",
    "    Multiple Plots\n",
    "    Multiple String Items"
   ]
  },
  {
   "cell_type": "markdown",
   "id": "aac3ac5a",
   "metadata": {},
   "source": [
    "## 17.3 Bullets"
   ]
  },
  {
   "cell_type": "markdown",
   "id": "0ff0e2a8",
   "metadata": {},
   "source": [
    "- Comments  \n",
    "- Indentation  \n",
    "- Bullets  \n",
    "- Emphasized text  \n",
    "- Text Alignment  \n",
    "- Make Tables  \n",
    "- Multiple Plots  \n",
    "- Multiple String Items  "
   ]
  },
  {
   "cell_type": "markdown",
   "id": "a683882a",
   "metadata": {},
   "source": [
    "## 17.4 Emphasized Text¶"
   ]
  },
  {
   "cell_type": "markdown",
   "id": "9536c707",
   "metadata": {},
   "source": [
    "**Comments**  \n",
    "**Indentation**  \n",
    "**Bullets**  \n",
    "**Emphasized text**  \n",
    "**Text Alignment**  \n",
    "**Make Tables**  \n",
    "**Multiple Plots**  \n",
    "**Multiple String Items**  "
   ]
  },
  {
   "cell_type": "markdown",
   "id": "d46a2078",
   "metadata": {},
   "source": [
    "## 17.5 Text Alignment"
   ]
  },
  {
   "cell_type": "markdown",
   "id": "2e3e84f6",
   "metadata": {},
   "source": [
    "<center><h1>This is header 1</h1></center>\n",
    "<center><h2>This is header 2</h2></center>\n",
    "<center><h3>This is header 3</h3></center>"
   ]
  },
  {
   "cell_type": "markdown",
   "id": "6381e8d9",
   "metadata": {},
   "source": [
    "## 17.6 Make Tables"
   ]
  },
  {
   "cell_type": "markdown",
   "id": "3ced29b5",
   "metadata": {},
   "source": [
    "|head1|head2|head3|\n",
    "|---|---|---|\n",
    "|cell1|cell2|cell3|\n",
    "|cell4|cell5|cell6|\n",
    "|cell7|cell8|cell9|"
   ]
  },
  {
   "cell_type": "markdown",
   "id": "692a64af",
   "metadata": {},
   "source": [
    "## 17.7 Multiple Plots"
   ]
  },
  {
   "cell_type": "code",
   "execution_count": null,
   "id": "backed-infection",
   "metadata": {},
   "outputs": [],
   "source": [
    "# Example \n",
    "import matplotlib\n",
    "import matplotlib.pyplot as plt\n",
    "import matplotlib.gridspec as gridspec\n",
    "\n",
    "fig2 = plt.figure(constrained_layout=True)\n",
    "spec2 = gridspec.GridSpec(ncols=2, nrows=2, figure=fig2)\n",
    "f2_ax1 = fig2.add_subplot(spec2[0, 0])\n",
    "f2_ax2 = fig2.add_subplot(spec2[0, 1])\n",
    "f2_ax3 = fig2.add_subplot(spec2[1, 0])\n",
    "f2_ax4 = fig2.add_subplot(spec2[1, 1])"
   ]
  },
  {
   "cell_type": "markdown",
   "id": "ed94f3ca",
   "metadata": {},
   "source": [
    "## 17.8 Multiple String Items"
   ]
  },
  {
   "cell_type": "code",
   "execution_count": 7,
   "id": "wrapped-barbados",
   "metadata": {},
   "outputs": [],
   "source": [
    "fruitList=[\n",
    "    \"apple\",\n",
    "    \"banana\",\n",
    "    \"orange\",\n",
    "    \"Cherry\",\n",
    "]"
   ]
  }
 ],
 "metadata": {
  "kernelspec": {
   "display_name": "Python 3 (ipykernel)",
   "language": "python",
   "name": "python3"
  },
  "language_info": {
   "codemirror_mode": {
    "name": "ipython",
    "version": 3
   },
   "file_extension": ".py",
   "mimetype": "text/x-python",
   "name": "python",
   "nbconvert_exporter": "python",
   "pygments_lexer": "ipython3",
   "version": "3.9.7"
  }
 },
 "nbformat": 4,
 "nbformat_minor": 5
}
