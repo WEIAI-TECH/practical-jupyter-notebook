{
 "cells": [
  {
   "cell_type": "markdown",
   "id": "717dbcf9",
   "metadata": {},
   "source": [
    "<br /> \n",
    "\n",
    "|<img src=\"./images/school_logo.png\" alt=\"Drawing\" style=\"width:100px;float: left\"/><img width=200;/>|<p style=\"padding-top:8px;padding-bottom:0px;\">Shouke Wei, Ph.D.</p><img width=300;/>|10| \n",
    "| :--- | :--- | :---:|\n",
    "\n",
    "<h1 style='text-align: center;'>Lesson 7: Python Programming in Jupyter Notebook</h1>"
   ]
  },
  {
   "cell_type": "markdown",
   "id": "fitting-affect",
   "metadata": {
    "slideshow": {
     "slide_type": "slide"
    }
   },
   "source": [
    "## Objectives:\n",
    "\n",
    "- Create a `.py` File \n",
    "- Read a `.py` File \n",
    "- Append to a `.py` File  \n",
    "- Update a `.py` File \n",
    "- Run a `.py` File\n",
    "- Run an External `.ipynb` file\n",
    "- Run codes from a Python or IPython shell"
   ]
  },
  {
   "cell_type": "markdown",
   "id": "inclusive-unemployment",
   "metadata": {
    "slideshow": {
     "slide_type": "slide"
    }
   },
   "source": [
    "## 7.1. Create `.py` File\n",
    "\n",
    "Several ways to creat `.py` files\n",
    "- built-in text editor\n",
    "- Dowload notebook as `.py`\n",
    "- create `.py` using magic command function"
   ]
  },
  {
   "cell_type": "markdown",
   "id": "composite-hindu",
   "metadata": {},
   "source": [
    "### 7.1.1 Using Text Editor\n",
    "\n",
    "Go to the **New** drop-down button in the top-right on the Dashboard, and select **Text File** to open the text editor. "
   ]
  },
  {
   "cell_type": "markdown",
   "id": "double-scale",
   "metadata": {},
   "source": [
    "Rename the file to any name you like, for example, we rename the file to `hi.py`. "
   ]
  },
  {
   "cell_type": "markdown",
   "id": "prostate-cargo",
   "metadata": {},
   "source": [
    "Then we write a simple python program in the text editor as an example:\n",
    "```python\n",
    "def hi(name):\n",
    "    print(f\"Hi,{name}!\")\n",
    "```\n",
    "Then let's go to **File** menu in the text editor, and selet **Save** and the file will be saved into your working direcory. "
   ]
  },
  {
   "cell_type": "markdown",
   "id": "subject-vampire",
   "metadata": {},
   "source": [
    "### 7.1.2 Download notebook as `.py`  "
   ]
  },
  {
   "cell_type": "markdown",
   "id": "encouraging-python",
   "metadata": {},
   "source": [
    "We create a new notebook named as `myname`, and type the following script:\n",
    "\n",
    "```python\n",
    "name = \"Tom\"\n",
    "print(f\"My name is {name}\")\n",
    "```"
   ]
  },
  {
   "cell_type": "markdown",
   "id": "consecutive-creativity",
   "metadata": {},
   "source": [
    "Then go to **File**, choose **Download as**, and select **Python (.py)**. "
   ]
  },
  {
   "cell_type": "markdown",
   "id": "consecutive-integral",
   "metadata": {},
   "source": [
    "The file was downloaded into your **defaut download folder** rather than your working directory."
   ]
  },
  {
   "cell_type": "markdown",
   "id": "geological-violin",
   "metadata": {},
   "source": [
    "### 7.1.3  `%%writefile` Magic \n",
    "- Start Python coding with `%%writefile filename.py`.\n",
    "- Create a `hello.py` file, in the code cell, type\n",
    "```python\n",
    "%%writefile hello.py\n",
    "def hello(name):\n",
    "    print(f\"Hello, {name}!\")\n",
    "```"
   ]
  },
  {
   "cell_type": "markdown",
   "id": "early-yahoo",
   "metadata": {},
   "source": [
    "This is the most convenient and flexible way to create `.py` file. We can transfer any notebook cell with Python code into a Python file by adding`%%writefile filename.py` at the beginning of codes."
   ]
  },
  {
   "cell_type": "markdown",
   "id": "linear-center",
   "metadata": {},
   "source": [
    "### 7.1.4  %%file Magic \n",
    "`%%file` magic works similarly to `%%writefile`. Let's create a \"greeting.py\" file for example, and  run the following code.\n",
    "```python\n",
    "%%file greeting.py\n",
    "def hello(fname,lname):\n",
    "    print(f\"Hello, {fname} {lname}!\")\n",
    "```"
   ]
  },
  {
   "cell_type": "markdown",
   "id": "fabulous-lingerie",
   "metadata": {
    "slideshow": {
     "slide_type": "slide"
    }
   },
   "source": [
    "## 7.2. Display `.py` Code\n",
    "On Linux, there are three ways to show the code, namely `!cat`,`%cat`,`cat`   \n",
    "On Widows, use `!type` "
   ]
  },
  {
   "cell_type": "markdown",
   "id": "variable-collective",
   "metadata": {},
   "source": [
    "### For Linux"
   ]
  },
  {
   "cell_type": "code",
   "execution_count": null,
   "id": "printable-welsh",
   "metadata": {
    "slideshow": {
     "slide_type": "slide"
    }
   },
   "outputs": [],
   "source": [
    "!cat hello.py"
   ]
  },
  {
   "cell_type": "code",
   "execution_count": null,
   "id": "found-carolina",
   "metadata": {},
   "outputs": [],
   "source": [
    "%cat hello.py"
   ]
  },
  {
   "cell_type": "code",
   "execution_count": null,
   "id": "opening-exploration",
   "metadata": {
    "scrolled": true
   },
   "outputs": [],
   "source": [
    "cat hello.py"
   ]
  },
  {
   "cell_type": "markdown",
   "id": "precise-inspiration",
   "metadata": {},
   "source": [
    "### For Windows"
   ]
  },
  {
   "cell_type": "code",
   "execution_count": null,
   "id": "bcb78574",
   "metadata": {},
   "outputs": [],
   "source": [
    "!type hello.py"
   ]
  },
  {
   "cell_type": "markdown",
   "id": "cooked-reward",
   "metadata": {},
   "source": [
    "Beside, there is another magic command `%pycat`, which works for both Linux and Windows. Whereas, Jupyter opens a **pager** and prints the output there."
   ]
  },
  {
   "cell_type": "markdown",
   "id": "continuing-oliver",
   "metadata": {},
   "source": [
    "It is good to know all these commands; but I suggest you using `%cat` on Linux and `!type` on Windows."
   ]
  },
  {
   "cell_type": "markdown",
   "id": "contemporary-metro",
   "metadata": {},
   "source": [
    "## 7.3. Load `.py` File\n",
    "\n",
    "The magics `%load` and `%loadpy` are used to load a `.py` file into the current code cell, and then you can edit and run it. \n",
    "\n",
    "For example, let's load the \"hello.py\" file in the working directory, just run either of the following codes.\n",
    "\n",
    "```python\n",
    "%load hello.py\n",
    "\n",
    "or\n",
    "\n",
    "%loadpy hello\n",
    "```"
   ]
  },
  {
   "cell_type": "markdown",
   "id": "hispanic-suffering",
   "metadata": {
    "slideshow": {
     "slide_type": "slide"
    }
   },
   "source": [
    "## 7.4. Append to `.py` File \n",
    "The magic command `%%writefile -a` can be used to append codes to the end of the code in an existing file. For example, we want to add `hello(\"Jack\")` to call the function."
   ]
  },
  {
   "cell_type": "markdown",
   "id": "registered-thanksgiving",
   "metadata": {},
   "source": [
    "The above output of **Appending to hello.py** indicates code appending is successful. We can look the code by `%cat`(Linux) or `!type`(Windows)"
   ]
  },
  {
   "cell_type": "markdown",
   "id": "2d5ccb3f",
   "metadata": {
    "slideshow": {
     "slide_type": "slide"
    }
   },
   "source": [
    "## 7.5. Update `.py` File\n",
    "If you would like to add code or edit the code in the file rather than to append code to the end, you can run `%%writefile` again, which will update your code by overwtiting the old file.For example,\n",
    "```python\n",
    "%%writefile hello.py\n",
    "def hello(name):\n",
    "    print(f\"Hello, {name}!\")\n",
    "\n",
    "hello(\"Mary\")\n",
    "```"
   ]
  },
  {
   "cell_type": "markdown",
   "id": "varied-alabama",
   "metadata": {},
   "source": [
    "## 7.6. Run `.py` File\n",
    "\n",
    "- use `%run filename.py`\n",
    "- For example, let's run \"hello.py\" by:  \n",
    "`%run hello.py`, or   \n",
    "`run hello.py`"
   ]
  },
  {
   "cell_type": "markdown",
   "id": "trying-validity",
   "metadata": {},
   "source": [
    "For a function, there are other two convenient ways to run it."
   ]
  },
  {
   "cell_type": "markdown",
   "id": "affiliated-hostel",
   "metadata": {},
   "source": [
    "**Method 1: run the function, and then call it**\n",
    "\n",
    "```python\n",
    "# run the function\n",
    "%run greeting.py\n",
    "```\n",
    "Then\n",
    "```python\n",
    "# call the function\n",
    "\n",
    "hello(\"Mary\",\"Johson\")\n",
    "```"
   ]
  },
  {
   "cell_type": "markdown",
   "id": "chief-sweden",
   "metadata": {},
   "source": [
    "**Method 2: run the function as module**\n",
    "```python\n",
    "# import the function as a module\n",
    "import greeting\n",
    "\n",
    "# call the function\n",
    "greeting.hello(\"Mary\",\"Johson\")\n",
    "```"
   ]
  },
  {
   "cell_type": "markdown",
   "id": "convenient-alarm",
   "metadata": {},
   "source": [
    "## 7.7. Run External Jupyter Notebook `.ipynb` files\n",
    "We can also run another Jupyter notebook inside the current working one using    \n",
    "`%run filename.ipynb`      \n",
    "For example, let's run the notebook named \"myname.ipynb\" notebook"
   ]
  },
  {
   "cell_type": "markdown",
   "id": "directed-account",
   "metadata": {},
   "source": [
    "## 7.8. Run Codes from a Python or IPython Shell Session\n",
    "\n",
    "- another awsome feature of the Jupyter Notebook is that you can run scripts directory copied from a Python shell or IPython shell session. For example:\n",
    "- Code from a Python Shell session: https://docs.python.org/3/tutorial/interpreter.html\n",
    "- Code from a IPython Shell session: https://jakevdp.github.io/PythonDataScienceHandbook/01.02-shell-keyboard-shortcuts.html"
   ]
  },
  {
   "cell_type": "markdown",
   "id": "alternative-corpus",
   "metadata": {},
   "source": [
    "It need not to remove these prompts, **>>>** and **In [ ]**, wherea it has to remove them in other IDEs or it will produce errors."
   ]
  },
  {
   "cell_type": "markdown",
   "id": "greater-parameter",
   "metadata": {},
   "source": [
    "It is very helpful for us to have a quick test for some codes online from a Python shell or IPython shell session. "
   ]
  }
 ],
 "metadata": {
  "kernelspec": {
   "display_name": "Python 3",
   "language": "python",
   "name": "python3"
  },
  "language_info": {
   "codemirror_mode": {
    "name": "ipython",
    "version": 3
   },
   "file_extension": ".py",
   "mimetype": "text/x-python",
   "name": "python",
   "nbconvert_exporter": "python",
   "pygments_lexer": "ipython3",
   "version": "3.8.8"
  }
 },
 "nbformat": 4,
 "nbformat_minor": 5
}
