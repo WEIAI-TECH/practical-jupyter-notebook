{
 "cells": [
  {
   "cell_type": "markdown",
   "id": "reduced-department",
   "metadata": {
    "slideshow": {
     "slide_type": "slide"
    }
   },
   "source": [
    "<br />       \n",
    "\n",
    "|<img src='./images/school_logo.png' alt=\"Drawing\" style=\"width:100px;float: left\"/><img width=350;/>|<p style=\"padding-top:8px;padding-bottom:0px;\">Shouke Wei, Ph.D.</p><img width=400;/>|89| \n",
    "| :--- | :--- | :---:|\n",
    "\n",
    "<h1 style='text-align: center;'>Lesson 20: Built-in Terminal of Jupyter Notebook</h1>\n",
    "\n",
    "<br /> "
   ]
  },
  {
   "cell_type": "markdown",
   "id": "intermediate-skiing",
   "metadata": {
    "slideshow": {
     "slide_type": "skip"
    }
   },
   "source": [
    "### Objective\n",
    "- learn the built-in terminal of Jupyter notebook"
   ]
  },
  {
   "cell_type": "markdown",
   "id": "sound-seminar",
   "metadata": {
    "slideshow": {
     "slide_type": "slide"
    }
   },
   "source": [
    "### 20.1 Built-in Terminal\n",
    "- It is very convenient \n",
    "  - We don't need switch windows, \n",
    "  - It does not need change the state of an existing terminal,  \n",
    "  - We can perform a quick command-line task,and \n",
    "  - It need not change the path to your work diretory to run a Python (.py) file"
   ]
  },
  {
   "cell_type": "markdown",
   "id": "armed-guarantee",
   "metadata": {
    "slideshow": {
     "slide_type": "slide"
    }
   },
   "source": [
    "### 20.2 Built-in Terminal of Jupyter Notebook \n",
    "- The terminal supports all applications, including Vim, Nano, and Bash, which would run in a PTY, a pseudo-terminal\n",
    "- It can be started from the dashboard:   \n",
    "  `go to home page --> clicking on the New tab --> \n",
    "  the New dropdown button --> selecting Terminal\n",
    " "
   ]
  },
  {
   "cell_type": "markdown",
   "id": "cordless-invalid",
   "metadata": {
    "slideshow": {
     "slide_type": "slide"
    }
   },
   "source": [
    "### 20.3 Problem of Unavailable Terminal on Windows\n",
    "\n",
    "- Many People face a problem of unavailable terminal in Windows after installing Jupyter notebook or Jupyterlab in Python\n",
    "  - because the Windows system does not support PTY defautly\n",
    "  - even installing pywinpty package\n",
    "- There is no such problem for Anaconda"
   ]
  },
  {
   "cell_type": "markdown",
   "id": "major-surveillance",
   "metadata": {
    "slideshow": {
     "slide_type": "slide"
    }
   },
   "source": [
    "### Solution\n",
    "\n",
    "- We can solve the problem by using `pipwin` to install wheel and pywinpty\n",
    "  - `pipwin` is like pip, but using to install precompiled Windows binaries provided by Christoph Gohlke.   \n",
    "  \n",
    "Setp 1: Install pipwin\n",
    "\n",
    "Step 2: Check if Wheel and Pywinpty Package installed \n",
    "\n",
    "Step 3: Uninstall them if they were installed\n",
    "\n",
    "Step 4: Reinstall them with pipwin    "
   ]
  },
  {
   "cell_type": "markdown",
   "id": "worst-senator",
   "metadata": {
    "slideshow": {
     "slide_type": "skip"
    }
   },
   "source": [
    "```\n",
    "pip install pipwin\n",
    "\n",
    "pip list\n",
    "\n",
    "pip uninstall wheel\n",
    "pip uninstall pywinpty\n",
    "\n",
    "pipwin install wheel\n",
    "pipwin install pywinpty\n",
    "```\n",
    "If you have this problem, please watch the video \"How to Solve the Unavailable Termianal Problem on Windows\" after this lesson first, or go to my YouTube Channel (https://youtu.be/d1NK83vve6c) to watch it."
   ]
  },
  {
   "cell_type": "markdown",
   "id": "stable-fifth",
   "metadata": {},
   "source": [
    "### 20.4  Run `.py` file  in buit-in terminal\n",
    "\n",
    "```\n",
    "python simplePiePlot.py\n",
    "```\n",
    "```\n",
    "python\n",
    "import greeting as gt\n",
    "gt.hello(\"Sigmund\",\"Wei\")\n",
    "```"
   ]
  },
  {
   "cell_type": "code",
   "execution_count": null,
   "id": "tracked-checklist",
   "metadata": {},
   "outputs": [],
   "source": []
  }
 ],
 "metadata": {
  "kernelspec": {
   "display_name": "Python 3 (ipykernel)",
   "language": "python",
   "name": "python3"
  },
  "language_info": {
   "codemirror_mode": {
    "name": "ipython",
    "version": 3
   },
   "file_extension": ".py",
   "mimetype": "text/x-python",
   "name": "python",
   "nbconvert_exporter": "python",
   "pygments_lexer": "ipython3",
   "version": "3.9.7"
  }
 },
 "nbformat": 4,
 "nbformat_minor": 5
}
