{
 "cells": [
  {
   "cell_type": "markdown",
   "id": "vocal-energy",
   "metadata": {
    "slideshow": {
     "slide_type": "slide"
    }
   },
   "source": [
    "<br />       \n",
    "\n",
    "|<img src='./images/school_logo.png' alt=\"Drawing\" style=\"width:100px;float: left\"/><img width=300;/>|<p style=\"padding-top:8px;padding-bottom:0px;\">Shouke Wei, Ph.D.</p><img width=300;/>| 32| \n",
    "| :--- | :--- | :---:|\n",
    "\n",
    "<h1 style='text-align: center;'>Lesson 11: Inserting Math Equations and Symbols in Jupyter Notebook</h1>\n",
    "\n",
    "<br /> "
   ]
  },
  {
   "cell_type": "markdown",
   "id": "defce81e",
   "metadata": {},
   "source": [
    "## Objectives\n",
    "- learn to insert math equations and symbols using LaTax in Jupyter notebook\n",
    "    - General Rule\n",
    "    - Greek Letters\n",
    "    - Accent Signs\n",
    "    - Big Symbols\n",
    "    - Relation Symbols\n",
    "    - Subscript and Superscript\n",
    "    - Fraction, Binomial, and Stacked number\n",
    "    - Matrices and Arrays\n",
    "    - Radical\n",
    "    - Sum, Limit and Integral\n",
    "    - Equation Formation\n",
    "    - Numbering Equations\n",
    "\n",
    "[**LaTeX**](https://www.latex-project.org/) is a typesetting language for generating scientific documents.In this lesson, we only touch small part of LaTex mathematical notation, which can work in Jupyter notebook."
   ]
  },
  {
   "cell_type": "markdown",
   "id": "naked-equation",
   "metadata": {},
   "source": [
    "## 11.1 General Rule\n",
    "\n",
    "We can add math equations and symbols by using LaTex syntax, starting with `\\begin{equation}` and ending with `\\end{equation}`"
   ]
  },
  {
   "cell_type": "markdown",
   "id": "99ec9cf6",
   "metadata": {},
   "source": [
    "For example, we write an integral calculus formula as:\n",
    "```LaTex\n",
    "\\begin{equation}\n",
    "\\frac{d}{dx}\\sin{x}=\\cos{x}\n",
    "\\end{equation}\n",
    "```\n",
    "The output:"
   ]
  },
  {
   "cell_type": "markdown",
   "id": "c318ce13",
   "metadata": {},
   "source": [
    "\\begin{equation}\n",
    "\\frac{d}{dx}\\sin{x}=\\cos{x}\n",
    "\\end{equation}"
   ]
  },
  {
   "cell_type": "markdown",
   "id": "independent-championship",
   "metadata": {},
   "source": [
    "But we can use dollar signs `$ ... $` instead of `\\begin{equation}` and `\\end{equation}`."
   ]
  },
  {
   "cell_type": "markdown",
   "id": "textile-warning",
   "metadata": {},
   "source": [
    "```LaTex\n",
    "$\\frac{d}{dx}\\sin{x}=\\cos{x}$\n",
    "```\n",
    "It renders inline as:"
   ]
  },
  {
   "cell_type": "markdown",
   "id": "grave-medium",
   "metadata": {},
   "source": [
    "$\n",
    "\\frac{d}{dx}\\sin{x}=\\cos{x}\n",
    "$"
   ]
  },
  {
   "cell_type": "markdown",
   "id": "sharp-scheduling",
   "metadata": {},
   "source": [
    "We can also enclose LaTeX code in double dollar signs `$$ ... $$` to center-align the expressions. For example:\n",
    "\n",
    "```LaTex\n",
    "$$\\frac{d}{dx}\\sin{x}=\\cos{x}$$\n",
    "```"
   ]
  },
  {
   "cell_type": "markdown",
   "id": "secondary-american",
   "metadata": {},
   "source": [
    "renders as:\n",
    "\n",
    "$$\\frac{d}{dx}\\sin{x}=\\cos{x}$$"
   ]
  },
  {
   "cell_type": "markdown",
   "id": "young-order",
   "metadata": {},
   "source": [
    "## 11.2 Greek Letters\n",
    "Greek letters are widely used mathematical symbols, which comprise of a backslash `\\` and the name of the letter. "
   ]
  },
  {
   "cell_type": "markdown",
   "id": "owned-membrane",
   "metadata": {},
   "source": [
    "#### Lower-case Greek\n",
    "We can get a lowercase Greek letter if the first letter of the name is lowercase."
   ]
  },
  {
   "cell_type": "markdown",
   "id": "bizarre-collins",
   "metadata": {},
   "source": [
    "| Command      |Ouput     |Comand        |Output    |Command     |Output  |Command       |Output    |\n",
    "|:-------------|:--------:|:-------------|:--------:|:-----------|:------:|:-------------|:--------:|\n",
    "|\\\\$\\alpha\\\\$  |$\\alpha$  |\\\\$\\eta\\\\$    |$\\eta$    |\\\\$\\nu\\\\$   |$\\nu$   |\\\\$\\sigma\\\\$  |$\\sigma$  |\n",
    "|\\\\$\\beta\\\\$   |$\\beta$   |\\\\$\\gamma\\\\$  |$\\gamma$  |\\\\$\\omega\\\\$|$\\omega$|\\\\$\\tau\\\\$    |$\\tau$    | \n",
    "|\\\\$\\chi\\\\$    |$\\chi$    |\\\\$\\iota\\\\$   |$\\iota$   |\\\\$\\phi\\\\$  |$\\phi$  |\\\\$\\theta\\\\$  |$\\theta$  |\n",
    "|\\\\$\\delta\\\\$  |$\\delta$  |\\\\$\\kappa\\\\$  |$\\kappa$  |\\\\$\\pi\\\\$   |$\\pi$   |\\\\$\\xi\\\\$     |$\\xi$     |\n",
    "|\\\\$\\digamma\\\\$|$\\digamma$|\\\\$\\lambda\\\\$ |$\\lambda$ |\\\\$\\psi\\\\$  |$\\psi$  |\\\\$\\upsilon\\\\$|$\\upsilon$|\n",
    "|\\\\$\\epsilon\\\\$|$\\epsilon$|\\\\$\\mu\\\\$     |$\\mu$     |\\\\$\\rho\\\\$  |$\\rho$  |\\\\$\\zeta\\\\$   |$\\zeta$   |           "
   ]
  },
  {
   "cell_type": "markdown",
   "id": "lightweight-context",
   "metadata": {},
   "source": [
    "#### Variant Greek letters\n",
    "Some Greek letters have alternate, or variant versions, which can be created by adding **var** before the name of the letter."
   ]
  },
  {
   "cell_type": "markdown",
   "id": "specified-processor",
   "metadata": {},
   "source": [
    "| Command         |Ouput        |Comand         |Output     |Command        |Output     |\n",
    "|:----------------|:-----------:|:--------------|:---------:|:--------------|:---------:|\n",
    "|\\\\$\\varepsilon\\\\$|$\\varepsilon$|\\\\$\\varpi\\\\$   |$\\varpi$   |\\\\$\\vartheta\\\\$|$\\vartheta$| \n",
    "|\\\\$\\varkappa\\\\$  |$\\varkappa$  |\\\\$\\varrho\\\\$  |$\\varrho$  |               |           |\n",
    "|\\\\$\\varphi\\\\$    |$\\varphi$    |\\\\$\\varsigma\\\\$|$\\varsigma$|               |           |"
   ]
  },
  {
   "cell_type": "markdown",
   "id": "established-delay",
   "metadata": {},
   "source": [
    "#### Upper-case Greek\n",
    "In most cases, we can get an uppercase letter if the first letter is uppercase in the Jupyter Notebook except that upper-case Alpha ($A$), Beta($B$), Mho ($\\mho$) and Nabla ($\\nabla$)."
   ]
  },
  {
   "cell_type": "markdown",
   "id": "recovered-vision",
   "metadata": {},
   "source": [
    "| Command     |Ouput       |Comand       |Output    |Command       |Output     |\n",
    "|:------------|:----------:|:------------|:--------:|:-------------|:---------:|\n",
    "|\\\\$A\\\\$      |$A$         |\\\\$\\Phi\\\\$   |$\\Phi$    |\\\\$\\Upsilon\\\\$|$\\Upsilon$ | \n",
    "|\\\\$B\\\\$      |$B$         |\\\\$\\Pi\\\\$    |$\\Pi$     |\\\\$\\Xi\\\\$     |$\\Xi$      |\n",
    "|\\\\$\\Delta\\\\$ |$\\Delta$    |\\\\$\\Psi\\\\$   |$\\Psi$    |\\\\$\\mho\\\\$    |$\\mho$     |\n",
    "|\\\\$\\Lambda\\\\$|$\\Lambda$   |\\\\$\\Sigma\\\\$ |$\\Sigma$  |\\\\$\\nabla\\\\$  |$\\nabla$   |\n",
    "|\\\\$\\Omega\\\\$ |$\\Omega$    |\\\\$\\Theta\\\\$ |$\\Theta$  |              |           |"
   ]
  },
  {
   "cell_type": "markdown",
   "id": "circular-vermont",
   "metadata": {},
   "source": [
    "## 11.3 Accent Signs\n",
    "An accent sign may precede any other symbols to add an accent above it, which includes long and short forms."
   ]
  },
  {
   "cell_type": "markdown",
   "id": "fifty-sewing",
   "metadata": {},
   "source": [
    "| Command      |Ouput     |Comand        |Output    |Command              |Output           |\n",
    "|:-------------|:--------:|:-------------|:--------:|:--------------------|:---------------:|\n",
    "|\\\\$\\acute a\\\\$|$\\acute a$|\\\\$\\dot a\\\\$  |$\\dot a  $|\\\\$\\vec a\\\\$         |$\\vec a$         | \n",
    "|\\\\$\\bar a  \\\\$|$\\bar a$  |\\\\$\\grave a\\\\$|$\\grave a$|\\\\$\\overline{abc}\\\\$ |$\\overline{abc}$ |\n",
    "|\\\\$\\breve a\\\\$|$\\breve a$|\\\\$\\hat a\\\\$  |$\\hat a  $|\\\\$\\widehat{xyz}\\\\$  |$\\widehat{xyz}$  |\n",
    "|\\\\$\\ddot a \\\\$|$\\ddot a$ |\\\\$\\tilde a\\\\$|$\\tilde a$|\\\\$\\widetilde{xyz}\\\\$|$\\widetilde{xyz}$|"
   ]
  },
  {
   "cell_type": "markdown",
   "id": "durable-admission",
   "metadata": {},
   "source": [
    "Tip: `\\imath` is used to avoid the extra dot over the lower-case *i* and *j* when you put accents on them. "
   ]
  },
  {
   "cell_type": "markdown",
   "id": "recent-sharp",
   "metadata": {},
   "source": [
    "`$\\hat i$`: $\\hat i$    \n",
    "`$\\hat \\imath$`: $\\hat \\imath$"
   ]
  },
  {
   "cell_type": "markdown",
   "id": "sensitive-country",
   "metadata": {},
   "source": [
    "## 11.4 Big Symbols"
   ]
  },
  {
   "cell_type": "markdown",
   "id": "beneficial-summit",
   "metadata": {},
   "source": [
    "| Command        |Ouput       |Comand         |Output     |Command        |Output &nbsp;|\n",
    "|:---------------|:----------:|:--------------|:---------:|:--------------|:---------:|\n",
    "|\\\\$\\bigcap\\\\$   |$\\bigcap$   |\\\\$\\biguplus\\\\$|$\\biguplus$|\\\\$\\iiint\\\\$   |$\\iiint$   | \n",
    "|\\\\$\\bigcup\\\\$   |$\\bigcup$   |\\\\$\\bigvee\\\\$  |$\\bigvee$  |\\\\$\\iiint\\\\$   |$\\iiiint$   |\n",
    "|\\\\$\\bigsqcup\\\\$ |$\\bigsqcup$ |\\\\$\\bigwedge\\\\$|$\\bigwedge$|\\\\$\\idotsint\\\\$|$\\idotsint$|\n",
    "|\\\\$\\bigodot\\\\$  |$\\bigodot$  |\\\\$\\coprod\\\\$  |$\\coprod$  |\\\\$\\oint\\\\$    |$\\oint$    |\n",
    "|\\\\$\\bigoplus\\\\$ |$\\bigoplus$ |\\\\$\\int\\\\$     |$\\int$     |\\\\$\\prod\\\\$    |$\\prod$    |\n",
    "|\\\\$\\bigotimes\\\\$|$\\bigotimes$|\\\\$\\iint\\\\$    |$\\iint$     |\\\\$\\sum\\\\$    |$\\sum$     |"
   ]
  },
  {
   "cell_type": "markdown",
   "id": "reverse-teddy",
   "metadata": {},
   "source": [
    "## 11.5 Relation Symbols"
   ]
  },
  {
   "cell_type": "markdown",
   "id": "executed-delhi",
   "metadata": {},
   "source": [
    "| Command       |Ouput      |Comand        |Output     |Command         |Output  |Command       |Output    |\n",
    "|:-------------|:--------:|:--------------|:---------:|:---------------|:------:|:-------------|:--------:|\n",
    "|\\\\$\\approx\\\\$ |$\\approx$ |\\\\$\\geqslant\\\\$|$\\geqslant$|\\\\$\\ni\\\\$      |$\\ni$     |\\\\$\\subseteq\\\\$|$\\subseteq$|\n",
    "|\\\\$\\because\\\\$|$\\because$|\\\\$\\in \\\\$     |$\\in $     |\\\\$\\notin\\\\$    |$\\notin$    |\\\\$\\supset\\\\$ |$\\supset$| \n",
    "|\\\\$\\div \\\\$   |$\\div $   |\\\\$\\leq\\\\$    |$\\leq$   |\\\\$\\not\\subset\\\\$|$\\not\\subset$|\\\\$\\supseteq\\\\$|$\\supseteq$|\n",
    "|\\\\$\\equiv\\\\$  |$\\equiv$  |\\\\$\\leqq\\\\$ |$\\leqq$  |\\\\$\\nsubseteq\\\\$|$\\nsubseteq$|\\\\$\\therefore\\\\$|$\\therefore$|\n",
    "|\\\\$\\forall\\\\$ |$\\forall$ |\\\\$\\leqslant\\\\$|$\\leqslant$|\\\\$\\nsupseteq\\\\$|$\\nsupseteq$|\\\\$\\times\\\\$|$\\times$|\n",
    "|\\\\$\\geq\\\\$    |$\\geq$    |\\\\$\\mp\\\\$      |$\\mp$      |\\\\$\\pm\\\\$   |$\\pm$   |\\\\$\\triangleq\\\\$|$\\triangleq$| \n",
    "|\\\\$\\geqq\\\\$   |$\\geqq$   |\\\\$\\neq \\\\$    |$\\neq $   |\\\\$\\subset\\\\$   |$\\subset$   |  |   | "
   ]
  },
  {
   "cell_type": "markdown",
   "id": "express-missouri",
   "metadata": {},
   "source": [
    " $\\not\\subset$ is `$\\not\\subset$` rather than `$\\nsubset$`"
   ]
  },
  {
   "cell_type": "markdown",
   "id": "addressed-uganda",
   "metadata": {},
   "source": [
    "## 11.6 Subscript and Superscript\n",
    "To make subscripts and superscripts, use the **Underscore** `_` and **Caret** `^` symbols:"
   ]
  },
  {
   "cell_type": "markdown",
   "id": "suburban-sheep",
   "metadata": {},
   "source": [
    "```LaTex\n",
    "$y_i = x_i^3+b$\n",
    "```"
   ]
  },
  {
   "cell_type": "markdown",
   "id": "legislative-indonesian",
   "metadata": {},
   "source": [
    "It renders as:\n",
    "\n",
    "$y_i = x_i^3+b$ "
   ]
  },
  {
   "cell_type": "markdown",
   "id": "1eccd31f",
   "metadata": {},
   "source": [
    "## 11.7 Fraction, Binomial, and Stacked Number\n",
    "\n",
    "### 11.7.1 Fraction\n",
    " A fraction can be created with `\\frac{}{}`"
   ]
  },
  {
   "cell_type": "markdown",
   "id": "9e11f43a",
   "metadata": {},
   "source": [
    "```LaTex\n",
    "$\\frac{a}{b}$\n",
    "```\n",
    "The output:"
   ]
  },
  {
   "cell_type": "markdown",
   "id": "b51d7ff2",
   "metadata": {},
   "source": [
    "$\\frac{a}{b}$"
   ]
  },
  {
   "cell_type": "markdown",
   "id": "gorgeous-conflict",
   "metadata": {},
   "source": [
    "Fractions can be arbitrarily nested:\n",
    "```Latex\n",
    "$\\frac{x - \\frac{1}{x}}{b}$\n",
    "```"
   ]
  },
  {
   "cell_type": "markdown",
   "id": "christian-wichita",
   "metadata": {},
   "source": [
    "produces:\n",
    "\n",
    "$\\frac{x - \\frac{1}{x}}{b}$"
   ]
  },
  {
   "cell_type": "markdown",
   "id": "defensive-cowboy",
   "metadata": {},
   "source": [
    "Warning: special care needs to be taken to put brackets around fractions. "
   ]
  },
  {
   "cell_type": "markdown",
   "id": "protected-mineral",
   "metadata": {},
   "source": [
    "```Latex\n",
    "$(\\frac{x - \\frac{1}{x}}{b})$\n",
    "```"
   ]
  },
  {
   "cell_type": "markdown",
   "id": "satisfied-spine",
   "metadata": {},
   "source": [
    "render as:\n",
    "\n",
    "$(\\frac{x - \\frac{1}{x}}{b})$\n",
    "\n",
    "Note: The obvious way produces brackets that are too small."
   ]
  },
  {
   "cell_type": "markdown",
   "id": "nasty-render",
   "metadata": {},
   "source": [
    "The solution is to precede the bracket with `\\left` and `\\right` to inform the parser that those brackets encompass the entire object:\n",
    "\n",
    "```Latex\n",
    "$\\left(\\frac{x - \\frac{1}{x}}{b}\\right)$\n",
    "```"
   ]
  },
  {
   "cell_type": "markdown",
   "id": "aggressive-effects",
   "metadata": {},
   "source": [
    "produces:\n",
    "    \n",
    "$\\left(\\frac{x - \\frac{1}{x}}{b}\\right)$"
   ]
  },
  {
   "cell_type": "markdown",
   "id": "ca8f0275",
   "metadata": {},
   "source": [
    "Mainly it's a difference of size:\n",
    "- `\\frac`: means that the actual context implies the decision above\n",
    "- `\\dfrac`: means that the fraction is set in displaystyle, which creates a 'large' fraction\n",
    "- `\\tfrac`: means that the fraction is set in textstyle, which create a 'small' fraction "
   ]
  },
  {
   "cell_type": "markdown",
   "id": "8e912fcd",
   "metadata": {},
   "source": [
    "```LaTex\n",
    "$\\frac{a}{b}$  vs. $\\dfrac{a}{b}$  vs. $\\tfrac{a}{b}$\n",
    "```"
   ]
  },
  {
   "cell_type": "markdown",
   "id": "34a815a1",
   "metadata": {},
   "source": [
    "$\\frac{a}{b}$  vs. $\\dfrac{a}{b}$  vs. $\\tfrac{a}{b}$"
   ]
  },
  {
   "cell_type": "markdown",
   "id": "945ea135",
   "metadata": {},
   "source": [
    "`\\frac{}{}` is the same as `\\tfrac{}{}`, while it is the same as `\\dfrac{}{}` when in the `\\displaystyle` environment.\n",
    "\n",
    " ```LaTex\n",
    " $\\dfrac{a}{b}$\n",
    " $\\displaystyle \\frac{1}{2}$\n",
    " ```\n",
    " is"
   ]
  },
  {
   "cell_type": "markdown",
   "id": "44a882ad",
   "metadata": {},
   "source": [
    " $\\dfrac{a}{b}$\n",
    " \n",
    " $\\displaystyle \\frac{a}{b}$"
   ]
  },
  {
   "cell_type": "markdown",
   "id": "2eca20da",
   "metadata": {},
   "source": [
    "### 11.7.2 Binomial\n",
    "`\\binom{}{}`is commonly used for binomial coefficients"
   ]
  },
  {
   "cell_type": "markdown",
   "id": "89cedf9d",
   "metadata": {},
   "source": [
    "The binomial coefficient is defined by the next expression:\n",
    "```LaTex\n",
    "$$\\binom{n}{k} = \\frac{n!}{k!(n-k)!}$$\n",
    "```"
   ]
  },
  {
   "cell_type": "markdown",
   "id": "884ddbbc",
   "metadata": {},
   "source": [
    "$$\n",
    "    \\binom{n}{k} = \\frac{n!}{k!(n-k)!}\n",
    "$$"
   ]
  },
  {
   "cell_type": "markdown",
   "id": "09ef84b6",
   "metadata": {},
   "source": [
    "Binomial coefficient can be fraction:\n",
    "\n",
    "```Latex\n",
    "$\\binom{1/3}{-2/3}$\n",
    "```"
   ]
  },
  {
   "cell_type": "markdown",
   "id": "1a980a54",
   "metadata": {},
   "source": [
    "$\\binom{1/3}{-2/3}$"
   ]
  },
  {
   "cell_type": "markdown",
   "id": "personal-ultimate",
   "metadata": {},
   "source": [
    "### 11.7.3 Stacked Numbers \n",
    "\n",
    "It can be created with the `\\genfrac{#1}{#2}{#3}{#4}{#5}{#6}`, which represents the most general command for defining fractions with optional delimiters, line thickness, and specified style.\n",
    "\n",
    "- #1:\tleft delimiter (empty, for no left delimiter)\n",
    "- #2:\tright delimiter (empty, for no right delimiter)\n",
    "- #3:\tfraction bar thickness (set to 0pt to make it disappear)\n",
    "- #4:\t0, 1, 2, or 3, where:\n",
    "    - 0 denotes \\displaystyle\n",
    "    - 1 denotes \\textstyle\n",
    "    - 2 denotes \\scriptstyle\n",
    "    - 3 denotes \\scriptscriptstyle\n",
    "- #5:\tnumerator\n",
    "- #6:\tdenominator"
   ]
  },
  {
   "cell_type": "markdown",
   "id": "royal-essay",
   "metadata": {},
   "source": [
    "```LaTex\n",
    "$\\genfrac{}{}{0}{}{e}{f}$\n",
    "$\\genfrac{(}{)}{0pt}{0}{a}{b}$\n",
    "```"
   ]
  },
  {
   "cell_type": "markdown",
   "id": "automotive-lodge",
   "metadata": {},
   "source": [
    "renders as:\n",
    "\n",
    "$\\genfrac{}{}{0}{}{e}{f}$   \n",
    "\n",
    "$\n",
    "\\genfrac{(}{)}{0pt}{0}{a}{b}\n",
    "$"
   ]
  },
  {
   "cell_type": "markdown",
   "id": "e234fb44",
   "metadata": {},
   "source": [
    "## 11.9 Matrices and Arrays\n",
    "\n",
    "### 11.9.1 Matrices with different delimiters"
   ]
  },
  {
   "cell_type": "markdown",
   "id": "83162e23",
   "metadata": {},
   "source": [
    "- matrix: unbracketed matrix\n",
    "- pmatrix: matrix surrounded by parentheses\n",
    "- bmatrix: matrix surrounded by square brackets\n",
    "- vmatrix: matrix surrounded by single vertical lines\n",
    "- Vmatrix: matrix surrounded by double vertical lines"
   ]
  },
  {
   "cell_type": "markdown",
   "id": "9ecafd33",
   "metadata": {},
   "source": [
    "|Type <img width=200;/>  |LATEX markup <img width=200;/>|Renders as<img width=200;/>|\n",
    "|:-------|:-------------|:-----------:|\n",
    "|Plain\t|```\\begin{matrix}\n",
    "a & b & c \\\\\n",
    "x & y & z \n",
    "\\end{matrix}```|\\begin{matrix} a  & b & c \\\\ x  & y & z \\\\ \\end{matrix}|\n",
    "|Parentheses;<br>round brackets\t|```\\begin{pmatrix} \n",
    "a & b & c \\\\\n",
    "x & y & z\n",
    "\\end{pmatrix}```|$\\begin{pmatrix} a & b & c\\\\x & y & z\\\\\\end{pmatrix}$|\n",
    "|Brackets;<br>square brackets|```\\begin{bmatrix} \n",
    "a & b & c\\\\ \n",
    "x & y & z\n",
    "\\end{bmatrix}```|$\\begin{bmatrix} a & b & c\\\\x & y & z\\\\\\end{bmatrix}$|\n",
    "|Braces;<br>curly brackets|```\\begin{Bmatrix} \n",
    "a & b & c\\\\ \n",
    "x & y & z\n",
    "\\end{Bmatrix}```|$\\begin{Bmatrix} a & b & c\\\\x & y & z\\\\\\end{Bmatrix}$|\n",
    "|Braces;<br>curly brackets|```\\begin{Bmatrix} \n",
    "a & b & c\\\\ \n",
    "x & y & z\n",
    "\\end{Bmatrix}```|$\\begin{Bmatrix} a & b & c\\\\x & y & z\\\\\\end{Bmatrix}$|\n",
    "|Pipes;<br> Vertical bars|```\\begin{vmatrix} \n",
    "a & b & c\\\\ \n",
    "x & y & z\n",
    "\\end{vmatrix}```|$\\begin{vmatrix} a & b & c\\\\x & y & z\\\\\\end{vmatrix}$|\n",
    "|Double <br>pipes|```\\begin{Vmatrix} \n",
    "a & b & c\\\\ \n",
    "x & y & z\n",
    "\\end{Vmatrix}```|$\\begin{Vmatrix} a & b & c\\\\x & y & z\\\\\\end{Vmatrix}$|"
   ]
  },
  {
   "cell_type": "markdown",
   "id": "36eb914a",
   "metadata": {},
   "source": [
    " To create matrices with different delimiters by adding them manually to a plain matrix"
   ]
  },
  {
   "cell_type": "markdown",
   "id": "289a2bc7",
   "metadata": {},
   "source": [
    "|Type <img width=200;/>  |LATEX markup <img width=200;/>|Renders as<img width=200;/>|\n",
    "|:-------|:-------------|:-----------:|\n",
    "|Ceiling <br>brackets\t|```$\\left\\lceil \n",
    "\\begin{matrix}\n",
    "a & b & c \\\\\n",
    "x & y & z \n",
    "\\end{matrix}\n",
    "\\right\\rceil$```|$\\left\\lceil \\begin{matrix} a  & b & c \\\\ x  & y & z \\\\ \\end{matrix}\\right\\rceil$ |\n",
    "|Angle <br>brackets\t|```$\\left\\langle \n",
    "\\begin{matrix}\n",
    "a & b & c \\\\\n",
    "x & y & z \n",
    "\\end{matrix}\n",
    "\\right\\rangle$```|$\\left\\langle \\begin{matrix} a  & b & c \\\\ x  & y & z \\\\ \\end{matrix}\\right\\rangle$ |\n",
    "|Mixed\t|```$\\left\\langle \n",
    "\\begin{matrix}\n",
    "a & b & c \\\\\n",
    "x & y & z \n",
    "\\end{matrix}\n",
    "\\right\\rvert$```|$\\left\\langle \\begin{matrix} a  & b & c \\\\ x  & y & z \\\\ \\end{matrix}\\right\\rvert$ |"
   ]
  },
  {
   "cell_type": "markdown",
   "id": "72ab6d32",
   "metadata": {},
   "source": [
    "### 11.9.2 Matrices with different types of dots \n",
    "\n",
    "line:     `\\ldots`   \n",
    "diagonal: `\\ddots`   \n",
    "vertical: `\\vdots`  "
   ]
  },
  {
   "cell_type": "markdown",
   "id": "399be154",
   "metadata": {},
   "source": [
    "```LaTax\n",
    "$$\n",
    "\\begin{bmatrix}\n",
    "    x_{11} & x_{12} & x_{13} & \\dots & x_{1n} \\\\\n",
    "    x_{21} & x_{22} & x_{23} & \\dots & x_{2n} \\\\\n",
    "    \\ldots &\\ldots &\\ldots &\\ldots &\\ldots \\\\\n",
    "    x_{d1}       & x_{d2} & x_{d3} & \\dots & x_{dn}\n",
    "\\end{bmatrix}\n",
    "=\n",
    "\\begin{bmatrix}\n",
    "    x_{11} & x_{12} & x_{13} & \\dots  & x_{1n} \\\\\n",
    "    x_{21} & x_{22} & x_{23} & \\dots  & x_{2n} \\\\\n",
    "    \\vdots & \\vdots & \\vdots & \\ddots & \\vdots \\\\\n",
    "    x_{d1} & x_{d2} & x_{d3} & \\dots  & x_{dn}\n",
    "\\end{bmatrix}\n",
    "$$\n",
    "```"
   ]
  },
  {
   "cell_type": "markdown",
   "id": "6a42b427",
   "metadata": {},
   "source": [
    "$$\n",
    "\\begin{bmatrix}\n",
    "    x_{11}       & x_{12} & x_{13} & \\dots & x_{1n} \\\\\n",
    "    x_{21}       & x_{22} & x_{23} & \\dots & x_{2n} \\\\\n",
    "    \\ldots &\\ldots &\\ldots &\\ldots &\\ldots \\\\\n",
    "    x_{d1}       & x_{d2} & x_{d3} & \\dots & x_{dn}\n",
    "\\end{bmatrix}\n",
    "=\n",
    "\\begin{bmatrix}\n",
    "    x_{11} & x_{12} & x_{13} & \\dots  & x_{1n} \\\\\n",
    "    x_{21} & x_{22} & x_{23} & \\dots  & x_{2n} \\\\\n",
    "    \\vdots & \\vdots & \\vdots & \\ddots & \\vdots \\\\\n",
    "    x_{d1} & x_{d2} & x_{d3} & \\dots  & x_{dn}\n",
    "\\end{bmatrix}\n",
    "$$"
   ]
  },
  {
   "cell_type": "markdown",
   "id": "44017da7",
   "metadata": {},
   "source": [
    "`\\hdotsfor{n}` does not work"
   ]
  },
  {
   "cell_type": "markdown",
   "id": "35a3cb2b",
   "metadata": {},
   "source": [
    "### 11.9.3 Inline Matrix"
   ]
  },
  {
   "cell_type": "markdown",
   "id": "cd761e70",
   "metadata": {},
   "source": [
    "```\n",
    "Let's insert an inline matrix here:\n",
    " $\\begin{pmatrix}\n",
    "  a & b\\\\ \n",
    "  c & d\n",
    "\\end{pmatrix}$,  \n",
    "but it looks bigger than the text, so let's make it smaller by using\n",
    "$\\big(\\begin{smallmatrix}\n",
    "  a & b\\\\\n",
    "  c & d\n",
    "\\end{smallmatrix}\\big)$.\n",
    "```\n",
    "It renders:"
   ]
  },
  {
   "cell_type": "markdown",
   "id": "4e45f51b",
   "metadata": {},
   "source": [
    "Let's insert an inline matrix here:\n",
    " $\\begin{pmatrix}\n",
    "  a & b\\\\ \n",
    "  c & d\n",
    "\\end{pmatrix}$,  \n",
    "but it looks bigger than the text, so let's make it smaller by using\n",
    "$\\big(\\begin{smallmatrix}\n",
    "  a & b\\\\\n",
    "  c & d\n",
    "\\end{smallmatrix}\\big)$."
   ]
  },
  {
   "cell_type": "markdown",
   "id": "ce03932e",
   "metadata": {},
   "source": [
    "We can also use `\\bigl` and `\\bigr`"
   ]
  },
  {
   "cell_type": "markdown",
   "id": "31ffea86",
   "metadata": {},
   "source": [
    "Let's see a bmaxtrix for example:"
   ]
  },
  {
   "cell_type": "markdown",
   "id": "3cc13390",
   "metadata": {},
   "source": [
    "```\n",
    "Let's insert an inline matrix here:\n",
    " $\\begin{bmatrix}\n",
    "  a & b\\\\ \n",
    "  c & d\n",
    "\\end{bmatrix}$,  \n",
    "but it looks bigger than the text, so let's make it smaller by using\n",
    "$\\bigl[\\begin{smallmatrix}\n",
    "  a & b\\\\\n",
    "  c & d\n",
    "\\end{smallmatrix}\\bigr]$.\n",
    "```\n",
    "The outputs are as follows:"
   ]
  },
  {
   "cell_type": "markdown",
   "id": "6128b860",
   "metadata": {},
   "source": [
    "Let's insert an inline matrix here:\n",
    " $\\begin{bmatrix}\n",
    "  a & b\\\\ \n",
    "  c & d\n",
    "\\end{bmatrix}$,  \n",
    "but it looks bigger than the text, so let's make it smaller by using\n",
    "$\\bigl[\\begin{smallmatrix}\n",
    "  a & b\\\\\n",
    "  c & d\n",
    "\\end{smallmatrix}\\bigr]$."
   ]
  },
  {
   "cell_type": "markdown",
   "id": "8adfed38",
   "metadata": {},
   "source": [
    "### 11.9.4 Array Environment\n",
    "Matrices and other arrays can be produced in LaTeX using the `\\textbf{array}` environment.\n",
    "\n",
    "Let's produce a $3 \\times 3$ matrix:"
   ]
  },
  {
   "cell_type": "markdown",
   "id": "392cd5f6",
   "metadata": {},
   "source": [
    "```\n",
    "$$\n",
    "\\left( \\begin{array}{ccc}\n",
    "a & b & c \\\\\n",
    "d & e & f \\\\\n",
    "g & h & i \\end{array} \\right) \n",
    "$$\n",
    "```\n",
    "\n",
    "produces:"
   ]
  },
  {
   "cell_type": "markdown",
   "id": "eda2d38f",
   "metadata": {},
   "source": [
    "$$\n",
    "\\left( \\begin{array}{ccc}\n",
    "a & b & c \\\\\n",
    "d & e & f \\\\\n",
    "g & h & i \\end{array} \\right) \n",
    "$$"
   ]
  },
  {
   "cell_type": "markdown",
   "id": "6ad936c1",
   "metadata": {},
   "source": [
    "`{ccc}` represents that the entries of the column should be centred. If the `c` were replaced by `l` then all the entries will be left-justified, and `r` would produce a column with all entries right-justified."
   ]
  },
  {
   "cell_type": "markdown",
   "id": "debce03e",
   "metadata": {},
   "source": [
    "To produce a table-like matrix or array as follows:"
   ]
  },
  {
   "cell_type": "markdown",
   "id": "685808d6",
   "metadata": {},
   "source": [
    "```\n",
    "$$\n",
    "\\begin{array}{lcc}\n",
    "\\mbox{Items} & \\mbox{Variable Operation} & \\mbox{Outputs} \\\\\n",
    "\\mbox{First variable} & x & 2 \\\\\n",
    "\\mbox{Second varaible} & y & 4 \\\\\n",
    "\\mbox{Sum} & x + y & 6 \\\\\n",
    "\\mbox{Difference} & x - y & -2 \\\\\n",
    "\\mbox{Multiply} & x*y & 8 \\end{array}\n",
    "$$\n",
    "```\n",
    "The output looks like:"
   ]
  },
  {
   "cell_type": "markdown",
   "id": "f853f3e9",
   "metadata": {},
   "source": [
    "$$\n",
    "\\begin{array}{lcc}\n",
    "\\mbox{Items} & \\mbox{Variable Operation} & \\mbox{Outputs} \\\\\n",
    "\\mbox{First variable} & x & 2 \\\\\n",
    "\\mbox{Second varaible} & y & 4 \\\\\n",
    "\\mbox{Sum} & x + y & 6 \\\\\n",
    "\\mbox{Difference} & x - y & -2 \\\\\n",
    "\\mbox{Multiply} & x*y & 8 \\end{array}\n",
    "$$"
   ]
  },
  {
   "cell_type": "markdown",
   "id": "e2c1fb57",
   "metadata": {},
   "source": [
    "use the array environment to produce multi-line formulae\n",
    "```\n",
    "$$\n",
    "|x| = \\left\\{ \\begin{array}{ll}\n",
    "         x-1 & \\mbox{if $x \\geq 0$};\\\\\n",
    "         x+1 & \\mbox{if $x < 0$}.\\end{array} \\right.\n",
    "$$\n",
    "```\n",
    "generates:"
   ]
  },
  {
   "cell_type": "markdown",
   "id": "d5681a3f",
   "metadata": {},
   "source": [
    "$$\n",
    "|y| = \\left \\{ \\begin{array}{ll}\n",
    "         x-1 & \\mbox{if $x \\geq 0$};\\\\\n",
    "         x+1 & \\mbox{if $x < 0$}.\\end{array} \\right.\n",
    "$$"
   ]
  },
  {
   "cell_type": "markdown",
   "id": "wireless-prescription",
   "metadata": {},
   "source": [
    "## 11.10 Radical\n",
    "\n",
    "Radicals can be produced with the `\\sqrt[]{}` command. The base can be provided inside square brackets. \n",
    "\n",
    "Note: that the base must be a postive integer and cannot include layout commands such as fractions or sub/superscripts.If the base is 2, it (\\[2]) can be omited. "
   ]
  },
  {
   "cell_type": "markdown",
   "id": "black-excellence",
   "metadata": {},
   "source": [
    "**The base 2:**\n",
    "\n",
    "```LaTex\n",
    "$\\sqrt{x+a}$\n",
    "```\n",
    "produces:\n",
    "\n",
    "$\\sqrt{x+a}$"
   ]
  },
  {
   "cell_type": "markdown",
   "id": "bottom-immune",
   "metadata": {},
   "source": [
    "**The bases other than 2:**\n",
    "\n",
    "```LaTex\n",
    "$\\sqrt[3]{x+a}$\n",
    "```\n",
    "produces:\n",
    "\n",
    "$\\sqrt[3]{x+a}$"
   ]
  },
  {
   "cell_type": "markdown",
   "id": "overall-class",
   "metadata": {},
   "source": [
    "## 11.11 Sums, Limit and Integral"
   ]
  },
  {
   "cell_type": "markdown",
   "id": "violent-slovakia",
   "metadata": {},
   "source": [
    "The `\\sum`,`\\lim` and `\\int` commands insert the sum, limit and integral symbols respectively, with **\\limits** or **\\displaystyle** specified using the caret (^) and underscore (_). "
   ]
  },
  {
   "cell_type": "markdown",
   "id": "congressional-delicious",
   "metadata": {},
   "source": [
    "**Typical notation**:\n",
    "\n",
    "```LaTex\n",
    "$\\sum_{i=0}^\\infty x_i$\n",
    "\n",
    "$\\int_a^b$\n",
    "\n",
    "$\\lim_{x \\to a} \\frac{f(x) - f(a)}{x-a}$\n",
    "```"
   ]
  },
  {
   "cell_type": "markdown",
   "id": "contemporary-orange",
   "metadata": {},
   "source": [
    "render as:\n",
    "\n",
    "$\\sum_{i=0}^\\infty x_i$\n",
    "\n",
    "$\\int_a^b$\n",
    "\n",
    "$\\lim_{x \\to a} \\frac{f(x) - f(a)}{x-a}$"
   ]
  },
  {
   "cell_type": "markdown",
   "id": "white-cornwall",
   "metadata": {},
   "source": [
    "**\\limits specified**:\n",
    "\n",
    "```LaTex\n",
    "$\\sum\\limits_{i=0}^\\infty x_i$\n",
    "\n",
    "$\\int\\limits_a^b$\n",
    "\n",
    "$\\lim\\limits_{x \\to a} \\frac{f(x) - f(a)}{x-a}$\n",
    "```"
   ]
  },
  {
   "cell_type": "markdown",
   "id": "authentic-fight",
   "metadata": {},
   "source": [
    "produce:\n",
    "\n",
    "$\\sum\\limits_{i=0}^\\infty x_i$\n",
    "\n",
    "$\\int\\limits_a^b$\n",
    "\n",
    "$\\lim\\limits_{x \\to a} \\frac{f(x) - f(a)}{x-a}$"
   ]
  },
  {
   "cell_type": "markdown",
   "id": "banned-engagement",
   "metadata": {},
   "source": [
    "**\\displaystyle specified**:\n",
    "```Latex\n",
    "\n",
    "$\\displaystyle\\sum_{i=0}^\\infty x_i$\n",
    "\n",
    "$\\displaystyle\\int_a^b$\n",
    "\n",
    "$\\displaystyle\\lim_{x \\to a} \\frac{f(x) - f(a)}{x-a}$\n",
    "```"
   ]
  },
  {
   "cell_type": "markdown",
   "id": "independent-mandate",
   "metadata": {},
   "source": [
    "render as follows:\n",
    "\n",
    "$\\displaystyle\\sum_{i=0}^\\infty x_i$\n",
    "\n",
    "$\\displaystyle\\int_a^b$\n",
    "\n",
    "$\\displaystyle\\lim_{x \\to a} \\frac{f(x) - f(a)}{x-a}$\n"
   ]
  },
  {
   "cell_type": "markdown",
   "id": "beautiful-redhead",
   "metadata": {},
   "source": [
    "The `\\displaystyle specified` has the same results with `\\limits specified`, but `\\displaystyle specified` has a better display with a bigger and bold font."
   ]
  },
  {
   "cell_type": "markdown",
   "id": "09f886e4",
   "metadata": {},
   "source": [
    " ## 11.11 Formation\n",
    " \n",
    " ### 11.11.1 Resizing \n",
    " It is possible to add one of the following modifiers at the beginning of the formula to change the font size:"
   ]
  },
  {
   "cell_type": "markdown",
   "id": "bf095848",
   "metadata": {},
   "source": [
    "| Modifier  |Example <img width=500;/>|Rendered         |\n",
    "|:----------|:-----------------------:|:----------------|\n",
    "|\\tiny        |\\\\$\\tiny a^{x+1}\\\\$       |$\\tiny a^{x+1}$      |\n",
    "|\\Tiny        |\\\\$\\Tiny a^{x+1}\\\\$       |$\\Tiny a^{x+1}$      |\n",
    "|\\scriptsize  |\\\\$\\scriptsize a^{x+1}\\\\$ |$\\scriptsize a^{x+1}$|\n",
    "|\\small       |\\\\$\\small a^{x+1}\\\\$      |$\\small a^{x+1}$     |\n",
    "|normal       |\\\\$a^{x+1}\\\\$             |$a^{x+1}$            |\n",
    "|\\normalsize  |\\\\$\\normalsize a^{x+1}\\\\$ |$\\normalsize a^{x+1}$|\n",
    "|\\large     |\\\\$\\large a^{x+1}\\\\$     |$\\large a^{x+1}$ |\n",
    "|\\Large     |\\\\$\\Large a^{x+1}\\\\$     |$\\Large a^{x+1}$ |\n",
    "|\\LARGE     |\\\\$\\LARGE a^{x+1}\\\\$     |$\\LARGE a^{x+1}$ |\n",
    "|\\huge      |\\\\$\\huge a^{x+1}\\\\$      |$\\huge a^{x+1}$  |\n",
    "|\\Huge      |\\\\$\\Huge a^{x+1}\\\\$      |$\\Huge a^{x+1}$  |"
   ]
  },
  {
   "cell_type": "markdown",
   "id": "28361821",
   "metadata": {},
   "source": [
    "`\\footnotesize` does not work in Jupyter notebook."
   ]
  },
  {
   "cell_type": "markdown",
   "id": "3e0be50d",
   "metadata": {},
   "source": [
    "### Math modes\n",
    "```LaTex\n",
    "normal: $ \\lim_{x \\to a} \\frac{f(x) - f(a)}{x-a}$\n",
    "displaystyle: $\\displaystyle\\lim_{x \\to a} \\frac{f(x) - f(a)}{x-a}$  \n",
    "scriptstyle: $ \\scriptstyle\\lim_{x \\to a} \\frac{f(x) - f(a)}{x-a}$\n",
    "scriptscriptstyle: $\\scriptscriptstyle\\lim_{x \\to a} \\frac{f(x) - f(a)}{x-a}$\n",
    "textstyle: $\\textstyle\\lim_{x \\to a} \\frac{f(x) - f(a)}{x-a}$\n",
    "```"
   ]
  },
  {
   "cell_type": "markdown",
   "id": "376f2679",
   "metadata": {},
   "source": [
    "normal: $ \\lim_{x \\to a} \\frac{f(x) - f(a)}{x-a}$\n",
    "\n",
    "displaystyle: $\\displaystyle\\lim_{x \\to a} \\frac{f(x) - f(a)}{x-a}$  \n",
    "\n",
    "scriptstyle: $ \\scriptstyle\\lim_{x \\to a} \\frac{f(x) - f(a)}{x-a}$\n",
    "\n",
    "scriptscriptstyle: $\\scriptscriptstyle\\lim_{x \\to a} \\frac{f(x) - f(a)}{x-a}$\n",
    "\n",
    "textstyle: $\\textstyle\\lim_{x \\to a} \\frac{f(x) - f(a)}{x-a}$"
   ]
  },
  {
   "cell_type": "markdown",
   "id": "20d9f67b",
   "metadata": {},
   "source": [
    "### 11.11.2 Changing Fonts"
   ]
  },
  {
   "cell_type": "markdown",
   "id": "d2b0b9e9",
   "metadata": {},
   "source": [
    "Table of the predefined math alphabets:\n",
    "\n",
    "| LaTex       |Font type <img width=500;/> |Example           |\n",
    "|:------------|:--------------------------:|:-----------------|\n",
    "|default      |Modern Roman or Latin Modern|$a^{x+1}$         |\n",
    "|\\mathrm      |roman                       |$\\mathrm a^{x+1}$ |\n",
    "|\\mathbf      |bold roman                  |$\\mathbf a^{x+1}$ |\n",
    "|\\mathsf      |sans serif                  |$\\mathsf a^{x+1}$ |\n",
    "|\\mathit      |text italic                 |$\\mathit a^{x+1}$ |\n",
    "|\\mathtt      |typewriter                  |$\\mathtt a^{x+1}$ |\n",
    "|\\mathcal     |calligraphic                |$\\mathcal a^{x+1}$|"
   ]
  },
  {
   "cell_type": "markdown",
   "id": "41976d90",
   "metadata": {},
   "source": [
    "For more, please refer to [Math Font Selection in LaTeX and Unicode](http://milde.users.sourceforge.net/LUCR/Math/math-font-selection.xhtml)."
   ]
  },
  {
   "cell_type": "markdown",
   "id": "1c66409f",
   "metadata": {},
   "source": [
    "### 11.11.2 Changing Color\n",
    "\n",
    "It is also possible to change the colors of the formula by adding `\\color{}` at the beginning.\n",
    "```Latex\n",
    "$$\\color{red}{x = {-b \\pm \\sqrt{b^2-4ac} \\over 2a}}$$  \n",
    "$$\\color{blue}{x = {-b \\pm \\sqrt{b^2-4ac} \\over 2a}}$$  \n",
    "$$\\color{rgb(60, 179, 113)}{x = {-b \\pm \\sqrt{b^2-4ac} \\over 2a}}$$  \n",
    "$$\\color{#ee82ee}{x = {-b \\pm \\sqrt{b^2-4ac} \\over 2a}}$$ \n",
    "```"
   ]
  },
  {
   "cell_type": "markdown",
   "id": "53edbc9c",
   "metadata": {},
   "source": [
    "$$\\color{red}{x = {-b \\pm \\sqrt{b^2-4ac} \\over 2a}}$$ \n",
    "\n",
    "$$\\color{blue}{x = {-b \\pm \\sqrt{b^2-4ac} \\over 2a}}$$ \n",
    "\n",
    "$$\\color{rgb(60, 179, 113)}{x = {-b \\pm \\sqrt{b^2-4ac} \\over 2a}}$$ \n",
    "\n",
    "$$\\color{#ee82ee}{x = {-b \\pm \\sqrt{b^2-4ac} \\over 2a}}$$ "
   ]
  },
  {
   "cell_type": "markdown",
   "id": "81f60a1b",
   "metadata": {},
   "source": [
    "### 11.11.3 Formation with HTML \n",
    "We can use LaTex mathematical equations in HTML tags, and then we can formate them in terms of font types, size, color and alignment. "
   ]
  },
  {
   "cell_type": "markdown",
   "id": "c39c3433",
   "metadata": {},
   "source": [
    "To formate the equation in HTML, put the ***style*** attribute inside the html tags. For example:\n",
    "\n",
    "```html\n",
    "<p style='text-align: center; \n",
    "          font-family:Time New Roman;\n",
    "          font-size:2.0em; color:red;'>\n",
    "    $x = {-b \\pm \\sqrt{b^2-4ac} \\over 2a}$\n",
    "</p>\n",
    "```\n",
    "The output looks like:"
   ]
  },
  {
   "cell_type": "markdown",
   "id": "6bed76bf",
   "metadata": {},
   "source": [
    "<p style='text-align: center; \n",
    "          font-family:Time New Roman;\n",
    "          font-size:2.0em; color:red;'>\n",
    "    $x = {-b \\pm \\sqrt{b^2-4ac} \\over 2a}$\n",
    "</p>"
   ]
  },
  {
   "cell_type": "markdown",
   "id": "488dfdcc",
   "metadata": {},
   "source": [
    "## 11.12 Numbering Equations"
   ]
  },
  {
   "cell_type": "markdown",
   "id": "1f94a511",
   "metadata": {},
   "source": [
    "```LaTex\n",
    "$$\n",
    "x = {-b \\pm \\sqrt{b^2-4ac} \\over 2a} \\tag{11.1} \\label{eq:special}\n",
    "$$\n",
    "\n",
    "```"
   ]
  },
  {
   "cell_type": "markdown",
   "id": "b7c34553",
   "metadata": {},
   "source": [
    "$$\n",
    "x = {-b \\pm \\sqrt{b^2-4ac} \\over 2a} \\tag{11.1} \\label{eq:special}\n",
    "$$\n",
    "\n",
    "It can be refered to equation \\eqref{eq:special}."
   ]
  }
 ],
 "metadata": {
  "kernelspec": {
   "display_name": "Python 3 (ipykernel)",
   "language": "python",
   "name": "python3"
  },
  "language_info": {
   "codemirror_mode": {
    "name": "ipython",
    "version": 3
   },
   "file_extension": ".py",
   "mimetype": "text/x-python",
   "name": "python",
   "nbconvert_exporter": "python",
   "pygments_lexer": "ipython3",
   "version": "3.9.7"
  }
 },
 "nbformat": 4,
 "nbformat_minor": 5
}
