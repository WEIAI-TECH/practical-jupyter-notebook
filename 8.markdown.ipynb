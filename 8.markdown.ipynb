{
 "cells": [
  {
   "cell_type": "markdown",
   "id": "vocal-energy",
   "metadata": {
    "slideshow": {
     "slide_type": "slide"
    }
   },
   "source": [
    "<br />       \n",
    "\n",
    "|<img src='./images/school_logo.png' alt=\"Drawing\" style=\"width:100px;float: left\"/><img width=350;/>|<p style=\"padding-top:8px;padding-bottom:0px;\">Shouke Wei, Ph.D.</p><img width=450;/>| 15| \n",
    "| :--- | :--- | :---:|\n",
    "\n",
    "<h1 style='text-align: center;'>Lesson 8: Text Formation with Markdown in Jupyter Notebook</h1>\n",
    "\n",
    "<br /> "
   ]
  },
  {
   "cell_type": "markdown",
   "id": "complimentary-investing",
   "metadata": {},
   "source": [
    "### Objectives：\n",
    "\n",
    "- learn how to formate text with Markdown syntax in Jupyter Notebook \n",
    "  - Headings\n",
    "  - Line Break\n",
    "  - Paragraphs\n",
    "  - List and Nested List\n",
    "  - Emphasis\n",
    "  - Blockquotes\n",
    "  - Code Blocks\n",
    "  - Task Lists\n",
    "  - Hyperlinks\n",
    "  - Emoji"
   ]
  },
  {
   "cell_type": "markdown",
   "id": "14fe783b",
   "metadata": {
    "slideshow": {
     "slide_type": "slide"
    }
   },
   "source": [
    " ## 8.1. Markdown\n",
    " \n",
    "- an easy-to-read and easy-to-write syntax\n",
    "- a lightweight and popular Markup language for quickly formatting documents and articles. "
   ]
  },
  {
   "cell_type": "markdown",
   "id": "cb94d10d",
   "metadata": {
    "slideshow": {
     "slide_type": "slide"
    }
   },
   "source": [
    " ## 8.2. Markdown Text Formating\n",
    " \n",
    "**create a Markdown cell:**\n",
    "- insert a new cell\n",
    "- click the drop-down of cell types, or \n",
    "- use shortcut ***m*** on our computer keyboard immediately after inserting a new cell"
   ]
  },
  {
   "cell_type": "markdown",
   "id": "consecutive-recommendation",
   "metadata": {},
   "source": [
    "### 8.2.1. Headings\n",
    "\n",
    "- created by using hash signs `#` followed by a blank space"
   ]
  },
  {
   "cell_type": "markdown",
   "id": "1530f47d",
   "metadata": {},
   "source": [
    "# Title of Header 1\n",
    "## Title of Header 2\n",
    "### Title of  Head 3\n",
    "#### Title of Header 4\n",
    "##### Title of Header 5\n",
    "###### Title of Header 6"
   ]
  },
  {
   "cell_type": "markdown",
   "id": "de2fb9d3",
   "metadata": {},
   "source": [
    " ### 8.2.2.  Line Break\n",
    "To create a line break, end a line with two or more spaces, and then press `enter`"
   ]
  },
  {
   "cell_type": "markdown",
   "id": "089526a5",
   "metadata": {},
   "source": [
    "This is a first line.  \n",
    "This is the second line."
   ]
  },
  {
   "cell_type": "markdown",
   "id": "supported-basement",
   "metadata": {},
   "source": [
    "### 8.2.3. Paragraphs\n",
    "- use a blank line to create paragraphs "
   ]
  },
  {
   "cell_type": "markdown",
   "id": "203fd841",
   "metadata": {},
   "source": [
    "This is the first paragraphs in standard Markdown.\n",
    "\n",
    "This is the second paragraphs in standard Markdown."
   ]
  },
  {
   "cell_type": "markdown",
   "id": "reported-clinton",
   "metadata": {},
   "source": [
    "### 8.2.4. List and Nested List\n",
    "\n",
    "- create an orderded list using numbers starting from 1\n",
    "- create unordered list with bullets using \n",
    "  - dash sign`-` \n",
    "  - asterisk sign `*` \n",
    "  - plus sign `+`"
   ]
  },
  {
   "cell_type": "markdown",
   "id": "infectious-natural",
   "metadata": {},
   "source": [
    "### (1) Ordered List"
   ]
  },
  {
   "cell_type": "markdown",
   "id": "163f4a79",
   "metadata": {},
   "source": [
    "1. Fruits\n",
    "2. Food \n",
    "3. Drink"
   ]
  },
  {
   "cell_type": "markdown",
   "id": "desperate-familiar",
   "metadata": {},
   "source": [
    "### (2) Unordered List"
   ]
  },
  {
   "cell_type": "markdown",
   "id": "355b2efa",
   "metadata": {},
   "source": [
    "- Fruits\n",
    "- Food\n",
    "- Drink"
   ]
  },
  {
   "cell_type": "markdown",
   "id": "comparative-christopher",
   "metadata": {},
   "source": [
    "### (3) Nested list\n",
    "To nest one list within another, indent each item in the sublist by ***tap*** key, or four spaces. \n",
    "\n",
    "#### Unordered list with nested lists\n",
    "- unordered\n",
    "- ordered or \n",
    "- mixed "
   ]
  },
  {
   "cell_type": "markdown",
   "id": "001fd73f",
   "metadata": {},
   "source": [
    "* Fruits\n",
    "    * Apple\n",
    "    * Banana\n",
    "* Food\n",
    "    1. Bread\n",
    "    2. Pasta\n",
    "* Drink"
   ]
  },
  {
   "cell_type": "markdown",
   "id": "global-catalyst",
   "metadata": {},
   "source": [
    "#### Ordered list with nested lists\n",
    "- unordered\n",
    "- ordered or \n",
    "- mixed"
   ]
  },
  {
   "cell_type": "markdown",
   "id": "c184a755",
   "metadata": {},
   "source": [
    "1. Fruits   \n",
    "    1.1. Apple  \n",
    "    1.2. Banana\n",
    "2. Food\n",
    "    - Bread\n",
    "    - Pasta\n",
    "3. Drink"
   ]
  },
  {
   "cell_type": "markdown",
   "id": "finished-manitoba",
   "metadata": {},
   "source": [
    "### 8.2.5. Emphasis"
   ]
  },
  {
   "cell_type": "markdown",
   "id": "universal-stationery",
   "metadata": {},
   "source": [
    "### (1) Bold\n",
    "\n",
    "To bold text, add two asterisks `**`or underscores `__` before and after a word or phrase, or even a letter or more letters in a word."
   ]
  },
  {
   "cell_type": "markdown",
   "id": "99a2cb1e",
   "metadata": {},
   "source": [
    "I want to use **bold text**.  \n",
    "\n",
    "I want to use __bold text__.\n",
    "\n",
    "I want to use bold letters of **t**e**x**t."
   ]
  },
  {
   "cell_type": "markdown",
   "id": "received-thunder",
   "metadata": {},
   "source": [
    "### (2) Italic\n",
    "\n",
    "To italicize text, add one asterisk sign `*`, or underscore `_` before and after a word or phrase, or even a letter or more letters in a word. "
   ]
  },
  {
   "cell_type": "markdown",
   "id": "5e063ffa",
   "metadata": {},
   "source": [
    "This is an *italicized text*. \n",
    "\n",
    "This is an _italicized text_."
   ]
  },
  {
   "cell_type": "markdown",
   "id": "voluntary-hughes",
   "metadata": {},
   "source": [
    "### (3) Bold and Italic\n",
    "To emphasize text with bold and italics at the same time, add three ***asterisks*** or ***underscores*** before and after a word or phrase. "
   ]
  },
  {
   "cell_type": "markdown",
   "id": "3ba55286",
   "metadata": {},
   "source": [
    "The bold and italic text is ***really important***. \n",
    "\n",
    "The bold and italic text is ___really important___.\n",
    "\n",
    "This bold and italic text is __*really important*__.\n",
    "\n",
    "This bold and italic text is **_really important_**."
   ]
  },
  {
   "cell_type": "markdown",
   "id": "central-madagascar",
   "metadata": {},
   "source": [
    "### (4) Highlight \n",
    "\n",
    "We usually want to highlight a text, a code, a command, or path to draw other's attention by using the ***backticks*** (\\`).\n",
    "\n",
    "<img src='./images/backticks.png' alt=\"Drawing\" style=\"width:400px;float: left\"/>"
   ]
  },
  {
   "cell_type": "markdown",
   "id": "1768a85e",
   "metadata": {},
   "source": [
    "`print（'Hi, Python!')`\n",
    "\n",
    "`sudo install python3`\n",
    "\n",
    "`~/Documents/mybooks/myjupyterbook/conternts`"
   ]
  },
  {
   "cell_type": "markdown",
   "id": "funky-funeral",
   "metadata": {},
   "source": [
    "### (5) Strikethrough\n",
    "To strikethrough words means by putting a horizontal line through the center of them, which usually indicates that certain words are a mistake and excluded in the document. \n",
    "\n",
    "In Markdown syntax, use two tilde symbols (~~) before and after the words to strikethrough these words."
   ]
  },
  {
   "cell_type": "markdown",
   "id": "36a92dd4",
   "metadata": {},
   "source": [
    "The following sentence is full of mistakes, so we strikethrough it.\n",
    "\n",
    "~~We is living in an beautifully world.~~ We are living in a beautiful world. "
   ]
  },
  {
   "cell_type": "markdown",
   "id": "accomplished-airplane",
   "metadata": {},
   "source": [
    "## 8.2.6. Blockquotes\n",
    "Use a greater than sign (>) and then a space, then type the text. The text is indented and has a gray horizontal line to the left of it until the next carriage return."
   ]
  },
  {
   "cell_type": "markdown",
   "id": "1607e676",
   "metadata": {},
   "source": [
    "> This is the start of a blockquote.\n",
    ">> This is a nested blockquote.\n",
    ">>\n",
    "> * a quoted list item 1.\n",
    "> * a quoted list item 2.\n",
    "\n",
    "> This is the end of the blockquote, and then add a space between the line and next regular text line.\n",
    "\n",
    "This line resumes the regular paragraph text."
   ]
  },
  {
   "cell_type": "markdown",
   "id": "solid-expense",
   "metadata": {},
   "source": [
    "### 8.2.7. Code Blocks\n",
    "\n",
    "If you want to include a code block use three `backticks` (\\`) or `tilde (~)` signs to enclose the code."
   ]
  },
  {
   "cell_type": "markdown",
   "id": "06ee4d71",
   "metadata": {},
   "source": [
    "~~~python\n",
    "for i in (1,2,3):\n",
    "   print(i)\n",
    "~~~\n",
    "or \n",
    "\n",
    "```python\n",
    "for i in (1,2,3):\n",
    "   print(i)\n",
    "```"
   ]
  },
  {
   "cell_type": "markdown",
   "id": "manual-digit",
   "metadata": {},
   "source": [
    "### 8.2.8. Horizontal Rules\n",
    "To create a horizontal rule, use three or more ***asterisks*** (***), dashes (---), or underscores (___) on a line by themselves."
   ]
  },
  {
   "cell_type": "markdown",
   "id": "herbal-miller",
   "metadata": {},
   "source": [
    "***\n",
    "\n",
    "---\n",
    "\n",
    "___"
   ]
  },
  {
   "cell_type": "markdown",
   "id": "combined-cigarette",
   "metadata": {},
   "source": [
    "### 8.2.9. Task Lists\n",
    "Task lists allow you to create a list of items with checkboxes. In Markdown, creating a task list by add ***dashes*** (-) and ***brackets*** with a space ([ ]) at the beginnig of the list items, and add an x in between the brackets ([x]) to select a checkbox. For example:"
   ]
  },
  {
   "cell_type": "markdown",
   "id": "intensive-royalty",
   "metadata": {},
   "source": [
    "### Publication Process:\n",
    "- [x] Preparation of a book manuscript\n",
    "- [x] Look for a press\n",
    "- [ ] Proofreading\n",
    "- [ ] Publish the book"
   ]
  },
  {
   "cell_type": "markdown",
   "id": "spoken-chancellor",
   "metadata": {},
   "source": [
    "### 8.2.10. Hyperlinks\n",
    "### (1) Internal links\n",
    "Links are eigher internal or external. Internal links are usully used to link to some part of the notebook, and to do that we usually link to the header of that part using the code `[heading title](#heading-title)` to link to the part of **heading title**. For the text in the parentheses, replace spaces and special characters with a hyphen. For example:"
   ]
  },
  {
   "cell_type": "markdown",
   "id": "be1e749f",
   "metadata": {},
   "source": [
    "This example show you how to link to the section: **[8.2.9. Task Lists](#8.2.9.-Task-Lists)**."
   ]
  },
  {
   "cell_type": "markdown",
   "id": "increased-macedonia",
   "metadata": {},
   "source": [
    "When you click the link, it will skip to **8.2.9. Task Lists** in the notebook."
   ]
  },
  {
   "cell_type": "markdown",
   "id": "sized-albania",
   "metadata": {},
   "source": [
    "### (2) External links\n",
    "\n",
    "External links are usually used to link to an external web page.  You use `[link text](http://url)` to make an external link. For example:"
   ]
  },
  {
   "cell_type": "markdown",
   "id": "f0f8af09",
   "metadata": {},
   "source": [
    "The Jupyter Notebook is an open-source web application. Please refer more to official [document](https://jupyter.org/documentation)."
   ]
  },
  {
   "cell_type": "markdown",
   "id": "attended-flood",
   "metadata": {},
   "source": [
    "When you click document, it will link to the webpage of the Jupyter document. "
   ]
  },
  {
   "cell_type": "markdown",
   "id": "renewable-alias",
   "metadata": {},
   "source": [
    "### (3) Reference Links\n",
    "\n",
    "If there are more links, we can make the external link as reference."
   ]
  },
  {
   "cell_type": "markdown",
   "id": "cellular-month",
   "metadata": {},
   "source": [
    "[Python][1] is a programming language that lets you work quickly and integrate systems more effectively. The [Jupyter Notebook][2] is an open-source web application that allows you to create and share documents that contain live code, equations, visualizations and narrative text. \n",
    "\n",
    "[1]: <https://www.python.org/> \"Python Software Foundation\"\n",
    "[2]: <https://jupyter.org/> \"Project Jupyter\""
   ]
  },
  {
   "cell_type": "markdown",
   "id": "26d98404",
   "metadata": {},
   "source": [
    "This method can be thought as a \"reference-style\" link because it is similar to using in-text citations and then defining those citations later in a more detailed reference section or bibliography."
   ]
  },
  {
   "cell_type": "markdown",
   "id": "municipal-princess",
   "metadata": {},
   "source": [
    "### 8.2.11. Emoji\n",
    "\n",
    "Adding Emojis can make the code output and documentation interesting and attractive. However, standard Markdown doesn't seem to support emoji codes. "
   ]
  },
  {
   "cell_type": "markdown",
   "id": "5d325b8a",
   "metadata": {},
   "source": [
    "We can copy an emoji from a source like [Emojipedia](https://emojipedia.org/) and past it to your Markdown text. For exmaple:"
   ]
  },
  {
   "cell_type": "markdown",
   "id": "2353bdd7",
   "metadata": {},
   "source": [
    "I really love this video! ❤️   \n",
    "The story is so funny! 😂    \n",
    "It makes me laughing and laughing!🤣    \n",
    "Thank you, video author 🙏!"
   ]
  },
  {
   "cell_type": "code",
   "execution_count": null,
   "id": "128ec192",
   "metadata": {},
   "outputs": [],
   "source": []
  }
 ],
 "metadata": {
  "kernelspec": {
   "display_name": "Python 3",
   "language": "python",
   "name": "python3"
  },
  "language_info": {
   "codemirror_mode": {
    "name": "ipython",
    "version": 3
   },
   "file_extension": ".py",
   "mimetype": "text/x-python",
   "name": "python",
   "nbconvert_exporter": "python",
   "pygments_lexer": "ipython3",
   "version": "3.8.8"
  }
 },
 "nbformat": 4,
 "nbformat_minor": 5
}
