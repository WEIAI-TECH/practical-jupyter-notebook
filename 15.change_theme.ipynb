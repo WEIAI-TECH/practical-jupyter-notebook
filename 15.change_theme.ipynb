{
 "cells": [
  {
   "cell_type": "markdown",
   "id": "excess-supervision",
   "metadata": {
    "slideshow": {
     "slide_type": "slide"
    }
   },
   "source": [
    " <br />       \n",
    "\n",
    "|<img src='./images/school_logo.png' alt=\"Drawing\" style=\"width:100px;float: left\"/><img width=350;/>|<p style=\"padding-top:8px;padding-bottom:0px;\">Shouke Wei, Ph.D.</p><img width=400;/>|67| \n",
    "| :--- | :--- | :---:|\n",
    "\n",
    "<h1 style='text-align: center;'>Lesson 15: Change Themes of Jupyter Notebook</h1>\n",
    "\n",
    "<br /> "
   ]
  },
  {
   "cell_type": "markdown",
   "id": "quiet-elizabeth",
   "metadata": {
    "slideshow": {
     "slide_type": "skip"
    }
   },
   "source": [
    "### Objective\n",
    "The defaut theme of Jupyter notebook is white, and there is no menue where we can change the theme. We will learn how to change the theme of Jupyter notebook from four points:\n",
    "\n",
    "- Install jupyter-theme package\n",
    "- List the available themes in the package\n",
    "- Change the theme\n",
    "- Restore the orginal theme"
   ]
  },
  {
   "cell_type": "markdown",
   "id": "incredible-equilibrium",
   "metadata": {
    "slideshow": {
     "slide_type": "slide"
    }
   },
   "source": [
    "## 15.1 Install jupyter-theme package\n",
    "\n",
    "#### use `pip`"
   ]
  },
  {
   "cell_type": "code",
   "execution_count": null,
   "id": "individual-description",
   "metadata": {
    "slideshow": {
     "slide_type": "slide"
    }
   },
   "outputs": [],
   "source": [
    "pip install jupyterthemes"
   ]
  },
  {
   "cell_type": "code",
   "execution_count": null,
   "id": "881c96b4",
   "metadata": {},
   "outputs": [],
   "source": [
    "# install directly in Jupyter notebook\n",
    "!pip install jupyterthemes"
   ]
  },
  {
   "cell_type": "code",
   "execution_count": null,
   "id": "5945642b",
   "metadata": {},
   "outputs": [],
   "source": [
    "# upgrade to latest version\n",
    "pip install --upgrade jupyterthemes"
   ]
  },
  {
   "cell_type": "markdown",
   "id": "dedicated-differential",
   "metadata": {
    "slideshow": {
     "slide_type": "slide"
    }
   },
   "source": [
    "#### or use conda"
   ]
  },
  {
   "cell_type": "code",
   "execution_count": null,
   "id": "sized-yugoslavia",
   "metadata": {
    "slideshow": {
     "slide_type": "slide"
    }
   },
   "outputs": [],
   "source": [
    "conda install -c conda-forge jupyterthemes"
   ]
  },
  {
   "cell_type": "code",
   "execution_count": null,
   "id": "ac0eed5d",
   "metadata": {},
   "outputs": [],
   "source": [
    "# update to latest version\n",
    "conda update jupyterthemes"
   ]
  },
  {
   "cell_type": "markdown",
   "id": "corporate-barbados",
   "metadata": {
    "slideshow": {
     "slide_type": "slide"
    }
   },
   "source": [
    "## 15.2 Check the available themes"
   ]
  },
  {
   "cell_type": "code",
   "execution_count": null,
   "id": "official-turtle",
   "metadata": {
    "slideshow": {
     "slide_type": "slide"
    }
   },
   "outputs": [],
   "source": [
    "# in terminal or windows cmd, powershell\n",
    "jt -l "
   ]
  },
  {
   "cell_type": "code",
   "execution_count": 8,
   "id": "floral-morocco",
   "metadata": {
    "slideshow": {
     "slide_type": "slide"
    }
   },
   "outputs": [
    {
     "name": "stdout",
     "output_type": "stream",
     "text": [
      "Available Themes: \n",
      "   chesterish\n",
      "   grade3\n",
      "   gruvboxd\n",
      "   gruvboxl\n",
      "   monokai\n",
      "   oceans16\n",
      "   onedork\n",
      "   solarizedd\n",
      "   solarizedl\n"
     ]
    }
   ],
   "source": [
    "# inside Jupyter notebook\n",
    "!jt -l "
   ]
  },
  {
   "cell_type": "markdown",
   "id": "liberal-amsterdam",
   "metadata": {
    "slideshow": {
     "slide_type": "slide"
    }
   },
   "source": [
    "## 15.3 Change theme\n",
    "`jt -t [themename]` or   \n",
    "`jt -t [themename] -T`\n",
    "\n",
    "The difference is that the first one makes toolbar unavaible."
   ]
  },
  {
   "cell_type": "markdown",
   "id": "further-newark",
   "metadata": {
    "slideshow": {
     "slide_type": "skip"
    }
   },
   "source": [
    "### The first method"
   ]
  },
  {
   "cell_type": "code",
   "execution_count": null,
   "id": "variable-utilization",
   "metadata": {},
   "outputs": [],
   "source": [
    "# In terminal\n",
    "jt -t monokai "
   ]
  },
  {
   "cell_type": "code",
   "execution_count": 9,
   "id": "abroad-wireless",
   "metadata": {},
   "outputs": [],
   "source": [
    "# inside jupyter notebook\n",
    "!jt -t monokai"
   ]
  },
  {
   "cell_type": "markdown",
   "id": "pediatric-contribution",
   "metadata": {},
   "source": [
    "- For the first time to change the theme, we should restart the notebook.\n",
    "- But it only need refresh the browser when changing the theme again"
   ]
  },
  {
   "cell_type": "markdown",
   "id": "genetic-plasma",
   "metadata": {},
   "source": [
    "Toolbar are missing with this method。"
   ]
  },
  {
   "cell_type": "markdown",
   "id": "paperback-bracket",
   "metadata": {},
   "source": [
    "### The second methods "
   ]
  },
  {
   "cell_type": "code",
   "execution_count": null,
   "id": "hungry-trunk",
   "metadata": {},
   "outputs": [],
   "source": [
    "# In terminal\n",
    "jt -t monokai -T"
   ]
  },
  {
   "cell_type": "code",
   "execution_count": 1,
   "id": "hispanic-minneapolis",
   "metadata": {},
   "outputs": [],
   "source": [
    "# Inside Jupyter notebook\n",
    "!jt -t monokai -T"
   ]
  },
  {
   "cell_type": "markdown",
   "id": "satellite-headquarters",
   "metadata": {},
   "source": [
    "It need \"Toggle the toolbar\"\n",
    "- then go to `view`, choose `Toggle Toolbar`"
   ]
  },
  {
   "cell_type": "markdown",
   "id": "robust-aggregate",
   "metadata": {},
   "source": [
    "## 15.4 Retore the orginal theme"
   ]
  },
  {
   "cell_type": "code",
   "execution_count": null,
   "id": "twelve-houston",
   "metadata": {},
   "outputs": [],
   "source": [
    "# In termal: \n",
    "`jt -r`"
   ]
  },
  {
   "cell_type": "code",
   "execution_count": 2,
   "id": "rolled-glossary",
   "metadata": {},
   "outputs": [
    {
     "name": "stdout",
     "output_type": "stream",
     "text": [
      "Reset css and font defaults in:\n",
      "C:\\Users\\sigmund\\.jupyter\\custom &\n",
      "C:\\Users\\sigmund\\AppData\\Roaming\\jupyter\\nbextensions\n"
     ]
    }
   ],
   "source": [
    "# Inside Jupyter\n",
    "!jt -r"
   ]
  },
  {
   "cell_type": "code",
   "execution_count": null,
   "id": "animated-courtesy",
   "metadata": {},
   "outputs": [],
   "source": []
  }
 ],
 "metadata": {
  "kernelspec": {
   "display_name": "Python 3 (ipykernel)",
   "language": "python",
   "name": "python3"
  },
  "language_info": {
   "codemirror_mode": {
    "name": "ipython",
    "version": 3
   },
   "file_extension": ".py",
   "mimetype": "text/x-python",
   "name": "python",
   "nbconvert_exporter": "python",
   "pygments_lexer": "ipython3",
   "version": "3.9.7"
  }
 },
 "nbformat": 4,
 "nbformat_minor": 5
}
