{
 "cells": [
  {
   "cell_type": "markdown",
   "id": "vocal-energy",
   "metadata": {
    "slideshow": {
     "slide_type": "slide"
    }
   },
   "source": [
    "<br />       \n",
    "\n",
    "|<img src='./images/school_logo.png' alt=\"Drawing\" style=\"width:100px;float: left\"/><img width=300;/>|<p style=\"padding-top:8px;padding-bottom:0px;\">Shouke Wei, Ph.D.</p><img width=300;/>| 62| \n",
    "| :--- | :--- | :---:|\n",
    "\n",
    "<h1 style='text-align: center;'>Lesson 14: Running Other Programming Languages in Jupyter Notebook</h1>\n",
    "\n",
    "<br /> "
   ]
  },
  {
   "cell_type": "markdown",
   "id": "e0b5e041",
   "metadata": {},
   "source": [
    "## Objective:\n",
    "- learn how to run other programming languages with focusing on\n",
    "    - run Javascript using magic function and IPython Javascript function\n",
    "    - run R in Jupyter notebook using rpy2 library and by installing rkernel\n",
    "\n",
    "The Jupyter system supports over 100 programming languages (called “kernels” in the Jupyter ecosystem) including Python, Java, R, Julia, Matlab,Scala, and many more (https://github.com/jupyter/jupyter/wiki/Jupyter-kernels). "
   ]
  },
  {
   "cell_type": "markdown",
   "id": "laden-option",
   "metadata": {
    "slideshow": {
     "slide_type": "slide"
    }
   },
   "source": [
    "## 14.1 Javascript\n",
    "- Javascript magic\n",
    "- IPython Javascript function"
   ]
  },
  {
   "cell_type": "markdown",
   "id": "67209281",
   "metadata": {},
   "source": [
    "### 14.1.1 Javascript magic\n",
    "- %%javascript\n",
    "- %%js"
   ]
  },
  {
   "cell_type": "code",
   "execution_count": null,
   "id": "compact-douglas",
   "metadata": {
    "slideshow": {
     "slide_type": "-"
    }
   },
   "outputs": [],
   "source": [
    "%%js\n",
    "alert(\"hello, world!\");"
   ]
  },
  {
   "cell_type": "code",
   "execution_count": null,
   "id": "nutritional-canadian",
   "metadata": {
    "slideshow": {
     "slide_type": "slide"
    }
   },
   "outputs": [],
   "source": [
    "%%js\n",
    "var x = 5;\n",
    "var y = 6;\n",
    "var z = x + y;\n",
    "element.text(z)"
   ]
  },
  {
   "cell_type": "markdown",
   "id": "intellectual-warner",
   "metadata": {
    "slideshow": {
     "slide_type": "slide"
    }
   },
   "source": [
    "### 14.1.2 IPython Javascript Function"
   ]
  },
  {
   "cell_type": "markdown",
   "id": "palestinian-dealing",
   "metadata": {
    "slideshow": {
     "slide_type": "-"
    }
   },
   "source": [
    "### (1) One line"
   ]
  },
  {
   "cell_type": "code",
   "execution_count": null,
   "id": "opening-theology",
   "metadata": {
    "slideshow": {
     "slide_type": "-"
    }
   },
   "outputs": [],
   "source": [
    "from IPython.display import Javascript\n",
    "\n",
    "simpjs = Javascript('alert(\"hello, world!\")')\n",
    "display(simpjs)"
   ]
  },
  {
   "cell_type": "markdown",
   "id": "caring-avatar",
   "metadata": {
    "slideshow": {
     "slide_type": "slide"
    }
   },
   "source": [
    "### (2) Multilines"
   ]
  },
  {
   "cell_type": "code",
   "execution_count": null,
   "id": "flexible-understanding",
   "metadata": {
    "slideshow": {
     "slide_type": "slide"
    }
   },
   "outputs": [],
   "source": [
    "js=Javascript(\n",
    "'''\n",
    "var x = 5;\n",
    "var y = 6;\n",
    "var z = x + y;\n",
    "element.text(z)\n",
    "''')\n",
    "display(js)"
   ]
  },
  {
   "cell_type": "markdown",
   "id": "a24a65ea",
   "metadata": {},
   "source": [
    "## 14.2 R Language\n",
    "\n",
    "R is an interpreted programming language for statistical computing and graphics, which is widely used among statisticians and data miners for developing statistical software and data analysis.\n",
    "\n",
    "There are several ways to setup Jupyter Notebook for R. We learn two practicle ways:\n",
    "\n",
    "1. Run R and Python in the same notebook using Python rpy2 library   \n",
    "2. Run R in Jupyter notebook using IRkernel"
   ]
  },
  {
   "cell_type": "markdown",
   "id": "a34a3fdb",
   "metadata": {},
   "source": [
    "### 14.2.1 Run R and Python in the same notebook"
   ]
  },
  {
   "cell_type": "markdown",
   "id": "174e41ea",
   "metadata": {},
   "source": [
    "### (1) Installation Requirements\n",
    "- Have Python installed in version 3.5 or higher\n",
    " - install Anaconda\n",
    " - install traditional Python \n",
    "- Have R installed in version 3.2 or highger\n",
    " - install by installer\n",
    " - install by conda  \n",
    "   `conda install -c r r-essentials`\n",
    "- Have Jupyter Notebook installed   \n",
    " `pip install notebook`   or   \n",
    " `conda install notebook`"
   ]
  },
  {
   "cell_type": "markdown",
   "id": "ce53696e",
   "metadata": {},
   "source": [
    "### (2) Install rpy2 library"
   ]
  },
  {
   "cell_type": "markdown",
   "id": "3828e06a",
   "metadata": {},
   "source": [
    "- install numpy   \n",
    "`pip install numpy`  \n",
    "- install pandas  \n",
    " `pip install pandas`\n",
    "- install rpy2 library  \n",
    " `pip install rpy2`  or   \n",
    " `conda install rpy2`"
   ]
  },
  {
   "cell_type": "code",
   "execution_count": null,
   "id": "4266da81",
   "metadata": {},
   "outputs": [],
   "source": [
    "# enables the %%R magic,only need run once\n",
    "%load_ext rpy2.ipython "
   ]
  },
  {
   "cell_type": "code",
   "execution_count": null,
   "id": "cef7d5ec",
   "metadata": {},
   "outputs": [],
   "source": [
    "%%R\n",
    "x=6\n",
    "print(x)"
   ]
  },
  {
   "cell_type": "code",
   "execution_count": null,
   "id": "1f534fcf",
   "metadata": {},
   "outputs": [],
   "source": [
    "%%R\n",
    "install.packages('ggplot2')"
   ]
  },
  {
   "cell_type": "code",
   "execution_count": null,
   "id": "b1a783ce",
   "metadata": {},
   "outputs": [],
   "source": [
    "%%R\n",
    "install.packages('ggplot2',repos='http://cran.us.r-project.org', quiet=TRUE)"
   ]
  },
  {
   "cell_type": "code",
   "execution_count": null,
   "id": "d643bde5",
   "metadata": {},
   "outputs": [],
   "source": [
    "%%R\n",
    "library(ggplot2)"
   ]
  },
  {
   "cell_type": "markdown",
   "id": "c43befbe",
   "metadata": {},
   "source": [
    "### （3） An example"
   ]
  },
  {
   "cell_type": "markdown",
   "id": "3618606c",
   "metadata": {},
   "source": [
    "### Python cell"
   ]
  },
  {
   "cell_type": "code",
   "execution_count": null,
   "id": "ecffb0c6",
   "metadata": {},
   "outputs": [],
   "source": [
    "import pandas as pd\n",
    "import numpy as np\n",
    "df = pd.DataFrame({\n",
    "    'x_var': [0, 1, 2, 3, 4, 5, 6, 7, 8, 9],\n",
    "    'y_var': [3, 5, 7, 6, 9, 8, 10, 12, 13, 11]\n",
    "})"
   ]
  },
  {
   "cell_type": "markdown",
   "id": "04566be1",
   "metadata": {},
   "source": [
    "### R cell"
   ]
  },
  {
   "cell_type": "code",
   "execution_count": null,
   "id": "604d3fbb",
   "metadata": {},
   "outputs": [],
   "source": [
    "%%R -i df -w 3 -h 3 --units in -r 200\n",
    "# -i is for \"input\": means that we pass data df as input to R\n",
    "# make default figure size 3 by 3 inches with 200 dpi resolution\n",
    "# units can be changed to px, cm, etc\n",
    "install.packages('ggplot2',repos='http://cran.us.r-project.org', quiet=TRUE)\n",
    "library(ggplot2)\n",
    "\n",
    "ggplot(data = df, aes(x = x_var, y = y_var)) +\n",
    "  geom_point(color = 'red', size = 4) +\n",
    "    stat_smooth()"
   ]
  },
  {
   "cell_type": "markdown",
   "id": "4607033d",
   "metadata": {},
   "source": [
    "`%%R` must be at beginning of a cell, otherwise it will cause errors."
   ]
  },
  {
   "cell_type": "code",
   "execution_count": null,
   "id": "8ad31b2b",
   "metadata": {},
   "outputs": [],
   "source": [
    "# import df from global environment\n",
    "# make default figure size 3 by 3 inches with 200 dpi resolution\n",
    "# units can be changed to px, cm, etc\n",
    "%%R -i df -w 3 -h 3 --units in -r 200\n",
    "\n",
    "install.packages('ggplot',repos='http://cran.us.r-project.org', quiet=TRUE)\n",
    "library(ggplot2)\n",
    "\n",
    "ggplot(data = df, aes(x = x_var, y = y_var)) +\n",
    "  geom_point(color = 'red', size = 4) +\n",
    "    stat_smooth()"
   ]
  },
  {
   "cell_type": "markdown",
   "id": "eceed0f2",
   "metadata": {},
   "source": [
    "### 14.2.2 Run R in a seperate notebook"
   ]
  },
  {
   "cell_type": "markdown",
   "id": "ea112fa0",
   "metadata": {},
   "source": [
    "### (1) Install R kernel for Jupyter Notebook via CRAN  \n",
    "`IRkernel` can be installed via the Comprehensive R Archive Network [CRAN]. "
   ]
  },
  {
   "cell_type": "code",
   "execution_count": null,
   "id": "db18bcfc",
   "metadata": {},
   "outputs": [],
   "source": [
    "%%R\n",
    "install.packages('IRkernel') "
   ]
  },
  {
   "cell_type": "markdown",
   "id": "c9e93684",
   "metadata": {},
   "source": [
    "### (2) Making the kernel available to Jupyter\n",
    "\n",
    "`IRkernel::installspec()` will install a kernel with the name “ir” and a display name of “R”. \n",
    "\n",
    "By default, it installs the kernel per-user. To install system-wide, set user to False in the installspec command:   "
   ]
  },
  {
   "cell_type": "code",
   "execution_count": null,
   "id": "fdb9b3c6",
   "metadata": {},
   "outputs": [],
   "source": [
    "%%R\n",
    "IRkernel::installspec(user = FALSE) # to register the kernel in the current R installation"
   ]
  },
  {
   "cell_type": "markdown",
   "id": "567c6a9c",
   "metadata": {},
   "source": [
    "### (3) Create R Jupyter Notebook\n",
    "\n",
    "Creat a new notebook and select R kernel, and copy the following code in the cell."
   ]
  },
  {
   "cell_type": "markdown",
   "id": "b275aad7",
   "metadata": {},
   "source": [
    "```R\n",
    "n <- floor(rnorm(10000, mean = 200, sd = 50))\n",
    "t <- table(n)\n",
    "barplot(t)\n",
    "```"
   ]
  },
  {
   "cell_type": "markdown",
   "id": "b1b4c388",
   "metadata": {},
   "source": [
    "And then run jupyter notebook, and the Jupyter Notebook now supports both Python 3 and R programming languages."
   ]
  },
  {
   "cell_type": "code",
   "execution_count": null,
   "id": "5196ec3b",
   "metadata": {},
   "outputs": [],
   "source": []
  }
 ],
 "metadata": {
  "kernelspec": {
   "display_name": "Python 3",
   "language": "python",
   "name": "python3"
  },
  "language_info": {
   "codemirror_mode": {
    "name": "ipython",
    "version": 3
   },
   "file_extension": ".py",
   "mimetype": "text/x-python",
   "name": "python",
   "nbconvert_exporter": "python",
   "pygments_lexer": "ipython3",
   "version": "3.8.8"
  }
 },
 "nbformat": 4,
 "nbformat_minor": 5
}
