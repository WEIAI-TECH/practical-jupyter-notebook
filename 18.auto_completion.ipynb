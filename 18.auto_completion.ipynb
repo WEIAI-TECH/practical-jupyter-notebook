{
 "cells": [
  {
   "cell_type": "markdown",
   "id": "vocal-energy",
   "metadata": {
    "slideshow": {
     "slide_type": "slide"
    }
   },
   "source": [
    "<br />       \n",
    "\n",
    "|<img src='./images/school_logo.png' alt=\"Drawing\" style=\"width:100px;float: left\"/><img width=300;/>|<p style=\"padding-top:8px;padding-bottom:0px;\">Shouke Wei, Ph.D.</p><img width=300;/>| 75| \n",
    "| :--- | :--- | :---:|\n",
    "\n",
    "<h1 style='text-align: center;'>Lesson 18: Smart Code Auto-Completion</h1>\n",
    "\n",
    "<br /> "
   ]
  },
  {
   "cell_type": "markdown",
   "id": "6a70c108",
   "metadata": {},
   "source": [
    "## Objective\n",
    "- learn how to install and use `TabNine` Smart Code Auto-Completion Plugin"
   ]
  },
  {
   "cell_type": "markdown",
   "id": "proprietary-blake",
   "metadata": {},
   "source": [
    "## A Smart Code Auto-Completion Plugin\n",
    "- [`TabNine`](https://github.com/codota/jupyter-tabnine) created by wenmin-wu \n",
    "- It is smart auto-completion based on Deep Learning\n",
    "- This plugin supports MacOS, Linux and Windows\n",
    "- It supports Chrome, firefox and Safari browsers, but not IE"
   ]
  },
  {
   "cell_type": "markdown",
   "id": "ranging-teens",
   "metadata": {},
   "source": [
    "### (1) Installation\n",
    "\n",
    "Step 1: install the package    \n",
    "   - `pip install jupyter-tabnine --user`\n",
    "\n",
    "Step 2: install the notebook extension\n",
    "   - `jupyter nbextension install --py jupyter_tabnine --user`\n",
    "\n",
    "Step 3: enable notebook extension and server extension\n",
    "   - `jupyter nbextension enable --py jupyter_tabnine --user`\n",
    "   - `jupyter serverextension enable --py jupyter_tabnine --user`"
   ]
  },
  {
   "cell_type": "markdown",
   "id": "3b09d073",
   "metadata": {},
   "source": [
    "### (4) Use the Plugin"
   ]
  },
  {
   "cell_type": "code",
   "execution_count": null,
   "id": "3632052e",
   "metadata": {},
   "outputs": [],
   "source": [
    "import numpy as np\n",
    "np."
   ]
  },
  {
   "cell_type": "markdown",
   "id": "0b79f509",
   "metadata": {},
   "source": [
    "### (3) Temporally stop plugin\n",
    "\n",
    "--> `help` menu     \n",
    "--> untick the `check mark` of `Jupyter TabNine`"
   ]
  },
  {
   "cell_type": "markdown",
   "id": "d3c6580f",
   "metadata": {},
   "source": [
    "### (4) Unistall the plugin\n",
    "```\n",
    "jupyter nbextension uninstall --py jupyter_tabnine\n",
    "\n",
    "pip uninstall jupyter-tabnine\n",
    "```"
   ]
  },
  {
   "cell_type": "code",
   "execution_count": null,
   "id": "a5b7c5c4",
   "metadata": {},
   "outputs": [],
   "source": []
  }
 ],
 "metadata": {
  "kernelspec": {
   "display_name": "Python 3 (ipykernel)",
   "language": "python",
   "name": "python3"
  },
  "language_info": {
   "codemirror_mode": {
    "name": "ipython",
    "version": 3
   },
   "file_extension": ".py",
   "mimetype": "text/x-python",
   "name": "python",
   "nbconvert_exporter": "python",
   "pygments_lexer": "ipython3",
   "version": "3.9.7"
  }
 },
 "nbformat": 4,
 "nbformat_minor": 5
}
